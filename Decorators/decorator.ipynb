{
 "cells": [
  {
   "cell_type": "markdown",
   "id": "c9bd99b1-5333-45e9-a52e-cbf211930eb8",
   "metadata": {},
   "source": [
    "# Python Decorators"
   ]
  },
  {
   "cell_type": "code",
   "execution_count": 1,
   "id": "7de96053-09a4-41d0-b797-57f15dcd60ba",
   "metadata": {},
   "outputs": [],
   "source": [
    "class Test:\n",
    "\n",
    "    @staticmethod\n",
    "    def something():\n",
    "        print(1)"
   ]
  },
  {
   "cell_type": "code",
   "execution_count": 5,
   "id": "b77934a5-531a-4e5c-a06e-f64d8de135fa",
   "metadata": {},
   "outputs": [],
   "source": [
    "#simple decorator function\n",
    "def decorator(func):#<- funct as argument\n",
    "    #inner function\n",
    "    def wrapper():\n",
    "        print(\"Before Function call\")\n",
    "        func() #<- calling actual function\n",
    "        print(\"After Function call\")\n",
    "\n",
    "    return wrapper#<- returning function as value"
   ]
  },
  {
   "cell_type": "code",
   "execution_count": 6,
   "id": "21ca22ce-0f5f-47c6-8449-1ce86b56975d",
   "metadata": {},
   "outputs": [],
   "source": [
    "@decorator \n",
    "def greet():\n",
    "    print(\"Hello world!\")"
   ]
  },
  {
   "cell_type": "code",
   "execution_count": 7,
   "id": "68250459-a836-4962-b8e4-2df27a1fc119",
   "metadata": {},
   "outputs": [
    {
     "name": "stdout",
     "output_type": "stream",
     "text": [
      "Before Function call\n",
      "Hello world!\n",
      "After Function call\n"
     ]
    }
   ],
   "source": [
    "greet()"
   ]
  },
  {
   "cell_type": "markdown",
   "id": "55a8a023-57fe-47a8-9e8e-8adcb363a02c",
   "metadata": {},
   "source": [
    "# check email using decorator"
   ]
  },
  {
   "cell_type": "code",
   "execution_count": 13,
   "id": "213ba286-6c4e-43f9-9e19-63b9a2256e66",
   "metadata": {},
   "outputs": [],
   "source": [
    "def validate_email(func):\n",
    "    def wrapper(email, password):\n",
    "        if email.endswith(\"skilled.com\"):\n",
    "            func(email, password)\n",
    "        else:\n",
    "            print(\"only supported skill shikchya\")\n",
    "\n",
    "    return wrapper"
   ]
  },
  {
   "cell_type": "code",
   "execution_count": 14,
   "id": "40d3426b-88bf-4202-8079-94fa79ab7355",
   "metadata": {},
   "outputs": [],
   "source": [
    "@validate_email\n",
    "def login_user(email, password):\n",
    "    #check password validity\n",
    "    print(\"logged in\")"
   ]
  },
  {
   "cell_type": "code",
   "execution_count": 16,
   "id": "4fd3ecbc-f472-4782-87fc-a7fe58a5fcc9",
   "metadata": {},
   "outputs": [
    {
     "name": "stdout",
     "output_type": "stream",
     "text": [
      "logged in\n"
     ]
    }
   ],
   "source": [
    "login_user(\"rujanshrestha111@skilled.com\", \"abcd\")"
   ]
  },
  {
   "cell_type": "code",
   "execution_count": 17,
   "id": "79531a43-565f-4868-b5b6-f3df7b864cf2",
   "metadata": {},
   "outputs": [
    {
     "name": "stdout",
     "output_type": "stream",
     "text": [
      "only supported skill shikchya\n"
     ]
    }
   ],
   "source": [
    "login_user(\"rujanshrestha111@skil.com\", \"abcd\")"
   ]
  },
  {
   "cell_type": "code",
   "execution_count": null,
   "id": "d3db7003-8336-4c07-9c23-7d3b4efccba1",
   "metadata": {},
   "outputs": [],
   "source": []
  }
 ],
 "metadata": {
  "kernelspec": {
   "display_name": "Python 3 (ipykernel)",
   "language": "python",
   "name": "python3"
  },
  "language_info": {
   "codemirror_mode": {
    "name": "ipython",
    "version": 3
   },
   "file_extension": ".py",
   "mimetype": "text/x-python",
   "name": "python",
   "nbconvert_exporter": "python",
   "pygments_lexer": "ipython3",
   "version": "3.13.5"
  }
 },
 "nbformat": 4,
 "nbformat_minor": 5
}

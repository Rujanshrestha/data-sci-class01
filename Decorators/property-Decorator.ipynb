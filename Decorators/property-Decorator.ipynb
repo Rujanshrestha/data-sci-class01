{
 "cells": [
  {
   "cell_type": "markdown",
   "id": "38a9d1f7-c2d4-4a54-92da-1e09e156f597",
   "metadata": {},
   "source": [
    "# Python Property Decorator\n",
    "- Getter\n",
    "- Setter\n",
    "- Deleter"
   ]
  },
  {
   "cell_type": "markdown",
   "id": "9ca873a8-4de1-4a48-9d8d-3c5ef87ba953",
   "metadata": {},
   "source": [
    "## 1. Getter"
   ]
  },
  {
   "cell_type": "code",
   "execution_count": 1,
   "id": "fbb25773-8e3a-40fc-b6fb-4bd23f264152",
   "metadata": {},
   "outputs": [],
   "source": [
    "class Person:\n",
    "    def __init__(self, name):\n",
    "        self.__name = name\n",
    "\n",
    "    @property\n",
    "    def name(self):\n",
    "        print(\"Getting Name\")\n",
    "        return self.__name"
   ]
  },
  {
   "cell_type": "code",
   "execution_count": 2,
   "id": "4799a1fa-1140-48cf-8d15-c2dde3e14245",
   "metadata": {},
   "outputs": [],
   "source": [
    "person = Person(\"han sone\")"
   ]
  },
  {
   "cell_type": "code",
   "execution_count": 3,
   "id": "2b0acf5d-f7d9-47b6-bb4d-390c844d3afd",
   "metadata": {},
   "outputs": [
    {
     "name": "stdout",
     "output_type": "stream",
     "text": [
      "Getting Name\n"
     ]
    },
    {
     "data": {
      "text/plain": [
       "'han sone'"
      ]
     },
     "execution_count": 3,
     "metadata": {},
     "output_type": "execute_result"
    }
   ],
   "source": [
    "person.name"
   ]
  },
  {
   "cell_type": "markdown",
   "id": "93e43e50-4b0a-4431-a80b-9680ff854b05",
   "metadata": {},
   "source": [
    "## 2. Setter"
   ]
  },
  {
   "cell_type": "code",
   "execution_count": 4,
   "id": "9fe01a25-0e27-4093-b5a5-f7573887ab3e",
   "metadata": {},
   "outputs": [],
   "source": [
    "class Person:\n",
    "    def __init__(self, name):\n",
    "        self.__name = name\n",
    "        self.number = 0\n",
    "\n",
    "    @property\n",
    "    def name(self):\n",
    "        print(\"Getting Name\")\n",
    "        return self.__name\n",
    "\n",
    "    @name.setter\n",
    "    def name(self, value):\n",
    "        print(\"Setter name\")\n",
    "        self.__name =  value"
   ]
  },
  {
   "cell_type": "code",
   "execution_count": 5,
   "id": "67d30bd9-6da3-4e0c-8d84-cdb5a3a32e3b",
   "metadata": {},
   "outputs": [],
   "source": [
    "person = Person(\"honney jack\")"
   ]
  },
  {
   "cell_type": "code",
   "execution_count": 6,
   "id": "c6f2afee-cff3-48a5-8eb4-a1d5ab5b2a9c",
   "metadata": {},
   "outputs": [
    {
     "name": "stdout",
     "output_type": "stream",
     "text": [
      "Getting Name\n"
     ]
    },
    {
     "data": {
      "text/plain": [
       "'honney jack'"
      ]
     },
     "execution_count": 6,
     "metadata": {},
     "output_type": "execute_result"
    }
   ],
   "source": [
    "person.name"
   ]
  },
  {
   "cell_type": "code",
   "execution_count": 7,
   "id": "75028244-ebbb-4f4a-b9e5-a288bbff3ce6",
   "metadata": {},
   "outputs": [
    {
     "name": "stdout",
     "output_type": "stream",
     "text": [
      "Setter name\n"
     ]
    }
   ],
   "source": [
    "person.name = \"hari bhakta\""
   ]
  },
  {
   "cell_type": "code",
   "execution_count": 8,
   "id": "98cfa7b2-9b01-40c2-a5c2-26680e6d9347",
   "metadata": {},
   "outputs": [
    {
     "name": "stdout",
     "output_type": "stream",
     "text": [
      "Getting Name\n"
     ]
    },
    {
     "data": {
      "text/plain": [
       "'hari bhakta'"
      ]
     },
     "execution_count": 8,
     "metadata": {},
     "output_type": "execute_result"
    }
   ],
   "source": [
    "person.name"
   ]
  },
  {
   "cell_type": "markdown",
   "id": "027e4b87-fe48-4fa3-969c-6a4953d2c4e3",
   "metadata": {},
   "source": [
    "## 3.Deleter"
   ]
  },
  {
   "cell_type": "code",
   "execution_count": 9,
   "id": "b871ff29-184a-45ad-84d0-90d464c34efc",
   "metadata": {},
   "outputs": [],
   "source": [
    "class Person:\n",
    "    def __init__(self, name):\n",
    "        self.__name = name\n",
    "        self.number = 0\n",
    "\n",
    "    @property\n",
    "    def name(self):\n",
    "        print(\"Getting Name\")\n",
    "        return self.__name\n",
    "\n",
    "    @name.setter\n",
    "    def name(self, value):\n",
    "        print(\"Setter name\")\n",
    "        self.__name =  value\n",
    "\n",
    "    @name.deleter\n",
    "    def name(self):\n",
    "        print(\"deleter name\")\n",
    "        del self.__name"
   ]
  },
  {
   "cell_type": "code",
   "execution_count": 10,
   "id": "fdf2e9e5-40f2-43ce-9606-bb9ee68cd0e5",
   "metadata": {},
   "outputs": [],
   "source": [
    "person = Person(\"manadn krishna\")"
   ]
  },
  {
   "cell_type": "code",
   "execution_count": 11,
   "id": "c1b1c9ea-13dc-4b8b-8f14-95595b4ad397",
   "metadata": {},
   "outputs": [
    {
     "name": "stdout",
     "output_type": "stream",
     "text": [
      "Getting Name\n"
     ]
    },
    {
     "data": {
      "text/plain": [
       "'manadn krishna'"
      ]
     },
     "execution_count": 11,
     "metadata": {},
     "output_type": "execute_result"
    }
   ],
   "source": [
    "person.name"
   ]
  },
  {
   "cell_type": "code",
   "execution_count": 12,
   "id": "e9fc3b76-088e-49ad-86c4-f689451f6c81",
   "metadata": {},
   "outputs": [
    {
     "name": "stdout",
     "output_type": "stream",
     "text": [
      "deleter name\n"
     ]
    }
   ],
   "source": [
    "del person.name"
   ]
  },
  {
   "cell_type": "code",
   "execution_count": 13,
   "id": "dd5c326b-26eb-40e3-8a7a-65f9abff71ca",
   "metadata": {},
   "outputs": [
    {
     "name": "stdout",
     "output_type": "stream",
     "text": [
      "Getting Name\n"
     ]
    },
    {
     "ename": "AttributeError",
     "evalue": "'Person' object has no attribute '_Person__name'",
     "output_type": "error",
     "traceback": [
      "\u001b[31m---------------------------------------------------------------------------\u001b[39m",
      "\u001b[31mAttributeError\u001b[39m                            Traceback (most recent call last)",
      "\u001b[36mCell\u001b[39m\u001b[36m \u001b[39m\u001b[32mIn[13]\u001b[39m\u001b[32m, line 1\u001b[39m\n\u001b[32m----> \u001b[39m\u001b[32m1\u001b[39m \u001b[43mperson\u001b[49m\u001b[43m.\u001b[49m\u001b[43mname\u001b[49m\n",
      "\u001b[36mCell\u001b[39m\u001b[36m \u001b[39m\u001b[32mIn[9]\u001b[39m\u001b[32m, line 9\u001b[39m, in \u001b[36mPerson.name\u001b[39m\u001b[34m(self)\u001b[39m\n\u001b[32m      6\u001b[39m \u001b[38;5;129m@property\u001b[39m\n\u001b[32m      7\u001b[39m \u001b[38;5;28;01mdef\u001b[39;00m\u001b[38;5;250m \u001b[39m\u001b[34mname\u001b[39m(\u001b[38;5;28mself\u001b[39m):\n\u001b[32m      8\u001b[39m     \u001b[38;5;28mprint\u001b[39m(\u001b[33m\"\u001b[39m\u001b[33mGetting Name\u001b[39m\u001b[33m\"\u001b[39m)\n\u001b[32m----> \u001b[39m\u001b[32m9\u001b[39m     \u001b[38;5;28;01mreturn\u001b[39;00m \u001b[38;5;28;43mself\u001b[39;49m\u001b[43m.\u001b[49m\u001b[43m__name\u001b[49m\n",
      "\u001b[31mAttributeError\u001b[39m: 'Person' object has no attribute '_Person__name'"
     ]
    }
   ],
   "source": [
    "person.name"
   ]
  },
  {
   "cell_type": "code",
   "execution_count": null,
   "id": "f790eeb2-661b-4ed6-9dd1-3d8b60744dd0",
   "metadata": {},
   "outputs": [],
   "source": []
  },
  {
   "cell_type": "code",
   "execution_count": 14,
   "id": "b375f07d-d2e9-4a0b-9ad9-0c8db03a9d83",
   "metadata": {},
   "outputs": [
    {
     "name": "stdout",
     "output_type": "stream",
     "text": [
      "Total time taken by '4.0014777183532715 seconds\n"
     ]
    }
   ],
   "source": [
    "# displaying time taken to render or to calculate the time of the program process using decorator\n",
    "import time\n",
    "\n",
    "def timeit(func):\n",
    "    def wrapper():\n",
    "        start_time = time.time()\n",
    "        func()\n",
    "        end_time = time.time()\n",
    "        total_time = end_time - start_time\n",
    "        print(f\"Total time taken by '{total_time} seconds\")\n",
    "    return wrapper\n",
    "\n",
    "@timeit\n",
    "def takes_time():\n",
    "    time.sleep(4)\n",
    "\n",
    "takes_time()"
   ]
  },
  {
   "cell_type": "code",
   "execution_count": null,
   "id": "262e5999-aaa9-4020-8579-06b6810a4f77",
   "metadata": {},
   "outputs": [],
   "source": []
  }
 ],
 "metadata": {
  "kernelspec": {
   "display_name": "Python 3 (ipykernel)",
   "language": "python",
   "name": "python3"
  },
  "language_info": {
   "codemirror_mode": {
    "name": "ipython",
    "version": 3
   },
   "file_extension": ".py",
   "mimetype": "text/x-python",
   "name": "python",
   "nbconvert_exporter": "python",
   "pygments_lexer": "ipython3",
   "version": "3.13.5"
  }
 },
 "nbformat": 4,
 "nbformat_minor": 5
}

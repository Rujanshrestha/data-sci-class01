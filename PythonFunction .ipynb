{
 "cells": [
  {
   "cell_type": "code",
   "execution_count": 3,
   "id": "5ae3e82b-2fda-42de-b84a-c32f1b1d702c",
   "metadata": {},
   "outputs": [],
   "source": [
    "def calculate_sum(num1, num2):\n",
    "    result = num1 + num2\n",
    "    return result"
   ]
  },
  {
   "cell_type": "code",
   "execution_count": 4,
   "id": "3f38e43e-3f93-4499-b15e-b956a78bde21",
   "metadata": {},
   "outputs": [
    {
     "data": {
      "text/plain": [
       "9"
      ]
     },
     "execution_count": 4,
     "metadata": {},
     "output_type": "execute_result"
    }
   ],
   "source": [
    "calculate_sum(4,5)"
   ]
  },
  {
   "cell_type": "markdown",
   "id": "70265fee-0c4e-4644-b654-a03697246c5b",
   "metadata": {},
   "source": [
    "## Builtin Functions\n",
    "https://docs.python.org/3/library/functions.html"
   ]
  },
  {
   "cell_type": "markdown",
   "id": "a04f439e-dcb9-4d80-9d45-cf2f1b8caab9",
   "metadata": {
    "jp-MarkdownHeadingCollapsed": true
   },
   "source": [
    "#### 1.Print()"
   ]
  },
  {
   "cell_type": "code",
   "execution_count": 5,
   "id": "e074485d-b798-44f0-9c9c-28a2d6505847",
   "metadata": {},
   "outputs": [
    {
     "name": "stdout",
     "output_type": "stream",
     "text": [
      "4_5\n"
     ]
    }
   ],
   "source": [
    "print(4,5,  sep = \"_\")"
   ]
  },
  {
   "cell_type": "code",
   "execution_count": 6,
   "id": "b5cf69db-1bc4-48ce-97f3-2fe964a60dba",
   "metadata": {},
   "outputs": [
    {
     "name": "stdout",
     "output_type": "stream",
     "text": [
      "hello-wold!"
     ]
    }
   ],
   "source": [
    "print(\"hello\",\"wold\",  sep = \"-\", end = \"!\")"
   ]
  },
  {
   "cell_type": "markdown",
   "id": "0e732f32-3d1b-4b70-84b1-556beb89d063",
   "metadata": {
    "jp-MarkdownHeadingCollapsed": true
   },
   "source": [
    "#### 2.input()"
   ]
  },
  {
   "cell_type": "code",
   "execution_count": 7,
   "id": "675bbd72-f80c-4027-b950-ddde7e798cdf",
   "metadata": {},
   "outputs": [
    {
     "name": "stdin",
     "output_type": "stream",
     "text": [
      "Enter you name. Rujan\n"
     ]
    }
   ],
   "source": [
    "name = input(\"Enter you name.\")"
   ]
  },
  {
   "cell_type": "code",
   "execution_count": 8,
   "id": "4fdd5221-39f0-4e5e-8f60-b43c911ee542",
   "metadata": {},
   "outputs": [
    {
     "data": {
      "text/plain": [
       "'Rujan'"
      ]
     },
     "execution_count": 8,
     "metadata": {},
     "output_type": "execute_result"
    }
   ],
   "source": [
    "name\n"
   ]
  },
  {
   "cell_type": "markdown",
   "id": "84da5c12-98a6-4d89-8206-6efa7de3b38d",
   "metadata": {
    "jp-MarkdownHeadingCollapsed": true
   },
   "source": [
    "#### 3.Type()"
   ]
  },
  {
   "cell_type": "code",
   "execution_count": 9,
   "id": "758282a5-0e25-4bed-ac48-78257365c941",
   "metadata": {},
   "outputs": [
    {
     "data": {
      "text/plain": [
       "int"
      ]
     },
     "execution_count": 9,
     "metadata": {},
     "output_type": "execute_result"
    }
   ],
   "source": [
    "type(1\n",
    ")"
   ]
  },
  {
   "cell_type": "code",
   "execution_count": 12,
   "id": "b68137a0-481d-4f86-be77-02d0f92076ee",
   "metadata": {},
   "outputs": [
    {
     "data": {
      "text/plain": [
       "str"
      ]
     },
     "execution_count": 12,
     "metadata": {},
     "output_type": "execute_result"
    }
   ],
   "source": [
    "type(name)"
   ]
  },
  {
   "cell_type": "code",
   "execution_count": 13,
   "id": "0166f9f1-4187-4f47-a910-66087a6508d1",
   "metadata": {},
   "outputs": [
    {
     "data": {
      "text/plain": [
       "dict"
      ]
     },
     "execution_count": 13,
     "metadata": {},
     "output_type": "execute_result"
    }
   ],
   "source": [
    "type({})"
   ]
  },
  {
   "cell_type": "code",
   "execution_count": 14,
   "id": "14429c76-23b9-4625-8f25-e639a252a899",
   "metadata": {},
   "outputs": [
    {
     "data": {
      "text/plain": [
       "list"
      ]
     },
     "execution_count": 14,
     "metadata": {},
     "output_type": "execute_result"
    }
   ],
   "source": [
    "type([])"
   ]
  },
  {
   "cell_type": "code",
   "execution_count": 15,
   "id": "454f8d98-e598-4513-b141-535e0146ff8f",
   "metadata": {},
   "outputs": [
    {
     "data": {
      "text/plain": [
       "bool"
      ]
     },
     "execution_count": 15,
     "metadata": {},
     "output_type": "execute_result"
    }
   ],
   "source": [
    "type(4 ==2)"
   ]
  },
  {
   "cell_type": "code",
   "execution_count": 16,
   "id": "473a226c-6b40-4d55-b40f-6f18e1c15b72",
   "metadata": {},
   "outputs": [
    {
     "data": {
      "text/plain": [
       "builtin_function_or_method"
      ]
     },
     "execution_count": 16,
     "metadata": {},
     "output_type": "execute_result"
    }
   ],
   "source": [
    "type(sum)"
   ]
  },
  {
   "cell_type": "markdown",
   "id": "3617ebc8-50d9-4197-bbc6-ae297a3cf065",
   "metadata": {
    "jp-MarkdownHeadingCollapsed": true
   },
   "source": [
    "#### 4.Len()"
   ]
  },
  {
   "cell_type": "code",
   "execution_count": 17,
   "id": "d8c4790b-48d4-4347-8037-ff75a3965a44",
   "metadata": {},
   "outputs": [
    {
     "data": {
      "text/plain": [
       "5"
      ]
     },
     "execution_count": 17,
     "metadata": {},
     "output_type": "execute_result"
    }
   ],
   "source": [
    "len(\"apple\") #only takes iteravles"
   ]
  },
  {
   "cell_type": "code",
   "execution_count": 21,
   "id": "f9ffb8e1-e25e-4466-99d7-944f156d9aa2",
   "metadata": {},
   "outputs": [
    {
     "data": {
      "text/plain": [
       "3"
      ]
     },
     "execution_count": 21,
     "metadata": {},
     "output_type": "execute_result"
    }
   ],
   "source": [
    "len([\"hari\", \"shyam\", \"raj\"])"
   ]
  },
  {
   "cell_type": "markdown",
   "id": "ae263251-d261-461c-bd60-f0c580af501c",
   "metadata": {
    "jp-MarkdownHeadingCollapsed": true
   },
   "source": [
    "### 5.Open"
   ]
  },
  {
   "cell_type": "code",
   "execution_count": 6,
   "id": "c4ae62b9-0bdb-4065-94c8-122e8721629b",
   "metadata": {},
   "outputs": [
    {
     "name": "stdout",
     "output_type": "stream",
     "text": [
      "A     B    C   D \n",
      "apple ball cat duck \n"
     ]
    }
   ],
   "source": [
    "file = open(\"log.txt\", mode = \"r\")\n",
    "print(file.read())\n",
    "file.close()\n"
   ]
  },
  {
   "cell_type": "code",
   "execution_count": 9,
   "id": "ff31e413-b5ac-4852-abb4-38f1d46026a0",
   "metadata": {},
   "outputs": [],
   "source": [
    "file = open(\"messgae.txt\", mode = \"w\")\n",
    "file.write(\"Welcome to english class\")\n",
    "file.close()"
   ]
  },
  {
   "cell_type": "code",
   "execution_count": 10,
   "id": "3bec8940-91d4-4bb2-b2ba-979a58c12684",
   "metadata": {},
   "outputs": [
    {
     "name": "stdout",
     "output_type": "stream",
     "text": [
      "Welcome to english class\n"
     ]
    }
   ],
   "source": [
    "# Context Manager\n",
    "with open (\"messgae.txt\", mode = \"r+\") as file: \n",
    "    print(file.read())\n",
    "    file.write(\"this is First Message\\n\")"
   ]
  },
  {
   "cell_type": "code",
   "execution_count": 17,
   "id": "55d2290b-33f7-423c-ba8d-69231744c2eb",
   "metadata": {},
   "outputs": [
    {
     "name": "stdout",
     "output_type": "stream",
     "text": [
      "\n"
     ]
    }
   ],
   "source": [
    "with open(\"messgae.txt\", mode = \"w+\") as file:\n",
    "    print(file.read())\n",
    "    file.write(\" hey its you again\")"
   ]
  },
  {
   "cell_type": "code",
   "execution_count": 19,
   "id": "8b15bf57-0468-40b1-8128-16aad30b41b2",
   "metadata": {},
   "outputs": [],
   "source": [
    "with open(\"messgae.txt\", mode = \"a\") as file:\n",
    "    file.write(\"\\nlets begin the process\" )"
   ]
  },
  {
   "cell_type": "markdown",
   "id": "17f9c66f-ce60-40d3-ad7b-05a65df43591",
   "metadata": {
    "jp-MarkdownHeadingCollapsed": true
   },
   "source": [
    "### 6.Dir()"
   ]
  },
  {
   "cell_type": "code",
   "execution_count": 20,
   "id": "69bb88f1-c065-4784-9b8f-41feb67013eb",
   "metadata": {},
   "outputs": [],
   "source": [
    "x = \"ram\""
   ]
  },
  {
   "cell_type": "code",
   "execution_count": 30,
   "id": "2ac48587-604f-42ad-8ef9-0fae229270a4",
   "metadata": {},
   "outputs": [
    {
     "name": "stdout",
     "output_type": "stream",
     "text": [
      "['__add__', '__class__', '__contains__', '__delattr__', '__dir__', '__doc__', '__eq__', '__format__', '__ge__', '__getattribute__', '__getitem__', '__getnewargs__', '__getstate__', '__gt__', '__hash__', '__init__', '__init_subclass__', '__iter__', '__le__', '__len__', '__lt__', '__mod__', '__mul__', '__ne__', '__new__', '__reduce__', '__reduce_ex__', '__repr__', '__rmod__', '__rmul__', '__setattr__', '__sizeof__', '__str__', '__subclasshook__', 'capitalize', 'casefold', 'center', 'count', 'encode', 'endswith', 'expandtabs', 'find', 'format', 'format_map', 'index', 'isalnum', 'isalpha', 'isascii', 'isdecimal', 'isdigit', 'isidentifier', 'islower', 'isnumeric', 'isprintable', 'isspace', 'istitle', 'isupper', 'join', 'ljust', 'lower', 'lstrip', 'maketrans', 'partition', 'removeprefix', 'removesuffix', 'replace', 'rfind', 'rindex', 'rjust', 'rpartition', 'rsplit', 'rstrip', 'split', 'splitlines', 'startswith', 'strip', 'swapcase', 'title', 'translate', 'upper', 'zfill']\n"
     ]
    }
   ],
   "source": [
    "print(dir(x))"
   ]
  },
  {
   "cell_type": "code",
   "execution_count": 31,
   "id": "ac276af3-e57e-406d-b1e4-322591a9aa06",
   "metadata": {},
   "outputs": [
    {
     "data": {
      "text/plain": [
       "'RAM'"
      ]
     },
     "execution_count": 31,
     "metadata": {},
     "output_type": "execute_result"
    }
   ],
   "source": [
    "x.upper()"
   ]
  },
  {
   "cell_type": "code",
   "execution_count": 32,
   "id": "e5dced29-2764-42ab-8969-fb4b653f0c7d",
   "metadata": {},
   "outputs": [
    {
     "data": {
      "text/plain": [
       "'danish'"
      ]
     },
     "execution_count": 32,
     "metadata": {},
     "output_type": "execute_result"
    }
   ],
   "source": [
    "\"#%danish\".lstrip(\"%#\")"
   ]
  },
  {
   "cell_type": "code",
   "execution_count": 33,
   "id": "8f067403-91a4-45dd-976f-39c77ceadb88",
   "metadata": {},
   "outputs": [
    {
     "name": "stdout",
     "output_type": "stream",
     "text": [
      "['__abs__', '__add__', '__and__', '__bool__', '__ceil__', '__class__', '__delattr__', '__dir__', '__divmod__', '__doc__', '__eq__', '__float__', '__floor__', '__floordiv__', '__format__', '__ge__', '__getattribute__', '__getnewargs__', '__getstate__', '__gt__', '__hash__', '__index__', '__init__', '__init_subclass__', '__int__', '__invert__', '__le__', '__lshift__', '__lt__', '__mod__', '__mul__', '__ne__', '__neg__', '__new__', '__or__', '__pos__', '__pow__', '__radd__', '__rand__', '__rdivmod__', '__reduce__', '__reduce_ex__', '__repr__', '__rfloordiv__', '__rlshift__', '__rmod__', '__rmul__', '__ror__', '__round__', '__rpow__', '__rrshift__', '__rshift__', '__rsub__', '__rtruediv__', '__rxor__', '__setattr__', '__sizeof__', '__str__', '__sub__', '__subclasshook__', '__truediv__', '__trunc__', '__xor__', 'as_integer_ratio', 'bit_count', 'bit_length', 'conjugate', 'denominator', 'from_bytes', 'imag', 'is_integer', 'numerator', 'real', 'to_bytes']\n"
     ]
    }
   ],
   "source": [
    "i = 1\n",
    "print(dir(i))"
   ]
  },
  {
   "cell_type": "markdown",
   "id": "fe2c56e6-7822-4692-a981-688a1ca831e5",
   "metadata": {
    "jp-MarkdownHeadingCollapsed": true
   },
   "source": [
    "### 7.enumerate()"
   ]
  },
  {
   "cell_type": "code",
   "execution_count": 36,
   "id": "18c93385-c1b3-46dc-a0f1-0e9306d71fd3",
   "metadata": {},
   "outputs": [],
   "source": [
    "names= [\"Alice\", \"bob\", \"hariis\"]"
   ]
  },
  {
   "cell_type": "code",
   "execution_count": 37,
   "id": "5605717b-4709-4342-a524-f7579eb867a9",
   "metadata": {},
   "outputs": [
    {
     "data": {
      "text/plain": [
       "[(0, 'Alice'), (1, 'bob'), (2, 'hariis')]"
      ]
     },
     "execution_count": 37,
     "metadata": {},
     "output_type": "execute_result"
    }
   ],
   "source": [
    "list(enumerate(names))"
   ]
  },
  {
   "cell_type": "code",
   "execution_count": 40,
   "id": "e490be07-86bc-4cf8-9abc-04a51d7c9628",
   "metadata": {},
   "outputs": [
    {
     "name": "stdout",
     "output_type": "stream",
     "text": [
      "Alice : roll 1\n",
      "bob : roll 2\n",
      "hariis : roll 3\n"
     ]
    }
   ],
   "source": [
    "for (i,name) in enumerate(names, start=1):\n",
    "     print(f\"{name} : roll {i}\")"
   ]
  },
  {
   "cell_type": "markdown",
   "id": "524d407d-f824-4909-b0f0-413ed8fbc706",
   "metadata": {},
   "source": [
    "### 8.Zip()"
   ]
  },
  {
   "cell_type": "markdown",
   "id": "ed8415f4-0ace-49ba-841a-1fb3fd55ea94",
   "metadata": {},
   "source": [
    "names = [\"hari\",\"harigopal\",\"hariram\",\"harikrishna\",\"haribahadur\"]\n",
    "score = [2,3,4,5,6]"
   ]
  },
  {
   "cell_type": "code",
   "execution_count": 44,
   "id": "137ec613-35c0-406c-8df9-56e9f0041351",
   "metadata": {},
   "outputs": [
    {
     "data": {
      "text/plain": [
       "{'hari': 2, 'harigopal': 3, 'hariram': 4, 'harikrishna': 5, 'haribahadur': 6}"
      ]
     },
     "execution_count": 44,
     "metadata": {},
     "output_type": "execute_result"
    }
   ],
   "source": [
    "dict(zip(names,score))"
   ]
  },
  {
   "cell_type": "code",
   "execution_count": 47,
   "id": "0a23dce0-b968-43d7-a765-177bcef367e7",
   "metadata": {},
   "outputs": [
    {
     "name": "stdout",
     "output_type": "stream",
     "text": [
      "hari--> 2\n",
      "harigopal--> 3\n",
      "hariram--> 4\n",
      "harikrishna--> 5\n",
      "haribahadur--> 6\n"
     ]
    }
   ],
   "source": [
    "for (player, s0) in zip(names, score):\n",
    "    print(player,s0 , sep = \"--> \")"
   ]
  },
  {
   "cell_type": "code",
   "execution_count": 51,
   "id": "94e4d2cc-49c1-478d-bc88-5fb50ef8b1f8",
   "metadata": {},
   "outputs": [],
   "source": [
    "name  = \"hari\"\n",
    "list1 = [2,3,4]\n",
    "set1 = set(\"aeiou\")"
   ]
  },
  {
   "cell_type": "code",
   "execution_count": 52,
   "id": "f6585cfa-ed86-4700-b5a0-b1291ee0853a",
   "metadata": {},
   "outputs": [
    {
     "name": "stdout",
     "output_type": "stream",
     "text": [
      "h-->2-->o\n",
      "a-->3-->e\n",
      "r-->4-->i\n"
     ]
    }
   ],
   "source": [
    "for (name1, list2, set2 ) in zip(name, list1, set1):\n",
    "    print(name1, list2, set2, sep=\"-->\")"
   ]
  },
  {
   "cell_type": "markdown",
   "id": "57a33cd8-1bc5-4221-94f7-1fa3ee82068e",
   "metadata": {},
   "source": [
    "### 9.Map()"
   ]
  },
  {
   "cell_type": "code",
   "execution_count": 54,
   "id": "6d8ea533-9f91-4cd3-a949-4206fee6a49b",
   "metadata": {},
   "outputs": [],
   "source": [
    "def mult(x):\n",
    "    return x * 2"
   ]
  },
  {
   "cell_type": "code",
   "execution_count": 55,
   "id": "2b137dc0-4f68-432f-b7bd-1700cc9a2447",
   "metadata": {},
   "outputs": [],
   "source": [
    "number = [1,2,3,4,5]\n",
    "\n",
    "map_obj = map(mult, number)"
   ]
  },
  {
   "cell_type": "code",
   "execution_count": 56,
   "id": "af2d4676-fb57-4f55-a824-1fbf892d9088",
   "metadata": {},
   "outputs": [
    {
     "data": {
      "text/plain": [
       "<map at 0x286b19e36a0>"
      ]
     },
     "execution_count": 56,
     "metadata": {},
     "output_type": "execute_result"
    }
   ],
   "source": [
    "map_obj"
   ]
  },
  {
   "cell_type": "code",
   "execution_count": 60,
   "id": "0e5511af-6458-4023-a4e8-d5acb6265193",
   "metadata": {},
   "outputs": [
    {
     "data": {
      "text/plain": [
       "[2, 4, 6, 8, 10]"
      ]
     },
     "execution_count": 60,
     "metadata": {},
     "output_type": "execute_result"
    }
   ],
   "source": [
    "[a for a in map_obj]"
   ]
  },
  {
   "cell_type": "markdown",
   "id": "96b1fea5-420d-494d-9f85-eb3476f2ed91",
   "metadata": {
    "jp-MarkdownHeadingCollapsed": true
   },
   "source": [
    "### 10.FIlter()"
   ]
  },
  {
   "cell_type": "code",
   "execution_count": 1,
   "id": "0ca1b8c7-7da8-41d5-ad72-a953ed2d2a53",
   "metadata": {},
   "outputs": [],
   "source": [
    "def even(num):\n",
    "    return num % 2 == 0"
   ]
  },
  {
   "cell_type": "code",
   "execution_count": 2,
   "id": "16390b93-4d6c-4e8e-a89e-0963829674e0",
   "metadata": {},
   "outputs": [],
   "source": [
    "f_obj = filter(even, [1,3,4,5,6,7,8,68])"
   ]
  },
  {
   "cell_type": "code",
   "execution_count": 3,
   "id": "0824e047-e667-40aa-a507-72d4bc6f1208",
   "metadata": {},
   "outputs": [
    {
     "data": {
      "text/plain": [
       "<filter at 0x24f49b425c0>"
      ]
     },
     "execution_count": 3,
     "metadata": {},
     "output_type": "execute_result"
    }
   ],
   "source": [
    "f_obj"
   ]
  },
  {
   "cell_type": "code",
   "execution_count": 4,
   "id": "4b0778c4-7ef5-494e-b9c7-0854324e7f79",
   "metadata": {},
   "outputs": [
    {
     "data": {
      "text/plain": [
       "[4, 6, 8, 68]"
      ]
     },
     "execution_count": 4,
     "metadata": {},
     "output_type": "execute_result"
    }
   ],
   "source": [
    "list(f_obj)"
   ]
  },
  {
   "cell_type": "code",
   "execution_count": null,
   "id": "59514a72-deaa-4286-affe-bc45d6555c95",
   "metadata": {},
   "outputs": [],
   "source": []
  },
  {
   "cell_type": "markdown",
   "id": "53466bee-60be-4de5-9cbd-c11ab08e1a16",
   "metadata": {},
   "source": [
    "### 11.Reduce()"
   ]
  },
  {
   "cell_type": "code",
   "execution_count": 5,
   "id": "eceb0d9e-405c-4185-9d82-0eb040d79d63",
   "metadata": {},
   "outputs": [],
   "source": [
    "from functools import reduce"
   ]
  },
  {
   "cell_type": "code",
   "execution_count": 6,
   "id": "fb82894b-793b-4861-9f28-2f2f025e852f",
   "metadata": {},
   "outputs": [],
   "source": [
    "mylist = [1,2,3,4,5]"
   ]
  },
  {
   "cell_type": "code",
   "execution_count": 8,
   "id": "89b72b54-2b2c-46ac-b3a6-6333ba93fbfa",
   "metadata": {},
   "outputs": [],
   "source": [
    "def add(x,y):\n",
    "    return x+y"
   ]
  },
  {
   "cell_type": "code",
   "execution_count": 9,
   "id": "3ea4d8a7-297c-4db8-9635-b6a23ffe1655",
   "metadata": {},
   "outputs": [],
   "source": [
    "red_obj = reduce(add, mylist)"
   ]
  },
  {
   "cell_type": "code",
   "execution_count": 10,
   "id": "4c9da12b-b2c9-4584-a5db-851584c04a84",
   "metadata": {},
   "outputs": [
    {
     "data": {
      "text/plain": [
       "15"
      ]
     },
     "execution_count": 10,
     "metadata": {},
     "output_type": "execute_result"
    }
   ],
   "source": [
    "red_obj"
   ]
  },
  {
   "cell_type": "code",
   "execution_count": null,
   "id": "57ccfe95-a7ba-442e-acaf-8ba3598cb43f",
   "metadata": {},
   "outputs": [],
   "source": []
  },
  {
   "cell_type": "code",
   "execution_count": 29,
   "id": "37e625f3-63c1-43de-ab0e-e822d92d9108",
   "metadata": {},
   "outputs": [],
   "source": [
    "\n",
    "team_a = [10,20,30]\n",
    "team_b = [15,25,35]\n",
    "scores = [sum(score) for score in zip(team_a, team_b)]"
   ]
  },
  {
   "cell_type": "code",
   "execution_count": 30,
   "id": "58ace2b3-36ed-4dc5-a6de-5155b7307e4f",
   "metadata": {},
   "outputs": [
    {
     "data": {
      "text/plain": [
       "[25, 45, 65]"
      ]
     },
     "execution_count": 30,
     "metadata": {},
     "output_type": "execute_result"
    }
   ],
   "source": [
    "scores"
   ]
  },
  {
   "cell_type": "code",
   "execution_count": 40,
   "id": "68322933-d508-40ee-84f0-de79c4adb074",
   "metadata": {},
   "outputs": [],
   "source": [
    "team_tasks = [\n",
    "    [True, True, True], # Alice\n",
    "    [True, False, True], # Bob \n",
    "    [False, True, True] # Carol \n",
    "] \n",
    "    # Output: any_missed = True, all_done = False\n",
    "all_done = any(any(member) for member in team_tasks)\n",
    "all_done = all(all(member) for member in team_tasks)\n"
   ]
  },
  {
   "cell_type": "code",
   "execution_count": null,
   "id": "2b812b94-024f-485e-bf38-4d79e28e0202",
   "metadata": {},
   "outputs": [],
   "source": []
  }
 ],
 "metadata": {
  "kernelspec": {
   "display_name": "Python 3 (ipykernel)",
   "language": "python",
   "name": "python3"
  },
  "language_info": {
   "codemirror_mode": {
    "name": "ipython",
    "version": 3
   },
   "file_extension": ".py",
   "mimetype": "text/x-python",
   "name": "python",
   "nbconvert_exporter": "python",
   "pygments_lexer": "ipython3",
   "version": "3.13.5"
  }
 },
 "nbformat": 4,
 "nbformat_minor": 5
}

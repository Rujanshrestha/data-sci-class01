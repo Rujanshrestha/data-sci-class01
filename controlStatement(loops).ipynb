{
 "cells": [
  {
   "cell_type": "markdown",
   "id": "900821e9-e7ad-46a5-9b86-a9d2a1b04151",
   "metadata": {},
   "source": [
    "# Conditional statement\n"
   ]
  },
  {
   "cell_type": "code",
   "execution_count": 1,
   "id": "b6da8e2e-824d-460c-8bcf-c549a3b407db",
   "metadata": {},
   "outputs": [
    {
     "name": "stdout",
     "output_type": "stream",
     "text": [
      "inside of block\n",
      "55 is greater than 0\n",
      "outside of block\n"
     ]
    }
   ],
   "source": [
    "x = 55\n",
    "\n",
    "if x > 0:\n",
    "    print(\"inside of block\")\n",
    "    print(f\"{x} is greater than 0\")\n",
    "\n",
    "print(\"outside of block\")"
   ]
  },
  {
   "cell_type": "code",
   "execution_count": 2,
   "id": "15534128-d84d-46ae-9405-f3b5dc7ce0df",
   "metadata": {},
   "outputs": [
    {
     "name": "stdout",
     "output_type": "stream",
     "text": [
      "outside of block\n"
     ]
    }
   ],
   "source": [
    "x = -55\n",
    "\n",
    "if x > 0:\n",
    "    print(\"inside of block\")\n",
    "    print(f\"{x} is greater than 0\")\n",
    "\n",
    "print(\"outside of block\")"
   ]
  },
  {
   "cell_type": "code",
   "execution_count": 3,
   "id": "7c9cd7aa-420a-4ba1-aa66-8b44150a1c48",
   "metadata": {},
   "outputs": [],
   "source": [
    "x = 5\n",
    "y = -5\n",
    "\n",
    "if x > 0 and y > 0:\n",
    "    print(\"both are positive\")"
   ]
  },
  {
   "cell_type": "code",
   "execution_count": 4,
   "id": "5f7b1a1d-1c52-4044-ba93-cd27d4281412",
   "metadata": {},
   "outputs": [
    {
     "name": "stdout",
     "output_type": "stream",
     "text": [
      "odd\n"
     ]
    }
   ],
   "source": [
    "x = 33\n",
    "\n",
    "if x%2 == 0:\n",
    "    print(\"even\")\n",
    "\n",
    "else:\n",
    "    print(\"odd\")"
   ]
  },
  {
   "cell_type": "code",
   "execution_count": 5,
   "id": "d0beb4f6-3c00-4bf4-b8f0-b32610f40315",
   "metadata": {},
   "outputs": [
    {
     "name": "stdout",
     "output_type": "stream",
     "text": [
      "pallindrome\n"
     ]
    }
   ],
   "source": [
    "name = \"madam\"\n",
    "\n",
    "if name == name[::-1]:\n",
    "    print(\"pallindrome\")\n",
    "\n",
    "else:\n",
    "    print(\"not pallindrome\")"
   ]
  },
  {
   "cell_type": "code",
   "execution_count": null,
   "id": "bf28f41a-0081-4b7d-8b21-c5311c9752ff",
   "metadata": {},
   "outputs": [],
   "source": []
  },
  {
   "cell_type": "code",
   "execution_count": 6,
   "id": "d55058a4-f158-4242-999c-18078026aa73",
   "metadata": {},
   "outputs": [
    {
     "name": "stdout",
     "output_type": "stream",
     "text": [
      "x is positive\n"
     ]
    }
   ],
   "source": [
    "x = 6 \n",
    "\n",
    "if x < 0:\n",
    "    print(\"x is nagative\")\n",
    "elif x == 0:\n",
    "    print(\"x is zero\")\n",
    "else:\n",
    "    print(\"x is positive\")"
   ]
  },
  {
   "cell_type": "code",
   "execution_count": 7,
   "id": "e65e79c2-e1c7-4d1f-85a6-5adc28dc179c",
   "metadata": {},
   "outputs": [
    {
     "name": "stdout",
     "output_type": "stream",
     "text": [
      "grade C\n"
     ]
    }
   ],
   "source": [
    "number = 50\n",
    "\n",
    "if number >= 80:\n",
    "    print(\"grade A\")\n",
    "elif number  >= 60:\n",
    "    print(\"grade B\")\n",
    "elif number   >=40:\n",
    "    print(\"grade C\")\n",
    "else:\n",
    "    print(\"grade D\")"
   ]
  },
  {
   "cell_type": "code",
   "execution_count": null,
   "id": "50651300-9b04-421f-b382-164510bda56a",
   "metadata": {},
   "outputs": [],
   "source": []
  },
  {
   "cell_type": "markdown",
   "id": "9c2983c3-64b1-4682-b049-9c5077287e74",
   "metadata": {},
   "source": [
    "## Nested if.. else"
   ]
  },
  {
   "cell_type": "code",
   "execution_count": 8,
   "id": "3804635f-0982-4179-a638-a620665250f1",
   "metadata": {},
   "outputs": [
    {
     "name": "stdout",
     "output_type": "stream",
     "text": [
      "Grade Other\n"
     ]
    }
   ],
   "source": [
    "grade = 70\n",
    "if grade > 0:\n",
    "    if grade > 80:\n",
    "        print(\"Grade A\")\n",
    "\n",
    "    else :\n",
    "        print(\"Grade Other\")\n",
    "\n",
    "else: \n",
    "    print(\"enter positive value\")"
   ]
  },
  {
   "cell_type": "code",
   "execution_count": null,
   "id": "35111259-954c-4f4c-a3a7-a7bb62141cbf",
   "metadata": {},
   "outputs": [],
   "source": []
  },
  {
   "cell_type": "markdown",
   "id": "f300e2bc-d0c9-4ab4-abe2-de869bce0a06",
   "metadata": {},
   "source": [
    "# Python Loop Statements"
   ]
  },
  {
   "cell_type": "markdown",
   "id": "5dc05a7d-caae-4400-839e-989064d176f9",
   "metadata": {},
   "source": [
    "### 1. For Loop"
   ]
  },
  {
   "cell_type": "code",
   "execution_count": 9,
   "id": "7cc4fcf7-1c9e-44e9-ab9f-3fd8aaaf360f",
   "metadata": {},
   "outputs": [],
   "source": [
    "fruits = [\"apple\",\"banana\",\"cherry\"]"
   ]
  },
  {
   "cell_type": "code",
   "execution_count": 10,
   "id": "cb8fb0ba-6e86-4b93-af56-4a953b672b52",
   "metadata": {},
   "outputs": [
    {
     "name": "stdout",
     "output_type": "stream",
     "text": [
      "fruit apple\n",
      "fruit banana\n",
      "fruit cherry\n",
      "completed\n"
     ]
    }
   ],
   "source": [
    "for each in fruits:\n",
    "    print(f\"fruit {each}\")\n",
    "\n",
    "print(\"completed\")"
   ]
  },
  {
   "cell_type": "code",
   "execution_count": 11,
   "id": "72f35b44-c126-4b8c-b51c-e23b2e4edb8c",
   "metadata": {},
   "outputs": [
    {
     "name": "stdout",
     "output_type": "stream",
     "text": [
      "h\n",
      "e\n",
      "l\n",
      "l\n",
      "o\n"
     ]
    }
   ],
   "source": [
    "for ch in \"hello\":\n",
    "    print(ch)"
   ]
  },
  {
   "cell_type": "markdown",
   "id": "f7f9959b-9e71-4acd-86b5-6fa1f401132a",
   "metadata": {},
   "source": [
    "#### Using Range()"
   ]
  },
  {
   "cell_type": "code",
   "execution_count": 12,
   "id": "9f107f0c-49bc-45b0-85de-afe097322e70",
   "metadata": {},
   "outputs": [
    {
     "data": {
      "text/plain": [
       "[0, 1, 2, 3, 4, 5, 6, 7, 8, 9]"
      ]
     },
     "execution_count": 12,
     "metadata": {},
     "output_type": "execute_result"
    }
   ],
   "source": [
    "list(range(10))"
   ]
  },
  {
   "cell_type": "code",
   "execution_count": 13,
   "id": "eca6977c-1277-4b7c-9721-83850648194e",
   "metadata": {},
   "outputs": [
    {
     "data": {
      "text/plain": [
       "[10, 15, 20, 25, 30, 35, 40, 45, 50, 55, 60, 65, 70, 75, 80, 85, 90, 95]"
      ]
     },
     "execution_count": 13,
     "metadata": {},
     "output_type": "execute_result"
    }
   ],
   "source": [
    "list(range(10,100,5))"
   ]
  },
  {
   "cell_type": "code",
   "execution_count": 14,
   "id": "d493b69e-17a6-4518-b48d-7a1006c5e83b",
   "metadata": {},
   "outputs": [
    {
     "name": "stdout",
     "output_type": "stream",
     "text": [
      "\n",
      "*\n",
      "**\n",
      "***\n",
      "****\n",
      "*****\n"
     ]
    }
   ],
   "source": [
    "for i in range(0,6):\n",
    "    print(\"*\"*i)"
   ]
  },
  {
   "cell_type": "code",
   "execution_count": 15,
   "id": "4b797103-7347-4db2-9ff0-f06448651fe2",
   "metadata": {},
   "outputs": [
    {
     "name": "stdout",
     "output_type": "stream",
     "text": [
      "******\n",
      "*****\n",
      "****\n",
      "***\n",
      "**\n",
      "*\n"
     ]
    }
   ],
   "source": [
    "for i in range(6,0,-1):\n",
    "    print(\"*\"*i)"
   ]
  },
  {
   "cell_type": "markdown",
   "id": "9e9e6543-7098-4514-9661-e22f3a109964",
   "metadata": {},
   "source": [
    "### Nested for loop"
   ]
  },
  {
   "cell_type": "code",
   "execution_count": 16,
   "id": "3a420788-7d30-4947-8ff4-58681718080c",
   "metadata": {},
   "outputs": [],
   "source": [
    "adj = [\"rad\",\"big\",\"tasty\"]\n",
    "fruit = [\"apple\",\"banana\",\"cherry\"]\n"
   ]
  },
  {
   "cell_type": "code",
   "execution_count": 17,
   "id": "f6783124-e3e4-43bf-adad-f41a95459298",
   "metadata": {},
   "outputs": [
    {
     "name": "stdout",
     "output_type": "stream",
     "text": [
      "rad apple\n",
      "rad banana\n",
      "rad cherry\n",
      "big apple\n",
      "big banana\n",
      "big cherry\n",
      "tasty apple\n",
      "tasty banana\n",
      "tasty cherry\n"
     ]
    }
   ],
   "source": [
    "for a in adj:\n",
    "    for f in fruits:\n",
    "        print(a, f)"
   ]
  },
  {
   "cell_type": "code",
   "execution_count": null,
   "id": "35a3a62a-39d5-4098-beed-2b45d81f9cae",
   "metadata": {},
   "outputs": [],
   "source": []
  },
  {
   "cell_type": "markdown",
   "id": "b8e37786-f5d5-41e8-a175-e94a2f1aef1c",
   "metadata": {},
   "source": [
    "##### Multiple args in loop"
   ]
  },
  {
   "cell_type": "code",
   "execution_count": 18,
   "id": "af8deba3-74e3-4943-9fa2-de3e22423f85",
   "metadata": {},
   "outputs": [
    {
     "data": {
      "text/plain": [
       "[('name', 'vince'), ('age', 30), ('gender', 'male')]"
      ]
     },
     "execution_count": 18,
     "metadata": {},
     "output_type": "execute_result"
    }
   ],
   "source": [
    "person = {\n",
    "    \"name\" : \"vince\",\n",
    "    \"age\" : 30,\n",
    "    \"gender\" : \"male\"\n",
    "}\n",
    "person_list = list(person.items())\n",
    "person_list\n"
   ]
  },
  {
   "cell_type": "code",
   "execution_count": 19,
   "id": "afb7b52b-190b-4130-b1ea-9d4811c5f57c",
   "metadata": {},
   "outputs": [
    {
     "name": "stdout",
     "output_type": "stream",
     "text": [
      "('name', 'vince')\n",
      "('age', 30)\n",
      "('gender', 'male')\n"
     ]
    }
   ],
   "source": [
    "for each in person_list:\n",
    "    print(each)"
   ]
  },
  {
   "cell_type": "code",
   "execution_count": 20,
   "id": "8b76a544-2d78-4de4-a60f-e7ff49f90a88",
   "metadata": {},
   "outputs": [
    {
     "name": "stdout",
     "output_type": "stream",
     "text": [
      "key: name = vince\n",
      "key: age = 30\n",
      "key: gender = male\n"
     ]
    }
   ],
   "source": [
    "for key, value in person_list:\n",
    "    print(f\"key: {key} = {value}\")"
   ]
  },
  {
   "cell_type": "code",
   "execution_count": 21,
   "id": "774de167-23a7-422b-a712-006b06ea2ce2",
   "metadata": {},
   "outputs": [
    {
     "name": "stdout",
     "output_type": "stream",
     "text": [
      "[[1, 2, 3], [3, 4, 5], [4, 6, 9]]\n"
     ]
    }
   ],
   "source": [
    "coord = [[1,2,3], [3,4,5], [4,6,9]]\n",
    "print(coord)"
   ]
  },
  {
   "cell_type": "code",
   "execution_count": 22,
   "id": "9a143391-2c5e-498f-ad6f-554db50829c1",
   "metadata": {},
   "outputs": [
    {
     "name": "stdout",
     "output_type": "stream",
     "text": [
      "1 2 3\n",
      "3 4 5\n",
      "4 6 9\n"
     ]
    }
   ],
   "source": [
    "for(x, y, z) in coord:\n",
    "    print(x,y,z)"
   ]
  },
  {
   "cell_type": "code",
   "execution_count": null,
   "id": "cf412bf7-4013-49cb-a388-387c9babaa8b",
   "metadata": {},
   "outputs": [],
   "source": [
    "x = int(input(\"enter a number\"))\n",
    "for i in range(1,11):\n",
    "    print(f\"{x} x {i} ={x*i}\" )"
   ]
  },
  {
   "cell_type": "markdown",
   "id": "5845cfbd-5231-47b3-87e3-f0e6457d4f80",
   "metadata": {},
   "source": [
    "### python program to seperate even and odd numbers from a series of number\n",
    "numbers= [2,5,3,6,7,33,5,8,68,0,12,4,6,66,9,101,55,32,89]"
   ]
  },
  {
   "cell_type": "code",
   "execution_count": null,
   "id": "c459b99a-13c5-4bd8-b7b1-8fd808e9f73d",
   "metadata": {},
   "outputs": [],
   "source": [
    "numbers = [2,5,3,6,7,33,5,8,68,0,12,4,6,66,9,101,55,32,89]\n",
    "odd = []\n",
    "even = []\n",
    "for i in numbers:\n",
    "    if (i % 2 == 0):\n",
    "        even.append(i)\n",
    "    else:\n",
    "        odd.append(i)\n",
    "print(f\"Even Numbers are: {even}\")\n",
    "print(f\"odd Numbers are: {odd}\")"
   ]
  },
  {
   "cell_type": "markdown",
   "id": "8fbd4266-5fbd-47d9-b812-fe9c0c224abe",
   "metadata": {},
   "source": [
    "### 2. While Loop\n"
   ]
  },
  {
   "cell_type": "code",
   "execution_count": null,
   "id": "c60f0989-52a1-4097-bd15-3f0b2fb3a455",
   "metadata": {},
   "outputs": [],
   "source": [
    "i = 0\n",
    "\n",
    "while i < 5:\n",
    "    print(i)\n",
    "    i += 1"
   ]
  },
  {
   "cell_type": "markdown",
   "id": "978978ff-31ff-4c8f-af3d-9e1fb07d13f6",
   "metadata": {},
   "source": [
    "##### Break Statement"
   ]
  },
  {
   "cell_type": "code",
   "execution_count": 1,
   "id": "f5556b15-d9e5-47ff-81c1-ceb1e1c4d024",
   "metadata": {},
   "outputs": [
    {
     "name": "stdout",
     "output_type": "stream",
     "text": [
      "0\n",
      "1\n",
      "2\n",
      "3\n",
      "4\n"
     ]
    }
   ],
   "source": [
    "i = 0\n",
    "\n",
    "while i < 10:\n",
    "    print(i)\n",
    "    i += 1\n",
    "    if i==5:\n",
    "        break"
   ]
  },
  {
   "cell_type": "code",
   "execution_count": 2,
   "id": "14698609-55ce-449a-8c5b-ccb94f10121f",
   "metadata": {},
   "outputs": [
    {
     "name": "stdout",
     "output_type": "stream",
     "text": [
      "0\n",
      "1\n",
      "2\n",
      "3\n",
      "4\n"
     ]
    }
   ],
   "source": [
    "for i in range(10):\n",
    "    print(i)\n",
    "    i += 1\n",
    "    if i==5:\n",
    "        break"
   ]
  },
  {
   "cell_type": "markdown",
   "id": "e8bfc3da-fb1a-447a-b270-d9d6cb5e7f68",
   "metadata": {},
   "source": [
    "##### Continue Statement"
   ]
  },
  {
   "cell_type": "code",
   "execution_count": 5,
   "id": "ce29ae29-2080-4444-aacc-936789c9023c",
   "metadata": {},
   "outputs": [
    {
     "name": "stdout",
     "output_type": "stream",
     "text": [
      "saimon\n",
      "jhon\n"
     ]
    }
   ],
   "source": [
    "names = [\"saimon\", \"jesus\", \"jhon\"]\n",
    "\n",
    "for name in names:\n",
    "    if name == \"jesus\":\n",
    "        continue\n",
    "        \n",
    "    print(name)"
   ]
  },
  {
   "cell_type": "code",
   "execution_count": 21,
   "id": "f6cd9e39-48b4-4126-9d79-bd2acaaccb04",
   "metadata": {},
   "outputs": [
    {
     "name": "stdout",
     "output_type": "stream",
     "text": [
      "the sum of the first 1000 natural number is : 1000\n"
     ]
    }
   ],
   "source": [
    "number = 1000\n",
    "total_sum = 0\n",
    "i = 1\n",
    "while i <= number:\n",
    "     total_sum += 1\n",
    "     i +=1\n",
    "    \n",
    "    \n",
    "print(f\"the sum of the first {number} natural number is : {total_sum}\")"
   ]
  },
  {
   "cell_type": "code",
   "execution_count": 4,
   "id": "7e77c405-708e-4a86-8ed1-1ed63b874f6b",
   "metadata": {},
   "outputs": [
    {
     "name": "stdout",
     "output_type": "stream",
     "text": [
      "the sum of the first 52 natural number is : 80658175170943878571660636856403766975289505440883277824000000000000\n"
     ]
    }
   ],
   "source": [
    "number = 52\n",
    "total_prod = 1\n",
    "i = 1\n",
    "while i <= number:\n",
    "    total_prod = total_prod * i \n",
    "    i +=1\n",
    "    \n",
    "print(f\"the sum of the first {number} natural number is : {total_prod}\")"
   ]
  },
  {
   "cell_type": "code",
   "execution_count": null,
   "id": "7797ce2b-d0d6-4d17-8985-874a2bf4e5c4",
   "metadata": {},
   "outputs": [],
   "source": []
  }
 ],
 "metadata": {
  "kernelspec": {
   "display_name": "Python 3 (ipykernel)",
   "language": "python",
   "name": "python3"
  },
  "language_info": {
   "codemirror_mode": {
    "name": "ipython",
    "version": 3
   },
   "file_extension": ".py",
   "mimetype": "text/x-python",
   "name": "python",
   "nbconvert_exporter": "python",
   "pygments_lexer": "ipython3",
   "version": "3.13.5"
  }
 },
 "nbformat": 4,
 "nbformat_minor": 5
}

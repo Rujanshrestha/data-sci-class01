{
 "cells": [
  {
   "cell_type": "code",
   "execution_count": 1,
   "id": "322f5c54-7a28-4b9d-9399-ebf525ebf711",
   "metadata": {},
   "outputs": [],
   "source": [
    "import os\n",
    "\n",
    "import numpy as np\n",
    "import pandas as pd\n",
    "import seaborn as sns"
   ]
  },
  {
   "cell_type": "code",
   "execution_count": 2,
   "id": "122b3c78-acd0-4fa5-9cff-82710f86bdf6",
   "metadata": {},
   "outputs": [],
   "source": [
    "# Reading CSV file\n",
    "columns_name = [\n",
    "    \"time\", \"gender\", \"matric_%\", \"study_year\",\"faculty\",\"gpa_2023\",\"accomodation\",\"allowance\",\"scholarship\",\n",
    "    \"study_hours\",\"party_week\",\"drinks_night\",\"missed_classes\",\"Failed_classes\",\"in_relationship\",\"parent_approve\",\"relation_parent\"\n",
    "]\n",
    "student_dataa = pd.read_csv(\"survey_student.csv\",names = columns_name, header =  0)\n"
   ]
  },
  {
   "cell_type": "code",
   "execution_count": 3,
   "id": "1d1d14ea-a31c-4331-9029-eb49187d5f24",
   "metadata": {},
   "outputs": [
    {
     "data": {
      "text/html": [
       "<div>\n",
       "<style scoped>\n",
       "    .dataframe tbody tr th:only-of-type {\n",
       "        vertical-align: middle;\n",
       "    }\n",
       "\n",
       "    .dataframe tbody tr th {\n",
       "        vertical-align: top;\n",
       "    }\n",
       "\n",
       "    .dataframe thead th {\n",
       "        text-align: right;\n",
       "    }\n",
       "</style>\n",
       "<table border=\"1\" class=\"dataframe\">\n",
       "  <thead>\n",
       "    <tr style=\"text-align: right;\">\n",
       "      <th></th>\n",
       "      <th>time</th>\n",
       "      <th>gender</th>\n",
       "      <th>matric_%</th>\n",
       "      <th>study_year</th>\n",
       "      <th>faculty</th>\n",
       "      <th>gpa_2023</th>\n",
       "      <th>accomodation</th>\n",
       "      <th>allowance</th>\n",
       "      <th>scholarship</th>\n",
       "      <th>study_hours</th>\n",
       "      <th>party_week</th>\n",
       "      <th>drinks_night</th>\n",
       "      <th>missed_classes</th>\n",
       "      <th>Failed_classes</th>\n",
       "      <th>in_relationship</th>\n",
       "      <th>parent_approve</th>\n",
       "      <th>relation_parent</th>\n",
       "    </tr>\n",
       "  </thead>\n",
       "  <tbody>\n",
       "    <tr>\n",
       "      <th>0</th>\n",
       "      <td>2024/03/07 5:12:01 pm EET</td>\n",
       "      <td>Female</td>\n",
       "      <td>76.0</td>\n",
       "      <td>2nd Year</td>\n",
       "      <td>Arts &amp; Social Sciences</td>\n",
       "      <td>72.0</td>\n",
       "      <td>Private accommodation/ stay with family/friends</td>\n",
       "      <td>R 4001- R 5000</td>\n",
       "      <td>No</td>\n",
       "      <td>8+</td>\n",
       "      <td>Only weekends</td>\n",
       "      <td>8+</td>\n",
       "      <td>3</td>\n",
       "      <td>0</td>\n",
       "      <td>Yes</td>\n",
       "      <td>Yes</td>\n",
       "      <td>Very close</td>\n",
       "    </tr>\n",
       "    <tr>\n",
       "      <th>1</th>\n",
       "      <td>2024/03/07 5:12:08 pm EET</td>\n",
       "      <td>Male</td>\n",
       "      <td>89.0</td>\n",
       "      <td>2nd Year</td>\n",
       "      <td>Economic &amp; Management Sciences</td>\n",
       "      <td>75.0</td>\n",
       "      <td>Private accommodation/ stay with family/friends</td>\n",
       "      <td>R 7001 - R 8000</td>\n",
       "      <td>Yes (NSFAS, etc...)</td>\n",
       "      <td>8+</td>\n",
       "      <td>Only weekends</td>\n",
       "      <td>3-5</td>\n",
       "      <td>4+</td>\n",
       "      <td>0</td>\n",
       "      <td>No</td>\n",
       "      <td>Yes</td>\n",
       "      <td>Very close</td>\n",
       "    </tr>\n",
       "    <tr>\n",
       "      <th>2</th>\n",
       "      <td>2024/03/07 5:12:25 pm EET</td>\n",
       "      <td>Male</td>\n",
       "      <td>76.0</td>\n",
       "      <td>1st Year</td>\n",
       "      <td>AgriSciences</td>\n",
       "      <td>55.0</td>\n",
       "      <td>Private accommodation/ stay with family/friends</td>\n",
       "      <td>R 4001- R 5000</td>\n",
       "      <td>No</td>\n",
       "      <td>3-5</td>\n",
       "      <td>2</td>\n",
       "      <td>8+</td>\n",
       "      <td>3</td>\n",
       "      <td>0</td>\n",
       "      <td>No</td>\n",
       "      <td>Yes</td>\n",
       "      <td>Very close</td>\n",
       "    </tr>\n",
       "    <tr>\n",
       "      <th>3</th>\n",
       "      <td>2024/03/07 5:12:28 pm EET</td>\n",
       "      <td>Male</td>\n",
       "      <td>89.0</td>\n",
       "      <td>2nd Year</td>\n",
       "      <td>Engineering</td>\n",
       "      <td>84.0</td>\n",
       "      <td>Private accommodation/ stay with family/friends</td>\n",
       "      <td>R 6001 - R 7000</td>\n",
       "      <td>No</td>\n",
       "      <td>3-5</td>\n",
       "      <td>3</td>\n",
       "      <td>8+</td>\n",
       "      <td>2</td>\n",
       "      <td>0</td>\n",
       "      <td>Yes</td>\n",
       "      <td>Yes</td>\n",
       "      <td>Very close</td>\n",
       "    </tr>\n",
       "    <tr>\n",
       "      <th>4</th>\n",
       "      <td>2024/03/07 5:13:00 pm EET</td>\n",
       "      <td>Female</td>\n",
       "      <td>74.0</td>\n",
       "      <td>2nd Year</td>\n",
       "      <td>Arts &amp; Social Sciences</td>\n",
       "      <td>52.0</td>\n",
       "      <td>Private accommodation/ stay with family/friends</td>\n",
       "      <td>R 4001- R 5000</td>\n",
       "      <td>No</td>\n",
       "      <td>3-5</td>\n",
       "      <td>Only weekends</td>\n",
       "      <td>5-8</td>\n",
       "      <td>1</td>\n",
       "      <td>3</td>\n",
       "      <td>No</td>\n",
       "      <td>Yes</td>\n",
       "      <td>Fair</td>\n",
       "    </tr>\n",
       "    <tr>\n",
       "      <th>...</th>\n",
       "      <td>...</td>\n",
       "      <td>...</td>\n",
       "      <td>...</td>\n",
       "      <td>...</td>\n",
       "      <td>...</td>\n",
       "      <td>...</td>\n",
       "      <td>...</td>\n",
       "      <td>...</td>\n",
       "      <td>...</td>\n",
       "      <td>...</td>\n",
       "      <td>...</td>\n",
       "      <td>...</td>\n",
       "      <td>...</td>\n",
       "      <td>...</td>\n",
       "      <td>...</td>\n",
       "      <td>...</td>\n",
       "      <td>...</td>\n",
       "    </tr>\n",
       "    <tr>\n",
       "      <th>401</th>\n",
       "      <td>2024/03/12 11:05:33 am EET</td>\n",
       "      <td>Female</td>\n",
       "      <td>74.0</td>\n",
       "      <td>NaN</td>\n",
       "      <td>Science</td>\n",
       "      <td>NaN</td>\n",
       "      <td>Private accommodation/ stay with family/friends</td>\n",
       "      <td>NaN</td>\n",
       "      <td>No</td>\n",
       "      <td>3-5</td>\n",
       "      <td>3</td>\n",
       "      <td>1-3</td>\n",
       "      <td>0</td>\n",
       "      <td>0</td>\n",
       "      <td>No</td>\n",
       "      <td>Yes</td>\n",
       "      <td>Close</td>\n",
       "    </tr>\n",
       "    <tr>\n",
       "      <th>402</th>\n",
       "      <td>2024/03/12 3:26:14 pm EET</td>\n",
       "      <td>Female</td>\n",
       "      <td>73.0</td>\n",
       "      <td>2nd Year</td>\n",
       "      <td>Economic &amp; Management Sciences</td>\n",
       "      <td>58.0</td>\n",
       "      <td>Private accommodation/ stay with family/friends</td>\n",
       "      <td>R 6001 - R 7000</td>\n",
       "      <td>Yes (NSFAS, etc...)</td>\n",
       "      <td>5-8</td>\n",
       "      <td>1</td>\n",
       "      <td>8+</td>\n",
       "      <td>0</td>\n",
       "      <td>0</td>\n",
       "      <td>Yes</td>\n",
       "      <td>Yes</td>\n",
       "      <td>Very close</td>\n",
       "    </tr>\n",
       "    <tr>\n",
       "      <th>403</th>\n",
       "      <td>2024/03/13 10:32:19 pm EET</td>\n",
       "      <td>Female</td>\n",
       "      <td>86.0</td>\n",
       "      <td>1st Year</td>\n",
       "      <td>NaN</td>\n",
       "      <td>NaN</td>\n",
       "      <td>Private accommodation/ stay with family/friends</td>\n",
       "      <td>R 4001- R 5000</td>\n",
       "      <td>No</td>\n",
       "      <td>5-8</td>\n",
       "      <td>2</td>\n",
       "      <td>3-5</td>\n",
       "      <td>1</td>\n",
       "      <td>0</td>\n",
       "      <td>No</td>\n",
       "      <td>Yes</td>\n",
       "      <td>Very close</td>\n",
       "    </tr>\n",
       "    <tr>\n",
       "      <th>404</th>\n",
       "      <td>2024/03/13 10:32:27 pm EET</td>\n",
       "      <td>Male</td>\n",
       "      <td>85.0</td>\n",
       "      <td>NaN</td>\n",
       "      <td>Economic &amp; Management Sciences</td>\n",
       "      <td>NaN</td>\n",
       "      <td>Private accommodation/ stay with family/friends</td>\n",
       "      <td>R 4001- R 5000</td>\n",
       "      <td>No</td>\n",
       "      <td>1-3</td>\n",
       "      <td>4+</td>\n",
       "      <td>5-8</td>\n",
       "      <td>4+</td>\n",
       "      <td>0</td>\n",
       "      <td>No</td>\n",
       "      <td>Yes</td>\n",
       "      <td>Close</td>\n",
       "    </tr>\n",
       "    <tr>\n",
       "      <th>405</th>\n",
       "      <td>2024/03/16 10:30:36 pm EET</td>\n",
       "      <td>Female</td>\n",
       "      <td>80.0</td>\n",
       "      <td>1st Year</td>\n",
       "      <td>NaN</td>\n",
       "      <td>63.0</td>\n",
       "      <td>Private accommodation/ stay with family/friends</td>\n",
       "      <td>R 5001 - R 6000</td>\n",
       "      <td>No</td>\n",
       "      <td>3-5</td>\n",
       "      <td>Only weekends</td>\n",
       "      <td>3-5</td>\n",
       "      <td>1</td>\n",
       "      <td>0</td>\n",
       "      <td>No</td>\n",
       "      <td>No</td>\n",
       "      <td>Close</td>\n",
       "    </tr>\n",
       "  </tbody>\n",
       "</table>\n",
       "<p>406 rows × 17 columns</p>\n",
       "</div>"
      ],
      "text/plain": [
       "                           time  gender  matric_% study_year  \\\n",
       "0     2024/03/07 5:12:01 pm EET  Female      76.0   2nd Year   \n",
       "1     2024/03/07 5:12:08 pm EET    Male      89.0   2nd Year   \n",
       "2     2024/03/07 5:12:25 pm EET    Male      76.0   1st Year   \n",
       "3     2024/03/07 5:12:28 pm EET    Male      89.0   2nd Year   \n",
       "4     2024/03/07 5:13:00 pm EET  Female      74.0   2nd Year   \n",
       "..                          ...     ...       ...        ...   \n",
       "401  2024/03/12 11:05:33 am EET  Female      74.0        NaN   \n",
       "402   2024/03/12 3:26:14 pm EET  Female      73.0   2nd Year   \n",
       "403  2024/03/13 10:32:19 pm EET  Female      86.0   1st Year   \n",
       "404  2024/03/13 10:32:27 pm EET    Male      85.0        NaN   \n",
       "405  2024/03/16 10:30:36 pm EET  Female      80.0   1st Year   \n",
       "\n",
       "                            faculty  gpa_2023  \\\n",
       "0            Arts & Social Sciences      72.0   \n",
       "1    Economic & Management Sciences      75.0   \n",
       "2                      AgriSciences      55.0   \n",
       "3                       Engineering      84.0   \n",
       "4            Arts & Social Sciences      52.0   \n",
       "..                              ...       ...   \n",
       "401                         Science       NaN   \n",
       "402  Economic & Management Sciences      58.0   \n",
       "403                             NaN       NaN   \n",
       "404  Economic & Management Sciences       NaN   \n",
       "405                             NaN      63.0   \n",
       "\n",
       "                                        accomodation        allowance  \\\n",
       "0    Private accommodation/ stay with family/friends   R 4001- R 5000   \n",
       "1    Private accommodation/ stay with family/friends  R 7001 - R 8000   \n",
       "2    Private accommodation/ stay with family/friends   R 4001- R 5000   \n",
       "3    Private accommodation/ stay with family/friends  R 6001 - R 7000   \n",
       "4    Private accommodation/ stay with family/friends   R 4001- R 5000   \n",
       "..                                               ...              ...   \n",
       "401  Private accommodation/ stay with family/friends              NaN   \n",
       "402  Private accommodation/ stay with family/friends  R 6001 - R 7000   \n",
       "403  Private accommodation/ stay with family/friends   R 4001- R 5000   \n",
       "404  Private accommodation/ stay with family/friends   R 4001- R 5000   \n",
       "405  Private accommodation/ stay with family/friends  R 5001 - R 6000   \n",
       "\n",
       "             scholarship study_hours     party_week drinks_night  \\\n",
       "0                     No          8+  Only weekends           8+   \n",
       "1    Yes (NSFAS, etc...)          8+  Only weekends          3-5   \n",
       "2                     No         3-5              2           8+   \n",
       "3                     No         3-5              3           8+   \n",
       "4                     No         3-5  Only weekends          5-8   \n",
       "..                   ...         ...            ...          ...   \n",
       "401                   No         3-5              3          1-3   \n",
       "402  Yes (NSFAS, etc...)         5-8              1           8+   \n",
       "403                   No         5-8              2          3-5   \n",
       "404                   No         1-3             4+          5-8   \n",
       "405                   No         3-5  Only weekends          3-5   \n",
       "\n",
       "    missed_classes Failed_classes in_relationship parent_approve  \\\n",
       "0                3              0             Yes            Yes   \n",
       "1               4+              0              No            Yes   \n",
       "2                3              0              No            Yes   \n",
       "3                2              0             Yes            Yes   \n",
       "4                1              3              No            Yes   \n",
       "..             ...            ...             ...            ...   \n",
       "401              0              0              No            Yes   \n",
       "402              0              0             Yes            Yes   \n",
       "403              1              0              No            Yes   \n",
       "404             4+              0              No            Yes   \n",
       "405              1              0              No             No   \n",
       "\n",
       "    relation_parent  \n",
       "0        Very close  \n",
       "1        Very close  \n",
       "2        Very close  \n",
       "3        Very close  \n",
       "4              Fair  \n",
       "..              ...  \n",
       "401           Close  \n",
       "402      Very close  \n",
       "403      Very close  \n",
       "404           Close  \n",
       "405           Close  \n",
       "\n",
       "[406 rows x 17 columns]"
      ]
     },
     "execution_count": 3,
     "metadata": {},
     "output_type": "execute_result"
    }
   ],
   "source": [
    "student_dataa"
   ]
  },
  {
   "cell_type": "markdown",
   "id": "42ab9011-87ce-4ab0-a5f4-416149320c97",
   "metadata": {},
   "source": [
    "## Exploratory Data Analysis (EDA)\n",
    "\n",
    "- basic information\n",
    "- missing values\n",
    "- numerical and categorical value\n",
    "- visulization\n",
    "- correlation, outliers"
   ]
  },
  {
   "cell_type": "code",
   "execution_count": 4,
   "id": "cf8d020c-f2e6-43d5-9bdb-ea7513e23567",
   "metadata": {},
   "outputs": [
    {
     "name": "stdout",
     "output_type": "stream",
     "text": [
      "<class 'pandas.core.frame.DataFrame'>\n",
      "RangeIndex: 406 entries, 0 to 405\n",
      "Data columns (total 17 columns):\n",
      " #   Column           Non-Null Count  Dtype  \n",
      "---  ------           --------------  -----  \n",
      " 0   time             406 non-null    object \n",
      " 1   gender           404 non-null    object \n",
      " 2   matric_%         399 non-null    float64\n",
      " 3   study_year       333 non-null    object \n",
      " 4   faculty          399 non-null    object \n",
      " 5   gpa_2023         320 non-null    float64\n",
      " 6   accomodation     383 non-null    object \n",
      " 7   allowance        375 non-null    object \n",
      " 8   scholarship      398 non-null    object \n",
      " 9   study_hours      403 non-null    object \n",
      " 10  party_week       404 non-null    object \n",
      " 11  drinks_night     404 non-null    object \n",
      " 12  missed_classes   403 non-null    object \n",
      " 13  Failed_classes   403 non-null    object \n",
      " 14  in_relationship  403 non-null    object \n",
      " 15  parent_approve   402 non-null    object \n",
      " 16  relation_parent  403 non-null    object \n",
      "dtypes: float64(2), object(15)\n",
      "memory usage: 54.1+ KB\n"
     ]
    }
   ],
   "source": [
    "student_dataa.info()"
   ]
  },
  {
   "cell_type": "code",
   "execution_count": 5,
   "id": "6bb2bd08-2a78-4efa-98fb-eb0232d030de",
   "metadata": {},
   "outputs": [
    {
     "data": {
      "text/plain": [
       "time                0\n",
       "gender              2\n",
       "matric_%            7\n",
       "study_year         73\n",
       "faculty             7\n",
       "gpa_2023           86\n",
       "accomodation       23\n",
       "allowance          31\n",
       "scholarship         8\n",
       "study_hours         3\n",
       "party_week          2\n",
       "drinks_night        2\n",
       "missed_classes      3\n",
       "Failed_classes      3\n",
       "in_relationship     3\n",
       "parent_approve      4\n",
       "relation_parent     3\n",
       "dtype: int64"
      ]
     },
     "execution_count": 5,
     "metadata": {},
     "output_type": "execute_result"
    }
   ],
   "source": [
    "student_dataa.isna().sum()"
   ]
  },
  {
   "cell_type": "code",
   "execution_count": 6,
   "id": "3801bb61-1448-4e0c-a006-d554bd11af78",
   "metadata": {},
   "outputs": [
    {
     "data": {
      "text/plain": [
       "<Axes: >"
      ]
     },
     "execution_count": 6,
     "metadata": {},
     "output_type": "execute_result"
    },
    {
     "data": {
      "image/png": "[encoded data removed]",
      "text/plain": [
       "<Figure size 640x480 with 1 Axes>"
      ]
     },
     "metadata": {},
     "output_type": "display_data"
    }
   ],
   "source": [
    "student_dataa.isna().sum().plot(kind=\"bar\")"
   ]
  },
  {
   "cell_type": "code",
   "execution_count": 7,
   "id": "8e480df6-8f4e-4655-bb0d-6a1cca06d9f6",
   "metadata": {},
   "outputs": [
    {
     "data": {
      "text/plain": [
       "<Axes: >"
      ]
     },
     "execution_count": 7,
     "metadata": {},
     "output_type": "execute_result"
    },
    {
     "data": {
      "image/png": "[encoded data removed]",
      "text/plain": [
       "<Figure size 640x480 with 1 Axes>"
      ]
     },
     "metadata": {},
     "output_type": "display_data"
    }
   ],
   "source": [
    "student_dataa.isna().sum().plot(kind=\"pie\")"
   ]
  },
  {
   "cell_type": "markdown",
   "id": "27771564-1076-4ae6-abec-871b5d8405e4",
   "metadata": {},
   "source": [
    "-- description --"
   ]
  },
  {
   "cell_type": "markdown",
   "id": "f48cb509-9b25-4017-b939-a81b1deeff95",
   "metadata": {},
   "source": [
    "in the above figure, amoung 17 columns null values are beeing counted. here the highst / greatest null value is of gpa whereas the least null value is timestamp with 0. others like degree allowanmce accomodation are also the highest null value holder and reast of them has minimal null data."
   ]
  },
  {
   "cell_type": "markdown",
   "id": "754b308b-ea2d-48fa-af01-026efc1c1224",
   "metadata": {},
   "source": [
    "## Relationship with parent closeness and score gained"
   ]
  },
  {
   "cell_type": "code",
   "execution_count": 12,
   "id": "d16ab97a-4ffc-42f9-a66f-c135274320d1",
   "metadata": {},
   "outputs": [],
   "source": [
    "group_parent = student_dataa.groupby(by = \"relation_parent\")\n",
    "info = group_parent[[\"matric_%\"]].aggregate((\"min\",\"max\",\"mean\"))"
   ]
  },
  {
   "cell_type": "code",
   "execution_count": 13,
   "id": "f6c61d23-c1fa-4ab3-b03b-27e5467baba6",
   "metadata": {},
   "outputs": [
    {
     "data": {
      "text/html": [
       "<div>\n",
       "<style scoped>\n",
       "    .dataframe tbody tr th:only-of-type {\n",
       "        vertical-align: middle;\n",
       "    }\n",
       "\n",
       "    .dataframe tbody tr th {\n",
       "        vertical-align: top;\n",
       "    }\n",
       "\n",
       "    .dataframe thead tr th {\n",
       "        text-align: left;\n",
       "    }\n",
       "\n",
       "    .dataframe thead tr:last-of-type th {\n",
       "        text-align: right;\n",
       "    }\n",
       "</style>\n",
       "<table border=\"1\" class=\"dataframe\">\n",
       "  <thead>\n",
       "    <tr>\n",
       "      <th></th>\n",
       "      <th colspan=\"3\" halign=\"left\">matric_%</th>\n",
       "    </tr>\n",
       "    <tr>\n",
       "      <th></th>\n",
       "      <th>min</th>\n",
       "      <th>max</th>\n",
       "      <th>mean</th>\n",
       "    </tr>\n",
       "    <tr>\n",
       "      <th>relation_parent</th>\n",
       "      <th></th>\n",
       "      <th></th>\n",
       "      <th></th>\n",
       "    </tr>\n",
       "  </thead>\n",
       "  <tbody>\n",
       "    <tr>\n",
       "      <th>Close</th>\n",
       "      <td>60.0</td>\n",
       "      <td>98.33</td>\n",
       "      <td>77.690000</td>\n",
       "    </tr>\n",
       "    <tr>\n",
       "      <th>Distant</th>\n",
       "      <td>85.0</td>\n",
       "      <td>98.00</td>\n",
       "      <td>91.500000</td>\n",
       "    </tr>\n",
       "    <tr>\n",
       "      <th>Fair</th>\n",
       "      <td>55.0</td>\n",
       "      <td>95.50</td>\n",
       "      <td>78.357143</td>\n",
       "    </tr>\n",
       "    <tr>\n",
       "      <th>Very close</th>\n",
       "      <td>34.0</td>\n",
       "      <td>99.00</td>\n",
       "      <td>77.960114</td>\n",
       "    </tr>\n",
       "  </tbody>\n",
       "</table>\n",
       "</div>"
      ],
      "text/plain": [
       "                matric_%                  \n",
       "                     min    max       mean\n",
       "relation_parent                           \n",
       "Close               60.0  98.33  77.690000\n",
       "Distant             85.0  98.00  91.500000\n",
       "Fair                55.0  95.50  78.357143\n",
       "Very close          34.0  99.00  77.960114"
      ]
     },
     "execution_count": 13,
     "metadata": {},
     "output_type": "execute_result"
    }
   ],
   "source": [
    "info"
   ]
  },
  {
   "cell_type": "code",
   "execution_count": 14,
   "id": "183e684d-5b6c-40a6-901a-a6ba17e21929",
   "metadata": {},
   "outputs": [
    {
     "data": {
      "text/plain": [
       "<Axes: xlabel='relation_parent'>"
      ]
     },
     "execution_count": 14,
     "metadata": {},
     "output_type": "execute_result"
    },
    {
     "data": {
      "image/png": "[encoded data removed]",
      "text/plain": [
       "<Figure size 640x480 with 1 Axes>"
      ]
     },
     "metadata": {},
     "output_type": "display_data"
    }
   ],
   "source": [
    "info.plot.bar()"
   ]
  },
  {
   "cell_type": "code",
   "execution_count": 16,
   "id": "23cf9e7d-434a-423e-91b6-335be36163ab",
   "metadata": {},
   "outputs": [
    {
     "data": {
      "text/html": [
       "<div>\n",
       "<style scoped>\n",
       "    .dataframe tbody tr th:only-of-type {\n",
       "        vertical-align: middle;\n",
       "    }\n",
       "\n",
       "    .dataframe tbody tr th {\n",
       "        vertical-align: top;\n",
       "    }\n",
       "\n",
       "    .dataframe thead tr th {\n",
       "        text-align: left;\n",
       "    }\n",
       "\n",
       "    .dataframe thead tr:last-of-type th {\n",
       "        text-align: right;\n",
       "    }\n",
       "</style>\n",
       "<table border=\"1\" class=\"dataframe\">\n",
       "  <thead>\n",
       "    <tr>\n",
       "      <th></th>\n",
       "      <th colspan=\"3\" halign=\"left\">matric_%</th>\n",
       "    </tr>\n",
       "    <tr>\n",
       "      <th></th>\n",
       "      <th>min</th>\n",
       "      <th>max</th>\n",
       "      <th>mean</th>\n",
       "    </tr>\n",
       "    <tr>\n",
       "      <th>faculty</th>\n",
       "      <th></th>\n",
       "      <th></th>\n",
       "      <th></th>\n",
       "    </tr>\n",
       "  </thead>\n",
       "  <tbody>\n",
       "    <tr>\n",
       "      <th>AgriSciences</th>\n",
       "      <td>66.0</td>\n",
       "      <td>86.0</td>\n",
       "      <td>74.772727</td>\n",
       "    </tr>\n",
       "    <tr>\n",
       "      <th>Arts &amp; Social Sciences</th>\n",
       "      <td>60.0</td>\n",
       "      <td>85.0</td>\n",
       "      <td>75.969565</td>\n",
       "    </tr>\n",
       "    <tr>\n",
       "      <th>Economic &amp; Management Sciences</th>\n",
       "      <td>34.0</td>\n",
       "      <td>99.0</td>\n",
       "      <td>76.977095</td>\n",
       "    </tr>\n",
       "    <tr>\n",
       "      <th>Education</th>\n",
       "      <td>71.0</td>\n",
       "      <td>82.0</td>\n",
       "      <td>76.000000</td>\n",
       "    </tr>\n",
       "    <tr>\n",
       "      <th>Engineering</th>\n",
       "      <td>73.0</td>\n",
       "      <td>98.0</td>\n",
       "      <td>83.691667</td>\n",
       "    </tr>\n",
       "    <tr>\n",
       "      <th>Law</th>\n",
       "      <td>72.0</td>\n",
       "      <td>90.0</td>\n",
       "      <td>80.200000</td>\n",
       "    </tr>\n",
       "    <tr>\n",
       "      <th>Medicine and Health Services</th>\n",
       "      <td>73.0</td>\n",
       "      <td>85.0</td>\n",
       "      <td>79.888889</td>\n",
       "    </tr>\n",
       "    <tr>\n",
       "      <th>Science</th>\n",
       "      <td>65.0</td>\n",
       "      <td>92.0</td>\n",
       "      <td>80.294727</td>\n",
       "    </tr>\n",
       "  </tbody>\n",
       "</table>\n",
       "</div>"
      ],
      "text/plain": [
       "                               matric_%                 \n",
       "                                    min   max       mean\n",
       "faculty                                                 \n",
       "AgriSciences                       66.0  86.0  74.772727\n",
       "Arts & Social Sciences             60.0  85.0  75.969565\n",
       "Economic & Management Sciences     34.0  99.0  76.977095\n",
       "Education                          71.0  82.0  76.000000\n",
       "Engineering                        73.0  98.0  83.691667\n",
       "Law                                72.0  90.0  80.200000\n",
       "Medicine and Health Services       73.0  85.0  79.888889\n",
       "Science                            65.0  92.0  80.294727"
      ]
     },
     "execution_count": 16,
     "metadata": {},
     "output_type": "execute_result"
    }
   ],
   "source": [
    "group_parent = student_dataa.groupby(by = \"faculty\")\n",
    "info = group_parent[[\"matric_%\"]].aggregate((\"min\",\"max\",\"mean\"))\n",
    "info"
   ]
  },
  {
   "cell_type": "code",
   "execution_count": 18,
   "id": "71d9a42e-02a6-45af-9174-a908f55e0a90",
   "metadata": {},
   "outputs": [],
   "source": [
    "group_parent = student_dataa.groupby(by = \"relation_parent\")\n",
    "info = group_parent[\"drinks_night\"].aggregate(\"count\")"
   ]
  },
  {
   "cell_type": "code",
   "execution_count": 19,
   "id": "2983dc57-5967-4067-a97f-5dd7202f6f6e",
   "metadata": {},
   "outputs": [
    {
     "data": {
      "text/plain": [
       "relation_parent\n",
       "Close          97\n",
       "Distant         2\n",
       "Fair           35\n",
       "Very close    269\n",
       "Name: drinks_night, dtype: int64"
      ]
     },
     "execution_count": 19,
     "metadata": {},
     "output_type": "execute_result"
    }
   ],
   "source": [
    "info"
   ]
  },
  {
   "cell_type": "code",
   "execution_count": 20,
   "id": "4a7c1905-f9cd-479e-b9a0-88a44aa6d8b3",
   "metadata": {},
   "outputs": [
    {
     "data": {
      "text/plain": [
       "<Axes: ylabel='drinks_night'>"
      ]
     },
     "execution_count": 20,
     "metadata": {},
     "output_type": "execute_result"
    },
    {
     "data": {
      "image/png": "[encoded data removed]",
      "text/plain": [
       "<Figure size 640x480 with 1 Axes>"
      ]
     },
     "metadata": {},
     "output_type": "display_data"
    }
   ],
   "source": [
    "info.plot.pie()"
   ]
  },
  {
   "cell_type": "code",
   "execution_count": 22,
   "id": "65f337b7-4a37-4b58-b777-e894a96e302c",
   "metadata": {},
   "outputs": [
    {
     "data": {
      "text/plain": [
       "<Axes: xlabel='None-None', ylabel='relation_parent'>"
      ]
     },
     "execution_count": 22,
     "metadata": {},
     "output_type": "execute_result"
    },
    {
     "data": {
      "image/png": "[encoded data removed]",
      "text/plain": [
       "<Figure size 640x480 with 2 Axes>"
      ]
     },
     "metadata": {},
     "output_type": "display_data"
    }
   ],
   "source": [
    "group_parent = student_dataa.groupby(by = \"relation_parent\")\n",
    "info = group_parent[[\"matric_%\"]].aggregate((\"min\",\"max\",\"mean\"))\n",
    "sns.heatmap(info, annot=True, cmap=\"Dark2\")"
   ]
  },
  {
   "cell_type": "code",
   "execution_count": 32,
   "id": "31a39b98-9971-4e8d-a87e-30d4fdc7c952",
   "metadata": {},
   "outputs": [
    {
     "data": {
      "text/html": [
       "<div>\n",
       "<style scoped>\n",
       "    .dataframe tbody tr th:only-of-type {\n",
       "        vertical-align: middle;\n",
       "    }\n",
       "\n",
       "    .dataframe tbody tr th {\n",
       "        vertical-align: top;\n",
       "    }\n",
       "\n",
       "    .dataframe thead th {\n",
       "        text-align: right;\n",
       "    }\n",
       "</style>\n",
       "<table border=\"1\" class=\"dataframe\">\n",
       "  <thead>\n",
       "    <tr style=\"text-align: right;\">\n",
       "      <th></th>\n",
       "      <th>matric_%</th>\n",
       "      <th>gpa_2023</th>\n",
       "    </tr>\n",
       "  </thead>\n",
       "  <tbody>\n",
       "    <tr>\n",
       "      <th>matric_%</th>\n",
       "      <td>1.000000</td>\n",
       "      <td>0.299104</td>\n",
       "    </tr>\n",
       "    <tr>\n",
       "      <th>gpa_2023</th>\n",
       "      <td>0.299104</td>\n",
       "      <td>1.000000</td>\n",
       "    </tr>\n",
       "  </tbody>\n",
       "</table>\n",
       "</div>"
      ],
      "text/plain": [
       "          matric_%  gpa_2023\n",
       "matric_%  1.000000  0.299104\n",
       "gpa_2023  0.299104  1.000000"
      ]
     },
     "execution_count": 32,
     "metadata": {},
     "output_type": "execute_result"
    }
   ],
   "source": [
    "student_dataa.corr(numeric_only=True)"
   ]
  },
  {
   "cell_type": "code",
   "execution_count": null,
   "id": "d0401e3b-9ec7-4caf-a7d6-d1b812bc4b0c",
   "metadata": {},
   "outputs": [],
   "source": []
  }
 ],
 "metadata": {
  "kernelspec": {
   "display_name": "Python 3 (ipykernel)",
   "language": "python",
   "name": "python3"
  },
  "language_info": {
   "codemirror_mode": {
    "name": "ipython",
    "version": 3
   },
   "file_extension": ".py",
   "mimetype": "text/x-python",
   "name": "python",
   "nbconvert_exporter": "python",
   "pygments_lexer": "ipython3",
   "version": "3.13.5"
  }
 },
 "nbformat": 4,
 "nbformat_minor": 5
}

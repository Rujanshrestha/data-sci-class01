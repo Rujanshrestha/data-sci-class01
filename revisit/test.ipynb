{
 "cells": [
  {
   "cell_type": "markdown",
   "id": "c6eacc3c-71d8-4745-a0c2-32e8b8eb8b2b",
   "metadata": {},
   "source": [
    "qustion 1\n"
   ]
  },
  {
   "cell_type": "code",
   "execution_count": 1,
   "id": "a6714f5c-ed9b-4bb1-8ec1-d73ddc53685a",
   "metadata": {},
   "outputs": [
    {
     "data": {
      "text/plain": [
       "[2, 4, 6]"
      ]
     },
     "execution_count": 1,
     "metadata": {},
     "output_type": "execute_result"
    }
   ],
   "source": [
    "def filter_even_numbers(nums):\n",
    "    return [num for num in nums if num % 2 == 0]\n",
    "\n",
    "filter_even_numbers([1, 2, 3, 4, 5, 6])"
   ]
  },
  {
   "cell_type": "code",
   "execution_count": 2,
   "id": "a83c0b3f-4bf5-4e0e-a673-a5ad1a067147",
   "metadata": {},
   "outputs": [],
   "source": [
    "def count_vowels(sentence):\n",
    "    sentence = sentence.lower()\n",
    "    vowels = ['a', 'e', 'i', 'o', 'u']\n",
    "    vowel_count = {}\n",
    "    for v in vowels:\n",
    "        vowel_count[v] = sentence.count(v)\n",
    "    return vowel_count"
   ]
  },
  {
   "cell_type": "code",
   "execution_count": 3,
   "id": "4b472ff6-186c-41f4-899d-5083c90d6aa9",
   "metadata": {},
   "outputs": [
    {
     "name": "stdout",
     "output_type": "stream",
     "text": [
      "{'a': 3, 'e': 0, 'i': 4, 'o': 0, 'u': 0}\n"
     ]
    }
   ],
   "source": [
    "print(count_vowels(\"Skill Shikshya is amazing\"))"
   ]
  },
  {
   "cell_type": "code",
   "execution_count": 4,
   "id": "861d1172-a1da-4abf-8943-dc47187c7d2f",
   "metadata": {},
   "outputs": [],
   "source": [
    "# qun 3\n",
    "class BankAccount:\n",
    "    def __init__(self):\n",
    "        self.balance = 0 \n",
    "\n",
    "    def deposit(self, amount):\n",
    "        self.balance += amount  \n",
    "\n",
    "    def withdraw(self, amount):\n",
    "        if amount <= self.balance:\n",
    "            self.balance -= amount  \n",
    "        else:\n",
    "            raise ValueError(\"Insufficientt fund !!\")  \n",
    "            "
   ]
  },
  {
   "cell_type": "code",
   "execution_count": 5,
   "id": "eafd3c15-b603-473f-809b-4dbcc16e39a5",
   "metadata": {},
   "outputs": [],
   "source": [
    "account = BankAccount()\n",
    "account.deposit(500)"
   ]
  },
  {
   "cell_type": "code",
   "execution_count": 6,
   "id": "fd7f3bd3-e8a0-468b-82c4-12b96d3b43e2",
   "metadata": {},
   "outputs": [
    {
     "data": {
      "text/plain": [
       "500"
      ]
     },
     "execution_count": 6,
     "metadata": {},
     "output_type": "execute_result"
    }
   ],
   "source": [
    "account.balance\n"
   ]
  },
  {
   "cell_type": "code",
   "execution_count": 7,
   "id": "47c39017-140a-4dc2-a152-fdfa4f0b7fdc",
   "metadata": {},
   "outputs": [
    {
     "name": "stdout",
     "output_type": "stream",
     "text": [
      "You do not have enough balance !\n"
     ]
    }
   ],
   "source": [
    "try:\n",
    "    account.withdraw(800)\n",
    "except ValueError:\n",
    "    print(\"You do not have enough balance !\")"
   ]
  },
  {
   "cell_type": "code",
   "execution_count": null,
   "id": "b1965605-c041-47d2-bb65-5c7998937e82",
   "metadata": {},
   "outputs": [],
   "source": []
  },
  {
   "cell_type": "code",
   "execution_count": 8,
   "id": "e8cec6af-0069-4fef-bf9c-b72e79c5a827",
   "metadata": {},
   "outputs": [],
   "source": [
    "#qun 4\n",
    "def custom_sum(*args, **kwargs):\n",
    "    total = sum(args)  \n",
    "    if 'double' in kwargs:\n",
    "        if kwargs ['double'] == True:\n",
    "            total = total * 2\n",
    "    return total"
   ]
  },
  {
   "cell_type": "code",
   "execution_count": 9,
   "id": "7a2114e5-2960-4646-b69c-93936fe202d1",
   "metadata": {},
   "outputs": [
    {
     "name": "stdout",
     "output_type": "stream",
     "text": [
      "10\n",
      "12\n"
     ]
    }
   ],
   "source": [
    "print(custom_sum(1, 2, 3, 4))           \n",
    "print(custom_sum(1, 2, 3, double=True)) "
   ]
  },
  {
   "cell_type": "code",
   "execution_count": null,
   "id": "7b663eae-5436-4650-9c02-20738c96a847",
   "metadata": {},
   "outputs": [],
   "source": []
  }
 ],
 "metadata": {
  "kernelspec": {
   "display_name": "Python 3 (ipykernel)",
   "language": "python",
   "name": "python3"
  },
  "language_info": {
   "codemirror_mode": {
    "name": "ipython",
    "version": 3
   },
   "file_extension": ".py",
   "mimetype": "text/x-python",
   "name": "python",
   "nbconvert_exporter": "python",
   "pygments_lexer": "ipython3",
   "version": "3.13.5"
  }
 },
 "nbformat": 4,
 "nbformat_minor": 5
}

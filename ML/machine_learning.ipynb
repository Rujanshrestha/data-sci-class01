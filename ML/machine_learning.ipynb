{
 "cells": [
  {
   "cell_type": "markdown",
   "id": "58b54259-576b-48be-9429-53b9eaffe051",
   "metadata": {},
   "source": [
    "# Machine Learning\n",
    "\n",
    "Machine learning is a branch of artificial intelligence (AI) that involves developing algorithms and statistical models that enable computers to automatically learn from data without being explicitly programmed. In machine learning, algorithms use data to identify patterns and make decisions with minimal human intervention. Machine learning is used in a wide range of applications, from self-driving cars and facial recognition technology to medical diagnosis and natural language processing."
   ]
  },
  {
   "cell_type": "markdown",
   "id": "6981dd6d-96a5-4cfd-abd3-b79f232a0650",
   "metadata": {},
   "source": [
    "### Major Approaches of ML\n",
    "\n",
    "1. **Supervised learning:** This approach involves using a labeled dataset to train a model that can predict output values for new input data. It is called \"supervised\" because the training data includes the correct answers, and the goal is for the model to learn how to produce the correct output for new, unseen data."
   ]
  },
  {
   "cell_type": "markdown",
   "id": "75d3355e-24a4-4d48-993c-ba1c859ef858",
   "metadata": {},
   "source": [
    "2. **Unsupervised learning:** This approach involves using an unlabeled dataset to train a model that can identify patterns or structure in the data. There is no \"correct answer\" to learn from, so the model is typically used for tasks like clustering, where similar data points are grouped together."
   ]
  },
  {
   "cell_type": "markdown",
   "id": "50643ac5-5974-42e1-9830-22573fef5b76",
   "metadata": {},
   "source": [
    "3. **Reinforcement learning:** This approach involves training a model to make decisions based on rewards or penalties received in response to its actions. The goal is for the model to learn to take actions that maximize its cumulative reward over time. This approach is often used in areas like game-playing and robotics, where an agent must learn to navigate an environment and make decisions based on feedback."
   ]
  },
  {
   "cell_type": "markdown",
   "id": "32bd40f1-4249-4df9-b0f3-848111ef5e1f",
   "metadata": {},
   "source": [
    "## Terminology\n",
    "\n",
    "1. Dataset\n",
    "2. Training and Testing Set\n",
    "3. Inference\n",
    "4. Peformance Metrics"
   ]
  },
  {
   "cell_type": "markdown",
   "id": "e4d9b51f-ae03-4754-96b2-05a1be786312",
   "metadata": {},
   "source": [
    "## Supervised Learning\n",
    "\n",
    "1. Regression Algo\n",
    "   * Linear Regression\n",
    "   * Neural Regression\n",
    "   * SVM\n",
    "\n",
    "2. Classification Algo\n",
    "    * Logistic Regression\n",
    "    * Naive Bayes\n",
    "    * Decision Trees\n",
    "    * Neural Classification"
   ]
  },
  {
   "cell_type": "code",
   "execution_count": null,
   "id": "8e4213dc-f3cf-48cc-bc5e-dbfc10f8db5a",
   "metadata": {},
   "outputs": [],
   "source": []
  }
 ],
 "metadata": {
  "kernelspec": {
   "display_name": "Python 3 (ipykernel)",
   "language": "python",
   "name": "python3"
  },
  "language_info": {
   "codemirror_mode": {
    "name": "ipython",
    "version": 3
   },
   "file_extension": ".py",
   "mimetype": "text/x-python",
   "name": "python",
   "nbconvert_exporter": "python",
   "pygments_lexer": "ipython3",
   "version": "3.13.5"
  }
 },
 "nbformat": 4,
 "nbformat_minor": 5
}

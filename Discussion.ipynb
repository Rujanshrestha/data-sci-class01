{
 "cells": [
  {
   "cell_type": "code",
   "execution_count": 1,
   "id": "00a313fb-6d5d-47cd-be26-44707edf74a2",
   "metadata": {},
   "outputs": [],
   "source": [
    "def runner():\n",
    "    for i in range(7):\n",
    "        print(i)\n",
    "        return 1\n",
    "    print(\"Else for for\")"
   ]
  },
  {
   "cell_type": "code",
   "execution_count": 2,
   "id": "9b7ff6a6-587f-491c-b623-b85aa495995a",
   "metadata": {},
   "outputs": [
    {
     "name": "stdout",
     "output_type": "stream",
     "text": [
      "0\n"
     ]
    },
    {
     "data": {
      "text/plain": [
       "1"
      ]
     },
     "execution_count": 2,
     "metadata": {},
     "output_type": "execute_result"
    }
   ],
   "source": [
    "runner()"
   ]
  },
  {
   "cell_type": "code",
   "execution_count": 3,
   "id": "0e8e6635-1566-4c5c-9af3-fb3de82b5397",
   "metadata": {},
   "outputs": [
    {
     "name": "stdout",
     "output_type": "stream",
     "text": [
      "Login success\n"
     ]
    }
   ],
   "source": [
    "name = \"python\"\n",
    "\n",
    "if name == \"Java\" or \"HTML\":\n",
    "    print(\"Login success\")\n",
    "else:\n",
    "    print(\"Not valid\")"
   ]
  },
  {
   "cell_type": "code",
   "execution_count": 4,
   "id": "62756a50-595f-4fce-a78e-1cfd7511c239",
   "metadata": {},
   "outputs": [
    {
     "data": {
      "text/plain": [
       "False"
      ]
     },
     "execution_count": 4,
     "metadata": {},
     "output_type": "execute_result"
    }
   ],
   "source": [
    "#for type check another techniq\n",
    "isinstance (1.2,list)"
   ]
  },
  {
   "cell_type": "code",
   "execution_count": 8,
   "id": "2226d301-e30a-4f3c-8a3b-fad8ab9ae546",
   "metadata": {},
   "outputs": [
    {
     "data": {
      "text/plain": [
       "True"
      ]
     },
     "execution_count": 8,
     "metadata": {},
     "output_type": "execute_result"
    }
   ],
   "source": [
    "isinstance(1 , int)"
   ]
  },
  {
   "cell_type": "code",
   "execution_count": null,
   "id": "882c0fdd-6724-458d-bbd3-7639de8da99b",
   "metadata": {},
   "outputs": [],
   "source": []
  }
 ],
 "metadata": {
  "kernelspec": {
   "display_name": "Python 3 (ipykernel)",
   "language": "python",
   "name": "python3"
  },
  "language_info": {
   "codemirror_mode": {
    "name": "ipython",
    "version": 3
   },
   "file_extension": ".py",
   "mimetype": "text/x-python",
   "name": "python",
   "nbconvert_exporter": "python",
   "pygments_lexer": "ipython3",
   "version": "3.13.5"
  }
 },
 "nbformat": 4,
 "nbformat_minor": 5
}

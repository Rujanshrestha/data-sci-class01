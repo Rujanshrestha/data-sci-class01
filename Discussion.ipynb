{
 "cells": [
  {
   "cell_type": "code",
   "execution_count": 1,
   "id": "00a313fb-6d5d-47cd-be26-44707edf74a2",
   "metadata": {},
   "outputs": [],
   "source": [
    "def runner():\n",
    "    for i in range(7):\n",
    "        print(i)\n",
    "        return 1\n",
    "    print(\"Else for for\")"
   ]
  },
  {
   "cell_type": "code",
   "execution_count": 2,
   "id": "9b7ff6a6-587f-491c-b623-b85aa495995a",
   "metadata": {},
   "outputs": [
    {
     "name": "stdout",
     "output_type": "stream",
     "text": [
      "0\n"
     ]
    },
    {
     "data": {
      "text/plain": [
       "1"
      ]
     },
     "execution_count": 2,
     "metadata": {},
     "output_type": "execute_result"
    }
   ],
   "source": [
    "runner()"
   ]
  },
  {
   "cell_type": "code",
   "execution_count": 3,
   "id": "0e8e6635-1566-4c5c-9af3-fb3de82b5397",
   "metadata": {},
   "outputs": [
    {
     "name": "stdout",
     "output_type": "stream",
     "text": [
      "Login success\n"
     ]
    }
   ],
   "source": [
    "name = \"python\"\n",
    "\n",
    "if name == \"Java\" or \"HTML\":\n",
    "    print(\"Login success\")\n",
    "else:\n",
    "    print(\"Not valid\")"
   ]
  },
  {
   "cell_type": "code",
   "execution_count": 4,
   "id": "62756a50-595f-4fce-a78e-1cfd7511c239",
   "metadata": {},
   "outputs": [
    {
     "data": {
      "text/plain": [
       "False"
      ]
     },
     "execution_count": 4,
     "metadata": {},
     "output_type": "execute_result"
    }
   ],
   "source": [
    "#for type check another techniq\n",
    "isinstance (1.2,list)"
   ]
  },
  {
   "cell_type": "code",
   "execution_count": 8,
   "id": "2226d301-e30a-4f3c-8a3b-fad8ab9ae546",
   "metadata": {},
   "outputs": [
    {
     "data": {
      "text/plain": [
       "True"
      ]
     },
     "execution_count": 8,
     "metadata": {},
     "output_type": "execute_result"
    }
   ],
   "source": [
    "isinstance(1 , int)"
   ]
  },
  {
   "cell_type": "code",
   "execution_count": 29,
   "id": "882c0fdd-6724-458d-bbd3-7639de8da99b",
   "metadata": {},
   "outputs": [
    {
     "name": "stdin",
     "output_type": "stream",
     "text": [
      "Enter test time in seconds:  9\n"
     ]
    },
    {
     "name": "stdout",
     "output_type": "stream",
     "text": [
      "\n",
      "Time bomb activated for 9 seconds...\n",
      "\n",
      "Time: 1 seconds remmaining\n",
      "Alla-Ho-Akhbarr.\n"
     ]
    }
   ],
   "source": [
    "import time\n",
    "\n",
    "class InvalidTimeError(Exception):\n",
    "    pass\n",
    "\n",
    "duration = input(\"Enter test time in seconds: \")\n",
    "\n",
    "if int(duration) <= 0:\n",
    "    raise InvalidTimeError(\"Please enter a positive number only.\")\n",
    "\n",
    "duration = int(duration)\n",
    "\n",
    "print(f\"\\nTime bomb activated for {duration} seconds...\\n\")\n",
    "\n",
    "for timmer in range(duration, 0, -1):\n",
    "    print(f\"Time: {timmer} seconds remmaining\", end =\"\\r\" )\n",
    "    time.sleep(1)\n",
    "\n",
    "print(\"\\nAlla-Ho-Akhbarr.\")\n",
    "\n",
    "#(\\r is to display the execution in a line \n",
    "#it prints the line and clear it up moves the current result front and prints new number according to the functions)\n"
   ]
  },
  {
   "cell_type": "code",
   "execution_count": null,
   "id": "88160cb5-9f81-4ff3-a435-d5898e4d042b",
   "metadata": {},
   "outputs": [],
   "source": []
  }
 ],
 "metadata": {
  "kernelspec": {
   "display_name": "Python 3 (ipykernel)",
   "language": "python",
   "name": "python3"
  },
  "language_info": {
   "codemirror_mode": {
    "name": "ipython",
    "version": 3
   },
   "file_extension": ".py",
   "mimetype": "text/x-python",
   "name": "python",
   "nbconvert_exporter": "python",
   "pygments_lexer": "ipython3",
   "version": "3.13.5"
  }
 },
 "nbformat": 4,
 "nbformat_minor": 5
}

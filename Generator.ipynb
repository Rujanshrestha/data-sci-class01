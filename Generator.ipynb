{
 "cells": [
  {
   "cell_type": "markdown",
   "id": "a32d8427-5354-4af0-9923-0ff76a3591d0",
   "metadata": {},
   "source": [
    "# Python Generators\n",
    "\n",
    "A generator in Python is a type of iterator that generates values on-the-fly as they are requested. This means that generators are a more memory-efficient way of generating large sequences of values, as they only generate the values as they are needed, rather than generating them all at once and storing them in memory.\n",
    "\n",
    "Here's a step-by-step tutorial on how to create and use generators in Python:"
   ]
  },
  {
   "cell_type": "markdown",
   "id": "419e9837-e4d0-4a73-835a-4ef8b2c1d4c0",
   "metadata": {},
   "source": [
    "### Step 1: Define a generator function using the `yield` keyword\n",
    "\n",
    "A generator function is a special type of function that uses the `yield` keyword to generate values. The `yield` keyword suspends the function's execution and returns a value to the caller, but it also remembers the function's state so that it can resume execution where it left off the next time it is called.\n",
    "\n",
    "For example, here's a simple generator function that generates a sequence of numbers:"
   ]
  },
  {
   "cell_type": "code",
   "execution_count": 1,
   "id": "0283723e-6a61-43c4-b9ba-e5529add751d",
   "metadata": {},
   "outputs": [],
   "source": [
    "def number_generator(start, end):\n",
    "    for num in range(start, end +1):\n",
    "        yield num"
   ]
  },
  {
   "cell_type": "markdown",
   "id": "3af4e2d5-357a-48a9-9627-a9ff0810e023",
   "metadata": {},
   "source": [
    "### Step 2: Create a generator object using the generator function\n",
    "\n",
    "To create a generator object, we simply call the generator function. This returns a generator object, which we can use to generate the values on-the-fly."
   ]
  },
  {
   "cell_type": "code",
   "execution_count": 2,
   "id": "e1f740b7-89e9-4f5d-b0cb-40468cc9fc88",
   "metadata": {},
   "outputs": [],
   "source": [
    "gen =  number_generator(10 , 23)"
   ]
  },
  {
   "cell_type": "code",
   "execution_count": 3,
   "id": "df923a56-88a6-46b2-9ab6-4f194aa94aad",
   "metadata": {},
   "outputs": [
    {
     "data": {
      "text/plain": [
       "<generator object number_generator at 0x0000019456BFCE40>"
      ]
     },
     "execution_count": 3,
     "metadata": {},
     "output_type": "execute_result"
    }
   ],
   "source": [
    "gen"
   ]
  },
  {
   "cell_type": "markdown",
   "id": "4c83e9ca-b439-436d-8565-1ae1b5f50931",
   "metadata": {},
   "source": [
    "### Step 3: Use the generator object to generate the values on-the-fly\n",
    "\n",
    "We can use the `next()` function to generate the next value in the sequence on-the-fly. Each time we call `next()` on the generator object, the generator function resumes execution where it left off and generates the next value in the sequence."
   ]
  },
  {
   "cell_type": "code",
   "execution_count": 4,
   "id": "652fa5f1-162b-4749-8e1e-a40b0ac1925d",
   "metadata": {},
   "outputs": [
    {
     "data": {
      "text/plain": [
       "10"
      ]
     },
     "execution_count": 4,
     "metadata": {},
     "output_type": "execute_result"
    }
   ],
   "source": [
    "next(gen)"
   ]
  },
  {
   "cell_type": "code",
   "execution_count": 5,
   "id": "1e6e5187-43c6-4357-af1a-35fbc1d3601c",
   "metadata": {},
   "outputs": [
    {
     "data": {
      "text/plain": [
       "11"
      ]
     },
     "execution_count": 5,
     "metadata": {},
     "output_type": "execute_result"
    }
   ],
   "source": [
    "next(gen)"
   ]
  },
  {
   "cell_type": "code",
   "execution_count": 6,
   "id": "5b4732f0-9c88-4481-88c0-44c2ffd02785",
   "metadata": {},
   "outputs": [
    {
     "name": "stdout",
     "output_type": "stream",
     "text": [
      "1\n",
      "2\n",
      "3\n",
      "4\n",
      "5\n",
      "6\n"
     ]
    }
   ],
   "source": [
    "my_gen = number_generator(1,6)\n",
    "\n",
    "for num in my_gen:\n",
    "    print(num)"
   ]
  },
  {
   "cell_type": "markdown",
   "id": "6e0fa7c2-c14c-4d9d-b78e-ab4a87f4cef5",
   "metadata": {},
   "source": [
    "# Generator,Alternative"
   ]
  },
  {
   "cell_type": "code",
   "execution_count": 7,
   "id": "30e2b159-df2c-48af-a57c-64336bf5a2dc",
   "metadata": {},
   "outputs": [],
   "source": [
    "gen = (i for i in range (1,5))"
   ]
  },
  {
   "cell_type": "code",
   "execution_count": 8,
   "id": "8d2246d0-37cd-4860-8de9-24b7e2067e80",
   "metadata": {},
   "outputs": [
    {
     "data": {
      "text/plain": [
       "<generator object <genexpr> at 0x00000194569CBC40>"
      ]
     },
     "execution_count": 8,
     "metadata": {},
     "output_type": "execute_result"
    }
   ],
   "source": [
    "gen"
   ]
  },
  {
   "cell_type": "code",
   "execution_count": 9,
   "id": "af4dfe35-af4e-4c70-8669-1481e47e6ec4",
   "metadata": {},
   "outputs": [
    {
     "data": {
      "text/plain": [
       "'199 is prime'"
      ]
     },
     "execution_count": 9,
     "metadata": {},
     "output_type": "execute_result"
    }
   ],
   "source": [
    "## given number is prime or not \n",
    "def id_prime(n):\n",
    "    if n <= 1:\n",
    "        return f\"{n} is not prime\"\n",
    "    for i in range(2, n):\n",
    "        if n % i == 0:\n",
    "            return f\"{n} is not prime\"\n",
    "    return f\"{n} is prime\"\n",
    "\n",
    "id_prime(199)\n"
   ]
  },
  {
   "cell_type": "code",
   "execution_count": 10,
   "id": "e6506250-cc68-411e-962d-a3a5d79a2f15",
   "metadata": {},
   "outputs": [],
   "source": [
    "## Given number is prime or not\n",
    "# https://www.geeksforgeeks.org/dsa/why-do-we-check-up-to-the-square-root-of-a-number-to-determine-if-that-number-is-prime/\n",
    "def is_prime(num):\n",
    "    if num <= 1:\n",
    "        return False\n",
    "    for i in range(2, int(num**0.5) +1):\n",
    "        if num % i == 0:\n",
    "            return False\n",
    "    return True\n",
    "\n",
    "def prime_generator():\n",
    "    n = 1\n",
    "    while True:\n",
    "        if is_prime(n):\n",
    "            yield n\n",
    "        n += 1"
   ]
  },
  {
   "cell_type": "code",
   "execution_count": 11,
   "id": "03c57c92-a8f0-4e1b-9e12-aa73b2b38093",
   "metadata": {},
   "outputs": [],
   "source": [
    "prime_gen = prime_generator()"
   ]
  },
  {
   "cell_type": "code",
   "execution_count": 14,
   "id": "19aff3c0-e135-4342-ba84-802404f22d6d",
   "metadata": {},
   "outputs": [
    {
     "name": "stdout",
     "output_type": "stream",
     "text": [
      "107\n"
     ]
    }
   ],
   "source": [
    "for prime in prime_gen:\n",
    "    print(prime)\n",
    "    if prime > 100:\n",
    "        break"
   ]
  },
  {
   "cell_type": "code",
   "execution_count": null,
   "id": "84cdf912-e761-458a-949e-d165ac1d50c6",
   "metadata": {},
   "outputs": [],
   "source": []
  }
 ],
 "metadata": {
  "kernelspec": {
   "display_name": "Python 3 (ipykernel)",
   "language": "python",
   "name": "python3"
  },
  "language_info": {
   "codemirror_mode": {
    "name": "ipython",
    "version": 3
   },
   "file_extension": ".py",
   "mimetype": "text/x-python",
   "name": "python",
   "nbconvert_exporter": "python",
   "pygments_lexer": "ipython3",
   "version": "3.13.5"
  }
 },
 "nbformat": 4,
 "nbformat_minor": 5
}

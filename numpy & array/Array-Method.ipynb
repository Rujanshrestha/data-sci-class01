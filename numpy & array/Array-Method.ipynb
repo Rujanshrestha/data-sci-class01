{
 "cells": [
  {
   "cell_type": "code",
   "execution_count": 2,
   "id": "a9d366d7-97f4-4d6d-8e92-039a9105cf6a",
   "metadata": {},
   "outputs": [],
   "source": [
    "import numpy as np"
   ]
  },
  {
   "cell_type": "code",
   "execution_count": 3,
   "id": "c52e9704-e055-4314-b634-db996475ee18",
   "metadata": {},
   "outputs": [],
   "source": [
    "a = np.random.randint(10,50, size = (5, 2, 3), dtype = \"int8\")"
   ]
  },
  {
   "cell_type": "code",
   "execution_count": 4,
   "id": "f2dbf200-f315-4970-a4b1-ee452810c7a9",
   "metadata": {},
   "outputs": [
    {
     "data": {
      "text/plain": [
       "(5, 2, 3)"
      ]
     },
     "execution_count": 4,
     "metadata": {},
     "output_type": "execute_result"
    }
   ],
   "source": [
    "a.shape"
   ]
  },
  {
   "cell_type": "code",
   "execution_count": 5,
   "id": "e211acf5-3c9e-4ea4-a250-72a00c1870cf",
   "metadata": {},
   "outputs": [
    {
     "data": {
      "text/plain": [
       "3"
      ]
     },
     "execution_count": 5,
     "metadata": {},
     "output_type": "execute_result"
    }
   ],
   "source": [
    "a.ndim"
   ]
  },
  {
   "cell_type": "code",
   "execution_count": 6,
   "id": "d4678f4b-200c-4744-abc8-cf7b1c5b15df",
   "metadata": {},
   "outputs": [
    {
     "data": {
      "text/plain": [
       "dtype('int8')"
      ]
     },
     "execution_count": 6,
     "metadata": {},
     "output_type": "execute_result"
    }
   ],
   "source": [
    "a.dtype"
   ]
  },
  {
   "cell_type": "code",
   "execution_count": 7,
   "id": "b360f473-0d65-4488-ae04-e69829fa8a5f",
   "metadata": {},
   "outputs": [
    {
     "data": {
      "text/plain": [
       "30"
      ]
     },
     "execution_count": 7,
     "metadata": {},
     "output_type": "execute_result"
    }
   ],
   "source": [
    "a.size #number of element"
   ]
  },
  {
   "cell_type": "code",
   "execution_count": 8,
   "id": "0919ddf4-0538-437b-8ec5-dfadcfb65b39",
   "metadata": {},
   "outputs": [
    {
     "data": {
      "text/plain": [
       "array([[[17, 45, 31, 28, 33],\n",
       "        [32, 38, 25, 35, 49]],\n",
       "\n",
       "       [[11, 23, 34, 15, 29],\n",
       "        [48, 19, 26, 31, 25]],\n",
       "\n",
       "       [[17, 36, 16, 13, 32],\n",
       "        [22, 27, 39, 10, 35]]], dtype=int8)"
      ]
     },
     "execution_count": 8,
     "metadata": {},
     "output_type": "execute_result"
    }
   ],
   "source": [
    "a.T"
   ]
  },
  {
   "cell_type": "code",
   "execution_count": 9,
   "id": "51aaadce-c3ee-4c0e-b9f1-7370c438e64b",
   "metadata": {},
   "outputs": [
    {
     "data": {
      "text/plain": [
       "(5, 2, 3)"
      ]
     },
     "execution_count": 9,
     "metadata": {},
     "output_type": "execute_result"
    }
   ],
   "source": [
    "a.shape"
   ]
  },
  {
   "cell_type": "code",
   "execution_count": 10,
   "id": "f3773b20-6e6d-4481-abb1-4a95513a1d1b",
   "metadata": {},
   "outputs": [
    {
     "data": {
      "text/plain": [
       "array([[[17, 11, 17, 32, 48],\n",
       "        [22, 45, 23, 36, 38],\n",
       "        [19, 27, 31, 34, 16]],\n",
       "\n",
       "       [[25, 26, 39, 28, 15],\n",
       "        [13, 35, 31, 10, 33],\n",
       "        [29, 32, 49, 25, 35]]], dtype=int8)"
      ]
     },
     "execution_count": 10,
     "metadata": {},
     "output_type": "execute_result"
    }
   ],
   "source": [
    "a.reshape(2,3,5)"
   ]
  },
  {
   "cell_type": "code",
   "execution_count": 11,
   "id": "ec437553-02a9-41d2-b635-fca81ff457b9",
   "metadata": {},
   "outputs": [
    {
     "data": {
      "text/plain": [
       "array([[[17, 11, 17, 32, 48],\n",
       "        [22, 45, 23, 36, 38],\n",
       "        [19, 27, 31, 34, 16]],\n",
       "\n",
       "       [[25, 26, 39, 28, 15],\n",
       "        [13, 35, 31, 10, 33],\n",
       "        [29, 32, 49, 25, 35]]], dtype=int8)"
      ]
     },
     "execution_count": 11,
     "metadata": {},
     "output_type": "execute_result"
    }
   ],
   "source": [
    "a.reshape(-1,3,5)"
   ]
  },
  {
   "cell_type": "code",
   "execution_count": 12,
   "id": "f65bd8e8-85ed-451e-902e-bdbe75f1ab7d",
   "metadata": {},
   "outputs": [
    {
     "data": {
      "text/plain": [
       "array([17, 11, 17, 32, 48, 22, 45, 23, 36, 38, 19, 27, 31, 34, 16, 25, 26,\n",
       "       39, 28, 15, 13, 35, 31, 10, 33, 29, 32, 49, 25, 35], dtype=int8)"
      ]
     },
     "execution_count": 12,
     "metadata": {},
     "output_type": "execute_result"
    }
   ],
   "source": [
    "a.ravel()"
   ]
  },
  {
   "cell_type": "code",
   "execution_count": 13,
   "id": "06ab7cc8-3a4d-46fd-bf68-3bfcd8497ae5",
   "metadata": {},
   "outputs": [
    {
     "data": {
      "text/plain": [
       "array([17, 11, 17, 32, 48, 22, 45, 23, 36, 38, 19, 27, 31, 34, 16, 25, 26,\n",
       "       39, 28, 15, 13, 35, 31, 10, 33, 29, 32, 49, 25, 35], dtype=int8)"
      ]
     },
     "execution_count": 13,
     "metadata": {},
     "output_type": "execute_result"
    }
   ],
   "source": [
    "a.flatten()"
   ]
  },
  {
   "cell_type": "code",
   "execution_count": 14,
   "id": "0bc49385-ca57-48b4-9096-c5aadec024ac",
   "metadata": {},
   "outputs": [
    {
     "data": {
      "text/plain": [
       "(array([[5, 3, 3],\n",
       "        [4, 6, 3]], dtype=int32),\n",
       " array([[7, 5, 7],\n",
       "        [3, 9, 5]], dtype=int32))"
      ]
     },
     "execution_count": 14,
     "metadata": {},
     "output_type": "execute_result"
    }
   ],
   "source": [
    "b = np.random.randint(1,10, (2,3))\n",
    "c = np.random.randint(1,10, (2,3))\n",
    "b, c"
   ]
  },
  {
   "cell_type": "code",
   "execution_count": 15,
   "id": "d7ca277b-a1a2-4fc9-9a1b-6e8bb6a06f52",
   "metadata": {},
   "outputs": [],
   "source": [
    "c1 = np.concatenate([b,c],axis=1)"
   ]
  },
  {
   "cell_type": "code",
   "execution_count": 16,
   "id": "86dda4d6-a119-47d6-b767-4860d1f268a3",
   "metadata": {},
   "outputs": [
    {
     "data": {
      "text/plain": [
       "array([[5, 3, 3, 7, 5, 7],\n",
       "       [4, 6, 3, 3, 9, 5]], dtype=int32)"
      ]
     },
     "execution_count": 16,
     "metadata": {},
     "output_type": "execute_result"
    }
   ],
   "source": [
    "c1\n"
   ]
  },
  {
   "cell_type": "markdown",
   "id": "59c1f162-5eba-4f34-ab4c-d0714a15401c",
   "metadata": {},
   "source": [
    "## 0 > column wise > vstack\n",
    "\n",
    "## 1> row wise > hstack"
   ]
  },
  {
   "cell_type": "code",
   "execution_count": 17,
   "id": "429437a7-473f-4104-aa2e-e202058d4049",
   "metadata": {},
   "outputs": [
    {
     "data": {
      "text/plain": [
       "array([[5, 3, 3],\n",
       "       [4, 6, 3],\n",
       "       [7, 5, 7],\n",
       "       [3, 9, 5]], dtype=int32)"
      ]
     },
     "execution_count": 17,
     "metadata": {},
     "output_type": "execute_result"
    }
   ],
   "source": [
    "d = np.concatenate([b,c],axis=0)\n",
    "d"
   ]
  },
  {
   "cell_type": "code",
   "execution_count": 18,
   "id": "06d55fc3-3d66-4c7e-adea-557495d6f6ac",
   "metadata": {},
   "outputs": [
    {
     "data": {
      "text/plain": [
       "array([[5, 3, 3],\n",
       "       [4, 6, 3],\n",
       "       [7, 5, 7],\n",
       "       [3, 9, 5]], dtype=int32)"
      ]
     },
     "execution_count": 18,
     "metadata": {},
     "output_type": "execute_result"
    }
   ],
   "source": [
    "np.vstack((b,c))"
   ]
  },
  {
   "cell_type": "code",
   "execution_count": 19,
   "id": "2f7402c5-0a2b-4d4a-bdf7-f418ce463e51",
   "metadata": {},
   "outputs": [
    {
     "data": {
      "text/plain": [
       "array([[5, 3, 3, 7, 5, 7],\n",
       "       [4, 6, 3, 3, 9, 5]], dtype=int32)"
      ]
     },
     "execution_count": 19,
     "metadata": {},
     "output_type": "execute_result"
    }
   ],
   "source": [
    "np.hstack((b,c))"
   ]
  },
  {
   "cell_type": "code",
   "execution_count": 20,
   "id": "5c093304-3089-48d2-a70e-53836092caa3",
   "metadata": {},
   "outputs": [
    {
     "data": {
      "text/plain": [
       "array([[7, 8, 1, 3, 9, 2],\n",
       "       [2, 3, 1, 9, 2, 5],\n",
       "       [3, 5, 1, 9, 1, 1],\n",
       "       [3, 4, 3, 5, 9, 5]], dtype=int32)"
      ]
     },
     "execution_count": 20,
     "metadata": {},
     "output_type": "execute_result"
    }
   ],
   "source": [
    "z = np.random.randint(1,10 ,(4,6))\n",
    "z"
   ]
  },
  {
   "cell_type": "code",
   "execution_count": 21,
   "id": "ca867cd7-3f09-4c12-be9d-8b6615de5263",
   "metadata": {},
   "outputs": [
    {
     "data": {
      "text/plain": [
       "array([15, 20,  6, 26, 21, 13])"
      ]
     },
     "execution_count": 21,
     "metadata": {},
     "output_type": "execute_result"
    }
   ],
   "source": [
    "z.sum(axis = 0)"
   ]
  },
  {
   "cell_type": "code",
   "execution_count": 23,
   "id": "f24b3bb8-b4b6-49b9-b184-8d78f837866a",
   "metadata": {},
   "outputs": [
    {
     "data": {
      "text/plain": [
       "array([30, 22, 20, 29])"
      ]
     },
     "execution_count": 23,
     "metadata": {},
     "output_type": "execute_result"
    }
   ],
   "source": [
    "z.sum(axis= 1)"
   ]
  },
  {
   "cell_type": "code",
   "execution_count": 24,
   "id": "6466f1f5-8511-4274-b7b9-fcf9a44b7398",
   "metadata": {},
   "outputs": [
    {
     "data": {
      "text/plain": [
       "array([ 126,  480,    3, 1215,  162,   50])"
      ]
     },
     "execution_count": 24,
     "metadata": {},
     "output_type": "execute_result"
    }
   ],
   "source": [
    "z.prod(axis = 0)"
   ]
  },
  {
   "cell_type": "code",
   "execution_count": 25,
   "id": "c0624233-719b-4516-ac02-4f339bbdf748",
   "metadata": {},
   "outputs": [],
   "source": [
    "## axis = 0 column wish\n",
    "## axis = 1 row wish"
   ]
  },
  {
   "cell_type": "code",
   "execution_count": 26,
   "id": "673cca04-5e46-4cde-b234-479cfae1f47b",
   "metadata": {},
   "outputs": [
    {
     "data": {
      "text/plain": [
       "array([3024,  540,  135, 8100])"
      ]
     },
     "execution_count": 26,
     "metadata": {},
     "output_type": "execute_result"
    }
   ],
   "source": [
    "z.prod(axis = 1)"
   ]
  },
  {
   "cell_type": "code",
   "execution_count": 27,
   "id": "a1cc1b56-40ac-40dc-82dd-9847ae371f4b",
   "metadata": {},
   "outputs": [
    {
     "data": {
      "text/plain": [
       "array([  7,  15,  16,  19,  28,  30,  32,  35,  36,  45,  47,  52,  55,\n",
       "        60,  61,  70,  71,  72,  75,  79,  82,  87,  96, 101])"
      ]
     },
     "execution_count": 27,
     "metadata": {},
     "output_type": "execute_result"
    }
   ],
   "source": [
    "z.cumsum()"
   ]
  },
  {
   "cell_type": "code",
   "execution_count": 28,
   "id": "fad8dac3-71af-4ea0-a4de-9ce5d3747935",
   "metadata": {},
   "outputs": [
    {
     "data": {
      "text/plain": [
       "array([[ 7,  8,  1,  3,  9,  2],\n",
       "       [ 9, 11,  2, 12, 11,  7],\n",
       "       [12, 16,  3, 21, 12,  8],\n",
       "       [15, 20,  6, 26, 21, 13]])"
      ]
     },
     "execution_count": 28,
     "metadata": {},
     "output_type": "execute_result"
    }
   ],
   "source": [
    "z.cumsum(axis = 0)"
   ]
  },
  {
   "cell_type": "code",
   "execution_count": 29,
   "id": "7a1667df-0a17-49b3-bc50-1bc34186ddb1",
   "metadata": {},
   "outputs": [
    {
     "data": {
      "text/plain": [
       "np.int32(1)"
      ]
     },
     "execution_count": 29,
     "metadata": {},
     "output_type": "execute_result"
    }
   ],
   "source": [
    "z.min()"
   ]
  },
  {
   "cell_type": "code",
   "execution_count": 32,
   "id": "a50328eb-155b-4e77-9c8e-b5a4c4bfe64c",
   "metadata": {},
   "outputs": [
    {
     "data": {
      "text/plain": [
       "array([1, 1, 1, 3], dtype=int32)"
      ]
     },
     "execution_count": 32,
     "metadata": {},
     "output_type": "execute_result"
    }
   ],
   "source": [
    "z.min(axis = 1)"
   ]
  },
  {
   "cell_type": "code",
   "execution_count": 34,
   "id": "a5c1e89b-22af-432d-8c72-b1d5cfe9e16c",
   "metadata": {},
   "outputs": [
    {
     "data": {
      "text/plain": [
       "array([7, 8, 3, 9, 9, 5], dtype=int32)"
      ]
     },
     "execution_count": 34,
     "metadata": {},
     "output_type": "execute_result"
    }
   ],
   "source": [
    "z.max(axis = 0)"
   ]
  },
  {
   "cell_type": "code",
   "execution_count": 37,
   "id": "9ba00c50-7cea-413f-9f3a-e85a14702f6b",
   "metadata": {},
   "outputs": [
    {
     "data": {
      "text/plain": [
       "np.int64(4)"
      ]
     },
     "execution_count": 37,
     "metadata": {},
     "output_type": "execute_result"
    }
   ],
   "source": [
    "z.argmax()"
   ]
  },
  {
   "cell_type": "code",
   "execution_count": 38,
   "id": "22add786-0abf-488a-a390-e220580955c2",
   "metadata": {},
   "outputs": [
    {
     "data": {
      "text/plain": [
       "np.int32(9)"
      ]
     },
     "execution_count": 38,
     "metadata": {},
     "output_type": "execute_result"
    }
   ],
   "source": [
    "z.max()\n"
   ]
  },
  {
   "cell_type": "code",
   "execution_count": 40,
   "id": "3739f754-bdc6-4e22-8709-fee7fb0ab96e",
   "metadata": {},
   "outputs": [
    {
     "data": {
      "text/plain": [
       "array([0, 0, 3, 1, 0, 1])"
      ]
     },
     "execution_count": 40,
     "metadata": {},
     "output_type": "execute_result"
    }
   ],
   "source": [
    "z.argmax(axis = 0)"
   ]
  },
  {
   "cell_type": "code",
   "execution_count": 42,
   "id": "a60b526d-f0ba-4c38-847e-493c6f30c5c4",
   "metadata": {},
   "outputs": [
    {
     "data": {
      "text/plain": [
       "array([[7, 8, 5, 5, 9, 5],\n",
       "       [5, 5, 5, 9, 5, 5],\n",
       "       [5, 5, 5, 9, 5, 5],\n",
       "       [5, 5, 5, 5, 9, 5]], dtype=int32)"
      ]
     },
     "execution_count": 42,
     "metadata": {},
     "output_type": "execute_result"
    }
   ],
   "source": [
    "z.clip(5,10)"
   ]
  },
  {
   "cell_type": "code",
   "execution_count": null,
   "id": "2763f579-a66f-43b0-9d00-d6404a533206",
   "metadata": {},
   "outputs": [],
   "source": []
  }
 ],
 "metadata": {
  "kernelspec": {
   "display_name": "Python 3 (ipykernel)",
   "language": "python",
   "name": "python3"
  },
  "language_info": {
   "codemirror_mode": {
    "name": "ipython",
    "version": 3
   },
   "file_extension": ".py",
   "mimetype": "text/x-python",
   "name": "python",
   "nbconvert_exporter": "python",
   "pygments_lexer": "ipython3",
   "version": "3.13.5"
  }
 },
 "nbformat": 4,
 "nbformat_minor": 5
}

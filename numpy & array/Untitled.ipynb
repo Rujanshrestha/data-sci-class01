{
 "cells": [
  {
   "cell_type": "markdown",
   "id": "06f3710a-a6ac-42c3-b4da-212e2fa28deb",
   "metadata": {},
   "source": [
    "# why Numpy over Python For Loop"
   ]
  },
  {
   "cell_type": "code",
   "execution_count": 7,
   "id": "d20f2b0b-4af4-4cd9-96b1-5cb1c6e1729c",
   "metadata": {},
   "outputs": [],
   "source": [
    "import numpy as np"
   ]
  },
  {
   "cell_type": "code",
   "execution_count": 8,
   "id": "50e1c9ac-2f04-4756-afaf-b74dbc9f4ebd",
   "metadata": {},
   "outputs": [],
   "source": [
    "import time"
   ]
  },
  {
   "cell_type": "code",
   "execution_count": 9,
   "id": "0518d579-6ce6-42c0-8306-96ad368cb7a0",
   "metadata": {},
   "outputs": [],
   "source": [
    "a =  np.random.rand(90_000_000)\n",
    "b =  np.random.rand(90_000_000)"
   ]
  },
  {
   "cell_type": "code",
   "execution_count": 10,
   "id": "c73b17bd-5f31-4df5-8c4f-ddf6d85676a6",
   "metadata": {},
   "outputs": [
    {
     "data": {
      "text/plain": [
       "int"
      ]
     },
     "execution_count": 10,
     "metadata": {},
     "output_type": "execute_result"
    }
   ],
   "source": [
    "type(90_000_000)"
   ]
  },
  {
   "cell_type": "code",
   "execution_count": 11,
   "id": "70de6d09-3f63-479b-a334-bde7145573b5",
   "metadata": {},
   "outputs": [],
   "source": [
    "# numpy operation\n",
    "\n",
    "st = time.time()\n",
    "res =  a * b\n",
    "end = time.time()"
   ]
  },
  {
   "cell_type": "code",
   "execution_count": 14,
   "id": "0e591d42-1730-4731-a9a0-0279ea322ddb",
   "metadata": {},
   "outputs": [
    {
     "name": "stdout",
     "output_type": "stream",
     "text": [
      "time taken -1.129788875579834\n"
     ]
    }
   ],
   "source": [
    "print(f\"time taken {st - end}\")"
   ]
  },
  {
   "cell_type": "code",
   "execution_count": null,
   "id": "7fc54d84-4458-4f11-9665-f41850824c57",
   "metadata": {},
   "outputs": [],
   "source": []
  }
 ],
 "metadata": {
  "kernelspec": {
   "display_name": "Python 3 (ipykernel)",
   "language": "python",
   "name": "python3"
  },
  "language_info": {
   "codemirror_mode": {
    "name": "ipython",
    "version": 3
   },
   "file_extension": ".py",
   "mimetype": "text/x-python",
   "name": "python",
   "nbconvert_exporter": "python",
   "pygments_lexer": "ipython3",
   "version": "3.13.5"
  }
 },
 "nbformat": 4,
 "nbformat_minor": 5
}

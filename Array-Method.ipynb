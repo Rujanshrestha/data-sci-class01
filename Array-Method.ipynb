{
 "cells": [
  {
   "cell_type": "code",
   "execution_count": 1,
   "id": "a9d366d7-97f4-4d6d-8e92-039a9105cf6a",
   "metadata": {},
   "outputs": [],
   "source": [
    "import numpy as np"
   ]
  },
  {
   "cell_type": "code",
   "execution_count": 2,
   "id": "c52e9704-e055-4314-b634-db996475ee18",
   "metadata": {},
   "outputs": [],
   "source": [
    "a = np.random.randint(10,50, size = (5, 2, 3), dtype = \"int8\")"
   ]
  },
  {
   "cell_type": "code",
   "execution_count": 3,
   "id": "f2dbf200-f315-4970-a4b1-ee452810c7a9",
   "metadata": {},
   "outputs": [
    {
     "data": {
      "text/plain": [
       "(5, 2, 3)"
      ]
     },
     "execution_count": 3,
     "metadata": {},
     "output_type": "execute_result"
    }
   ],
   "source": [
    "a.shape"
   ]
  },
  {
   "cell_type": "code",
   "execution_count": 4,
   "id": "e211acf5-3c9e-4ea4-a250-72a00c1870cf",
   "metadata": {},
   "outputs": [
    {
     "data": {
      "text/plain": [
       "3"
      ]
     },
     "execution_count": 4,
     "metadata": {},
     "output_type": "execute_result"
    }
   ],
   "source": [
    "a.ndim"
   ]
  },
  {
   "cell_type": "code",
   "execution_count": 5,
   "id": "d4678f4b-200c-4744-abc8-cf7b1c5b15df",
   "metadata": {},
   "outputs": [
    {
     "data": {
      "text/plain": [
       "dtype('int8')"
      ]
     },
     "execution_count": 5,
     "metadata": {},
     "output_type": "execute_result"
    }
   ],
   "source": [
    "a.dtype"
   ]
  },
  {
   "cell_type": "code",
   "execution_count": 6,
   "id": "b360f473-0d65-4488-ae04-e69829fa8a5f",
   "metadata": {},
   "outputs": [
    {
     "data": {
      "text/plain": [
       "30"
      ]
     },
     "execution_count": 6,
     "metadata": {},
     "output_type": "execute_result"
    }
   ],
   "source": [
    "a.size #number of element"
   ]
  },
  {
   "cell_type": "code",
   "execution_count": 7,
   "id": "0919ddf4-0538-437b-8ec5-dfadcfb65b39",
   "metadata": {},
   "outputs": [
    {
     "data": {
      "text/plain": [
       "array([[[16, 15, 45, 47, 33],\n",
       "        [19, 23, 44, 43, 17]],\n",
       "\n",
       "       [[44, 44, 38, 49, 27],\n",
       "        [32, 18, 21, 46, 40]],\n",
       "\n",
       "       [[48, 26, 48, 31, 21],\n",
       "        [33, 37, 25, 23, 31]]], dtype=int8)"
      ]
     },
     "execution_count": 7,
     "metadata": {},
     "output_type": "execute_result"
    }
   ],
   "source": [
    "a.T"
   ]
  },
  {
   "cell_type": "code",
   "execution_count": 8,
   "id": "51aaadce-c3ee-4c0e-b9f1-7370c438e64b",
   "metadata": {},
   "outputs": [
    {
     "data": {
      "text/plain": [
       "(5, 2, 3)"
      ]
     },
     "execution_count": 8,
     "metadata": {},
     "output_type": "execute_result"
    }
   ],
   "source": [
    "a.shape"
   ]
  },
  {
   "cell_type": "code",
   "execution_count": 9,
   "id": "f3773b20-6e6d-4481-abb1-4a95513a1d1b",
   "metadata": {},
   "outputs": [
    {
     "data": {
      "text/plain": [
       "array([[[16, 44, 48, 19, 32],\n",
       "        [33, 15, 44, 26, 23],\n",
       "        [18, 37, 45, 38, 48]],\n",
       "\n",
       "       [[44, 21, 25, 47, 49],\n",
       "        [31, 43, 46, 23, 33],\n",
       "        [27, 21, 17, 40, 31]]], dtype=int8)"
      ]
     },
     "execution_count": 9,
     "metadata": {},
     "output_type": "execute_result"
    }
   ],
   "source": [
    "a.reshape(2,3,5)"
   ]
  },
  {
   "cell_type": "code",
   "execution_count": 10,
   "id": "ec437553-02a9-41d2-b635-fca81ff457b9",
   "metadata": {},
   "outputs": [
    {
     "data": {
      "text/plain": [
       "array([[[16, 44, 48, 19, 32],\n",
       "        [33, 15, 44, 26, 23],\n",
       "        [18, 37, 45, 38, 48]],\n",
       "\n",
       "       [[44, 21, 25, 47, 49],\n",
       "        [31, 43, 46, 23, 33],\n",
       "        [27, 21, 17, 40, 31]]], dtype=int8)"
      ]
     },
     "execution_count": 10,
     "metadata": {},
     "output_type": "execute_result"
    }
   ],
   "source": [
    "a.reshape(-1,3,5)"
   ]
  },
  {
   "cell_type": "code",
   "execution_count": 11,
   "id": "f65bd8e8-85ed-451e-902e-bdbe75f1ab7d",
   "metadata": {},
   "outputs": [
    {
     "data": {
      "text/plain": [
       "array([16, 44, 48, 19, 32, 33, 15, 44, 26, 23, 18, 37, 45, 38, 48, 44, 21,\n",
       "       25, 47, 49, 31, 43, 46, 23, 33, 27, 21, 17, 40, 31], dtype=int8)"
      ]
     },
     "execution_count": 11,
     "metadata": {},
     "output_type": "execute_result"
    }
   ],
   "source": [
    "a.ravel()"
   ]
  },
  {
   "cell_type": "code",
   "execution_count": 12,
   "id": "06ab7cc8-3a4d-46fd-bf68-3bfcd8497ae5",
   "metadata": {},
   "outputs": [
    {
     "data": {
      "text/plain": [
       "array([16, 44, 48, 19, 32, 33, 15, 44, 26, 23, 18, 37, 45, 38, 48, 44, 21,\n",
       "       25, 47, 49, 31, 43, 46, 23, 33, 27, 21, 17, 40, 31], dtype=int8)"
      ]
     },
     "execution_count": 12,
     "metadata": {},
     "output_type": "execute_result"
    }
   ],
   "source": [
    "a.flatten()"
   ]
  },
  {
   "cell_type": "code",
   "execution_count": 17,
   "id": "0bc49385-ca57-48b4-9096-c5aadec024ac",
   "metadata": {},
   "outputs": [
    {
     "data": {
      "text/plain": [
       "(array([[6, 1, 3],\n",
       "        [6, 4, 9]], dtype=int32),\n",
       " array([[8, 2, 9],\n",
       "        [1, 5, 4]], dtype=int32))"
      ]
     },
     "execution_count": 17,
     "metadata": {},
     "output_type": "execute_result"
    }
   ],
   "source": [
    "b = np.random.randint(1,10, (2,3))\n",
    "c = np.random.randint(1,10, (2,3))\n",
    "b, c"
   ]
  },
  {
   "cell_type": "code",
   "execution_count": 18,
   "id": "d7ca277b-a1a2-4fc9-9a1b-6e8bb6a06f52",
   "metadata": {},
   "outputs": [],
   "source": [
    "c1 = np.concatenate([b,c],axis=1)"
   ]
  },
  {
   "cell_type": "code",
   "execution_count": 19,
   "id": "86dda4d6-a119-47d6-b767-4860d1f268a3",
   "metadata": {},
   "outputs": [
    {
     "data": {
      "text/plain": [
       "array([[6, 1, 3, 8, 2, 9],\n",
       "       [6, 4, 9, 1, 5, 4]], dtype=int32)"
      ]
     },
     "execution_count": 19,
     "metadata": {},
     "output_type": "execute_result"
    }
   ],
   "source": [
    "c1\n"
   ]
  },
  {
   "cell_type": "markdown",
   "id": "59c1f162-5eba-4f34-ab4c-d0714a15401c",
   "metadata": {},
   "source": [
    "## 0 > column wise > vstack\n",
    "\n",
    "## 1> row wise > hstack"
   ]
  },
  {
   "cell_type": "code",
   "execution_count": 20,
   "id": "429437a7-473f-4104-aa2e-e202058d4049",
   "metadata": {},
   "outputs": [
    {
     "data": {
      "text/plain": [
       "array([[6, 1, 3],\n",
       "       [6, 4, 9],\n",
       "       [8, 2, 9],\n",
       "       [1, 5, 4]], dtype=int32)"
      ]
     },
     "execution_count": 20,
     "metadata": {},
     "output_type": "execute_result"
    }
   ],
   "source": [
    "d = np.concatenate([b,c],axis=0)\n",
    "d"
   ]
  },
  {
   "cell_type": "code",
   "execution_count": 22,
   "id": "06d55fc3-3d66-4c7e-adea-557495d6f6ac",
   "metadata": {},
   "outputs": [
    {
     "data": {
      "text/plain": [
       "array([[6, 1, 3],\n",
       "       [6, 4, 9],\n",
       "       [8, 2, 9],\n",
       "       [1, 5, 4]], dtype=int32)"
      ]
     },
     "execution_count": 22,
     "metadata": {},
     "output_type": "execute_result"
    }
   ],
   "source": [
    "np.vstack((b,c))"
   ]
  },
  {
   "cell_type": "code",
   "execution_count": 24,
   "id": "2f7402c5-0a2b-4d4a-bdf7-f418ce463e51",
   "metadata": {},
   "outputs": [
    {
     "data": {
      "text/plain": [
       "array([[6, 1, 3, 8, 2, 9],\n",
       "       [6, 4, 9, 1, 5, 4]], dtype=int32)"
      ]
     },
     "execution_count": 24,
     "metadata": {},
     "output_type": "execute_result"
    }
   ],
   "source": [
    "np.hstack((b,c))"
   ]
  },
  {
   "cell_type": "code",
   "execution_count": null,
   "id": "5c093304-3089-48d2-a70e-53836092caa3",
   "metadata": {},
   "outputs": [],
   "source": []
  }
 ],
 "metadata": {
  "kernelspec": {
   "display_name": "Python 3 (ipykernel)",
   "language": "python",
   "name": "python3"
  },
  "language_info": {
   "codemirror_mode": {
    "name": "ipython",
    "version": 3
   },
   "file_extension": ".py",
   "mimetype": "text/x-python",
   "name": "python",
   "nbconvert_exporter": "python",
   "pygments_lexer": "ipython3",
   "version": "3.13.5"
  }
 },
 "nbformat": 4,
 "nbformat_minor": 5
}

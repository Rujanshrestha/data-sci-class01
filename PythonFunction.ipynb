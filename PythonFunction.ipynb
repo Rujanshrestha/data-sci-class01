{
 "cells": [
  {
   "cell_type": "code",
   "execution_count": 3,
   "id": "5ae3e82b-2fda-42de-b84a-c32f1b1d702c",
   "metadata": {},
   "outputs": [],
   "source": [
    "def calculate_sum(num1, num2):\n",
    "    result = num1 + num2\n",
    "    return result"
   ]
  },
  {
   "cell_type": "code",
   "execution_count": 4,
   "id": "3f38e43e-3f93-4499-b15e-b956a78bde21",
   "metadata": {},
   "outputs": [
    {
     "data": {
      "text/plain": [
       "9"
      ]
     },
     "execution_count": 4,
     "metadata": {},
     "output_type": "execute_result"
    }
   ],
   "source": [
    "calculate_sum(4,5)"
   ]
  },
  {
   "cell_type": "markdown",
   "id": "70265fee-0c4e-4644-b654-a03697246c5b",
   "metadata": {},
   "source": [
    "## Builtin Functions\n",
    "https://docs.python.org/3/library/functions.html"
   ]
  },
  {
   "cell_type": "markdown",
   "id": "a04f439e-dcb9-4d80-9d45-cf2f1b8caab9",
   "metadata": {},
   "source": [
    "#### 1.Print()"
   ]
  },
  {
   "cell_type": "code",
   "execution_count": 5,
   "id": "e074485d-b798-44f0-9c9c-28a2d6505847",
   "metadata": {},
   "outputs": [
    {
     "name": "stdout",
     "output_type": "stream",
     "text": [
      "4_5\n"
     ]
    }
   ],
   "source": [
    "print(4,5,  sep = \"_\")"
   ]
  },
  {
   "cell_type": "code",
   "execution_count": 6,
   "id": "b5cf69db-1bc4-48ce-97f3-2fe964a60dba",
   "metadata": {},
   "outputs": [
    {
     "name": "stdout",
     "output_type": "stream",
     "text": [
      "hello-wold!"
     ]
    }
   ],
   "source": [
    "print(\"hello\",\"wold\",  sep = \"-\", end = \"!\")"
   ]
  },
  {
   "cell_type": "markdown",
   "id": "0e732f32-3d1b-4b70-84b1-556beb89d063",
   "metadata": {},
   "source": [
    "#### 2.input()"
   ]
  },
  {
   "cell_type": "code",
   "execution_count": 7,
   "id": "675bbd72-f80c-4027-b950-ddde7e798cdf",
   "metadata": {},
   "outputs": [
    {
     "name": "stdin",
     "output_type": "stream",
     "text": [
      "Enter you name. Rujan\n"
     ]
    }
   ],
   "source": [
    "name = input(\"Enter you name.\")"
   ]
  },
  {
   "cell_type": "code",
   "execution_count": 8,
   "id": "4fdd5221-39f0-4e5e-8f60-b43c911ee542",
   "metadata": {},
   "outputs": [
    {
     "data": {
      "text/plain": [
       "'Rujan'"
      ]
     },
     "execution_count": 8,
     "metadata": {},
     "output_type": "execute_result"
    }
   ],
   "source": [
    "name\n"
   ]
  },
  {
   "cell_type": "markdown",
   "id": "84da5c12-98a6-4d89-8206-6efa7de3b38d",
   "metadata": {},
   "source": [
    "#### 3.Type()"
   ]
  },
  {
   "cell_type": "code",
   "execution_count": 9,
   "id": "758282a5-0e25-4bed-ac48-78257365c941",
   "metadata": {},
   "outputs": [
    {
     "data": {
      "text/plain": [
       "int"
      ]
     },
     "execution_count": 9,
     "metadata": {},
     "output_type": "execute_result"
    }
   ],
   "source": [
    "type(1\n",
    ")"
   ]
  },
  {
   "cell_type": "code",
   "execution_count": 12,
   "id": "b68137a0-481d-4f86-be77-02d0f92076ee",
   "metadata": {},
   "outputs": [
    {
     "data": {
      "text/plain": [
       "str"
      ]
     },
     "execution_count": 12,
     "metadata": {},
     "output_type": "execute_result"
    }
   ],
   "source": [
    "type(name)"
   ]
  },
  {
   "cell_type": "code",
   "execution_count": 13,
   "id": "0166f9f1-4187-4f47-a910-66087a6508d1",
   "metadata": {},
   "outputs": [
    {
     "data": {
      "text/plain": [
       "dict"
      ]
     },
     "execution_count": 13,
     "metadata": {},
     "output_type": "execute_result"
    }
   ],
   "source": [
    "type({})"
   ]
  },
  {
   "cell_type": "code",
   "execution_count": 14,
   "id": "14429c76-23b9-4625-8f25-e639a252a899",
   "metadata": {},
   "outputs": [
    {
     "data": {
      "text/plain": [
       "list"
      ]
     },
     "execution_count": 14,
     "metadata": {},
     "output_type": "execute_result"
    }
   ],
   "source": [
    "type([])"
   ]
  },
  {
   "cell_type": "code",
   "execution_count": 15,
   "id": "454f8d98-e598-4513-b141-535e0146ff8f",
   "metadata": {},
   "outputs": [
    {
     "data": {
      "text/plain": [
       "bool"
      ]
     },
     "execution_count": 15,
     "metadata": {},
     "output_type": "execute_result"
    }
   ],
   "source": [
    "type(4 ==2)"
   ]
  },
  {
   "cell_type": "code",
   "execution_count": 16,
   "id": "473a226c-6b40-4d55-b40f-6f18e1c15b72",
   "metadata": {},
   "outputs": [
    {
     "data": {
      "text/plain": [
       "builtin_function_or_method"
      ]
     },
     "execution_count": 16,
     "metadata": {},
     "output_type": "execute_result"
    }
   ],
   "source": [
    "type(sum)"
   ]
  },
  {
   "cell_type": "markdown",
   "id": "3617ebc8-50d9-4197-bbc6-ae297a3cf065",
   "metadata": {},
   "source": [
    "#### 4.Len()"
   ]
  },
  {
   "cell_type": "code",
   "execution_count": 17,
   "id": "d8c4790b-48d4-4347-8037-ff75a3965a44",
   "metadata": {},
   "outputs": [
    {
     "data": {
      "text/plain": [
       "5"
      ]
     },
     "execution_count": 17,
     "metadata": {},
     "output_type": "execute_result"
    }
   ],
   "source": [
    "len(\"apple\") #only takes iteravles"
   ]
  },
  {
   "cell_type": "code",
   "execution_count": 21,
   "id": "f9ffb8e1-e25e-4466-99d7-944f156d9aa2",
   "metadata": {},
   "outputs": [
    {
     "data": {
      "text/plain": [
       "3"
      ]
     },
     "execution_count": 21,
     "metadata": {},
     "output_type": "execute_result"
    }
   ],
   "source": [
    "len([\"hari\", \"shyam\", \"raj\"])"
   ]
  },
  {
   "cell_type": "code",
   "execution_count": null,
   "id": "db8bd6f1-be8d-4073-ae3a-738b3ee69d89",
   "metadata": {},
   "outputs": [],
   "source": []
  }
 ],
 "metadata": {
  "kernelspec": {
   "display_name": "Python 3 (ipykernel)",
   "language": "python",
   "name": "python3"
  },
  "language_info": {
   "codemirror_mode": {
    "name": "ipython",
    "version": 3
   },
   "file_extension": ".py",
   "mimetype": "text/x-python",
   "name": "python",
   "nbconvert_exporter": "python",
   "pygments_lexer": "ipython3",
   "version": "3.13.5"
  }
 },
 "nbformat": 4,
 "nbformat_minor": 5
}

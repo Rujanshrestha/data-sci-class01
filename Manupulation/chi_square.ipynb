{
 "cells": [
  {
   "cell_type": "code",
   "execution_count": 1,
   "id": "1039f6d3-dec3-4fb1-bc25-2fce0319d288",
   "metadata": {},
   "outputs": [],
   "source": [
    "import pandas as pd"
   ]
  },
  {
   "cell_type": "code",
   "execution_count": 3,
   "id": "0234801f-b2f4-4caa-847c-ec4aad12b0d1",
   "metadata": {},
   "outputs": [],
   "source": [
    "titanic_df = pd.read_csv(\"train2.csv\")"
   ]
  },
  {
   "cell_type": "code",
   "execution_count": 4,
   "id": "c44d316a-44a5-467d-951d-d4c4910ed3bb",
   "metadata": {},
   "outputs": [
    {
     "data": {
      "text/plain": [
       "<Axes: xlabel='Pclass', ylabel='SibSp'>"
      ]
     },
     "execution_count": 4,
     "metadata": {},
     "output_type": "execute_result"
    },
    {
     "data": {
      "image/png": "[encoded data removed]",
      "text/plain": [
       "<Figure size 640x480 with 1 Axes>"
      ]
     },
     "metadata": {},
     "output_type": "display_data"
    }
   ],
   "source": [
    "# titanic_df.plot.scatter(\"Age\",\"Fare\")\n",
    "titanic_df.plot.scatter(\"Pclass\",\"SibSp\")"
   ]
  },
  {
   "cell_type": "code",
   "execution_count": 5,
   "id": "9424a52c-1636-4ce0-b1ce-00b8cd9d50bb",
   "metadata": {},
   "outputs": [
    {
     "data": {
      "text/html": [
       "<div>\n",
       "<style scoped>\n",
       "    .dataframe tbody tr th:only-of-type {\n",
       "        vertical-align: middle;\n",
       "    }\n",
       "\n",
       "    .dataframe tbody tr th {\n",
       "        vertical-align: top;\n",
       "    }\n",
       "\n",
       "    .dataframe thead th {\n",
       "        text-align: right;\n",
       "    }\n",
       "</style>\n",
       "<table border=\"1\" class=\"dataframe\">\n",
       "  <thead>\n",
       "    <tr style=\"text-align: right;\">\n",
       "      <th></th>\n",
       "      <th>Pclass</th>\n",
       "      <th>SibSp</th>\n",
       "    </tr>\n",
       "  </thead>\n",
       "  <tbody>\n",
       "    <tr>\n",
       "      <th>Pclass</th>\n",
       "      <td>1.000000</td>\n",
       "      <td>0.083081</td>\n",
       "    </tr>\n",
       "    <tr>\n",
       "      <th>SibSp</th>\n",
       "      <td>0.083081</td>\n",
       "      <td>1.000000</td>\n",
       "    </tr>\n",
       "  </tbody>\n",
       "</table>\n",
       "</div>"
      ],
      "text/plain": [
       "          Pclass     SibSp\n",
       "Pclass  1.000000  0.083081\n",
       "SibSp   0.083081  1.000000"
      ]
     },
     "execution_count": 5,
     "metadata": {},
     "output_type": "execute_result"
    }
   ],
   "source": [
    "titanic_df[[\"Pclass\",\"SibSp\"]].corr()"
   ]
  },
  {
   "cell_type": "markdown",
   "id": "e24099b3-2a97-4bcf-b578-4264e35a7c26",
   "metadata": {},
   "source": [
    "## Chi-Square Test\n",
    "\n",
    "The chi-square test is a statistical test used to determine whether there is a significant association between categorical variables. It compares the observed frequencies of categories in a dataset to the expected frequencies under a specific hypothesis."
   ]
  },
  {
   "cell_type": "markdown",
   "id": "e97bb5ac-6d88-450e-ac51-2718af0762b3",
   "metadata": {},
   "source": [
    "The test statistic for the chi-square test is calculated using the formula:\n",
    "\n",
    "\\begin{equation}\n",
    "\\chi^2 = \\sum{\\frac{{(O_i - E_i)^2}}{{E_i}}}\n",
    "\\end{equation}\n",
    "\n",
    "where:\n",
    "- $\\chi^2$ is the chi-square test statistic\n",
    "- $O_i$ is the observed frequency for each category\n",
    "- $E_i$ is the expected frequency for each category, which is determined based on the null hypothesis\n",
    "\n",
    "\n",
    "The **null hypothesis for the chi-square test is that there is no association between the categorical variables**, meaning the observed frequencies match the expected frequencies.\n",
    "\n",
    "The chi-square test statistic follows a chi-square distribution with degrees of freedom determined by the number of categories and the constraints imposed by the null hypothesis."
   ]
  },
  {
   "cell_type": "code",
   "execution_count": 7,
   "id": "5cdd1f7b-fbb7-4321-b120-91d1b57df04d",
   "metadata": {},
   "outputs": [],
   "source": [
    "import scipy.stats as stats"
   ]
  },
  {
   "cell_type": "code",
   "execution_count": 8,
   "id": "b69b0a07-2376-4a76-857b-e4ab7aefc62d",
   "metadata": {},
   "outputs": [
    {
     "data": {
      "text/html": [
       "<div>\n",
       "<style scoped>\n",
       "    .dataframe tbody tr th:only-of-type {\n",
       "        vertical-align: middle;\n",
       "    }\n",
       "\n",
       "    .dataframe tbody tr th {\n",
       "        vertical-align: top;\n",
       "    }\n",
       "\n",
       "    .dataframe thead th {\n",
       "        text-align: right;\n",
       "    }\n",
       "</style>\n",
       "<table border=\"1\" class=\"dataframe\">\n",
       "  <thead>\n",
       "    <tr style=\"text-align: right;\">\n",
       "      <th>SibSp</th>\n",
       "      <th>0</th>\n",
       "      <th>1</th>\n",
       "      <th>2</th>\n",
       "      <th>3</th>\n",
       "      <th>4</th>\n",
       "      <th>5</th>\n",
       "      <th>8</th>\n",
       "    </tr>\n",
       "    <tr>\n",
       "      <th>Pclass</th>\n",
       "      <th></th>\n",
       "      <th></th>\n",
       "      <th></th>\n",
       "      <th></th>\n",
       "      <th></th>\n",
       "      <th></th>\n",
       "      <th></th>\n",
       "    </tr>\n",
       "  </thead>\n",
       "  <tbody>\n",
       "    <tr>\n",
       "      <th>1</th>\n",
       "      <td>137</td>\n",
       "      <td>71</td>\n",
       "      <td>5</td>\n",
       "      <td>3</td>\n",
       "      <td>0</td>\n",
       "      <td>0</td>\n",
       "      <td>0</td>\n",
       "    </tr>\n",
       "    <tr>\n",
       "      <th>2</th>\n",
       "      <td>120</td>\n",
       "      <td>55</td>\n",
       "      <td>8</td>\n",
       "      <td>1</td>\n",
       "      <td>0</td>\n",
       "      <td>0</td>\n",
       "      <td>0</td>\n",
       "    </tr>\n",
       "    <tr>\n",
       "      <th>3</th>\n",
       "      <td>351</td>\n",
       "      <td>83</td>\n",
       "      <td>15</td>\n",
       "      <td>12</td>\n",
       "      <td>18</td>\n",
       "      <td>5</td>\n",
       "      <td>7</td>\n",
       "    </tr>\n",
       "  </tbody>\n",
       "</table>\n",
       "</div>"
      ],
      "text/plain": [
       "SibSp     0   1   2   3   4  5  8\n",
       "Pclass                           \n",
       "1       137  71   5   3   0  0  0\n",
       "2       120  55   8   1   0  0  0\n",
       "3       351  83  15  12  18  5  7"
      ]
     },
     "execution_count": 8,
     "metadata": {},
     "output_type": "execute_result"
    }
   ],
   "source": [
    "contengency_table = pd.crosstab(titanic_df.Pclass, titanic_df.SibSp)\n",
    "contengency_table"
   ]
  },
  {
   "cell_type": "code",
   "execution_count": 9,
   "id": "d9b89ab2-b78f-4f1b-a1b6-4f4d2ecc3535",
   "metadata": {},
   "outputs": [],
   "source": [
    "chi2_score, pvalue, dof, expected_f = stats.chi2_contingency(contengency_table)"
   ]
  },
  {
   "cell_type": "code",
   "execution_count": 10,
   "id": "cb60234c-d342-424a-822c-954b919e834c",
   "metadata": {},
   "outputs": [
    {
     "name": "stdout",
     "output_type": "stream",
     "text": [
      "Chi-square test score = 50.86189\n",
      "p-value = 0.00000\n"
     ]
    }
   ],
   "source": [
    "print(f\"Chi-square test score = {chi2_score :.5f}\")\n",
    "print(f\"p-value = {pvalue :.5f}\")"
   ]
  },
  {
   "cell_type": "markdown",
   "id": "81e3e869-aa46-4c49-b456-946d8ecdea64",
   "metadata": {},
   "source": [
    "**Interpreting the results**\n",
    "\n",
    "- The chi-square test statistic measures the difference between the observed and expected frequencies. A larger test statistic indicates a larger deviation from the expected frequencies.\n",
    "- The p-value represents the probability of observing a test statistic as extreme as the one calculated, assuming the null hypothesis is true. A small p-value (typically below a significance level such as 0.05) suggests rejecting the null hypothesis in favor of the alternative hypothesis.\n",
    "- The expected frequencies are the frequencies that would be expected under the null hypothesis. Comparing the observed frequencies to the expected frequencies provides insights into the association between the categorical variables.\n",
    "\n"
   ]
  },
  {
   "cell_type": "code",
   "execution_count": 12,
   "id": "1bdcd5dc-eeef-4e68-9738-9a081bfbe13f",
   "metadata": {},
   "outputs": [],
   "source": [
    "data = pd.DataFrame(\n",
    "    {'Category': ['A', 'B' , 'C','A','B','C','B'],\n",
    "     'Outcome' : ['true','false','true','false','true','true','true']}\n",
    ")\n",
    "contingency_table = pd.crosstab(data.Category, data.Outcome)\n",
    "chi2_score, p_value, dof, expected = stats.chi2_contingency(contingency_table)"
   ]
  },
  {
   "cell_type": "code",
   "execution_count": 13,
   "id": "89d26150-650a-4e50-b14f-b7c7535a30b7",
   "metadata": {},
   "outputs": [
    {
     "name": "stdout",
     "output_type": "stream",
     "text": [
      "Chi-square test score = 1.28333\n",
      "p-value = 0.52641\n"
     ]
    }
   ],
   "source": [
    "print(f\"Chi-square test score = {chi2_score :.5f}\")\n",
    "print(f\"p-value = {p_value :.5f}\")"
   ]
  },
  {
   "cell_type": "code",
   "execution_count": 14,
   "id": "923ada6d-f5d3-49fd-ae4b-54363d3c6b37",
   "metadata": {},
   "outputs": [
    {
     "data": {
      "text/html": [
       "<div>\n",
       "<style scoped>\n",
       "    .dataframe tbody tr th:only-of-type {\n",
       "        vertical-align: middle;\n",
       "    }\n",
       "\n",
       "    .dataframe tbody tr th {\n",
       "        vertical-align: top;\n",
       "    }\n",
       "\n",
       "    .dataframe thead th {\n",
       "        text-align: right;\n",
       "    }\n",
       "</style>\n",
       "<table border=\"1\" class=\"dataframe\">\n",
       "  <thead>\n",
       "    <tr style=\"text-align: right;\">\n",
       "      <th>Outcome</th>\n",
       "      <th>false</th>\n",
       "      <th>true</th>\n",
       "    </tr>\n",
       "    <tr>\n",
       "      <th>Category</th>\n",
       "      <th></th>\n",
       "      <th></th>\n",
       "    </tr>\n",
       "  </thead>\n",
       "  <tbody>\n",
       "    <tr>\n",
       "      <th>A</th>\n",
       "      <td>1</td>\n",
       "      <td>1</td>\n",
       "    </tr>\n",
       "    <tr>\n",
       "      <th>B</th>\n",
       "      <td>1</td>\n",
       "      <td>2</td>\n",
       "    </tr>\n",
       "    <tr>\n",
       "      <th>C</th>\n",
       "      <td>0</td>\n",
       "      <td>2</td>\n",
       "    </tr>\n",
       "  </tbody>\n",
       "</table>\n",
       "</div>"
      ],
      "text/plain": [
       "Outcome   false  true\n",
       "Category             \n",
       "A             1     1\n",
       "B             1     2\n",
       "C             0     2"
      ]
     },
     "execution_count": 14,
     "metadata": {},
     "output_type": "execute_result"
    }
   ],
   "source": [
    "contingency_table"
   ]
  },
  {
   "cell_type": "code",
   "execution_count": null,
   "id": "45f59648-8ae6-4f64-a4d0-1cedeb78c857",
   "metadata": {},
   "outputs": [],
   "source": []
  }
 ],
 "metadata": {
  "kernelspec": {
   "display_name": "Python 3 (ipykernel)",
   "language": "python",
   "name": "python3"
  },
  "language_info": {
   "codemirror_mode": {
    "name": "ipython",
    "version": 3
   },
   "file_extension": ".py",
   "mimetype": "text/x-python",
   "name": "python",
   "nbconvert_exporter": "python",
   "pygments_lexer": "ipython3",
   "version": "3.13.5"
  }
 },
 "nbformat": 4,
 "nbformat_minor": 5
}

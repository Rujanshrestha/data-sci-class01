{
 "cells": [
  {
   "cell_type": "markdown",
   "id": "54afa6d9-8601-413e-882a-c4b99f771501",
   "metadata": {},
   "source": [
    "# Modules and Packages"
   ]
  },
  {
   "cell_type": "markdown",
   "id": "60bf5ac5-5640-4f5c-a750-af1b704ce3c3",
   "metadata": {},
   "source": [
    "## Python Date and Time Module\n",
    "- datetime\n",
    "- time"
   ]
  },
  {
   "cell_type": "code",
   "execution_count": 1,
   "id": "391254e5-515a-4040-98ae-6b586fec2860",
   "metadata": {},
   "outputs": [],
   "source": [
    "import datetime"
   ]
  },
  {
   "cell_type": "code",
   "execution_count": 2,
   "id": "1920ca77-9a0f-43e6-af2c-198729c78ce0",
   "metadata": {},
   "outputs": [
    {
     "data": {
      "text/plain": [
       "9999"
      ]
     },
     "execution_count": 2,
     "metadata": {},
     "output_type": "execute_result"
    }
   ],
   "source": [
    "datetime.MAXYEAR"
   ]
  },
  {
   "cell_type": "code",
   "execution_count": 3,
   "id": "975189b4-982e-4c85-9c08-37b7a2522228",
   "metadata": {},
   "outputs": [
    {
     "data": {
      "text/plain": [
       "1"
      ]
     },
     "execution_count": 3,
     "metadata": {},
     "output_type": "execute_result"
    }
   ],
   "source": [
    "datetime.MINYEAR"
   ]
  },
  {
   "cell_type": "code",
   "execution_count": 4,
   "id": "f8a5b1d3-a8eb-42eb-bb47-549d1ce26947",
   "metadata": {},
   "outputs": [],
   "source": [
    "# '2045/07/14'\n",
    "date1 = datetime.date(2025,8,14)"
   ]
  },
  {
   "cell_type": "code",
   "execution_count": 5,
   "id": "3a8f48a7-61be-4563-b3c8-c94b30763b4a",
   "metadata": {},
   "outputs": [],
   "source": [
    "today = datetime.date.today()"
   ]
  },
  {
   "cell_type": "code",
   "execution_count": 6,
   "id": "901db57c-d5fb-48ad-bd85-c7003320a035",
   "metadata": {},
   "outputs": [
    {
     "data": {
      "text/plain": [
       "datetime.date(2025, 7, 15)"
      ]
     },
     "execution_count": 6,
     "metadata": {},
     "output_type": "execute_result"
    }
   ],
   "source": [
    "today"
   ]
  },
  {
   "cell_type": "code",
   "execution_count": 7,
   "id": "4d334f9d-397f-460f-b00f-39feea30ffe4",
   "metadata": {},
   "outputs": [
    {
     "name": "stdout",
     "output_type": "stream",
     "text": [
      "2025-07-15\n"
     ]
    }
   ],
   "source": [
    "print(today)"
   ]
  },
  {
   "cell_type": "code",
   "execution_count": 8,
   "id": "3bdf3fff-c3e0-438e-922f-a494c0b33569",
   "metadata": {},
   "outputs": [
    {
     "data": {
      "text/plain": [
       "True"
      ]
     },
     "execution_count": 8,
     "metadata": {},
     "output_type": "execute_result"
    }
   ],
   "source": [
    "#compare Dates\n",
    "\n",
    "date1 > today"
   ]
  },
  {
   "cell_type": "code",
   "execution_count": 9,
   "id": "46bbc12d-ea5d-41ea-b222-4a57f960e42f",
   "metadata": {},
   "outputs": [
    {
     "data": {
      "text/plain": [
       "False"
      ]
     },
     "execution_count": 9,
     "metadata": {},
     "output_type": "execute_result"
    }
   ],
   "source": [
    "date1 == today"
   ]
  },
  {
   "cell_type": "code",
   "execution_count": 10,
   "id": "05dfcb2e-69a8-4e2c-804b-b72a1c5c6caf",
   "metadata": {},
   "outputs": [
    {
     "data": {
      "text/plain": [
       "datetime.timedelta(days=30)"
      ]
     },
     "execution_count": 10,
     "metadata": {},
     "output_type": "execute_result"
    }
   ],
   "source": [
    "# Arith. operation\n",
    "\n",
    "date1 - today"
   ]
  },
  {
   "cell_type": "code",
   "execution_count": 11,
   "id": "5a36f996-0afe-43c6-afce-2dddc5d27724",
   "metadata": {},
   "outputs": [
    {
     "ename": "TypeError",
     "evalue": "unsupported operand type(s) for +: 'datetime.date' and 'datetime.date'",
     "output_type": "error",
     "traceback": [
      "\u001b[31m---------------------------------------------------------------------------\u001b[39m",
      "\u001b[31mTypeError\u001b[39m                                 Traceback (most recent call last)",
      "\u001b[36mCell\u001b[39m\u001b[36m \u001b[39m\u001b[32mIn[11]\u001b[39m\u001b[32m, line 1\u001b[39m\n\u001b[32m----> \u001b[39m\u001b[32m1\u001b[39m \u001b[43mdate1\u001b[49m\u001b[43m \u001b[49m\u001b[43m+\u001b[49m\u001b[43m \u001b[49m\u001b[43mtoday\u001b[49m\n",
      "\u001b[31mTypeError\u001b[39m: unsupported operand type(s) for +: 'datetime.date' and 'datetime.date'"
     ]
    }
   ],
   "source": [
    "date1 + today"
   ]
  },
  {
   "cell_type": "code",
   "execution_count": null,
   "id": "95e4415d-7786-4192-a97e-ca6d453e9063",
   "metadata": {},
   "outputs": [],
   "source": [
    "today_time = datetime.time(12,54,6)"
   ]
  },
  {
   "cell_type": "code",
   "execution_count": null,
   "id": "8ab26c7d-393f-4936-904a-09c700bf0ee2",
   "metadata": {},
   "outputs": [],
   "source": [
    "today_time"
   ]
  },
  {
   "cell_type": "code",
   "execution_count": null,
   "id": "73b76917-b6bf-42eb-b6f5-9527483e6927",
   "metadata": {},
   "outputs": [],
   "source": [
    "now = datetime.datetime.today()\n",
    "now"
   ]
  },
  {
   "cell_type": "code",
   "execution_count": null,
   "id": "64e1f7db-985a-4fb3-b24f-1a828e37a761",
   "metadata": {},
   "outputs": [],
   "source": [
    "now.strftime(\"%y-%m-%d %H:%M:%S\")"
   ]
  },
  {
   "cell_type": "code",
   "execution_count": 12,
   "id": "92be1d89-1ea9-4728-a332-1763f048c600",
   "metadata": {},
   "outputs": [
    {
     "ename": "NameError",
     "evalue": "name 'now' is not defined",
     "output_type": "error",
     "traceback": [
      "\u001b[31m---------------------------------------------------------------------------\u001b[39m",
      "\u001b[31mNameError\u001b[39m                                 Traceback (most recent call last)",
      "\u001b[36mCell\u001b[39m\u001b[36m \u001b[39m\u001b[32mIn[12]\u001b[39m\u001b[32m, line 1\u001b[39m\n\u001b[32m----> \u001b[39m\u001b[32m1\u001b[39m \u001b[43mnow\u001b[49m.day\n",
      "\u001b[31mNameError\u001b[39m: name 'now' is not defined"
     ]
    }
   ],
   "source": [
    "now.day\n"
   ]
  },
  {
   "cell_type": "code",
   "execution_count": 13,
   "id": "84fd0a5a-3a83-4025-acc8-e0101140e8fc",
   "metadata": {},
   "outputs": [
    {
     "data": {
      "text/plain": [
       "datetime.datetime(2008, 5, 22, 0, 0)"
      ]
     },
     "execution_count": 13,
     "metadata": {},
     "output_type": "execute_result"
    }
   ],
   "source": [
    "# Timedelta\n",
    "\n",
    "year_19 = datetime.timedelta(days = 10*365)\n",
    "\n",
    "datetime.datetime(1998,5,25) + year_19"
   ]
  },
  {
   "cell_type": "code",
   "execution_count": 14,
   "id": "f29d5809-b14c-4078-9883-053120f9f575",
   "metadata": {},
   "outputs": [
    {
     "data": {
      "text/plain": [
       "315360000.0"
      ]
     },
     "execution_count": 14,
     "metadata": {},
     "output_type": "execute_result"
    }
   ],
   "source": [
    "year_19.total_seconds()"
   ]
  },
  {
   "cell_type": "code",
   "execution_count": 15,
   "id": "da212b12-9bad-44a6-8ee3-bf9c9023f0fe",
   "metadata": {},
   "outputs": [],
   "source": [
    "DOB = datetime.date(2007,3,22)"
   ]
  },
  {
   "cell_type": "code",
   "execution_count": 16,
   "id": "f7730c4d-9263-46cd-adf0-77ef8f163791",
   "metadata": {},
   "outputs": [],
   "source": [
    "alive = today - DOB"
   ]
  },
  {
   "cell_type": "code",
   "execution_count": 17,
   "id": "33eb44f1-51ca-4e70-a132-e335728e7a0b",
   "metadata": {},
   "outputs": [
    {
     "data": {
      "text/plain": [
       "datetime.timedelta(days=6690)"
      ]
     },
     "execution_count": 17,
     "metadata": {},
     "output_type": "execute_result"
    }
   ],
   "source": [
    "alive"
   ]
  },
  {
   "cell_type": "code",
   "execution_count": 18,
   "id": "c86ec56f-cafb-4009-b0e4-d0ca45fe49f6",
   "metadata": {},
   "outputs": [
    {
     "name": "stdout",
     "output_type": "stream",
     "text": [
      "6690 days is approximately 18.32 years.\n"
     ]
    }
   ],
   "source": [
    "from datetime import timedelta\n",
    "days = 6690\n",
    "\n",
    "duration = timedelta(days=days)\n",
    "\n",
    "years = duration.days / 365.25\n",
    "\n",
    "print(f\"{days} days is approximately {years:.2f} years.\")"
   ]
  },
  {
   "cell_type": "markdown",
   "id": "69ea5f3e-08e1-4007-815b-2cacd971b969",
   "metadata": {},
   "source": [
    "# Time\n"
   ]
  },
  {
   "cell_type": "code",
   "execution_count": 19,
   "id": "bdf59961-e37c-4b61-97b3-71a46d4402a5",
   "metadata": {},
   "outputs": [],
   "source": [
    "import time"
   ]
  },
  {
   "cell_type": "code",
   "execution_count": 20,
   "id": "81b14399-0664-4277-bc04-7bdbef93a6ca",
   "metadata": {},
   "outputs": [
    {
     "data": {
      "text/plain": [
       "1752544854.865137"
      ]
     },
     "execution_count": 20,
     "metadata": {},
     "output_type": "execute_result"
    }
   ],
   "source": [
    "time.time() # Get current time in second "
   ]
  },
  {
   "cell_type": "code",
   "execution_count": 21,
   "id": "b37394a5-0ee4-4a39-8dfa-5ce7b96780cb",
   "metadata": {},
   "outputs": [
    {
     "data": {
      "text/plain": [
       "'Tue Jul 15 07:45:55 2025'"
      ]
     },
     "execution_count": 21,
     "metadata": {},
     "output_type": "execute_result"
    }
   ],
   "source": [
    "time.ctime() # get current time in string"
   ]
  },
  {
   "cell_type": "code",
   "execution_count": 22,
   "id": "c5252f59-777e-4b0a-8936-f5eefbc6a3a5",
   "metadata": {},
   "outputs": [
    {
     "name": "stdout",
     "output_type": "stream",
     "text": [
      "loading . . .\n",
      "completed !!\n",
      "Already done 0_0!\n"
     ]
    }
   ],
   "source": [
    "# Sleep fo 2 sec\n",
    "print(\"loading . . .\")\n",
    "time.sleep(5)\n",
    "print(\"completed !!\")\n",
    "time.sleep(4)\n",
    "print(\"Already done 0_0!\")"
   ]
  },
  {
   "cell_type": "code",
   "execution_count": 23,
   "id": "1eb9483c-7dd7-4c8a-8da7-d7bef0dec103",
   "metadata": {},
   "outputs": [
    {
     "data": {
      "text/plain": [
       "time.struct_time(tm_year=2025, tm_mon=7, tm_mday=15, tm_hour=2, tm_min=1, tm_sec=4, tm_wday=1, tm_yday=196, tm_isdst=0)"
      ]
     },
     "execution_count": 23,
     "metadata": {},
     "output_type": "execute_result"
    }
   ],
   "source": [
    "# Current UTC time\n",
    "time.gmtime()"
   ]
  },
  {
   "cell_type": "code",
   "execution_count": 24,
   "id": "1cb47089-f5eb-4d13-8e12-4f311389724e",
   "metadata": {},
   "outputs": [
    {
     "data": {
      "text/plain": [
       "time.struct_time(tm_year=2025, tm_mon=7, tm_mday=15, tm_hour=7, tm_min=46, tm_sec=4, tm_wday=1, tm_yday=196, tm_isdst=0)"
      ]
     },
     "execution_count": 24,
     "metadata": {},
     "output_type": "execute_result"
    }
   ],
   "source": [
    "time.localtime()"
   ]
  },
  {
   "cell_type": "code",
   "execution_count": 28,
   "id": "9ccf8d89-8cba-444b-8ebd-5d24179ef979",
   "metadata": {},
   "outputs": [
    {
     "data": {
      "text/plain": [
       "'07 :47 :09 '"
      ]
     },
     "execution_count": 28,
     "metadata": {},
     "output_type": "execute_result"
    }
   ],
   "source": [
    "# Str repr\n",
    "time.strftime(\"%H :%M :%S \")"
   ]
  },
  {
   "cell_type": "code",
   "execution_count": 31,
   "id": "1e156b92-ae1e-4cd8-8b44-1321c1527ee1",
   "metadata": {},
   "outputs": [
    {
     "name": "stdout",
     "output_type": "stream",
     "text": [
      "Hello\n",
      "Whats up??\n"
     ]
    }
   ],
   "source": [
    "start = time.time()\n",
    "\n",
    "print(\"Hello\")\n",
    "time.sleep(3)\n",
    "print(\"Whats up??\")\n",
    "\n",
    "end = time.time()"
   ]
  },
  {
   "cell_type": "code",
   "execution_count": 32,
   "id": "60d3f54e-cc68-44b6-b18e-8f5c044e9bdc",
   "metadata": {},
   "outputs": [
    {
     "name": "stdout",
     "output_type": "stream",
     "text": [
      "Total time taken  3.0028042793273926\n"
     ]
    }
   ],
   "source": [
    "print(\"Total time taken \", end - start)"
   ]
  },
  {
   "cell_type": "code",
   "execution_count": 33,
   "id": "0bf8245f-f601-4a7c-8ecb-1b051ae792b6",
   "metadata": {},
   "outputs": [],
   "source": [
    "end = time.time()"
   ]
  },
  {
   "cell_type": "code",
   "execution_count": 36,
   "id": "74a54168-3cad-4b68-839d-fb4b4cb50494",
   "metadata": {},
   "outputs": [
    {
     "data": {
      "text/plain": [
       "4868181.157798307"
      ]
     },
     "execution_count": 36,
     "metadata": {},
     "output_type": "execute_result"
    }
   ],
   "source": [
    "(end / 360) "
   ]
  },
  {
   "cell_type": "code",
   "execution_count": null,
   "id": "ad9483ca-8303-4aad-9da9-0b93f134a464",
   "metadata": {},
   "outputs": [],
   "source": []
  }
 ],
 "metadata": {
  "kernelspec": {
   "display_name": "Python 3 (ipykernel)",
   "language": "python",
   "name": "python3"
  },
  "language_info": {
   "codemirror_mode": {
    "name": "ipython",
    "version": 3
   },
   "file_extension": ".py",
   "mimetype": "text/x-python",
   "name": "python",
   "nbconvert_exporter": "python",
   "pygments_lexer": "ipython3",
   "version": "3.13.5"
  }
 },
 "nbformat": 4,
 "nbformat_minor": 5
}

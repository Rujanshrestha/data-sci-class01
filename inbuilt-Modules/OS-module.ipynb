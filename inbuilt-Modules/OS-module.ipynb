{
 "cells": [
  {
   "cell_type": "markdown",
   "id": "a294bfbb-376b-4a39-99a5-44d3c961307b",
   "metadata": {},
   "source": [
    "# Python OS Module"
   ]
  },
  {
   "cell_type": "code",
   "execution_count": 1,
   "id": "b1ca72d8-322d-47d0-8d7c-1ab62ef06dbe",
   "metadata": {},
   "outputs": [],
   "source": [
    "import os"
   ]
  },
  {
   "cell_type": "code",
   "execution_count": 2,
   "id": "1dbdeef5-a880-44b0-9d9d-ff6261560c28",
   "metadata": {},
   "outputs": [
    {
     "data": {
      "text/plain": [
       "'C:\\\\Users\\\\rizas\\\\Desktop\\\\git rujan\\\\data-sci-class01\\\\Modules'"
      ]
     },
     "execution_count": 2,
     "metadata": {},
     "output_type": "execute_result"
    }
   ],
   "source": [
    "os.getcwd()"
   ]
  },
  {
   "cell_type": "code",
   "execution_count": 3,
   "id": "e757f0f2-0cce-444f-9d65-5cee71d08d30",
   "metadata": {},
   "outputs": [
    {
     "ename": "AttributeError",
     "evalue": "module 'os' has no attribute 'mkdirs'",
     "output_type": "error",
     "traceback": [
      "\u001b[31m---------------------------------------------------------------------------\u001b[39m",
      "\u001b[31mAttributeError\u001b[39m                            Traceback (most recent call last)",
      "\u001b[36mCell\u001b[39m\u001b[36m \u001b[39m\u001b[32mIn[3]\u001b[39m\u001b[32m, line 2\u001b[39m\n\u001b[32m      1\u001b[39m \u001b[38;5;28;01mif\u001b[39;00m \u001b[38;5;129;01mnot\u001b[39;00m os.path.exists(\u001b[33m\"\u001b[39m\u001b[33mtest_folder/\u001b[39m\u001b[33m\"\u001b[39m):\n\u001b[32m----> \u001b[39m\u001b[32m2\u001b[39m     \u001b[43mos\u001b[49m\u001b[43m.\u001b[49m\u001b[43mmkdirs\u001b[49m(\u001b[33m\"\u001b[39m\u001b[33mtest_folder\u001b[39m\u001b[33m\"\u001b[39m)\n\u001b[32m      3\u001b[39m \u001b[38;5;28;01melse\u001b[39;00m:\n\u001b[32m      4\u001b[39m     \u001b[38;5;28mprint\u001b[39m(\u001b[33m\"\u001b[39m\u001b[33mpath exist\u001b[39m\u001b[33m\"\u001b[39m)\n",
      "\u001b[31mAttributeError\u001b[39m: module 'os' has no attribute 'mkdirs'"
     ]
    }
   ],
   "source": [
    "if not os.path.exists(\"test_folder/\"):\n",
    "    os.mkdirs(\"test_folder\")\n",
    "else:\n",
    "    print(\"path exist\")"
   ]
  },
  {
   "cell_type": "code",
   "execution_count": null,
   "id": "ff654d63-617b-45d3-8d05-9629abd5aa2f",
   "metadata": {},
   "outputs": [],
   "source": [
    "os.chdir(\"test_folder/\")\n",
    "print(os.getcwd())\n",
    "os.chdir(\"..\")\n",
    "print(os.getcwd())"
   ]
  },
  {
   "cell_type": "code",
   "execution_count": null,
   "id": "59a2ef55-c3e7-4079-9dfb-bf998e0bd4c8",
   "metadata": {},
   "outputs": [],
   "source": [
    "os.makedirs(\"test_folder/\",exist_ok = True)"
   ]
  },
  {
   "cell_type": "code",
   "execution_count": null,
   "id": "191ea9af-6049-4caa-bf2e-e27eeda3bd49",
   "metadata": {},
   "outputs": [],
   "source": [
    "os.listdir(\".\")"
   ]
  },
  {
   "cell_type": "code",
   "execution_count": null,
   "id": "cfde9850-0bfa-418a-aad2-908b844c9610",
   "metadata": {},
   "outputs": [],
   "source": [
    "os.rmdir(\"test_folder/\")"
   ]
  },
  {
   "cell_type": "code",
   "execution_count": null,
   "id": "0f5fcba0-4f04-4e24-af1f-1dbaa85a60d5",
   "metadata": {},
   "outputs": [],
   "source": [
    "# rename"
   ]
  },
  {
   "cell_type": "code",
   "execution_count": null,
   "id": "5a178ee9-f3df-4129-9156-ad169cf73764",
   "metadata": {},
   "outputs": [],
   "source": [
    "os.rename(\"hello.txt\",\"hi.txt\")"
   ]
  },
  {
   "cell_type": "code",
   "execution_count": 4,
   "id": "81dc1828-e8f4-4f13-ae8d-955c45baa21c",
   "metadata": {},
   "outputs": [],
   "source": [
    "#remove"
   ]
  },
  {
   "cell_type": "code",
   "execution_count": 6,
   "id": "a19acfb2-dac8-4a84-89bb-1bcf93a7df71",
   "metadata": {},
   "outputs": [
    {
     "ename": "FileNotFoundError",
     "evalue": "[WinError 2] The system cannot find the file specified: 'hi.txt'",
     "output_type": "error",
     "traceback": [
      "\u001b[31m---------------------------------------------------------------------------\u001b[39m",
      "\u001b[31mFileNotFoundError\u001b[39m                         Traceback (most recent call last)",
      "\u001b[36mCell\u001b[39m\u001b[36m \u001b[39m\u001b[32mIn[6]\u001b[39m\u001b[32m, line 1\u001b[39m\n\u001b[32m----> \u001b[39m\u001b[32m1\u001b[39m \u001b[43mos\u001b[49m\u001b[43m.\u001b[49m\u001b[43mremove\u001b[49m\u001b[43m(\u001b[49m\u001b[33;43m\"\u001b[39;49m\u001b[33;43mhi.txt\u001b[39;49m\u001b[33;43m\"\u001b[39;49m\u001b[43m)\u001b[49m\n",
      "\u001b[31mFileNotFoundError\u001b[39m: [WinError 2] The system cannot find the file specified: 'hi.txt'"
     ]
    }
   ],
   "source": [
    "os.remove(\"hi.txt\")"
   ]
  },
  {
   "cell_type": "markdown",
   "id": "c3faaafb-7779-4ee3-a55b-f35eb19756bd",
   "metadata": {},
   "source": [
    "# Working with Environment Variable"
   ]
  },
  {
   "cell_type": "code",
   "execution_count": 7,
   "id": "8d3f147f-f815-477f-b101-403d399f0180",
   "metadata": {},
   "outputs": [
    {
     "data": {
      "text/plain": [
       "'C:\\\\Users\\\\rizas'"
      ]
     },
     "execution_count": 7,
     "metadata": {},
     "output_type": "execute_result"
    }
   ],
   "source": [
    "os.getenv(\"HOME\")"
   ]
  },
  {
   "cell_type": "code",
   "execution_count": 8,
   "id": "770e6fd0-d454-45c0-a447-150bbd67dd4a",
   "metadata": {},
   "outputs": [
    {
     "data": {
      "text/plain": [
       "'C:\\\\Users\\\\rizas\\\\OneDrive'"
      ]
     },
     "execution_count": 8,
     "metadata": {},
     "output_type": "execute_result"
    }
   ],
   "source": [
    "os.getenv(\"OneDrive\")"
   ]
  },
  {
   "cell_type": "code",
   "execution_count": 10,
   "id": "94c65c0b-9364-4879-88e4-cee630b50c9c",
   "metadata": {},
   "outputs": [
    {
     "data": {
      "text/plain": [
       "'C:\\\\Users\\\\rizas\\\\bin;C:\\\\Program Files\\\\Git\\\\mingw64\\\\bin;C:\\\\Program Files\\\\Git\\\\usr\\\\local\\\\bin;C:\\\\Program Files\\\\Git\\\\usr\\\\bin;C:\\\\Program Files\\\\Git\\\\usr\\\\bin;C:\\\\Program Files\\\\Git\\\\mingw64\\\\bin;C:\\\\Program Files\\\\Git\\\\usr\\\\bin;C:\\\\Users\\\\rizas\\\\bin;C:\\\\Program Files (x86)\\\\VMware\\\\VMware Workstation\\\\bin;C:\\\\Windows\\\\system32;C:\\\\Windows;C:\\\\Windows\\\\System32\\\\Wbem;C:\\\\Windows\\\\System32\\\\WindowsPowerShell\\\\v1.0;C:\\\\Windows\\\\System32\\\\OpenSSH;C:\\\\Program Files (x86)\\\\NVIDIA Corporation\\\\PhysX\\\\Common;C:\\\\Program Files\\\\NVIDIA Corporation\\\\NVIDIA NvDLISR;C:\\\\Users\\\\rizas\\\\AppData\\\\Roaming\\\\nvm;C:\\\\Program Files\\\\nodejs;C:\\\\Program Files\\\\Pandoc;C:\\\\WINDOWS\\\\system32;C:\\\\WINDOWS;C:\\\\WINDOWS\\\\System32\\\\Wbem;C:\\\\WINDOWS\\\\System32\\\\WindowsPowerShell\\\\v1.0;C:\\\\WINDOWS\\\\System32\\\\OpenSSH;C:\\\\Program Files\\\\Git\\\\cmd;C:\\\\Users\\\\rizas\\\\AppData\\\\Local\\\\Programs\\\\Python\\\\Python313\\\\Scripts;C:\\\\Users\\\\rizas\\\\AppData\\\\Local\\\\Programs\\\\Python\\\\Python313;C:\\\\Users\\\\rizas\\\\AppData\\\\Local\\\\Programs\\\\Python\\\\Python311\\\\Scripts;C:\\\\Users\\\\rizas\\\\AppData\\\\Local\\\\Programs\\\\Python\\\\Python311;C:\\\\Users\\\\rizas\\\\AppData\\\\Local\\\\Microsoft\\\\WindowsApps;C:\\\\Users\\\\rizas\\\\AppData\\\\Local\\\\Programs\\\\Microsoft VS Code\\\\bin;C:\\\\Users\\\\rizas\\\\AppData\\\\Roaming\\\\nvm;C:\\\\Program Files\\\\nodejs;C:\\\\Users\\\\rizas\\\\AppData\\\\Local\\\\GitHubDesktop\\\\bin;C:\\\\Users\\\\rizas\\\\.vscode\\\\extensions\\\\ms-python.debugpy-2025.10.0-win32-x64\\\\bundled\\\\scripts\\\\noConfigScripts;C:\\\\Program Files\\\\Git\\\\usr\\\\bin\\\\vendor_perl;C:\\\\Program Files\\\\Git\\\\usr\\\\bin\\\\core_perl'"
      ]
     },
     "execution_count": 10,
     "metadata": {},
     "output_type": "execute_result"
    }
   ],
   "source": [
    "os.getenv(\"Path\")"
   ]
  },
  {
   "cell_type": "code",
   "execution_count": 12,
   "id": "c10cdc9e-1d56-454a-b956-8a5878df1f54",
   "metadata": {},
   "outputs": [],
   "source": [
    "os.environ[\"MyPassword\"] = \"seceret_pass\""
   ]
  },
  {
   "cell_type": "code",
   "execution_count": 14,
   "id": "c1d3a507-6a0c-40b1-b5af-3a908d93ce1a",
   "metadata": {},
   "outputs": [
    {
     "data": {
      "text/plain": [
       "'seceret_pass'"
      ]
     },
     "execution_count": 14,
     "metadata": {},
     "output_type": "execute_result"
    }
   ],
   "source": [
    "os.getenv(\"MyPassword\")"
   ]
  },
  {
   "cell_type": "code",
   "execution_count": 15,
   "id": "f20c14a5-7d6a-436b-8c63-b8eb5b24a883",
   "metadata": {},
   "outputs": [
    {
     "data": {
      "text/plain": [
       "environ{'ACLOCAL_PATH': 'C:\\\\Program Files\\\\Git\\\\mingw64\\\\share\\\\aclocal;C:\\\\Program Files\\\\Git\\\\usr\\\\share\\\\aclocal',\n",
       "        'ALLUSERSPROFILE': 'C:\\\\ProgramData',\n",
       "        'APPDATA': 'C:\\\\Users\\\\rizas\\\\AppData\\\\Roaming',\n",
       "        'BUNDLED_DEBUGPY_PATH': 'c:\\\\Users\\\\rizas\\\\.vscode\\\\extensions\\\\ms-python.debugpy-2025.10.0-win32-x64\\\\bundled\\\\libs\\\\debugpy',\n",
       "        'CHROME_CRASHPAD_PIPE_NAME': '\\\\\\\\.\\\\pipe\\\\crashpad_23528_GFCDTRMYSFVBFASJ',\n",
       "        'COLORTERM': 'truecolor',\n",
       "        'COMMONPROGRAMFILES': 'C:\\\\Program Files\\\\Common Files',\n",
       "        'COMMONPROGRAMFILES(X86)': 'C:\\\\Program Files (x86)\\\\Common Files',\n",
       "        'COMMONPROGRAMW6432': 'C:\\\\Program Files\\\\Common Files',\n",
       "        'COMPUTERNAME': 'SHRESTHA',\n",
       "        'COMSPEC': 'C:\\\\WINDOWS\\\\system32\\\\cmd.exe',\n",
       "        'CONFIG_SITE': 'C:/Program Files/Git/etc/config.site',\n",
       "        'DISPLAY': 'needs-to-be-defined',\n",
       "        'DRIVERDATA': 'C:\\\\Windows\\\\System32\\\\Drivers\\\\DriverData',\n",
       "        'EFC_15860_1262719628': '1',\n",
       "        'EFC_15860_1592913036': '1',\n",
       "        'EFC_15860_2283032206': '1',\n",
       "        'EFC_15860_2775293581': '1',\n",
       "        'EFC_15860_3789132940': '1',\n",
       "        'EXEPATH': 'C:\\\\Program Files\\\\Git\\\\bin',\n",
       "        'FPS_BROWSER_APP_PROFILE_STRING': 'Internet Explorer',\n",
       "        'FPS_BROWSER_USER_PROFILE_STRING': 'Default',\n",
       "        'GIT_ASKPASS': 'c:\\\\Users\\\\rizas\\\\AppData\\\\Local\\\\Programs\\\\Microsoft VS Code\\\\resources\\\\app\\\\extensions\\\\git\\\\dist\\\\askpass.sh',\n",
       "        'HOME': 'C:\\\\Users\\\\rizas',\n",
       "        'HOMEDRIVE': 'C:',\n",
       "        'HOMEPATH': '\\\\Users\\\\rizas',\n",
       "        'HOSTNAME': 'Shrestha',\n",
       "        'INFOPATH': 'C:\\\\Program Files\\\\Git\\\\mingw64\\\\local\\\\info;C:\\\\Program Files\\\\Git\\\\mingw64\\\\share\\\\info;C:\\\\Program Files\\\\Git\\\\usr\\\\local\\\\info;C:\\\\Program Files\\\\Git\\\\usr\\\\share\\\\info;C:\\\\Program Files\\\\Git\\\\usr\\\\info;C:\\\\Program Files\\\\Git\\\\share\\\\info',\n",
       "        'IPY_INTERRUPT_EVENT': '2424',\n",
       "        'JPY_INTERRUPT_EVENT': '2424',\n",
       "        'JPY_PARENT_PID': '2384',\n",
       "        'JPY_SESSION_NAME': 'C:\\\\Users\\\\rizas\\\\Desktop\\\\git rujan\\\\data-sci-class01\\\\Modules\\\\OS-module.ipynb',\n",
       "        'LANG': 'en_US.UTF-8',\n",
       "        'LOCALAPPDATA': 'C:\\\\Users\\\\rizas\\\\AppData\\\\Local',\n",
       "        'LOGONSERVER': '\\\\\\\\SHRESTHA',\n",
       "        'MANPATH': 'C:\\\\Program Files\\\\Git\\\\mingw64\\\\local\\\\man;C:\\\\Program Files\\\\Git\\\\mingw64\\\\share\\\\man;C:\\\\Program Files\\\\Git\\\\usr\\\\local\\\\man;C:\\\\Program Files\\\\Git\\\\usr\\\\share\\\\man;C:\\\\Program Files\\\\Git\\\\usr\\\\man;C:\\\\Program Files\\\\Git\\\\share\\\\man',\n",
       "        'MINGW_CHOST': 'x86_64-w64-mingw32',\n",
       "        'MINGW_PACKAGE_PREFIX': 'mingw-w64-x86_64',\n",
       "        'MINGW_PREFIX': 'C:/Program Files/Git/mingw64',\n",
       "        'MSYSTEM': 'MINGW64',\n",
       "        'MSYSTEM_CARCH': 'x86_64',\n",
       "        'MSYSTEM_CHOST': 'x86_64-w64-mingw32',\n",
       "        'MSYSTEM_PREFIX': 'C:/Program Files/Git/mingw64',\n",
       "        'NUMBER_OF_PROCESSORS': '12',\n",
       "        'NVM_HOME': 'C:\\\\Users\\\\rizas\\\\AppData\\\\Roaming\\\\nvm',\n",
       "        'NVM_SYMLINK': 'C:\\\\Program Files\\\\nodejs',\n",
       "        'ONEDRIVE': 'C:\\\\Users\\\\rizas\\\\OneDrive',\n",
       "        'ONEDRIVECONSUMER': 'C:\\\\Users\\\\rizas\\\\OneDrive',\n",
       "        'ORIGINAL_PATH': 'C:\\\\Program Files\\\\Git\\\\mingw64\\\\bin;C:\\\\Program Files\\\\Git\\\\usr\\\\bin;C:\\\\Users\\\\rizas\\\\bin;C:\\\\Program Files (x86)\\\\VMware\\\\VMware Workstation\\\\bin;C:\\\\Windows\\\\system32;C:\\\\Windows;C:\\\\Windows\\\\System32\\\\Wbem;C:\\\\Windows\\\\System32\\\\WindowsPowerShell\\\\v1.0;C:\\\\Windows\\\\System32\\\\OpenSSH;C:\\\\Program Files (x86)\\\\NVIDIA Corporation\\\\PhysX\\\\Common;C:\\\\Program Files\\\\NVIDIA Corporation\\\\NVIDIA NvDLISR;C:\\\\Users\\\\rizas\\\\AppData\\\\Roaming\\\\nvm;C:\\\\Program Files\\\\nodejs;C:\\\\Program Files\\\\Pandoc;C:\\\\WINDOWS\\\\system32;C:\\\\WINDOWS;C:\\\\WINDOWS\\\\System32\\\\Wbem;C:\\\\WINDOWS\\\\System32\\\\WindowsPowerShell\\\\v1.0;C:\\\\WINDOWS\\\\System32\\\\OpenSSH;C:\\\\Program Files\\\\Git\\\\cmd;C:\\\\Users\\\\rizas\\\\AppData\\\\Local\\\\Programs\\\\Python\\\\Python313\\\\Scripts;C:\\\\Users\\\\rizas\\\\AppData\\\\Local\\\\Programs\\\\Python\\\\Python313;C:\\\\Users\\\\rizas\\\\AppData\\\\Local\\\\Programs\\\\Python\\\\Python311\\\\Scripts;C:\\\\Users\\\\rizas\\\\AppData\\\\Local\\\\Programs\\\\Python\\\\Python311;C:\\\\Users\\\\rizas\\\\AppData\\\\Local\\\\Microsoft\\\\WindowsApps;C:\\\\Users\\\\rizas\\\\AppData\\\\Local\\\\Programs\\\\Microsoft VS Code\\\\bin;C:\\\\Users\\\\rizas\\\\AppData\\\\Roaming\\\\nvm;C:\\\\Program Files\\\\nodejs;C:\\\\Users\\\\rizas\\\\AppData\\\\Local\\\\GitHubDesktop\\\\bin;C:\\\\Users\\\\rizas\\\\.vscode\\\\extensions\\\\ms-python.debugpy-2025.10.0-win32-x64\\\\bundled\\\\scripts\\\\noConfigScripts',\n",
       "        'ORIGINAL_TEMP': 'C:/Users/rizas/AppData/Local/Temp',\n",
       "        'ORIGINAL_TMP': 'C:/Users/rizas/AppData/Local/Temp',\n",
       "        'ORIGINAL_XDG_CURRENT_DESKTOP': 'undefined',\n",
       "        'OS': 'Windows_NT',\n",
       "        'PATH': 'C:\\\\Users\\\\rizas\\\\bin;C:\\\\Program Files\\\\Git\\\\mingw64\\\\bin;C:\\\\Program Files\\\\Git\\\\usr\\\\local\\\\bin;C:\\\\Program Files\\\\Git\\\\usr\\\\bin;C:\\\\Program Files\\\\Git\\\\usr\\\\bin;C:\\\\Program Files\\\\Git\\\\mingw64\\\\bin;C:\\\\Program Files\\\\Git\\\\usr\\\\bin;C:\\\\Users\\\\rizas\\\\bin;C:\\\\Program Files (x86)\\\\VMware\\\\VMware Workstation\\\\bin;C:\\\\Windows\\\\system32;C:\\\\Windows;C:\\\\Windows\\\\System32\\\\Wbem;C:\\\\Windows\\\\System32\\\\WindowsPowerShell\\\\v1.0;C:\\\\Windows\\\\System32\\\\OpenSSH;C:\\\\Program Files (x86)\\\\NVIDIA Corporation\\\\PhysX\\\\Common;C:\\\\Program Files\\\\NVIDIA Corporation\\\\NVIDIA NvDLISR;C:\\\\Users\\\\rizas\\\\AppData\\\\Roaming\\\\nvm;C:\\\\Program Files\\\\nodejs;C:\\\\Program Files\\\\Pandoc;C:\\\\WINDOWS\\\\system32;C:\\\\WINDOWS;C:\\\\WINDOWS\\\\System32\\\\Wbem;C:\\\\WINDOWS\\\\System32\\\\WindowsPowerShell\\\\v1.0;C:\\\\WINDOWS\\\\System32\\\\OpenSSH;C:\\\\Program Files\\\\Git\\\\cmd;C:\\\\Users\\\\rizas\\\\AppData\\\\Local\\\\Programs\\\\Python\\\\Python313\\\\Scripts;C:\\\\Users\\\\rizas\\\\AppData\\\\Local\\\\Programs\\\\Python\\\\Python313;C:\\\\Users\\\\rizas\\\\AppData\\\\Local\\\\Programs\\\\Python\\\\Python311\\\\Scripts;C:\\\\Users\\\\rizas\\\\AppData\\\\Local\\\\Programs\\\\Python\\\\Python311;C:\\\\Users\\\\rizas\\\\AppData\\\\Local\\\\Microsoft\\\\WindowsApps;C:\\\\Users\\\\rizas\\\\AppData\\\\Local\\\\Programs\\\\Microsoft VS Code\\\\bin;C:\\\\Users\\\\rizas\\\\AppData\\\\Roaming\\\\nvm;C:\\\\Program Files\\\\nodejs;C:\\\\Users\\\\rizas\\\\AppData\\\\Local\\\\GitHubDesktop\\\\bin;C:\\\\Users\\\\rizas\\\\.vscode\\\\extensions\\\\ms-python.debugpy-2025.10.0-win32-x64\\\\bundled\\\\scripts\\\\noConfigScripts;C:\\\\Program Files\\\\Git\\\\usr\\\\bin\\\\vendor_perl;C:\\\\Program Files\\\\Git\\\\usr\\\\bin\\\\core_perl',\n",
       "        'PATHEXT': '.COM;.EXE;.BAT;.CMD;.VBS;.VBE;.JS;.JSE;.WSF;.WSH;.MSC',\n",
       "        'PGCTLTIMEOUT': '300',\n",
       "        'PKG_CONFIG_PATH': 'C:\\\\Program Files\\\\Git\\\\mingw64\\\\lib\\\\pkgconfig;C:\\\\Program Files\\\\Git\\\\mingw64\\\\share\\\\pkgconfig',\n",
       "        'PKG_CONFIG_SYSTEM_INCLUDE_PATH': 'C:/Program Files/Git/mingw64/include',\n",
       "        'PKG_CONFIG_SYSTEM_LIBRARY_PATH': 'C:/Program Files/Git/mingw64/lib',\n",
       "        'PLINK_PROTOCOL': 'ssh',\n",
       "        'PROCESSOR_ARCHITECTURE': 'AMD64',\n",
       "        'PROCESSOR_IDENTIFIER': 'Intel64 Family 6 Model 186 Stepping 2, GenuineIntel',\n",
       "        'PROCESSOR_LEVEL': '6',\n",
       "        'PROCESSOR_REVISION': 'ba02',\n",
       "        'PROGRAMDATA': 'C:\\\\ProgramData',\n",
       "        'PROGRAMFILES': 'C:\\\\Program Files',\n",
       "        'PROGRAMFILES(X86)': 'C:\\\\Program Files (x86)',\n",
       "        'PROGRAMW6432': 'C:\\\\Program Files',\n",
       "        'PS1': '\\\\[\\x1b]633;A\\x07\\\\]\\\\[\\\\033]0;$TITLEPREFIX:$PWD\\\\007\\\\]\\\\n\\\\[\\\\033[32m\\\\]\\\\u@\\\\h \\\\[\\\\033[35m\\\\]$MSYSTEM \\\\[\\\\033[33m\\\\]\\\\w\\\\[\\\\033[36m\\\\]`__git_ps1`\\\\[\\\\033[0m\\\\]\\\\n$ \\\\[\\x1b]633;B\\x07\\\\]',\n",
       "        'PSMODULEPATH': 'C:\\\\Program Files\\\\WindowsPowerShell\\\\Modules;C:\\\\WINDOWS\\\\system32\\\\WindowsPowerShell\\\\v1.0\\\\Modules',\n",
       "        'PT8HOME': 'C:\\\\Program Files\\\\Cisco Packet Tracer 8.2.1',\n",
       "        'PUBLIC': 'C:\\\\Users\\\\Public',\n",
       "        'PWD': 'C:/Users/rizas/Desktop/git rujan/data-sci-class01',\n",
       "        'PYDEVD_DISABLE_FILE_VALIDATION': '1',\n",
       "        'PYTHON_BASIC_REPL': '1',\n",
       "        'SESSIONNAME': 'Console',\n",
       "        'SHELL': 'C:\\\\Program Files\\\\Git\\\\usr\\\\bin\\\\bash.exe',\n",
       "        'SHLVL': '1',\n",
       "        'SSH_ASKPASS': 'C:/Program Files/Git/mingw64/bin/git-askpass.exe',\n",
       "        'SYSTEMDRIVE': 'C:',\n",
       "        'SYSTEMROOT': 'C:\\\\WINDOWS',\n",
       "        'TEMP': 'C:\\\\Users\\\\rizas\\\\AppData\\\\Local\\\\Temp',\n",
       "        'TERM': 'xterm-color',\n",
       "        'TERM_PROGRAM': 'vscode',\n",
       "        'TERM_PROGRAM_VERSION': '1.102.0',\n",
       "        'TMP': 'C:\\\\Users\\\\rizas\\\\AppData\\\\Local\\\\Temp',\n",
       "        'TMPDIR': 'C:\\\\Users\\\\rizas\\\\AppData\\\\Local\\\\Temp',\n",
       "        'USERDOMAIN': 'SHRESTHA',\n",
       "        'USERDOMAIN_ROAMINGPROFILE': 'SHRESTHA',\n",
       "        'USERNAME': 'Rizzz',\n",
       "        'USERPROFILE': 'C:\\\\Users\\\\rizas',\n",
       "        'VBOX_MSI_INSTALL_PATH': 'C:\\\\Program Files\\\\Oracle\\\\VirtualBox\\\\',\n",
       "        'VSCODE_DEBUGPY_ADAPTER_ENDPOINTS': 'c:\\\\Users\\\\rizas\\\\.vscode\\\\extensions\\\\ms-python.debugpy-2025.10.0-win32-x64\\\\.noConfigDebugAdapterEndpoints\\\\endpoint-dc0d2e5b828d942f.txt',\n",
       "        'VSCODE_GIT_ASKPASS_EXTRA_ARGS': '',\n",
       "        'VSCODE_GIT_ASKPASS_MAIN': 'c:\\\\Users\\\\rizas\\\\AppData\\\\Local\\\\Programs\\\\Microsoft VS Code\\\\resources\\\\app\\\\extensions\\\\git\\\\dist\\\\askpass-main.js',\n",
       "        'VSCODE_GIT_ASKPASS_NODE': 'C:\\\\Users\\\\rizas\\\\AppData\\\\Local\\\\Programs\\\\Microsoft VS Code\\\\Code.exe',\n",
       "        'VSCODE_GIT_IPC_HANDLE': '\\\\\\\\.\\\\pipe\\\\vscode-git-3fe84c333a-sock',\n",
       "        'WINDIR': 'C:\\\\WINDOWS',\n",
       "        'ZES_ENABLE_SYSMAN': '1',\n",
       "        '_': 'C:/Users/rizas/AppData/Local/Programs/Python/Python313/Scripts/jupyter',\n",
       "        'PYDEVD_USE_FRAME_EVAL': 'NO',\n",
       "        'CLICOLOR': '1',\n",
       "        'FORCE_COLOR': '1',\n",
       "        'CLICOLOR_FORCE': '1',\n",
       "        'PAGER': 'cat',\n",
       "        'GIT_PAGER': 'cat',\n",
       "        'MPLBACKEND': 'module://matplotlib_inline.backend_inline',\n",
       "        'MY PASSWORD': 'seceret_pass',\n",
       "        'MYPASSWORD': 'seceret_pass'}"
      ]
     },
     "execution_count": 15,
     "metadata": {},
     "output_type": "execute_result"
    }
   ],
   "source": [
    "os.environ"
   ]
  },
  {
   "cell_type": "code",
   "execution_count": null,
   "id": "c99a8197-d140-4536-8f77-bd857e5ddb11",
   "metadata": {},
   "outputs": [],
   "source": []
  }
 ],
 "metadata": {
  "kernelspec": {
   "display_name": "Python 3 (ipykernel)",
   "language": "python",
   "name": "python3"
  },
  "language_info": {
   "codemirror_mode": {
    "name": "ipython",
    "version": 3
   },
   "file_extension": ".py",
   "mimetype": "text/x-python",
   "name": "python",
   "nbconvert_exporter": "python",
   "pygments_lexer": "ipython3",
   "version": "3.13.5"
  }
 },
 "nbformat": 4,
 "nbformat_minor": 5
}

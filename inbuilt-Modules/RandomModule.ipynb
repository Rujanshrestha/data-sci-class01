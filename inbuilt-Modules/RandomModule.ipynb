{
 "cells": [
  {
   "cell_type": "markdown",
   "id": "9fb62801-9919-444e-9f32-681119c77b36",
   "metadata": {},
   "source": [
    "# Python Random Module \n",
    "-->docs: https://docs.python.org/3/library/random.html"
   ]
  },
  {
   "cell_type": "code",
   "execution_count": 1,
   "id": "6ec8b325-da2d-4493-a22e-1f09ae36a558",
   "metadata": {},
   "outputs": [],
   "source": [
    "import random\n"
   ]
  },
  {
   "cell_type": "code",
   "execution_count": 2,
   "id": "a82319c9-92f5-4e0e-a611-fe2a08aa214f",
   "metadata": {},
   "outputs": [
    {
     "data": {
      "text/plain": [
       "0.40281142615845544"
      ]
     },
     "execution_count": 2,
     "metadata": {},
     "output_type": "execute_result"
    }
   ],
   "source": [
    "random.random()"
   ]
  },
  {
   "cell_type": "code",
   "execution_count": 3,
   "id": "5d57e193-7b21-450a-bd6c-024c46616a88",
   "metadata": {},
   "outputs": [
    {
     "data": {
      "text/plain": [
       "85.48862363720687"
      ]
     },
     "execution_count": 3,
     "metadata": {},
     "output_type": "execute_result"
    }
   ],
   "source": [
    "random.uniform(10,100)"
   ]
  },
  {
   "cell_type": "code",
   "execution_count": 4,
   "id": "1dca3006-444f-4c17-9250-843706816840",
   "metadata": {},
   "outputs": [
    {
     "data": {
      "text/plain": [
       "155.02565777925327"
      ]
     },
     "execution_count": 4,
     "metadata": {},
     "output_type": "execute_result"
    }
   ],
   "source": [
    "random.uniform(100,500)"
   ]
  },
  {
   "cell_type": "code",
   "execution_count": 5,
   "id": "92e864ac-ffd6-4c6a-8708-8d67aad3c792",
   "metadata": {},
   "outputs": [
    {
     "data": {
      "text/plain": [
       "256"
      ]
     },
     "execution_count": 5,
     "metadata": {},
     "output_type": "execute_result"
    }
   ],
   "source": [
    "random.randint(100,500)"
   ]
  },
  {
   "cell_type": "code",
   "execution_count": 6,
   "id": "1db85c0c-d93e-4753-bf5c-d0969c763510",
   "metadata": {},
   "outputs": [
    {
     "data": {
      "text/plain": [
       "400"
      ]
     },
     "execution_count": 6,
     "metadata": {},
     "output_type": "execute_result"
    }
   ],
   "source": [
    "random.randrange(100,500,50)"
   ]
  },
  {
   "cell_type": "markdown",
   "id": "35362f77-3192-4b8a-98b2-4a9f65bb867e",
   "metadata": {},
   "source": [
    "## Sequence-related function"
   ]
  },
  {
   "cell_type": "code",
   "execution_count": 7,
   "id": "44bcf369-38a2-4245-aec3-821552ad7d73",
   "metadata": {},
   "outputs": [],
   "source": [
    "cards = [\"ace\",\"king\",\"queen\",\"jack\",\"ten\",\"nine\"]"
   ]
  },
  {
   "cell_type": "code",
   "execution_count": 8,
   "id": "7028ccb9-5f08-4392-8e39-5148f963d210",
   "metadata": {},
   "outputs": [
    {
     "data": {
      "text/plain": [
       "'ten'"
      ]
     },
     "execution_count": 8,
     "metadata": {},
     "output_type": "execute_result"
    }
   ],
   "source": [
    "random.choice(cards)"
   ]
  },
  {
   "cell_type": "code",
   "execution_count": 9,
   "id": "db2c1126-02c1-428c-b5f1-c29d1352ff9c",
   "metadata": {},
   "outputs": [],
   "source": [
    "random.shuffle(cards)"
   ]
  },
  {
   "cell_type": "code",
   "execution_count": 10,
   "id": "34991fde-910a-4f74-b226-9c0e2fcb8d07",
   "metadata": {},
   "outputs": [
    {
     "data": {
      "text/plain": [
       "['ten', 'nine', 'queen', 'king', 'jack', 'ace']"
      ]
     },
     "execution_count": 10,
     "metadata": {},
     "output_type": "execute_result"
    }
   ],
   "source": [
    "cards"
   ]
  },
  {
   "cell_type": "code",
   "execution_count": 11,
   "id": "cb6d562b-eb5e-4e2c-8a6b-7b831e4f43f5",
   "metadata": {},
   "outputs": [
    {
     "data": {
      "text/plain": [
       "['king', 'queen', 'jack']"
      ]
     },
     "execution_count": 11,
     "metadata": {},
     "output_type": "execute_result"
    }
   ],
   "source": [
    "random.sample(cards,3)"
   ]
  },
  {
   "cell_type": "code",
   "execution_count": 12,
   "id": "86596273-b44f-489e-a07b-31d89aa114c9",
   "metadata": {},
   "outputs": [
    {
     "data": {
      "text/plain": [
       "['jack', 'king', 'ace', 'ace']"
      ]
     },
     "execution_count": 12,
     "metadata": {},
     "output_type": "execute_result"
    }
   ],
   "source": [
    "random.choices(cards, weights = [0.2,0.12,0.1,0.4,0.254,0.33] , k=4)"
   ]
  },
  {
   "cell_type": "markdown",
   "id": "045159d9-e176-47f5-850c-2deefae073b3",
   "metadata": {},
   "source": [
    "## Distribution and Probability density function"
   ]
  },
  {
   "cell_type": "code",
   "execution_count": null,
   "id": "d4dd0ca6-6390-44ee-8bfb-9de3d742cd18",
   "metadata": {},
   "outputs": [],
   "source": []
  },
  {
   "cell_type": "markdown",
   "id": "cbc3a627-6495-4bc4-8287-255610fea5c1",
   "metadata": {},
   "source": [
    "## Randomness related function"
   ]
  },
  {
   "cell_type": "code",
   "execution_count": 13,
   "id": "191b9bf7-71c6-4edc-ab88-0fee983576f5",
   "metadata": {},
   "outputs": [],
   "source": [
    "random.seed(555)"
   ]
  },
  {
   "cell_type": "code",
   "execution_count": 14,
   "id": "447102a3-7dae-4997-af88-22186ed3f72d",
   "metadata": {},
   "outputs": [
    {
     "data": {
      "text/plain": [
       "4"
      ]
     },
     "execution_count": 14,
     "metadata": {},
     "output_type": "execute_result"
    }
   ],
   "source": [
    "random.randint(1,10)"
   ]
  },
  {
   "cell_type": "code",
   "execution_count": 15,
   "id": "9f7b7518-1fbf-4984-ac0c-994bea9964e4",
   "metadata": {},
   "outputs": [],
   "source": [
    "import random"
   ]
  },
  {
   "cell_type": "code",
   "execution_count": 16,
   "id": "494292e6-fdf5-4f77-9b28-2c83063db957",
   "metadata": {},
   "outputs": [],
   "source": [
    "state = random.getstate()\n",
    "\n",
    "a = random.randint(1,10)\n",
    "b = random.randint(1,10)\n",
    "c = random.randint(1,10)"
   ]
  },
  {
   "cell_type": "code",
   "execution_count": 17,
   "id": "1ce14303-2d55-474c-a9ab-0707156f3401",
   "metadata": {},
   "outputs": [
    {
     "name": "stdout",
     "output_type": "stream",
     "text": [
      "5 3 3\n"
     ]
    }
   ],
   "source": [
    "print(a,b,c)"
   ]
  },
  {
   "cell_type": "code",
   "execution_count": 18,
   "id": "d75e84a9-22bd-4ff9-951d-6d779deb715e",
   "metadata": {},
   "outputs": [
    {
     "name": "stdout",
     "output_type": "stream",
     "text": [
      "5 3 3\n"
     ]
    }
   ],
   "source": [
    "random.setstate(state)\n",
    "\n",
    "a = random.randint(1,10)\n",
    "b = random.randint(1,10)\n",
    "c = random.randint(1,10)\n",
    "\n",
    "print(a,b,c)"
   ]
  },
  {
   "cell_type": "code",
   "execution_count": null,
   "id": "69a8d944-154d-4440-8196-ad3a61edff4c",
   "metadata": {},
   "outputs": [],
   "source": []
  }
 ],
 "metadata": {
  "kernelspec": {
   "display_name": "Python 3 (ipykernel)",
   "language": "python",
   "name": "python3"
  },
  "language_info": {
   "codemirror_mode": {
    "name": "ipython",
    "version": 3
   },
   "file_extension": ".py",
   "mimetype": "text/x-python",
   "name": "python",
   "nbconvert_exporter": "python",
   "pygments_lexer": "ipython3",
   "version": "3.13.5"
  }
 },
 "nbformat": 4,
 "nbformat_minor": 5
}

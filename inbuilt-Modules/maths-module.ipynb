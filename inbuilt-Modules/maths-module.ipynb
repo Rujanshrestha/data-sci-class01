{
 "cells": [
  {
   "cell_type": "markdown",
   "id": "b20ee167-a975-4280-ace8-2335ab646ed7",
   "metadata": {},
   "source": [
    "# Python Math Module"
   ]
  },
  {
   "cell_type": "code",
   "execution_count": 2,
   "id": "ffdb1503-ae2a-48c9-87a2-1ac299f0c9e3",
   "metadata": {},
   "outputs": [],
   "source": [
    "import math"
   ]
  },
  {
   "cell_type": "code",
   "execution_count": 3,
   "id": "d1d5d10c-b2d7-47f2-8f5a-c5e61a65ae70",
   "metadata": {},
   "outputs": [
    {
     "data": {
      "text/plain": [
       "16.0"
      ]
     },
     "execution_count": 3,
     "metadata": {},
     "output_type": "execute_result"
    }
   ],
   "source": [
    "math.pow(4,2)"
   ]
  },
  {
   "cell_type": "code",
   "execution_count": 4,
   "id": "16ae9c02-65b8-4487-9898-a127b8b52602",
   "metadata": {},
   "outputs": [
    {
     "data": {
      "text/plain": [
       "4.0"
      ]
     },
     "execution_count": 4,
     "metadata": {},
     "output_type": "execute_result"
    }
   ],
   "source": [
    "math.sqrt(16)"
   ]
  },
  {
   "cell_type": "code",
   "execution_count": 6,
   "id": "473c4f12-5b64-4953-9c54-35c76099ca8e",
   "metadata": {},
   "outputs": [
    {
     "data": {
      "text/plain": [
       "3"
      ]
     },
     "execution_count": 6,
     "metadata": {},
     "output_type": "execute_result"
    }
   ],
   "source": [
    "math.ceil(2.0001)"
   ]
  },
  {
   "cell_type": "code",
   "execution_count": 7,
   "id": "9d879f29-5e5b-427d-a0b2-7888fe0684fa",
   "metadata": {},
   "outputs": [
    {
     "data": {
      "text/plain": [
       "2"
      ]
     },
     "execution_count": 7,
     "metadata": {},
     "output_type": "execute_result"
    }
   ],
   "source": [
    "math.floor(2.9999)"
   ]
  },
  {
   "cell_type": "code",
   "execution_count": 9,
   "id": "1a8c877b-6a7f-4f40-8be3-1b94e2d0ba79",
   "metadata": {},
   "outputs": [
    {
     "data": {
      "text/plain": [
       "2"
      ]
     },
     "execution_count": 9,
     "metadata": {},
     "output_type": "execute_result"
    }
   ],
   "source": [
    "math.trunc(2.999) # removes all digits after decimal"
   ]
  },
  {
   "cell_type": "code",
   "execution_count": 10,
   "id": "d3f21932-3208-4565-a845-70147f48bb08",
   "metadata": {},
   "outputs": [
    {
     "data": {
      "text/plain": [
       "4.0"
      ]
     },
     "execution_count": 10,
     "metadata": {},
     "output_type": "execute_result"
    }
   ],
   "source": [
    "math.fabs(-4)"
   ]
  },
  {
   "cell_type": "markdown",
   "id": "1a93d112-964d-412d-a6cd-67b35bd35e97",
   "metadata": {},
   "source": [
    "# Trigonometric Function"
   ]
  },
  {
   "cell_type": "code",
   "execution_count": 11,
   "id": "c8c3b9d9-5d46-40ae-ac9e-a35c79d07a02",
   "metadata": {},
   "outputs": [],
   "source": [
    "d_to_r = math.radians(30)"
   ]
  },
  {
   "cell_type": "code",
   "execution_count": 12,
   "id": "93cff22e-c132-4c22-b21f-5662b1390c51",
   "metadata": {},
   "outputs": [
    {
     "data": {
      "text/plain": [
       "0.5235987755982988"
      ]
     },
     "execution_count": 12,
     "metadata": {},
     "output_type": "execute_result"
    }
   ],
   "source": [
    "d_to_r"
   ]
  },
  {
   "cell_type": "code",
   "execution_count": 13,
   "id": "b49904d5-9cb3-43fb-a612-6abe0e084585",
   "metadata": {},
   "outputs": [
    {
     "data": {
      "text/plain": [
       "0.49999999999999994"
      ]
     },
     "execution_count": 13,
     "metadata": {},
     "output_type": "execute_result"
    }
   ],
   "source": [
    "math.sin(d_to_r)"
   ]
  },
  {
   "cell_type": "code",
   "execution_count": 14,
   "id": "feff059f-3adb-4315-b350-2955a24affa3",
   "metadata": {},
   "outputs": [
    {
     "data": {
      "text/plain": [
       "5.0"
      ]
     },
     "execution_count": 14,
     "metadata": {},
     "output_type": "execute_result"
    }
   ],
   "source": [
    "math.hypot(3,4)"
   ]
  },
  {
   "cell_type": "markdown",
   "id": "dc86879b-b2dc-4450-b728-d7384ebf66e6",
   "metadata": {},
   "source": [
    "# Exponential and Logarithic Functions:"
   ]
  },
  {
   "cell_type": "code",
   "execution_count": 15,
   "id": "b30712f1-fbe9-4d38-9409-b37d599cf2f3",
   "metadata": {},
   "outputs": [
    {
     "data": {
      "text/plain": [
       "1.0"
      ]
     },
     "execution_count": 15,
     "metadata": {},
     "output_type": "execute_result"
    }
   ],
   "source": [
    "math.exp(0)"
   ]
  },
  {
   "cell_type": "code",
   "execution_count": 16,
   "id": "8c0d7c0f-dd9e-4d73-acb4-6e10ee90323a",
   "metadata": {},
   "outputs": [
    {
     "data": {
      "text/plain": [
       "2.718281828459045"
      ]
     },
     "execution_count": 16,
     "metadata": {},
     "output_type": "execute_result"
    }
   ],
   "source": [
    "math.exp(1)"
   ]
  },
  {
   "cell_type": "code",
   "execution_count": 17,
   "id": "b37de2db-2797-4061-98bc-53b58f572b01",
   "metadata": {},
   "outputs": [
    {
     "data": {
      "text/plain": [
       "7.38905609893065"
      ]
     },
     "execution_count": 17,
     "metadata": {},
     "output_type": "execute_result"
    }
   ],
   "source": [
    "math.exp(2)"
   ]
  },
  {
   "cell_type": "code",
   "execution_count": 18,
   "id": "0a4f0b23-12a7-446f-8fe8-cc102655bdb6",
   "metadata": {},
   "outputs": [
    {
     "data": {
      "text/plain": [
       "4.605170185988092"
      ]
     },
     "execution_count": 18,
     "metadata": {},
     "output_type": "execute_result"
    }
   ],
   "source": [
    "math.log(100)"
   ]
  },
  {
   "cell_type": "code",
   "execution_count": 19,
   "id": "499e99d1-9113-4a70-a868-5977704bbc5e",
   "metadata": {},
   "outputs": [
    {
     "name": "stdout",
     "output_type": "stream",
     "text": [
      "<generator object <genexpr> at 0x0000018DE04275E0>\n"
     ]
    }
   ],
   "source": [
    "print(math.log(1000) for i in range(1,100))"
   ]
  },
  {
   "cell_type": "markdown",
   "id": "2df9d2ba-fdd5-420d-bb07-d4015bced40e",
   "metadata": {},
   "source": [
    "# Constant"
   ]
  },
  {
   "cell_type": "code",
   "execution_count": 20,
   "id": "2d42b9b3-6edd-4701-8022-1c693e17acf5",
   "metadata": {},
   "outputs": [
    {
     "data": {
      "text/plain": [
       "3.141592653589793"
      ]
     },
     "execution_count": 20,
     "metadata": {},
     "output_type": "execute_result"
    }
   ],
   "source": [
    "math.pi"
   ]
  },
  {
   "cell_type": "code",
   "execution_count": 21,
   "id": "2f96a0b5-b89c-4127-bbf7-4f8e88d3133a",
   "metadata": {},
   "outputs": [
    {
     "data": {
      "text/plain": [
       "inf"
      ]
     },
     "execution_count": 21,
     "metadata": {},
     "output_type": "execute_result"
    }
   ],
   "source": [
    "math.inf"
   ]
  },
  {
   "cell_type": "code",
   "execution_count": 22,
   "id": "9003d5d0-8371-4104-af0a-88238315ebeb",
   "metadata": {},
   "outputs": [
    {
     "data": {
      "text/plain": [
       "2.718281828459045"
      ]
     },
     "execution_count": 22,
     "metadata": {},
     "output_type": "execute_result"
    }
   ],
   "source": [
    "math.e"
   ]
  },
  {
   "cell_type": "code",
   "execution_count": 23,
   "id": "fd4d089e-170e-499d-9b68-50138315e5f5",
   "metadata": {},
   "outputs": [
    {
     "data": {
      "text/plain": [
       "nan"
      ]
     },
     "execution_count": 23,
     "metadata": {},
     "output_type": "execute_result"
    }
   ],
   "source": [
    "math.nan"
   ]
  },
  {
   "cell_type": "code",
   "execution_count": 24,
   "id": "e0b7645c-0f9e-4bb4-89ad-33327d9e1416",
   "metadata": {},
   "outputs": [
    {
     "data": {
      "text/plain": [
       "6.283185307179586"
      ]
     },
     "execution_count": 24,
     "metadata": {},
     "output_type": "execute_result"
    }
   ],
   "source": [
    "math.tau"
   ]
  },
  {
   "cell_type": "markdown",
   "id": "51c1318c-5e96-4fc3-b88e-45af2f2d2f02",
   "metadata": {},
   "source": [
    "# special functions:\n"
   ]
  },
  {
   "cell_type": "code",
   "execution_count": 25,
   "id": "b9b86f55-dee2-4c7e-8740-06db91a2adcb",
   "metadata": {},
   "outputs": [
    {
     "data": {
      "text/plain": [
       "3628800"
      ]
     },
     "execution_count": 25,
     "metadata": {},
     "output_type": "execute_result"
    }
   ],
   "source": [
    "math.factorial(10)"
   ]
  },
  {
   "cell_type": "code",
   "execution_count": 28,
   "id": "dd0969fe-d369-4319-92ac-8cc82587de4d",
   "metadata": {},
   "outputs": [
    {
     "data": {
      "text/plain": [
       "1"
      ]
     },
     "execution_count": 28,
     "metadata": {},
     "output_type": "execute_result"
    }
   ],
   "source": [
    "math.comb(4,4)"
   ]
  },
  {
   "cell_type": "code",
   "execution_count": 29,
   "id": "d165eee1-de66-476b-b4e3-6649c1a934cf",
   "metadata": {},
   "outputs": [
    {
     "data": {
      "text/plain": [
       "0"
      ]
     },
     "execution_count": 29,
     "metadata": {},
     "output_type": "execute_result"
    }
   ],
   "source": [
    "math.perm(1,4)"
   ]
  },
  {
   "cell_type": "code",
   "execution_count": null,
   "id": "b02761a0-522b-4aea-84ca-88925fcccc12",
   "metadata": {},
   "outputs": [],
   "source": []
  }
 ],
 "metadata": {
  "kernelspec": {
   "display_name": "Python 3 (ipykernel)",
   "language": "python",
   "name": "python3"
  },
  "language_info": {
   "codemirror_mode": {
    "name": "ipython",
    "version": 3
   },
   "file_extension": ".py",
   "mimetype": "text/x-python",
   "name": "python",
   "nbconvert_exporter": "python",
   "pygments_lexer": "ipython3",
   "version": "3.13.5"
  }
 },
 "nbformat": 4,
 "nbformat_minor": 5
}

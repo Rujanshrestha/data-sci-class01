{
 "cells": [
  {
   "cell_type": "code",
   "execution_count": 10,
   "id": "727cc471-c12a-4565-b4df-1154039a333b",
   "metadata": {},
   "outputs": [],
   "source": [
    "import my_calculator"
   ]
  },
  {
   "cell_type": "code",
   "execution_count": 11,
   "id": "6034cf7c-e05f-4037-91ae-96c431f39ca7",
   "metadata": {},
   "outputs": [
    {
     "data": {
      "text/plain": [
       "my_calculator.add_two.sum"
      ]
     },
     "execution_count": 11,
     "metadata": {},
     "output_type": "execute_result"
    }
   ],
   "source": [
    "type(addition) "
   ]
  },
  {
   "cell_type": "code",
   "execution_count": 12,
   "id": "f9cf1ae9-9e7f-48a6-8043-640d0254d686",
   "metadata": {},
   "outputs": [
    {
     "data": {
      "text/plain": [
       "9"
      ]
     },
     "execution_count": 12,
     "metadata": {},
     "output_type": "execute_result"
    }
   ],
   "source": [
    "addition.add(4,5)"
   ]
  },
  {
   "cell_type": "code",
   "execution_count": 13,
   "id": "38fb282c-72e2-416b-acc4-40a7e991e424",
   "metadata": {},
   "outputs": [
    {
     "data": {
      "text/plain": [
       "10"
      ]
     },
     "execution_count": 13,
     "metadata": {},
     "output_type": "execute_result"
    }
   ],
   "source": [
    "my_calculator.addition.add(4,6)"
   ]
  },
  {
   "cell_type": "code",
   "execution_count": null,
   "id": "28a9ede4-42cc-4e6e-89da-1d48da9d38d3",
   "metadata": {},
   "outputs": [],
   "source": []
  },
  {
   "cell_type": "code",
   "execution_count": null,
   "id": "03e0a57c-60dd-42f9-962a-f7d6bd205324",
   "metadata": {},
   "outputs": [],
   "source": []
  }
 ],
 "metadata": {
  "kernelspec": {
   "display_name": "Python 3 (ipykernel)",
   "language": "python",
   "name": "python3"
  },
  "language_info": {
   "codemirror_mode": {
    "name": "ipython",
    "version": 3
   },
   "file_extension": ".py",
   "mimetype": "text/x-python",
   "name": "python",
   "nbconvert_exporter": "python",
   "pygments_lexer": "ipython3",
   "version": "3.13.5"
  }
 },
 "nbformat": 4,
 "nbformat_minor": 5
}

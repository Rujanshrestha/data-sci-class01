{
 "cells": [
  {
   "cell_type": "markdown",
   "id": "54afa6d9-8601-413e-882a-c4b99f771501",
   "metadata": {},
   "source": [
    "# Modules and Packages"
   ]
  },
  {
   "cell_type": "markdown",
   "id": "60bf5ac5-5640-4f5c-a750-af1b704ce3c3",
   "metadata": {},
   "source": [
    "## Python Date and Time Module\n",
    "- datetime\n",
    "-"
   ]
  },
  {
   "cell_type": "code",
   "execution_count": 2,
   "id": "391254e5-515a-4040-98ae-6b586fec2860",
   "metadata": {},
   "outputs": [],
   "source": [
    "import datetime"
   ]
  },
  {
   "cell_type": "code",
   "execution_count": 3,
   "id": "1920ca77-9a0f-43e6-af2c-198729c78ce0",
   "metadata": {},
   "outputs": [
    {
     "data": {
      "text/plain": [
       "9999"
      ]
     },
     "execution_count": 3,
     "metadata": {},
     "output_type": "execute_result"
    }
   ],
   "source": [
    "datetime.MAXYEAR"
   ]
  },
  {
   "cell_type": "code",
   "execution_count": 4,
   "id": "975189b4-982e-4c85-9c08-37b7a2522228",
   "metadata": {},
   "outputs": [
    {
     "data": {
      "text/plain": [
       "1"
      ]
     },
     "execution_count": 4,
     "metadata": {},
     "output_type": "execute_result"
    }
   ],
   "source": [
    "datetime.MINYEAR"
   ]
  },
  {
   "cell_type": "code",
   "execution_count": 11,
   "id": "f8a5b1d3-a8eb-42eb-bb47-549d1ce26947",
   "metadata": {},
   "outputs": [],
   "source": [
    "# '2045/07/14'\n",
    "date1 = datetime.date(2025,8,14)"
   ]
  },
  {
   "cell_type": "code",
   "execution_count": 12,
   "id": "3a8f48a7-61be-4563-b3c8-c94b30763b4a",
   "metadata": {},
   "outputs": [],
   "source": [
    "today = datetime.date.today()"
   ]
  },
  {
   "cell_type": "code",
   "execution_count": 13,
   "id": "901db57c-d5fb-48ad-bd85-c7003320a035",
   "metadata": {},
   "outputs": [
    {
     "data": {
      "text/plain": [
       "datetime.date(2025, 7, 14)"
      ]
     },
     "execution_count": 13,
     "metadata": {},
     "output_type": "execute_result"
    }
   ],
   "source": [
    "today"
   ]
  },
  {
   "cell_type": "code",
   "execution_count": 14,
   "id": "4d334f9d-397f-460f-b00f-39feea30ffe4",
   "metadata": {},
   "outputs": [
    {
     "name": "stdout",
     "output_type": "stream",
     "text": [
      "2025-07-14\n"
     ]
    }
   ],
   "source": [
    "print(today)"
   ]
  },
  {
   "cell_type": "code",
   "execution_count": 15,
   "id": "3bdf3fff-c3e0-438e-922f-a494c0b33569",
   "metadata": {},
   "outputs": [
    {
     "data": {
      "text/plain": [
       "True"
      ]
     },
     "execution_count": 15,
     "metadata": {},
     "output_type": "execute_result"
    }
   ],
   "source": [
    "#compare Dates\n",
    "\n",
    "date1 > today"
   ]
  },
  {
   "cell_type": "code",
   "execution_count": 17,
   "id": "46bbc12d-ea5d-41ea-b222-4a57f960e42f",
   "metadata": {},
   "outputs": [
    {
     "data": {
      "text/plain": [
       "False"
      ]
     },
     "execution_count": 17,
     "metadata": {},
     "output_type": "execute_result"
    }
   ],
   "source": [
    "date1 == today"
   ]
  },
  {
   "cell_type": "code",
   "execution_count": 18,
   "id": "05dfcb2e-69a8-4e2c-804b-b72a1c5c6caf",
   "metadata": {},
   "outputs": [
    {
     "data": {
      "text/plain": [
       "datetime.timedelta(days=31)"
      ]
     },
     "execution_count": 18,
     "metadata": {},
     "output_type": "execute_result"
    }
   ],
   "source": [
    "# Arith. operation\n",
    "\n",
    "date1 - today"
   ]
  },
  {
   "cell_type": "code",
   "execution_count": 19,
   "id": "5a36f996-0afe-43c6-afce-2dddc5d27724",
   "metadata": {},
   "outputs": [
    {
     "ename": "TypeError",
     "evalue": "unsupported operand type(s) for +: 'datetime.date' and 'datetime.date'",
     "output_type": "error",
     "traceback": [
      "\u001b[31m---------------------------------------------------------------------------\u001b[39m",
      "\u001b[31mTypeError\u001b[39m                                 Traceback (most recent call last)",
      "\u001b[36mCell\u001b[39m\u001b[36m \u001b[39m\u001b[32mIn[19]\u001b[39m\u001b[32m, line 1\u001b[39m\n\u001b[32m----> \u001b[39m\u001b[32m1\u001b[39m \u001b[43mdate1\u001b[49m\u001b[43m \u001b[49m\u001b[43m+\u001b[49m\u001b[43m \u001b[49m\u001b[43mtoday\u001b[49m\n",
      "\u001b[31mTypeError\u001b[39m: unsupported operand type(s) for +: 'datetime.date' and 'datetime.date'"
     ]
    }
   ],
   "source": [
    "date1 + today"
   ]
  },
  {
   "cell_type": "code",
   "execution_count": 20,
   "id": "95e4415d-7786-4192-a97e-ca6d453e9063",
   "metadata": {},
   "outputs": [],
   "source": [
    "today_time = datetime.time(12,54,6)"
   ]
  },
  {
   "cell_type": "code",
   "execution_count": 21,
   "id": "8ab26c7d-393f-4936-904a-09c700bf0ee2",
   "metadata": {},
   "outputs": [
    {
     "data": {
      "text/plain": [
       "datetime.time(12, 54, 6)"
      ]
     },
     "execution_count": 21,
     "metadata": {},
     "output_type": "execute_result"
    }
   ],
   "source": [
    "today_time"
   ]
  },
  {
   "cell_type": "code",
   "execution_count": 22,
   "id": "73b76917-b6bf-42eb-b6f5-9527483e6927",
   "metadata": {},
   "outputs": [
    {
     "data": {
      "text/plain": [
       "datetime.datetime(2025, 7, 14, 8, 26, 36, 924691)"
      ]
     },
     "execution_count": 22,
     "metadata": {},
     "output_type": "execute_result"
    }
   ],
   "source": [
    "now = datetime.datetime.today()\n",
    "now"
   ]
  },
  {
   "cell_type": "code",
   "execution_count": 26,
   "id": "64e1f7db-985a-4fb3-b24f-1a828e37a761",
   "metadata": {},
   "outputs": [
    {
     "data": {
      "text/plain": [
       "'25-07-14 08:26:36'"
      ]
     },
     "execution_count": 26,
     "metadata": {},
     "output_type": "execute_result"
    }
   ],
   "source": [
    "now.strftime(\"%y-%m-%d %H:%M:%S\")"
   ]
  },
  {
   "cell_type": "code",
   "execution_count": 27,
   "id": "92be1d89-1ea9-4728-a332-1763f048c600",
   "metadata": {},
   "outputs": [
    {
     "data": {
      "text/plain": [
       "14"
      ]
     },
     "execution_count": 27,
     "metadata": {},
     "output_type": "execute_result"
    }
   ],
   "source": [
    "now.day\n"
   ]
  },
  {
   "cell_type": "code",
   "execution_count": 31,
   "id": "84fd0a5a-3a83-4025-acc8-e0101140e8fc",
   "metadata": {},
   "outputs": [
    {
     "data": {
      "text/plain": [
       "datetime.datetime(2008, 5, 22, 0, 0)"
      ]
     },
     "execution_count": 31,
     "metadata": {},
     "output_type": "execute_result"
    }
   ],
   "source": [
    "# Timedelta\n",
    "\n",
    "year_19 = datetime.timedelta(days = 10*365)\n",
    "\n",
    "datetime.datetime(1998,5,25) + year_19"
   ]
  },
  {
   "cell_type": "code",
   "execution_count": 32,
   "id": "f29d5809-b14c-4078-9883-053120f9f575",
   "metadata": {},
   "outputs": [
    {
     "data": {
      "text/plain": [
       "315360000.0"
      ]
     },
     "execution_count": 32,
     "metadata": {},
     "output_type": "execute_result"
    }
   ],
   "source": [
    "year_19.total_seconds()"
   ]
  },
  {
   "cell_type": "code",
   "execution_count": null,
   "id": "da212b12-9bad-44a6-8ee3-bf9c9023f0fe",
   "metadata": {},
   "outputs": [],
   "source": []
  }
 ],
 "metadata": {
  "kernelspec": {
   "display_name": "Python 3 (ipykernel)",
   "language": "python",
   "name": "python3"
  },
  "language_info": {
   "codemirror_mode": {
    "name": "ipython",
    "version": 3
   },
   "file_extension": ".py",
   "mimetype": "text/x-python",
   "name": "python",
   "nbconvert_exporter": "python",
   "pygments_lexer": "ipython3",
   "version": "3.13.5"
  }
 },
 "nbformat": 4,
 "nbformat_minor": 5
}

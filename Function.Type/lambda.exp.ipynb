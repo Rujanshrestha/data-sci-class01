{
 "cells": [
  {
   "cell_type": "markdown",
   "id": "a73fa23b-1340-4923-892b-7a3ffdf95cd8",
   "metadata": {},
   "source": [
    "# python lambda expressions\n"
   ]
  },
  {
   "cell_type": "code",
   "execution_count": 3,
   "id": "50a20c0f-ed7c-4156-a64d-df2db4b84830",
   "metadata": {},
   "outputs": [
    {
     "data": {
      "text/plain": [
       "9"
      ]
     },
     "execution_count": 3,
     "metadata": {},
     "output_type": "execute_result"
    }
   ],
   "source": [
    "#usual method\n",
    "def add(x, y):\n",
    "    return x + y\n",
    "\n",
    "add(4,5)\n"
   ]
  },
  {
   "cell_type": "code",
   "execution_count": 4,
   "id": "67239a46-de53-42af-98f3-c8432b011513",
   "metadata": {},
   "outputs": [],
   "source": [
    "add_lambda = lambda x,y: x+y"
   ]
  },
  {
   "cell_type": "code",
   "execution_count": 5,
   "id": "17122f23-27c5-46b6-bc3b-35e57f19dc06",
   "metadata": {},
   "outputs": [
    {
     "data": {
      "text/plain": [
       "function"
      ]
     },
     "execution_count": 5,
     "metadata": {},
     "output_type": "execute_result"
    }
   ],
   "source": [
    "type(add_lambda)"
   ]
  },
  {
   "cell_type": "code",
   "execution_count": 6,
   "id": "cfdeeb14-119f-43e7-981e-45c98c20c86a",
   "metadata": {},
   "outputs": [
    {
     "data": {
      "text/plain": [
       "9"
      ]
     },
     "execution_count": 6,
     "metadata": {},
     "output_type": "execute_result"
    }
   ],
   "source": [
    "add_lambda(4,5)"
   ]
  },
  {
   "cell_type": "code",
   "execution_count": 7,
   "id": "7524a601-2640-4c2c-a381-08658066175a",
   "metadata": {},
   "outputs": [],
   "source": [
    "# area of cuboid\n",
    "tsa = lambda l,b,h : 2*(l*b + b*h +l*h)"
   ]
  },
  {
   "cell_type": "code",
   "execution_count": 8,
   "id": "ede56415-a19d-4965-a8b9-ac489571ea6d",
   "metadata": {},
   "outputs": [
    {
     "data": {
      "text/plain": [
       "22"
      ]
     },
     "execution_count": 8,
     "metadata": {},
     "output_type": "execute_result"
    }
   ],
   "source": [
    "tsa (1,2,3)"
   ]
  },
  {
   "cell_type": "markdown",
   "id": "0ba6e37d-1cbb-4896-8d04-fa17864ea024",
   "metadata": {},
   "source": [
    "## map fucntion"
   ]
  },
  {
   "cell_type": "code",
   "execution_count": 9,
   "id": "0757121c-5592-489d-9403-1048f554a76e",
   "metadata": {},
   "outputs": [],
   "source": [
    "def get_discount(x):\n",
    "\n",
    "    return x*0.9 if x > 100 else x"
   ]
  },
  {
   "cell_type": "code",
   "execution_count": 10,
   "id": "4207a7a6-dbce-442a-b179-d87a868c3f33",
   "metadata": {},
   "outputs": [
    {
     "data": {
      "text/plain": [
       "108.0"
      ]
     },
     "execution_count": 10,
     "metadata": {},
     "output_type": "execute_result"
    }
   ],
   "source": [
    "price = [45, 120, 200, 75, 150]\n",
    "get_discount(120)"
   ]
  },
  {
   "cell_type": "code",
   "execution_count": 11,
   "id": "e52252a2-d178-4df5-a8c8-958b82b78f07",
   "metadata": {},
   "outputs": [
    {
     "data": {
      "text/plain": [
       "[45, 108.0, 180.0, 75, 135.0]"
      ]
     },
     "execution_count": 11,
     "metadata": {},
     "output_type": "execute_result"
    }
   ],
   "source": [
    "getdiscount = lambda x :  x*0.9 if x > 100 else x\n",
    "price = price = [45, 120, 200, 75, 150]\n",
    "map_obj = map(getdiscount, price)\n",
    "list(map_obj)"
   ]
  },
  {
   "cell_type": "code",
   "execution_count": 12,
   "id": "004cc5b5-0ab8-47f7-8d16-633caffa9594",
   "metadata": {},
   "outputs": [
    {
     "data": {
      "text/plain": [
       "[45, 108.0, 180.0, 75, 135.0]"
      ]
     },
     "execution_count": 12,
     "metadata": {},
     "output_type": "execute_result"
    }
   ],
   "source": [
    "def dic(c):\n",
    "    return c * 0.9 if 100 < c else c\n",
    "price = price = [45, 120, 200, 75, 150]\n",
    "map_obj = map(dic, price)\n",
    "list(map_obj)"
   ]
  },
  {
   "cell_type": "code",
   "execution_count": null,
   "id": "26a8163c-e594-448f-bd8e-af2102d419e5",
   "metadata": {},
   "outputs": [],
   "source": []
  },
  {
   "cell_type": "code",
   "execution_count": 13,
   "id": "0ed552c3-e169-45c7-9869-4b68ab4364be",
   "metadata": {},
   "outputs": [],
   "source": [
    "large_obj = range(1,1000000)\n",
    "res_value = []"
   ]
  },
  {
   "cell_type": "code",
   "execution_count": 14,
   "id": "3aab0f4d-9f7f-4cce-9873-45c727aa794a",
   "metadata": {},
   "outputs": [
    {
     "name": "stdout",
     "output_type": "stream",
     "text": [
      "CPU times: total: 344 ms\n",
      "Wall time: 324 ms\n"
     ]
    }
   ],
   "source": [
    "%%time\n",
    "\n",
    "for a in large_obj: \n",
    "    res_value.append(getdiscount(a))"
   ]
  },
  {
   "cell_type": "code",
   "execution_count": null,
   "id": "49d261e2-999a-4325-83f8-060e991d5f05",
   "metadata": {},
   "outputs": [],
   "source": []
  },
  {
   "cell_type": "code",
   "execution_count": null,
   "id": "15298800-ccd8-4b5f-87b5-54634498def3",
   "metadata": {},
   "outputs": [],
   "source": []
  }
 ],
 "metadata": {
  "kernelspec": {
   "display_name": "Python 3 (ipykernel)",
   "language": "python",
   "name": "python3"
  },
  "language_info": {
   "codemirror_mode": {
    "name": "ipython",
    "version": 3
   },
   "file_extension": ".py",
   "mimetype": "text/x-python",
   "name": "python",
   "nbconvert_exporter": "python",
   "pygments_lexer": "ipython3",
   "version": "3.13.5"
  }
 },
 "nbformat": 4,
 "nbformat_minor": 5
}

{
 "cells": [
  {
   "cell_type": "markdown",
   "id": "5746ce02-0709-40dc-beba-2d95d14f54c1",
   "metadata": {},
   "source": [
    "# User-Defined function"
   ]
  },
  {
   "cell_type": "code",
   "execution_count": 4,
   "id": "4052ad79-17ff-4c04-957b-120a434bcb8c",
   "metadata": {},
   "outputs": [],
   "source": [
    "def sum_of_list(inp_list):\n",
    "    result = 0\n",
    "\n",
    "    for x in inp_list:\n",
    "        result += x\n",
    "\n",
    "    return result"
   ]
  },
  {
   "cell_type": "code",
   "execution_count": 5,
   "id": "f11a48ca-1042-4e1d-9088-45589be231a9",
   "metadata": {},
   "outputs": [
    {
     "data": {
      "text/plain": [
       "17"
      ]
     },
     "execution_count": 5,
     "metadata": {},
     "output_type": "execute_result"
    }
   ],
   "source": [
    "sum_of_list([2,4,5,6])"
   ]
  },
  {
   "cell_type": "code",
   "execution_count": 10,
   "id": "82f15e45-2faa-4105-8e51-a7b6cdccf170",
   "metadata": {},
   "outputs": [
    {
     "data": {
      "text/plain": [
       "'Morning, Rujan'"
      ]
     },
     "execution_count": 10,
     "metadata": {},
     "output_type": "execute_result"
    }
   ],
   "source": [
    "def greet(name, greetings =\"Morning\"):\n",
    "    return f\"{greetings}, {name}\"\n",
    "greet(\"Rujan\")\n",
    "\n",
    "#greeting get opptional"
   ]
  },
  {
   "cell_type": "code",
   "execution_count": 14,
   "id": "a542edf9-2857-4315-8987-f76d85affeff",
   "metadata": {},
   "outputs": [],
   "source": [
    "def printy_args(*args):\n",
    "    print(\"positional args\")\n",
    "    for arg in args:\n",
    "        print(arg)\n",
    "\n"
   ]
  },
  {
   "cell_type": "code",
   "execution_count": 15,
   "id": "2395d8a9-742e-4c49-8e43-735c515903ec",
   "metadata": {},
   "outputs": [
    {
     "name": "stdout",
     "output_type": "stream",
     "text": [
      "positional args\n",
      "1\n",
      "3\n",
      "4\n",
      "5\n",
      "3\n",
      "[4, 5]\n",
      "ram\n"
     ]
    }
   ],
   "source": [
    "printy_args(1,3,4,5,3,[4,5], \"ram\")"
   ]
  },
  {
   "cell_type": "code",
   "execution_count": 23,
   "id": "e6c06e0c-5589-4280-98df-d56d92841050",
   "metadata": {},
   "outputs": [],
   "source": [
    "def print_kargs(**kwargs):\n",
    "    print(\"keywords argd\")\n",
    "    print(kwargs)\n"
   ]
  },
  {
   "cell_type": "code",
   "execution_count": 24,
   "id": "0956573c-6f98-4acc-af6b-9e16ad2e0653",
   "metadata": {},
   "outputs": [
    {
     "name": "stdout",
     "output_type": "stream",
     "text": [
      "keywords argd\n",
      "{'length': 4, 'breadth': 5}\n"
     ]
    }
   ],
   "source": [
    "print_kargs(length = 4, breadth = 5)"
   ]
  },
  {
   "cell_type": "code",
   "execution_count": 27,
   "id": "90e181ed-ea95-409b-a9ab-1133fe59e60e",
   "metadata": {},
   "outputs": [],
   "source": [
    "def print_kargs(**kwargs):\n",
    "    print(\"keywords argd\")\n",
    "    print(kwargs)\n",
    "    length = kwargs.get(\"length\")\n",
    "    "
   ]
  },
  {
   "cell_type": "code",
   "execution_count": 28,
   "id": "a016d71d-64f0-4790-afe0-2e78d20fcb01",
   "metadata": {},
   "outputs": [
    {
     "name": "stdout",
     "output_type": "stream",
     "text": [
      "keywords argd\n",
      "{'length': 4, 'breadth': 5}\n"
     ]
    }
   ],
   "source": [
    "print_kargs(length = 4, breadth = 5)"
   ]
  },
  {
   "cell_type": "code",
   "execution_count": 31,
   "id": "224b307f-c3c2-4449-a62a-eba45c4b57b2",
   "metadata": {},
   "outputs": [],
   "source": [
    "def print_argument(*args, **kwargs):\n",
    "    print(\"position\")\n",
    "    print(args)\n",
    "    print(\".\"*50)\n",
    "    print(\"keywords\")\n",
    "    print(kwargs)\n",
    "    "
   ]
  },
  {
   "cell_type": "code",
   "execution_count": 32,
   "id": "bb20976a-d099-4cb1-896b-a7e28639eb8d",
   "metadata": {},
   "outputs": [
    {
     "name": "stdout",
     "output_type": "stream",
     "text": [
      "position\n",
      "('ram', 1, True)\n",
      "..................................................\n",
      "keywords\n",
      "{'score': [1, 2, 3], 'greet': 'hello'}\n"
     ]
    }
   ],
   "source": [
    "print_argument(\"ram\", 1, True, score = [1,2,3], greet = \"hello\")"
   ]
  },
  {
   "cell_type": "markdown",
   "id": "93854473-2897-4c10-a037-2fed685e9418",
   "metadata": {},
   "source": [
    "# Documentation in Function"
   ]
  },
  {
   "cell_type": "code",
   "execution_count": 35,
   "id": "096a4c17-82b2-4db0-8c61-58f4b0e7364c",
   "metadata": {},
   "outputs": [],
   "source": [
    "def square(n: int) -> int:\n",
    "    \"\"\" Give square of a number \"\"\"\n",
    "    return n ** 2"
   ]
  },
  {
   "cell_type": "code",
   "execution_count": 36,
   "id": "2582d26b-cc63-4a73-ac76-09a7631e1aa4",
   "metadata": {},
   "outputs": [
    {
     "data": {
      "text/plain": [
       "49"
      ]
     },
     "execution_count": 36,
     "metadata": {},
     "output_type": "execute_result"
    }
   ],
   "source": [
    "square(7)"
   ]
  },
  {
   "cell_type": "markdown",
   "id": "f2f9fbae-ad5a-4172-9c58-7e205b23b6fd",
   "metadata": {},
   "source": [
    "Question : Calculate Std. Deviation of given list.\n",
    " \n",
    "Standard Deviation : $\\sqrt{\\frac{\\sum{(X - \\bar{X})}^2}{N}}$\n",
    " "
   ]
  },
  {
   "cell_type": "code",
   "execution_count": 21,
   "id": "4aa71615-1d6b-4bb3-9ca7-4a3ead024d23",
   "metadata": {},
   "outputs": [],
   "source": [
    "from math import sqrt\n",
    "\n",
    "data = [1, 2, 3, 4, 5, 56, 6, 7, 7, 55]\n",
    "\n",
    "def SD(data):\n",
    "    n = len(data)\n",
    "    mean = sum(data) / n\n",
    "    squared_diff = [(x - mean) ** 2 for x in data]\n",
    "    result = sqrt(sum(squared_diff) / n) \n",
    "    print(result)"
   ]
  },
  {
   "cell_type": "code",
   "execution_count": 25,
   "id": "862c7478-49aa-4134-b11a-cb50ad3e12f4",
   "metadata": {},
   "outputs": [
    {
     "name": "stdout",
     "output_type": "stream",
     "text": [
      "20.538743875904387\n"
     ]
    }
   ],
   "source": [
    "SD(data)"
   ]
  },
  {
   "cell_type": "code",
   "execution_count": null,
   "id": "c26e590a-2644-40bd-815a-0d962a98dd14",
   "metadata": {},
   "outputs": [],
   "source": []
  }
 ],
 "metadata": {
  "kernelspec": {
   "display_name": "Python 3 (ipykernel)",
   "language": "python",
   "name": "python3"
  },
  "language_info": {
   "codemirror_mode": {
    "name": "ipython",
    "version": 3
   },
   "file_extension": ".py",
   "mimetype": "text/x-python",
   "name": "python",
   "nbconvert_exporter": "python",
   "pygments_lexer": "ipython3",
   "version": "3.13.5"
  }
 },
 "nbformat": 4,
 "nbformat_minor": 5
}

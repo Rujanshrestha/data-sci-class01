{
 "cells": [
  {
   "cell_type": "markdown",
   "id": "969ecedf-b415-46a9-bd56-670b1e037e65",
   "metadata": {},
   "source": [
    "# Encapsulation in Python\n",
    "1. Private:- (__)  double underscore\n",
    "2. protected:- (_)  single underscore\n",
    "3. public :- (..)   no underscore   "
   ]
  },
  {
   "cell_type": "code",
   "execution_count": 22,
   "id": "3d8986ee-ea09-4f46-a06c-3f01d1540a5c",
   "metadata": {},
   "outputs": [],
   "source": [
    "class Example:\n",
    "    def __init__(self):\n",
    "        self.public_var = 1\n",
    "        self.__private_var = 2\n",
    "        self._protected_var = 3\n",
    "\n",
    "    def public_method(self):\n",
    "        print(self.__private_var)\n",
    "        print(\"this is public\")\n",
    "\n",
    "    def __private_method(self):\n",
    "        print(\"this is private\")\n",
    "    \n",
    "    def _protected_method(self):\n",
    "        print(\"this is protected\")"
   ]
  },
  {
   "cell_type": "code",
   "execution_count": 23,
   "id": "4bdd1eef-5a45-48f2-b80b-76563a612394",
   "metadata": {},
   "outputs": [],
   "source": [
    "obj = Example()"
   ]
  },
  {
   "cell_type": "code",
   "execution_count": 24,
   "id": "94de5fab-f380-4787-8ad7-e1d57f40e9f6",
   "metadata": {},
   "outputs": [
    {
     "data": {
      "text/plain": [
       "1"
      ]
     },
     "execution_count": 24,
     "metadata": {},
     "output_type": "execute_result"
    }
   ],
   "source": [
    "obj.public_var"
   ]
  },
  {
   "cell_type": "code",
   "execution_count": 25,
   "id": "433ede50-d0b3-49bf-a3e4-f9bfbdda78ee",
   "metadata": {},
   "outputs": [
    {
     "name": "stdout",
     "output_type": "stream",
     "text": [
      "2\n",
      "this is public\n"
     ]
    }
   ],
   "source": [
    "obj.public_method()"
   ]
  },
  {
   "cell_type": "code",
   "execution_count": 26,
   "id": "dc641746-43b8-4587-a2c3-61ec1f19a434",
   "metadata": {},
   "outputs": [
    {
     "name": "stdout",
     "output_type": "stream",
     "text": [
      "this is protected\n"
     ]
    }
   ],
   "source": [
    "obj._protected_method()"
   ]
  },
  {
   "cell_type": "code",
   "execution_count": 27,
   "id": "d388eb09-a366-4acb-85ea-5f17dc76fb45",
   "metadata": {},
   "outputs": [
    {
     "ename": "AttributeError",
     "evalue": "'Example' object has no attribute '__private_method'",
     "output_type": "error",
     "traceback": [
      "\u001b[31m---------------------------------------------------------------------------\u001b[39m",
      "\u001b[31mAttributeError\u001b[39m                            Traceback (most recent call last)",
      "\u001b[36mCell\u001b[39m\u001b[36m \u001b[39m\u001b[32mIn[27]\u001b[39m\u001b[32m, line 1\u001b[39m\n\u001b[32m----> \u001b[39m\u001b[32m1\u001b[39m \u001b[43mobj\u001b[49m\u001b[43m.\u001b[49m\u001b[43m__private_method\u001b[49m()\n",
      "\u001b[31mAttributeError\u001b[39m: 'Example' object has no attribute '__private_method'"
     ]
    }
   ],
   "source": [
    "obj.__private_method()"
   ]
  },
  {
   "cell_type": "markdown",
   "id": "24801f7d-f8db-416e-a004-ed05f94fd396",
   "metadata": {},
   "source": [
    "therefor it hide the __private_var "
   ]
  },
  {
   "cell_type": "code",
   "execution_count": 14,
   "id": "600201a7-e5fd-492e-b5bd-2f8bab5c8133",
   "metadata": {},
   "outputs": [],
   "source": [
    "class subclass(Example):\n",
    "    def get_public_member(self):\n",
    "        print(self.public_var)\n",
    "\n",
    "    def get_protected_member(self):\n",
    "        print(self.protected_var)\n",
    "\n",
    "    def get_private_member(self):\n",
    "        print(self.__private_var)    "
   ]
  },
  {
   "cell_type": "code",
   "execution_count": 15,
   "id": "2446e6ae-27b5-4cf4-a367-d7006032d1cb",
   "metadata": {},
   "outputs": [],
   "source": [
    "sub = subclass()"
   ]
  },
  {
   "cell_type": "code",
   "execution_count": 19,
   "id": "854b2c3f-753b-43c2-bc7c-854494f99890",
   "metadata": {},
   "outputs": [
    {
     "name": "stdout",
     "output_type": "stream",
     "text": [
      "1\n"
     ]
    }
   ],
   "source": [
    "sub.get_public_member()"
   ]
  },
  {
   "cell_type": "code",
   "execution_count": 31,
   "id": "e0559c70-74d3-478b-b014-fdbae6d83580",
   "metadata": {},
   "outputs": [],
   "source": [
    "class BankAccount:\n",
    "    def __init__(self, name, balance):\n",
    "        self.name = name\n",
    "        self.__balance = balance\n",
    "\n",
    "    def deposit(self, amount):\n",
    "        if amount > 0:\n",
    "            self.__balance += amount\n",
    "            print(f\"Deposited {amount}. New balance: {self.__balance}\")\n",
    "        else:\n",
    "            print(\"Deposit amount must be positive.\")\n",
    "\n",
    "    def withdraw(self, amount):\n",
    "        if amount <= 0:\n",
    "            return (\"Withdrawal amount must be positive\")\n",
    "        if amount > self.__balance:\n",
    "            return (\"Insufficient funds\")\n",
    "        self.__balance -= amount\n",
    "        return f\"Withdrew {amount}. New balance: {self.__balance}\"\n",
    "    \n",
    "    def check_balance(self):\n",
    "        return f\"Account balance for {self.name}: {self.__balance}\"\n",
    "\n",
    "class savingAccount(BankAccount):\n",
    "    def __init__(self, name, balance, rate=5):\n",
    "        super().__init__(name, balance)\n",
    "        self.rate = rate\n",
    "\n",
    "    def add_interest(self):\n",
    "        balance = self.get_balance()\n",
    "        interest = (balance * self.rate) / 100\n",
    "        new_balance = balance + interest\n",
    "        self.set_balance(new_balance)\n",
    "        return f\"Interest of {interest} added. New balance: {new_balance}\""
   ]
  },
  {
   "cell_type": "code",
   "execution_count": 40,
   "id": "718e1813-0323-449a-b8fe-5969134184ff",
   "metadata": {},
   "outputs": [],
   "source": [
    "save = BankAccount(\"rujan\", 30000)"
   ]
  },
  {
   "cell_type": "code",
   "execution_count": 41,
   "id": "9fd6436b-207e-45df-b405-5b2d1dfe8889",
   "metadata": {},
   "outputs": [
    {
     "name": "stdout",
     "output_type": "stream",
     "text": [
      "Deposited 100. New balance: 30100\n"
     ]
    }
   ],
   "source": [
    "save.deposit(100)"
   ]
  },
  {
   "cell_type": "code",
   "execution_count": 42,
   "id": "d984c63b-4ce0-446a-a3e6-3cb200f253a6",
   "metadata": {},
   "outputs": [
    {
     "data": {
      "text/plain": [
       "'Account balance for rujan: 30100'"
      ]
     },
     "execution_count": 42,
     "metadata": {},
     "output_type": "execute_result"
    }
   ],
   "source": [
    "save.check_balance()"
   ]
  },
  {
   "cell_type": "code",
   "execution_count": 43,
   "id": "d498b83f-11e0-4e84-8ad6-83f9635e499d",
   "metadata": {},
   "outputs": [
    {
     "data": {
      "text/plain": [
       "'Insufficient funds'"
      ]
     },
     "execution_count": 43,
     "metadata": {},
     "output_type": "execute_result"
    }
   ],
   "source": [
    "save.withdraw(100000)"
   ]
  },
  {
   "cell_type": "code",
   "execution_count": null,
   "id": "0b40c1bc-4350-42ae-8369-6d009058e152",
   "metadata": {},
   "outputs": [],
   "source": []
  }
 ],
 "metadata": {
  "kernelspec": {
   "display_name": "Python 3 (ipykernel)",
   "language": "python",
   "name": "python3"
  },
  "language_info": {
   "codemirror_mode": {
    "name": "ipython",
    "version": 3
   },
   "file_extension": ".py",
   "mimetype": "text/x-python",
   "name": "python",
   "nbconvert_exporter": "python",
   "pygments_lexer": "ipython3",
   "version": "3.13.5"
  }
 },
 "nbformat": 4,
 "nbformat_minor": 5
}

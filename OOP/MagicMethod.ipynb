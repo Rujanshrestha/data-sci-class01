{
 "cells": [
  {
   "cell_type": "markdown",
   "id": "6893062a-51ed-4fc3-83e1-11a521ee7c46",
   "metadata": {},
   "source": [
    "# Magic Method in Python\n",
    "-  _init_\n",
    "-  -_str_\n",
    "-  _repr_\n",
    "-  _len_\n",
    "-  _call_"
   ]
  },
  {
   "cell_type": "code",
   "execution_count": 1,
   "id": "2e2bd1ce-6caf-402b-b7a1-316e7e26a837",
   "metadata": {},
   "outputs": [],
   "source": [
    "class person:\n",
    "    def __init__(objr, name, age):\n",
    "        objr.name = name\n",
    "        objr.age = age\n",
    "\n",
    "    def __str__(objr): #<- Overloading Print()\n",
    "        return f\"{objr.name} of {objr.age} years old.\"\n",
    "\n",
    "    def __repr__(objr):\n",
    "        return f\"Person: {objr.name} ,   age: {objr.age}\"\n",
    "\n",
    "    def __len__(objr):\n",
    "        return objr.age\n",
    "\n",
    "    def __call__(objr, gender = \"Male\"): #<-object to callable\n",
    "        return f\"{objr.name} is a {gender}\""
   ]
  },
  {
   "cell_type": "code",
   "execution_count": 2,
   "id": "eee1e55f-eccf-4547-a0d7-107f1a53c27b",
   "metadata": {},
   "outputs": [],
   "source": [
    "Person = person(\"Hamilton\",32)"
   ]
  },
  {
   "cell_type": "code",
   "execution_count": 3,
   "id": "621f6e8c-92fb-40fb-a2fb-d877ac34a67f",
   "metadata": {},
   "outputs": [
    {
     "data": {
      "text/plain": [
       "'Hamilton'"
      ]
     },
     "execution_count": 3,
     "metadata": {},
     "output_type": "execute_result"
    }
   ],
   "source": [
    "Person.name"
   ]
  },
  {
   "cell_type": "code",
   "execution_count": 4,
   "id": "e5eb5633-408c-4b3d-8ee0-3e7659c7e013",
   "metadata": {},
   "outputs": [
    {
     "data": {
      "text/plain": [
       "32"
      ]
     },
     "execution_count": 4,
     "metadata": {},
     "output_type": "execute_result"
    }
   ],
   "source": [
    "Person.age"
   ]
  },
  {
   "cell_type": "code",
   "execution_count": 5,
   "id": "05b7f24a-9423-4401-a2b3-7fc6e4594753",
   "metadata": {},
   "outputs": [
    {
     "name": "stdout",
     "output_type": "stream",
     "text": [
      "Hamilton of 32 years old.\n"
     ]
    }
   ],
   "source": [
    "print(Person)"
   ]
  },
  {
   "cell_type": "code",
   "execution_count": 6,
   "id": "227ed82b-b90f-4f1e-86ec-092dccf2794c",
   "metadata": {},
   "outputs": [
    {
     "data": {
      "text/plain": [
       "Person: Hamilton ,   age: 32"
      ]
     },
     "execution_count": 6,
     "metadata": {},
     "output_type": "execute_result"
    }
   ],
   "source": [
    "Person"
   ]
  },
  {
   "cell_type": "code",
   "execution_count": 7,
   "id": "5f5b1673-9e51-408d-93a1-c1a559a9f8c1",
   "metadata": {},
   "outputs": [
    {
     "data": {
      "text/plain": [
       "32"
      ]
     },
     "execution_count": 7,
     "metadata": {},
     "output_type": "execute_result"
    }
   ],
   "source": [
    "len(Person)"
   ]
  },
  {
   "cell_type": "code",
   "execution_count": 8,
   "id": "a6951927-8c37-4b56-a6e8-ec346606f65b",
   "metadata": {},
   "outputs": [
    {
     "data": {
      "text/plain": [
       "'Hamilton is a female'"
      ]
     },
     "execution_count": 8,
     "metadata": {},
     "output_type": "execute_result"
    }
   ],
   "source": [
    "Person(gender= \"female\")"
   ]
  },
  {
   "cell_type": "code",
   "execution_count": null,
   "id": "d3586b0f-22d7-42fe-b128-7b03b4ecce46",
   "metadata": {},
   "outputs": [],
   "source": []
  }
 ],
 "metadata": {
  "kernelspec": {
   "display_name": "Python 3 (ipykernel)",
   "language": "python",
   "name": "python3"
  },
  "language_info": {
   "codemirror_mode": {
    "name": "ipython",
    "version": 3
   },
   "file_extension": ".py",
   "mimetype": "text/x-python",
   "name": "python",
   "nbconvert_exporter": "python",
   "pygments_lexer": "ipython3",
   "version": "3.13.5"
  }
 },
 "nbformat": 4,
 "nbformat_minor": 5
}

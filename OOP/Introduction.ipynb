{
 "cells": [
  {
   "cell_type": "markdown",
   "id": "dbf6262b-7b0f-49f3-82b2-ab4a95c87e72",
   "metadata": {},
   "source": [
    "# Object Oriented Program"
   ]
  },
  {
   "cell_type": "code",
   "execution_count": 2,
   "id": "1e1be476-3393-4b91-ac82-5eedebe7dc0b",
   "metadata": {},
   "outputs": [],
   "source": [
    "class calculator:\n",
    "    def __init__(self, num1, num2):\n",
    "        self.num1 =  num1\n",
    "        self.num2 = num2\n",
    "\n",
    "    def sum(self):\n",
    "        return self.num1 + self.num2\n",
    "        "
   ]
  },
  {
   "cell_type": "code",
   "execution_count": 3,
   "id": "6833b6e4-0710-4215-88ad-305538cf22c3",
   "metadata": {},
   "outputs": [],
   "source": [
    "cal_obj =  calculator(10,4)"
   ]
  },
  {
   "cell_type": "code",
   "execution_count": 4,
   "id": "c6eb4dd9-dae0-4bea-88c7-daf6a29992b4",
   "metadata": {},
   "outputs": [
    {
     "data": {
      "text/plain": [
       "__main__.calculator"
      ]
     },
     "execution_count": 4,
     "metadata": {},
     "output_type": "execute_result"
    }
   ],
   "source": [
    "type(cal_obj)"
   ]
  },
  {
   "cell_type": "code",
   "execution_count": 5,
   "id": "799a5037-97c3-4360-a364-bf36ed150f5b",
   "metadata": {},
   "outputs": [
    {
     "data": {
      "text/plain": [
       "14"
      ]
     },
     "execution_count": 5,
     "metadata": {},
     "output_type": "execute_result"
    }
   ],
   "source": [
    "cal_obj.sum()"
   ]
  },
  {
   "cell_type": "code",
   "execution_count": 6,
   "id": "b4dd5477-5247-45c0-b01b-4e5278915d77",
   "metadata": {},
   "outputs": [
    {
     "data": {
      "text/plain": [
       "60"
      ]
     },
     "execution_count": 6,
     "metadata": {},
     "output_type": "execute_result"
    }
   ],
   "source": [
    "cal_obj2 = calculator(55,5)\n",
    "cal_obj2.sum()"
   ]
  },
  {
   "cell_type": "code",
   "execution_count": 26,
   "id": "d0033d3f-8657-4274-b07f-4fb986e950cb",
   "metadata": {},
   "outputs": [],
   "source": [
    "class person:\n",
    "    count = 0 #<class atribute\n",
    "\n",
    "    def __init__(self, name:str, address:str = \"kathmandu\"): #<Constructor / intializer\n",
    "        \"\"\"\n",
    "        creating a person name\n",
    "        \"\"\"\n",
    "        self.name = name\n",
    "        self.address = address\n",
    "        \n",
    "        person.count += 1\n",
    "\n",
    "    def get_details(self):\n",
    "        print(f\"I am {self.name} from {self.address}\")\n",
    "\n",
    "    @classmethod\n",
    "    def get_count(cls): #<class method\n",
    "        return cls.count\n",
    "        \n",
    "    @staticmethod\n",
    "    def create_fullname(firstname, lastname): #< Static method\n",
    "        return f\"{lastname}, {firstname}\"\n"
   ]
  },
  {
   "cell_type": "code",
   "execution_count": 27,
   "id": "7e2f2813-394a-40d9-b1e1-33b2cbc76a3e",
   "metadata": {},
   "outputs": [],
   "source": [
    "student1 = person(\"Laley\")"
   ]
  },
  {
   "cell_type": "code",
   "execution_count": 28,
   "id": "c6973df1-defa-4c25-b687-c0be17e17a02",
   "metadata": {},
   "outputs": [],
   "source": [
    "student2 = person(\"Reason\", \"jhapa\" )"
   ]
  },
  {
   "cell_type": "code",
   "execution_count": 29,
   "id": "d639ffb9-d97b-445f-87d9-2a24cfd24374",
   "metadata": {},
   "outputs": [
    {
     "name": "stdout",
     "output_type": "stream",
     "text": [
      "I am Reason from jhapa\n"
     ]
    }
   ],
   "source": [
    "student2.get_details()"
   ]
  },
  {
   "cell_type": "code",
   "execution_count": 30,
   "id": "46bfd029-6663-48e0-b7df-54dee7c8af79",
   "metadata": {},
   "outputs": [
    {
     "data": {
      "text/plain": [
       "2"
      ]
     },
     "execution_count": 30,
     "metadata": {},
     "output_type": "execute_result"
    }
   ],
   "source": [
    "student1.get_count()"
   ]
  },
  {
   "cell_type": "code",
   "execution_count": 31,
   "id": "97346976-0eea-423b-968e-3269c2c6bef9",
   "metadata": {},
   "outputs": [
    {
     "data": {
      "text/plain": [
       "2"
      ]
     },
     "execution_count": 31,
     "metadata": {},
     "output_type": "execute_result"
    }
   ],
   "source": [
    "student2.get_count()"
   ]
  },
  {
   "cell_type": "code",
   "execution_count": 32,
   "id": "eb9ff1fc-cc95-4284-8ec9-cae935376994",
   "metadata": {},
   "outputs": [
    {
     "data": {
      "text/plain": [
       "'Shrestha, Rujan'"
      ]
     },
     "execution_count": 32,
     "metadata": {},
     "output_type": "execute_result"
    }
   ],
   "source": [
    "student1.create_fullname(\"Rujan\", \"Shrestha\")"
   ]
  },
  {
   "cell_type": "code",
   "execution_count": 4,
   "id": "32a2d1a0-5da4-4184-993a-453846ea2b60",
   "metadata": {},
   "outputs": [],
   "source": [
    "class Library:\n",
    "    def __init__(self, name, depart=\"maths\"):\n",
    "        self.name = name\n",
    "        self.depart = depart \n",
    "        self.books = {\n",
    "            \"The Alchemist\": 25,\n",
    "            \"The Da Vinci Code\": 30,\n",
    "            \"A Brief History of Time\": 15,\n",
    "            \"Angels & Demons\": 0,\n",
    "            \"The Grand Design\": 0,\n",
    "            \"1984\": 19\n",
    "        }\n",
    "\n",
    "    def can_borrow(self, book_name):\n",
    "        for title, qty in self.books.items():\n",
    "            if title.lower() == book_name.lower():\n",
    "                if qty > 0:\n",
    "                    print(f\"'{book_name}' You can borrow it.\")\n",
    "                else:\n",
    "                    print(f\"'{book_name}' you cannot borrow.\")\n",
    "                return\n",
    "        print(f\" '{book_name}' not found in the catalog.\")\n",
    "\n",
    " "
   ]
  },
  {
   "cell_type": "code",
   "execution_count": 5,
   "id": "685e1697-1986-4321-b656-645f09c805bd",
   "metadata": {},
   "outputs": [
    {
     "name": "stdout",
     "output_type": "stream",
     "text": [
      "'The Alchemist' You can borrow it.\n"
     ]
    }
   ],
   "source": [
    "lib = Library(\"Rujan\", \"Computer\")\n",
    "lib.can_borrow(\"The Alchemist\") \n"
   ]
  },
  {
   "cell_type": "code",
   "execution_count": 17,
   "id": "facc01ba-0767-46ea-a0aa-d2a37813dc27",
   "metadata": {},
   "outputs": [],
   "source": [
    "class student:\n",
    "    def __init__(self, sd_name, mark1, mark2, mark3):\n",
    "        self.name = sd_name\n",
    "        self.mark1 = mark1\n",
    "        self.mark2 = mark2\n",
    "        self.mark3 = mark3\n",
    "\n",
    "    def calculate_results(self):\n",
    "        total = self.mark1 + self.mark2 + self.mark3\n",
    "        average = total / 3\n",
    "        print(f\"Student Name: {self.name}\")\n",
    "        print(f\"Total Marks: {total}\")\n",
    "        print(f\"Average Marks: {average}\")\n"
   ]
  },
  {
   "cell_type": "code",
   "execution_count": 14,
   "id": "d752525d-df03-46ec-ac1b-1325ea0dde51",
   "metadata": {},
   "outputs": [],
   "source": [
    "student2 = Student(\"Rujan\", 85, 90, 78)"
   ]
  },
  {
   "cell_type": "code",
   "execution_count": 22,
   "id": "490ee759-17e6-4863-8080-cd271f81b136",
   "metadata": {},
   "outputs": [],
   "source": [
    "class StudentResult:\n",
    "    def __init__(self, name: str, marks: list):\n",
    "        self.name = name\n",
    "        self.marks = marks\n",
    "\n",
    "    def total(self):\n",
    "        return sum(self.marks)\n",
    "\n",
    "    def average(self):\n",
    "        return self.total() / len(self.marks)\n",
    "\n",
    "    def display(self):\n",
    "        \n",
    "        print(f\"Total Marks: {self.total()}\")\n",
    "        print(f\"Average Marks: {self.average():.2f}\")\n",
    "\n",
    "\n"
   ]
  },
  {
   "cell_type": "code",
   "execution_count": 23,
   "id": "ac7aea9c-d0d4-49b3-8e51-87b34b1d290e",
   "metadata": {},
   "outputs": [
    {
     "name": "stdout",
     "output_type": "stream",
     "text": [
      "Total Marks: 253\n",
      "Average Marks: 84.33\n"
     ]
    }
   ],
   "source": [
    "student = StudentResult(\"Rujan\", [85, 90, 78])\n",
    "student.display()\n"
   ]
  },
  {
   "cell_type": "code",
   "execution_count": null,
   "id": "f514b2c0-03e5-41ac-8602-759bbdf7af18",
   "metadata": {},
   "outputs": [],
   "source": []
  }
 ],
 "metadata": {
  "kernelspec": {
   "display_name": "Python 3 (ipykernel)",
   "language": "python",
   "name": "python3"
  },
  "language_info": {
   "codemirror_mode": {
    "name": "ipython",
    "version": 3
   },
   "file_extension": ".py",
   "mimetype": "text/x-python",
   "name": "python",
   "nbconvert_exporter": "python",
   "pygments_lexer": "ipython3",
   "version": "3.13.5"
  }
 },
 "nbformat": 4,
 "nbformat_minor": 5
}

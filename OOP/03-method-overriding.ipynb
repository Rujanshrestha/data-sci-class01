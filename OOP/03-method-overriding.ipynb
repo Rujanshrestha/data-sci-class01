{
 "cells": [
  {
   "cell_type": "code",
   "execution_count": 1,
   "id": "eebed70b-438d-4ee9-a1ac-c7dae54999b3",
   "metadata": {},
   "outputs": [],
   "source": [
    "class Animal:\n",
    "    def sound(self):\n",
    "        print(\"making animal sound....\")\n",
    "\n"
   ]
  },
  {
   "cell_type": "code",
   "execution_count": 2,
   "id": "a28a7c5e-ae1b-4b7a-a339-a8296c9e3172",
   "metadata": {},
   "outputs": [],
   "source": [
    "class Dog(Animal):\n",
    "    def sound(self):\n",
    "        print(f\"Dog makes wolf sound\")\n",
    "        "
   ]
  },
  {
   "cell_type": "code",
   "execution_count": 8,
   "id": "ff7d0264-0668-4e31-b55a-8dc4b3cdff9b",
   "metadata": {},
   "outputs": [],
   "source": [
    "class cat(Animal):\n",
    "    def sound(self):\n",
    "        print(\"meowwing.....\")\n",
    "    \n",
    "        "
   ]
  },
  {
   "cell_type": "code",
   "execution_count": 9,
   "id": "6641bd80-b5a2-492f-92fa-612338c8c918",
   "metadata": {},
   "outputs": [
    {
     "name": "stdout",
     "output_type": "stream",
     "text": [
      "Dog makes wolf sound\n"
     ]
    }
   ],
   "source": [
    "dog = Dog()\n",
    "dog.sound()"
   ]
  },
  {
   "cell_type": "code",
   "execution_count": 10,
   "id": "bc2c2763-4052-4382-94ae-edb0e0586007",
   "metadata": {},
   "outputs": [
    {
     "name": "stdout",
     "output_type": "stream",
     "text": [
      "meowwing.....\n"
     ]
    }
   ],
   "source": [
    "Cat = cat()\n",
    "Cat.sound()"
   ]
  },
  {
   "cell_type": "code",
   "execution_count": 20,
   "id": "8b358a3b-cac9-48e2-99e2-7a5f58bfeaf0",
   "metadata": {},
   "outputs": [],
   "source": [
    "class parent:\n",
    "    def say_hello(self):\n",
    "        print(\"hello from parent\")\n",
    "        return 0\n",
    "\n",
    "class child(parent):\n",
    "    def say_hello(self):\n",
    "        res=super().say_hello()\n",
    "        print(res)\n",
    "        print(\"hello from child\")"
   ]
  },
  {
   "cell_type": "code",
   "execution_count": 21,
   "id": "c47bd54c-230b-42d7-a7a1-430658af1410",
   "metadata": {},
   "outputs": [
    {
     "name": "stdout",
     "output_type": "stream",
     "text": [
      "hello from parent\n",
      "0\n",
      "hello from child\n"
     ]
    }
   ],
   "source": [
    "obj = child()\n",
    "obj.say_hello()"
   ]
  },
  {
   "cell_type": "code",
   "execution_count": null,
   "id": "fe463c28-aced-474f-8dba-c1e386bbef20",
   "metadata": {},
   "outputs": [],
   "source": []
  }
 ],
 "metadata": {
  "kernelspec": {
   "display_name": "Python 3 (ipykernel)",
   "language": "python",
   "name": "python3"
  },
  "language_info": {
   "codemirror_mode": {
    "name": "ipython",
    "version": 3
   },
   "file_extension": ".py",
   "mimetype": "text/x-python",
   "name": "python",
   "nbconvert_exporter": "python",
   "pygments_lexer": "ipython3",
   "version": "3.13.5"
  }
 },
 "nbformat": 4,
 "nbformat_minor": 5
}

{
 "cells": [
  {
   "cell_type": "markdown",
   "id": "3327c956-f654-40fd-9be8-bb0a701cfd1e",
   "metadata": {},
   "source": [
    "# Abstraction in Python"
   ]
  },
  {
   "cell_type": "code",
   "execution_count": 6,
   "id": "a96a70fc-c916-4825-ba96-4d3525240e29",
   "metadata": {},
   "outputs": [],
   "source": [
    "from abc import ABC, abstractmethod\n",
    "\n",
    "class shape(ABC):\n",
    "\n",
    "    @abstractmethod\n",
    "    def area(self):\n",
    "        pass\n",
    "\n",
    "    def volume(self):\n",
    "        return \"not applicable for given shape\""
   ]
  },
  {
   "cell_type": "code",
   "execution_count": 7,
   "id": "cd1cb7b0-682c-4304-99c9-beda4d84b4b3",
   "metadata": {},
   "outputs": [
    {
     "ename": "TypeError",
     "evalue": "Can't instantiate abstract class shape without an implementation for abstract method 'area'",
     "output_type": "error",
     "traceback": [
      "\u001b[31m---------------------------------------------------------------------------\u001b[39m",
      "\u001b[31mTypeError\u001b[39m                                 Traceback (most recent call last)",
      "\u001b[36mCell\u001b[39m\u001b[36m \u001b[39m\u001b[32mIn[7]\u001b[39m\u001b[32m, line 1\u001b[39m\n\u001b[32m----> \u001b[39m\u001b[32m1\u001b[39m shapee = \u001b[43mshape\u001b[49m\u001b[43m(\u001b[49m\u001b[43m)\u001b[49m\n",
      "\u001b[31mTypeError\u001b[39m: Can't instantiate abstract class shape without an implementation for abstract method 'area'"
     ]
    }
   ],
   "source": [
    "shapee = shape()"
   ]
  },
  {
   "cell_type": "code",
   "execution_count": 11,
   "id": "798ed8a7-4677-473b-8a6d-040c02cfbc11",
   "metadata": {},
   "outputs": [],
   "source": [
    "class Rectangle(shape):\n",
    "    def __init__(self, width, length):\n",
    "        self.w = width\n",
    "        self.l = length\n",
    "\n",
    "    def area(self):\n",
    "        return self.w * self.l"
   ]
  },
  {
   "cell_type": "code",
   "execution_count": 12,
   "id": "82f4eb6c-9850-412e-b0f3-03edf5963df7",
   "metadata": {},
   "outputs": [],
   "source": [
    "rect = Rectangle(32,24)"
   ]
  },
  {
   "cell_type": "code",
   "execution_count": 13,
   "id": "fe25b2c2-a850-48aa-afa4-bd9a1ce48668",
   "metadata": {},
   "outputs": [
    {
     "data": {
      "text/plain": [
       "768"
      ]
     },
     "execution_count": 13,
     "metadata": {},
     "output_type": "execute_result"
    }
   ],
   "source": [
    "rect.area()"
   ]
  },
  {
   "cell_type": "code",
   "execution_count": 14,
   "id": "2cfee5aa-e139-4237-9df3-0f51d7da9a82",
   "metadata": {},
   "outputs": [
    {
     "data": {
      "text/plain": [
       "'not applicable for given shape'"
      ]
     },
     "execution_count": 14,
     "metadata": {},
     "output_type": "execute_result"
    }
   ],
   "source": [
    "rect.volume()"
   ]
  },
  {
   "cell_type": "code",
   "execution_count": 17,
   "id": "b902f639-80d1-418e-a984-29d3120d6d56",
   "metadata": {},
   "outputs": [],
   "source": [
    "class cuboid(shape):\n",
    "    def __init__(self, width, length, height):\n",
    "        self.w = width\n",
    "        self.l = length\n",
    "        self.h = height\n",
    "\n",
    "    def area(self):\n",
    "        return 2 * (self.l * self.w + self.w * self.h + self.h * self.l) \n",
    "\n",
    "    def volume(self):\n",
    "        return  self.w * self.l * self.h"
   ]
  },
  {
   "cell_type": "code",
   "execution_count": 18,
   "id": "7038a9b5-392a-4600-bd0a-bdf2d2655a34",
   "metadata": {},
   "outputs": [],
   "source": [
    "cub = cuboid(22,33,44)"
   ]
  },
  {
   "cell_type": "code",
   "execution_count": 19,
   "id": "1566c08b-6c6f-43bc-a90b-a3cce1373108",
   "metadata": {},
   "outputs": [
    {
     "data": {
      "text/plain": [
       "6292"
      ]
     },
     "execution_count": 19,
     "metadata": {},
     "output_type": "execute_result"
    }
   ],
   "source": [
    "cub.area()"
   ]
  },
  {
   "cell_type": "code",
   "execution_count": 20,
   "id": "2da3e19c-f599-4857-8ca0-1d4025492179",
   "metadata": {},
   "outputs": [
    {
     "data": {
      "text/plain": [
       "31944"
      ]
     },
     "execution_count": 20,
     "metadata": {},
     "output_type": "execute_result"
    }
   ],
   "source": [
    "cub.volume()"
   ]
  },
  {
   "cell_type": "code",
   "execution_count": null,
   "id": "2bd7a52c-d4e1-480f-aff0-bb4f21fd3786",
   "metadata": {},
   "outputs": [],
   "source": []
  }
 ],
 "metadata": {
  "kernelspec": {
   "display_name": "Python 3 (ipykernel)",
   "language": "python",
   "name": "python3"
  },
  "language_info": {
   "codemirror_mode": {
    "name": "ipython",
    "version": 3
   },
   "file_extension": ".py",
   "mimetype": "text/x-python",
   "name": "python",
   "nbconvert_exporter": "python",
   "pygments_lexer": "ipython3",
   "version": "3.13.5"
  }
 },
 "nbformat": 4,
 "nbformat_minor": 5
}

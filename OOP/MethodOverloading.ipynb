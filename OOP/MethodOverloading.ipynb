{
 "cells": [
  {
   "cell_type": "markdown",
   "id": "124af628-b7d3-47e7-8237-55a1e0ebb452",
   "metadata": {},
   "source": [
    "# Inheritance"
   ]
  },
  {
   "cell_type": "markdown",
   "id": "05c4939f-d58d-4bcd-8ce3-203d09c0e5b2",
   "metadata": {},
   "source": [
    "## 1.Single Inheritance"
   ]
  },
  {
   "cell_type": "code",
   "execution_count": 15,
   "id": "b3206f11-39f8-4c82-b38d-c3bc4b723879",
   "metadata": {},
   "outputs": [],
   "source": [
    "class Animal:\n",
    "    def __init__(self, name, age):\n",
    "        self.name = name\n",
    "        self.age = age\n",
    "\n",
    "    def intro(self):\n",
    "        print(f\"my name is {self.name}\")"
   ]
  },
  {
   "cell_type": "code",
   "execution_count": 16,
   "id": "e6260572-4556-4a61-b5ee-4dbeb90b4786",
   "metadata": {},
   "outputs": [],
   "source": [
    "class cat(Animal):\n",
    "    def __init__(self, name, age, color):\n",
    "        super().__init__(name, age)\n",
    "        self.color = color\n",
    "\n",
    "    def speak(self):\n",
    "        print(\"Meow\")"
   ]
  },
  {
   "cell_type": "code",
   "execution_count": 17,
   "id": "e8675e18-2461-4729-a7ad-cd0bf6d92a89",
   "metadata": {},
   "outputs": [],
   "source": [
    "Cat = cat(\"Fluppy\", 3, \"black\")"
   ]
  },
  {
   "cell_type": "code",
   "execution_count": 19,
   "id": "c123bc37-ad0b-4c5d-acee-0c691d638f12",
   "metadata": {},
   "outputs": [
    {
     "data": {
      "text/plain": [
       "'Fluppy'"
      ]
     },
     "execution_count": 19,
     "metadata": {},
     "output_type": "execute_result"
    }
   ],
   "source": [
    "Cat.name"
   ]
  },
  {
   "cell_type": "code",
   "execution_count": 24,
   "id": "17335371-13cb-419a-b293-5afba614ea72",
   "metadata": {},
   "outputs": [
    {
     "name": "stdout",
     "output_type": "stream",
     "text": [
      "Meow\n"
     ]
    }
   ],
   "source": [
    "Cat.speak()"
   ]
  },
  {
   "cell_type": "code",
   "execution_count": 25,
   "id": "ecf77b02-5d2f-4451-84cb-f00cc2f1f654",
   "metadata": {},
   "outputs": [
    {
     "name": "stdout",
     "output_type": "stream",
     "text": [
      "my name is Fluppy\n"
     ]
    }
   ],
   "source": [
    "Cat.intro()"
   ]
  },
  {
   "cell_type": "markdown",
   "id": "c5cd432b-13da-4f1b-b713-ff5e226c65a7",
   "metadata": {},
   "source": [
    "## 2.Multiple Inheritance"
   ]
  },
  {
   "cell_type": "code",
   "execution_count": 30,
   "id": "bdebef80-8b43-4e3f-82ce-243586af07e5",
   "metadata": {},
   "outputs": [],
   "source": [
    "class parent1:\n",
    "    def func1(self):\n",
    "        print(\"This is parent1\")\n",
    "\n",
    "class parent2:\n",
    "    def func2(self):\n",
    "        print(\"This is parent2\")\n",
    "\n",
    "class parent3:\n",
    "    def func3(self):\n",
    "        print(\"This is parent3\")"
   ]
  },
  {
   "cell_type": "code",
   "execution_count": 31,
   "id": "dd60ec7e-1eff-4e65-976c-e3c3e2c940c1",
   "metadata": {},
   "outputs": [],
   "source": [
    "class child(parent1, parent2, parent3):\n",
    "    def func4(self):\n",
    "        print(\"This is Child fucntion\")"
   ]
  },
  {
   "cell_type": "code",
   "execution_count": 32,
   "id": "59892538-9323-45c1-bd3d-6ba4e6d564a1",
   "metadata": {},
   "outputs": [],
   "source": [
    "obj = child()"
   ]
  },
  {
   "cell_type": "code",
   "execution_count": 33,
   "id": "a27ab97a-9daf-4204-a485-399d8d172968",
   "metadata": {},
   "outputs": [
    {
     "name": "stdout",
     "output_type": "stream",
     "text": [
      "This is parent1\n"
     ]
    }
   ],
   "source": [
    "obj.func1()"
   ]
  },
  {
   "cell_type": "code",
   "execution_count": 35,
   "id": "05e24054-5f89-42ab-be08-0500f03fdd1a",
   "metadata": {},
   "outputs": [
    {
     "name": "stdout",
     "output_type": "stream",
     "text": [
      "This is parent2\n"
     ]
    }
   ],
   "source": [
    "obj.func2()"
   ]
  },
  {
   "cell_type": "code",
   "execution_count": 36,
   "id": "b1b032ff-0a02-4c00-a3b8-2d9f6478c852",
   "metadata": {},
   "outputs": [
    {
     "name": "stdout",
     "output_type": "stream",
     "text": [
      "This is parent3\n"
     ]
    }
   ],
   "source": [
    "obj.func3()"
   ]
  },
  {
   "cell_type": "code",
   "execution_count": 38,
   "id": "86df188e-bd54-4d29-b3cb-aa53b80c7def",
   "metadata": {},
   "outputs": [
    {
     "name": "stdout",
     "output_type": "stream",
     "text": [
      "This is Child fucntion\n"
     ]
    }
   ],
   "source": [
    "obj.func4()"
   ]
  },
  {
   "cell_type": "markdown",
   "id": "f73b8f5e-62f4-4aef-aae1-b4f8a2dba89d",
   "metadata": {},
   "source": [
    "## 3.Multi-level Inheritance"
   ]
  },
  {
   "cell_type": "code",
   "execution_count": 39,
   "id": "185b1467-7c23-43a2-b1a5-85db879f7a68",
   "metadata": {},
   "outputs": [],
   "source": [
    "class A:\n",
    "    def method_a(self):\n",
    "        print(\"This is Method from Class A\")\n",
    "\n",
    "class B(A):\n",
    "    def method_b(self):\n",
    "        print(\"This is Method from Class B\")\n",
    "\n",
    "class C(B):\n",
    "    def method_c(self):\n",
    "        print(\"This is Method from Class C\")\n",
    "\n",
    "        "
   ]
  },
  {
   "cell_type": "code",
   "execution_count": 46,
   "id": "72ab3e28-3798-44e2-83ea-4d03d3e0dbcd",
   "metadata": {},
   "outputs": [],
   "source": [
    "fic = B()"
   ]
  },
  {
   "cell_type": "code",
   "execution_count": 47,
   "id": "a0d68b6a-f0e0-4579-ae71-9a9377f99f0d",
   "metadata": {},
   "outputs": [
    {
     "name": "stdout",
     "output_type": "stream",
     "text": [
      "This is Method from Class A\n"
     ]
    }
   ],
   "source": [
    "fic.method_a()"
   ]
  },
  {
   "cell_type": "code",
   "execution_count": 48,
   "id": "3824cd64-da4f-4a99-9d5b-09fae0b211ec",
   "metadata": {},
   "outputs": [
    {
     "name": "stdout",
     "output_type": "stream",
     "text": [
      "This is Method from Class B\n"
     ]
    }
   ],
   "source": [
    "fic.method_b()"
   ]
  },
  {
   "cell_type": "code",
   "execution_count": 50,
   "id": "6fa0d9d7-4ebd-41d2-bfed-d3a039ee73c9",
   "metadata": {},
   "outputs": [
    {
     "name": "stdout",
     "output_type": "stream",
     "text": [
      "This is Method from Class C\n"
     ]
    }
   ],
   "source": [
    "obj.method_c()"
   ]
  },
  {
   "cell_type": "markdown",
   "id": "e01c513f-0b81-4015-8d53-65c5ab59bcec",
   "metadata": {},
   "source": [
    "class Person:\n",
    "    def __init__(self, name, age):\n",
    "        self.name = name\n",
    "        self.age = age\n",
    "\n",
    "class Employee(Person):\n",
    "    def __init__(self, name, age, emp_ID):\n",
    "        super().__init__(name, age)\n",
    "        self.emp_ID = emp_ID\n",
    "\n",
    "class Manager(Employee):\n",
    "    def __init__(self, name, age, emp_ID, department):\n",
    "        super().__init__(name, age, emp_ID)\n",
    "        self.department = department\n",
    "\n",
    "    def get_details(self):\n",
    "        print(f\"Employee Name is : {self.name}, Age: {self.age}, ID: {self.emp_ID}, Department: {self.department}\")\n",
    "\n"
   ]
  },
  {
   "cell_type": "code",
   "execution_count": 79,
   "id": "e6fab96b-4d44-45a1-bd11-92fe262b509d",
   "metadata": {},
   "outputs": [],
   "source": [
    "manager10 = Manager(\"Rujan\", 19, \"emp001\", \"tech\") "
   ]
  },
  {
   "cell_type": "code",
   "execution_count": 80,
   "id": "6e23eae0-e063-4028-8bd2-7289b2151452",
   "metadata": {},
   "outputs": [
    {
     "name": "stdout",
     "output_type": "stream",
     "text": [
      "Employee Name is : Rujan, Age: 19, ID: emp001, Department: tech\n"
     ]
    }
   ],
   "source": [
    "manager10.get_details()"
   ]
  },
  {
   "cell_type": "markdown",
   "id": "06fbce3a-0d7e-4b64-8535-949ce711a96c",
   "metadata": {},
   "source": [
    "## 4.Hierarchical Inheritance"
   ]
  },
  {
   "cell_type": "code",
   "execution_count": 81,
   "id": "99f4c807-ad5f-42be-bf2e-7485ff7e3d29",
   "metadata": {},
   "outputs": [],
   "source": [
    "class Animal:\n",
    "    def __init__(self, name, age):\n",
    "        self.name = name\n",
    "        self.age = age\n",
    "\n",
    "    def intro(self):\n",
    "        print(f\"my name is {self.name}\")"
   ]
  },
  {
   "cell_type": "code",
   "execution_count": 82,
   "id": "b75927ca-4d5a-4172-a091-bf416971335f",
   "metadata": {},
   "outputs": [],
   "source": [
    "class Cat(Animal):\n",
    "    def speak(self):\n",
    "        return \"meow\"\n",
    "\n",
    "class Dog(Animal):\n",
    "    def speak(self):\n",
    "        return \"woof\"\n",
    "\n",
    "class Lion(Animal):\n",
    "    def speak(self):\n",
    "        return \"rowr\"\n"
   ]
  },
  {
   "cell_type": "code",
   "execution_count": 83,
   "id": "c1215fd3-5ade-4f88-83c9-785e60ece901",
   "metadata": {},
   "outputs": [],
   "source": [
    " cat = Cat(\"liger\", 33)"
   ]
  },
  {
   "cell_type": "code",
   "execution_count": 84,
   "id": "098d12dd-019d-48a6-9c0d-79989c75a4e3",
   "metadata": {},
   "outputs": [
    {
     "name": "stdout",
     "output_type": "stream",
     "text": [
      "my name is liger\n"
     ]
    }
   ],
   "source": [
    "cat.intro()"
   ]
  },
  {
   "cell_type": "code",
   "execution_count": 85,
   "id": "98717bdb-1664-4fa1-84fe-544a71f0d0d4",
   "metadata": {},
   "outputs": [
    {
     "data": {
      "text/plain": [
       "'meow'"
      ]
     },
     "execution_count": 85,
     "metadata": {},
     "output_type": "execute_result"
    }
   ],
   "source": [
    "cat.speak()"
   ]
  },
  {
   "cell_type": "markdown",
   "id": "8af4c358-9e60-4289-9c01-0d44d7284c8e",
   "metadata": {},
   "source": [
    "## 5.Hybrid Inheritance "
   ]
  },
  {
   "cell_type": "code",
   "execution_count": 98,
   "id": "b212e153-b4af-4ce5-9251-249a4482b8a0",
   "metadata": {},
   "outputs": [],
   "source": [
    "class Animal:\n",
    "    def __init__(self, name):\n",
    "        self.name = name\n",
    "        \n",
    "\n",
    "    def intro(self):\n",
    "        print(f\"my name is {self.name}.\")"
   ]
  },
  {
   "cell_type": "code",
   "execution_count": 99,
   "id": "17153840-7f0e-4f6d-8d97-e37143f30c5f",
   "metadata": {},
   "outputs": [],
   "source": [
    "class mammal(Animal):\n",
    "    def __init__(self, name, fur = False):\n",
    "        super().__init__(name)\n",
    "        self.fur = True\n",
    "\n",
    "    def birth(self):\n",
    "        print(f\"{self.name } give birth to live ones!!\")\n",
    "\n",
    "class Birds(Animal):\n",
    "    def fly(self):\n",
    "        print(f\"{self.name} can fly !!\")"
   ]
  },
  {
   "cell_type": "code",
   "execution_count": 100,
   "id": "7b951adc-1502-43f4-a45e-432a485441b5",
   "metadata": {},
   "outputs": [],
   "source": [
    "class Bat(mammal, Birds):\n",
    "    pass"
   ]
  },
  {
   "cell_type": "code",
   "execution_count": 101,
   "id": "1c53f3fb-6e84-4080-bb48-e7a289f715a9",
   "metadata": {},
   "outputs": [],
   "source": [
    "b = Bat(\"kallu\")"
   ]
  },
  {
   "cell_type": "code",
   "execution_count": 102,
   "id": "d875b847-f3c8-4168-82c3-753bd17c6255",
   "metadata": {},
   "outputs": [
    {
     "name": "stdout",
     "output_type": "stream",
     "text": [
      "my name is kallu.\n"
     ]
    }
   ],
   "source": [
    "b.intro()"
   ]
  },
  {
   "cell_type": "code",
   "execution_count": 103,
   "id": "abc93a0d-f3c7-4a6a-8342-15d45828a3f1",
   "metadata": {},
   "outputs": [
    {
     "name": "stdout",
     "output_type": "stream",
     "text": [
      "kallu give birth to live ones!!\n"
     ]
    }
   ],
   "source": [
    "b.birth()"
   ]
  },
  {
   "cell_type": "code",
   "execution_count": 104,
   "id": "511314bc-d503-4695-9160-3b26834293db",
   "metadata": {},
   "outputs": [
    {
     "name": "stdout",
     "output_type": "stream",
     "text": [
      "kallu can fly !!\n"
     ]
    }
   ],
   "source": [
    "b.fly()"
   ]
  },
  {
   "cell_type": "code",
   "execution_count": null,
   "id": "4e7c5382-bccc-4be3-8939-614617637c0b",
   "metadata": {},
   "outputs": [],
   "source": []
  },
  {
   "cell_type": "code",
   "execution_count": null,
   "id": "6539f232-a5d2-4f06-a228-b7e8845d01f2",
   "metadata": {},
   "outputs": [],
   "source": []
  }
 ],
 "metadata": {
  "kernelspec": {
   "display_name": "Python 3 (ipykernel)",
   "language": "python",
   "name": "python3"
  },
  "language_info": {
   "codemirror_mode": {
    "name": "ipython",
    "version": 3
   },
   "file_extension": ".py",
   "mimetype": "text/x-python",
   "name": "python",
   "nbconvert_exporter": "python",
   "pygments_lexer": "ipython3",
   "version": "3.13.5"
  }
 },
 "nbformat": 4,
 "nbformat_minor": 5
}

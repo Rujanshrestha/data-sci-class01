{
 "cells": [
  {
   "cell_type": "markdown",
   "id": "7ed56387-ea65-4ae9-934c-0088ee09e261",
   "metadata": {},
   "source": [
    "# Polymorphism in Python"
   ]
  },
  {
   "cell_type": "code",
   "execution_count": 2,
   "id": "4051ad41-2dee-4a7b-b287-535410bc44d7",
   "metadata": {},
   "outputs": [],
   "source": [
    "class Point:\n",
    "    \"\"\"\n",
    "    operation on 2d points\n",
    "    \"\"\"\n",
    "    def __init__(self, x, y):\n",
    "        self.x = x\n",
    "        self.y = y\n",
    "\n",
    "    def __repr__(self):\n",
    "        return f\"point({self.x},{self.y})\"\n",
    "\n",
    "    def __add__(self, other):\n",
    "        x = self.x + other.x\n",
    "        y = self.y + other.y\n",
    "        return Point(x,y)\n",
    "\n",
    "    def __sub__(self,other):\n",
    "        x = self.x - other.x\n",
    "        y = self.y - other.y\n",
    "        return Point(x,y)\n",
    "\n",
    "    def __pow__(self, exp):\n",
    "        x = self.x ** exp\n",
    "        y = self.y ** exp\n",
    "        return Point(x, y)\n",
    "\n",
    "    def __gt__(self, other):\n",
    "        return self.x > other.x and self.y > other.y"
   ]
  },
  {
   "cell_type": "code",
   "execution_count": 3,
   "id": "f2f44450-ffb3-448f-b842-af5e2fc2707d",
   "metadata": {},
   "outputs": [],
   "source": [
    "A = Point(2,3)\n",
    "B = Point(4,9)"
   ]
  },
  {
   "cell_type": "code",
   "execution_count": 4,
   "id": "7aafc361-1a89-494c-86e7-ff800c05bcd4",
   "metadata": {},
   "outputs": [
    {
     "data": {
      "text/plain": [
       "point(6,12)"
      ]
     },
     "execution_count": 4,
     "metadata": {},
     "output_type": "execute_result"
    }
   ],
   "source": [
    "A + B"
   ]
  },
  {
   "cell_type": "code",
   "execution_count": 5,
   "id": "24bcdc64-d161-4f72-b484-3efed16e313d",
   "metadata": {},
   "outputs": [
    {
     "data": {
      "text/plain": [
       "point(-2,-6)"
      ]
     },
     "execution_count": 5,
     "metadata": {},
     "output_type": "execute_result"
    }
   ],
   "source": [
    "A - B"
   ]
  },
  {
   "cell_type": "code",
   "execution_count": 6,
   "id": "085cfa89-1f38-48e4-ab2f-51334a7874af",
   "metadata": {},
   "outputs": [
    {
     "data": {
      "text/plain": [
       "True"
      ]
     },
     "execution_count": 6,
     "metadata": {},
     "output_type": "execute_result"
    }
   ],
   "source": [
    "A < B"
   ]
  },
  {
   "cell_type": "code",
   "execution_count": 7,
   "id": "29617a2b-6a9b-4f51-ad15-f534c67a98a4",
   "metadata": {},
   "outputs": [
    {
     "data": {
      "text/plain": [
       "point(64,729)"
      ]
     },
     "execution_count": 7,
     "metadata": {},
     "output_type": "execute_result"
    }
   ],
   "source": [
    "A ** 6"
   ]
  },
  {
   "cell_type": "code",
   "execution_count": 8,
   "id": "6d9bbd0d-e598-4aec-a2c4-955f1ca6dfeb",
   "metadata": {},
   "outputs": [
    {
     "name": "stdout",
     "output_type": "stream",
     "text": [
      "\n",
      "operation on 2d points\n",
      "\n"
     ]
    }
   ],
   "source": [
    "print(A.__doc__)"
   ]
  },
  {
   "cell_type": "markdown",
   "id": "41b0e0b9-9a0f-41b4-967e-8f2da18ebaa9",
   "metadata": {},
   "source": [
    "# Duck Typing"
   ]
  },
  {
   "cell_type": "code",
   "execution_count": 9,
   "id": "5320c759-0443-4412-9811-5394a5b42ea9",
   "metadata": {},
   "outputs": [],
   "source": [
    "class Car:\n",
    "    def drive(self):\n",
    "        print(\"Driving a Car\")\n",
    "\n",
    "class Bike:\n",
    "    def drive(self):\n",
    "        print(\"Ridig a bike\")"
   ]
  },
  {
   "cell_type": "code",
   "execution_count": 10,
   "id": "49b47bbb-3f1f-42d3-bf4e-a278f7326fc0",
   "metadata": {},
   "outputs": [],
   "source": [
    "def start_driving(vechical):\n",
    "    vechical.drive()"
   ]
  },
  {
   "cell_type": "code",
   "execution_count": 11,
   "id": "26f99887-0cae-4b6c-8d42-686b3a86ccc5",
   "metadata": {},
   "outputs": [],
   "source": [
    "car = Car()\n",
    "bike =Bike()"
   ]
  },
  {
   "cell_type": "code",
   "execution_count": 12,
   "id": "daeda088-eba8-4a34-a2c5-96b5034c713c",
   "metadata": {},
   "outputs": [
    {
     "name": "stdout",
     "output_type": "stream",
     "text": [
      "Driving a Car\n"
     ]
    }
   ],
   "source": [
    "start_driving(car)"
   ]
  },
  {
   "cell_type": "code",
   "execution_count": 13,
   "id": "e0dbfde1-3ad8-423d-bcc4-7c1838c8298e",
   "metadata": {},
   "outputs": [
    {
     "name": "stdout",
     "output_type": "stream",
     "text": [
      "Ridig a bike\n"
     ]
    }
   ],
   "source": [
    "start_driving(bike)"
   ]
  },
  {
   "cell_type": "code",
   "execution_count": 14,
   "id": "62571272-6db1-417e-9ef0-c8f5403d0462",
   "metadata": {},
   "outputs": [],
   "source": [
    "import random"
   ]
  },
  {
   "cell_type": "code",
   "execution_count": 29,
   "id": "972ae57b-d930-4579-b71c-e786d8c33268",
   "metadata": {},
   "outputs": [
    {
     "data": {
      "text/plain": [
       "95"
      ]
     },
     "execution_count": 29,
     "metadata": {},
     "output_type": "execute_result"
    }
   ],
   "source": [
    "random.randint(1,100)"
   ]
  },
  {
   "cell_type": "code",
   "execution_count": null,
   "id": "ecb67934-b93b-4fe4-bf7d-adec4d0b2f34",
   "metadata": {},
   "outputs": [],
   "source": []
  }
 ],
 "metadata": {
  "kernelspec": {
   "display_name": "Python 3 (ipykernel)",
   "language": "python",
   "name": "python3"
  },
  "language_info": {
   "codemirror_mode": {
    "name": "ipython",
    "version": 3
   },
   "file_extension": ".py",
   "mimetype": "text/x-python",
   "name": "python",
   "nbconvert_exporter": "python",
   "pygments_lexer": "ipython3",
   "version": "3.13.5"
  }
 },
 "nbformat": 4,
 "nbformat_minor": 5
}

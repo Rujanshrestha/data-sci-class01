{
 "cells": [
  {
   "cell_type": "markdown",
   "id": "b0dd46c2-5c0b-4c12-b857-febc3897da1e",
   "metadata": {},
   "source": [
    "# Regular Expression in Python\n",
    "\n",
    "Regular expressions (also known as regex or regexp) are a powerful tool for searching and manipulating text. They allow you to define a pattern or set of rules that describe a particular string of characters, and then search for or manipulate any text that matches that pattern.\n",
    "\n",
    "Regular expressions are commonly used in programming, particularly for tasks like data validation, searching and replacing text, and parsing strings. They are also useful in text editors, command-line tools, and other applications that involve working with text.\n",
    "\n",
    "Some of the benefits of using regular expressions include:\n",
    "\n",
    "- **Flexibility:** Regular expressions are incredibly flexible and can match a wide range of patterns, from simple strings to complex sequences of characters.\n",
    "- **Efficiency:** Regular expressions are often faster than alternative methods for text processing, particularly for large amounts of data.\n",
    "- **Accuracy:** Regular expressions are very precise and can be used to match specific patterns, ensuring that you only work with the data that you need.\n",
    "- **Standardization:** Regular expressions are a widely accepted standard for working with text, making it easier to share and collaborate on code that involves text processing.\n",
    "\n",
    "```\n",
    "https://regexr.com/\n",
    "```"
   ]
  },
  {
   "cell_type": "code",
   "execution_count": 1,
   "id": "e860ffaf-a677-470d-ac61-74ec9a0fd8ef",
   "metadata": {},
   "outputs": [],
   "source": [
    "import re\n"
   ]
  },
  {
   "cell_type": "code",
   "execution_count": 3,
   "id": "278171fb-6fd7-444d-8f61-b1b8b7637a90",
   "metadata": {},
   "outputs": [],
   "source": [
    "string = \"The quick brown fox jumps over the lazy dag\"\n",
    "pattern = r\"he\"\n",
    "\n",
    "match = re.search(pattern, string)"
   ]
  },
  {
   "cell_type": "code",
   "execution_count": 4,
   "id": "ffa23074-502e-47f0-849e-fd5b2094a9cc",
   "metadata": {},
   "outputs": [
    {
     "data": {
      "text/plain": [
       "<re.Match object; span=(1, 3), match='he'>"
      ]
     },
     "execution_count": 4,
     "metadata": {},
     "output_type": "execute_result"
    }
   ],
   "source": [
    "match "
   ]
  },
  {
   "cell_type": "code",
   "execution_count": 5,
   "id": "2d9bd7e2-feca-4b42-9577-790fbe49ca63",
   "metadata": {},
   "outputs": [
    {
     "data": {
      "text/plain": [
       "'he'"
      ]
     },
     "execution_count": 5,
     "metadata": {},
     "output_type": "execute_result"
    }
   ],
   "source": [
    "match.group()"
   ]
  },
  {
   "cell_type": "code",
   "execution_count": 6,
   "id": "35a2a944-70d5-4e15-8c18-8f90f425eed7",
   "metadata": {},
   "outputs": [
    {
     "data": {
      "text/plain": [
       "1"
      ]
     },
     "execution_count": 6,
     "metadata": {},
     "output_type": "execute_result"
    }
   ],
   "source": [
    "match.start()"
   ]
  },
  {
   "cell_type": "code",
   "execution_count": 11,
   "id": "4fb2e022-7762-49ab-a9d7-6bceb7c06cfb",
   "metadata": {},
   "outputs": [
    {
     "data": {
      "text/plain": [
       "'he'"
      ]
     },
     "execution_count": 11,
     "metadata": {},
     "output_type": "execute_result"
    }
   ],
   "source": [
    "string[match.start():match.end()]"
   ]
  },
  {
   "cell_type": "code",
   "execution_count": 12,
   "id": "beefb6c2-7cbe-4884-bb38-2016c39f625e",
   "metadata": {},
   "outputs": [
    {
     "name": "stdout",
     "output_type": "stream",
     "text": [
      "1 3\n"
     ]
    }
   ],
   "source": [
    "print(match.start(),match.end())"
   ]
  },
  {
   "cell_type": "code",
   "execution_count": 13,
   "id": "c1ff0684-1e19-448e-9522-efecb6dcb8ea",
   "metadata": {},
   "outputs": [
    {
     "name": "stdout",
     "output_type": "stream",
     "text": [
      "match object: <re.Match object; span=(1, 3), match='he'>\n",
      "match group: he\n",
      "match start: 1\n",
      "match end: 3\n",
      "match span: (1, 3)\n"
     ]
    }
   ],
   "source": [
    "#using re.search() with conditional expressions\n",
    "if match:\n",
    "    print(\"match object:\", match)\n",
    "    print(\"match group:\", match.group())\n",
    "    print(\"match start:\", match.start())\n",
    "    print(\"match end:\", match.end())\n",
    "    print(\"match span:\", match.span())\n",
    "else:\n",
    "    print(\"no match found\")"
   ]
  },
  {
   "cell_type": "markdown",
   "id": "e2c5363b-a6ef-46b1-9f4b-ffcf7c64bfe5",
   "metadata": {},
   "source": [
    "## 2.re.findall(pattern, string)"
   ]
  },
  {
   "cell_type": "code",
   "execution_count": 45,
   "id": "1a8cdbe3-95e0-440e-9a01-9d05c661c87a",
   "metadata": {},
   "outputs": [],
   "source": [
    "string = \"The quick brown fox jumps over the lazy dag\"\n",
    "pattern = r\"[A-z]he\"\n",
    "\n",
    "match = re.findall(pattern, string)"
   ]
  },
  {
   "cell_type": "code",
   "execution_count": 46,
   "id": "b356782e-1e30-4148-a246-979b038a65d0",
   "metadata": {},
   "outputs": [
    {
     "data": {
      "text/plain": [
       "['The', 'the']"
      ]
     },
     "execution_count": 46,
     "metadata": {},
     "output_type": "execute_result"
    }
   ],
   "source": [
    "match"
   ]
  },
  {
   "cell_type": "markdown",
   "id": "3b9bec8a-67d0-4304-8cf0-270d81f9578b",
   "metadata": {},
   "source": [
    "## 3.re.sub(pattern, repl, string, count=0)"
   ]
  },
  {
   "cell_type": "code",
   "execution_count": 18,
   "id": "2cc315a6-c253-497f-956f-dd347afdaf4b",
   "metadata": {},
   "outputs": [],
   "source": [
    "string = \"The quick brown fox jumps over the lazy dag\"\n",
    "pattern = r\"[A-Z]he\"\n",
    "repl = \"the\"\n",
    "\n",
    "match = re.sub(pattern, repl, string, count=1)"
   ]
  },
  {
   "cell_type": "code",
   "execution_count": 22,
   "id": "79c1ecee-7743-4afa-825b-1569b44de5e3",
   "metadata": {},
   "outputs": [
    {
     "data": {
      "text/plain": [
       "'the quick brown fox jumps over the lazy dag'"
      ]
     },
     "execution_count": 22,
     "metadata": {},
     "output_type": "execute_result"
    }
   ],
   "source": [
    "match"
   ]
  },
  {
   "cell_type": "code",
   "execution_count": 29,
   "id": "297c7ede-fa33-452d-904d-7db29699207b",
   "metadata": {},
   "outputs": [],
   "source": [
    "string = \"The quick brown fox can jumps over the 34 dog\"\n",
    "pattern = r\"[0-9]+\"\n",
    "repl = \"44\"\n",
    "\n",
    "match = re.sub(pattern, repl, string, count=1)"
   ]
  },
  {
   "cell_type": "code",
   "execution_count": 30,
   "id": "5826cbe1-dede-4706-8da0-8cda3b8d23f1",
   "metadata": {},
   "outputs": [
    {
     "data": {
      "text/plain": [
       "'The quick brown fox can jumps over the 44 dog'"
      ]
     },
     "execution_count": 30,
     "metadata": {},
     "output_type": "execute_result"
    }
   ],
   "source": [
    "match"
   ]
  },
  {
   "cell_type": "markdown",
   "id": "34a88b48-b74e-4af9-a410-c57047fa11f2",
   "metadata": {},
   "source": [
    "## 4. re.split(pattern, string, maxsplit=0)"
   ]
  },
  {
   "cell_type": "code",
   "execution_count": 37,
   "id": "676cb952-78e5-444f-8e55-521a72b678c5",
   "metadata": {},
   "outputs": [],
   "source": [
    "string = \"The quick brown fox can jumps over the 34 dog\"\n",
    "pattern = r\"[0-9]+\"\n",
    "\n",
    "segements = re.split(pattern, string)"
   ]
  },
  {
   "cell_type": "code",
   "execution_count": 38,
   "id": "e9d525c7-b0f5-4da6-bdab-0dab912e58bf",
   "metadata": {},
   "outputs": [
    {
     "data": {
      "text/plain": [
       "['The quick brown fox can jumps over the ', ' dog']"
      ]
     },
     "execution_count": 38,
     "metadata": {},
     "output_type": "execute_result"
    }
   ],
   "source": [
    "segements"
   ]
  },
  {
   "cell_type": "code",
   "execution_count": null,
   "id": "1204e0a3-86c4-4521-b2f2-d3dd2d51bb59",
   "metadata": {},
   "outputs": [],
   "source": []
  }
 ],
 "metadata": {
  "kernelspec": {
   "display_name": "Python 3 (ipykernel)",
   "language": "python",
   "name": "python3"
  },
  "language_info": {
   "codemirror_mode": {
    "name": "ipython",
    "version": 3
   },
   "file_extension": ".py",
   "mimetype": "text/x-python",
   "name": "python",
   "nbconvert_exporter": "python",
   "pygments_lexer": "ipython3",
   "version": "3.13.5"
  }
 },
 "nbformat": 4,
 "nbformat_minor": 5
}

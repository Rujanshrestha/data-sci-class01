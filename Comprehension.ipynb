{
 "cells": [
  {
   "cell_type": "markdown",
   "id": "fd792b98-4f02-4506-a487-e4cde75e2ddb",
   "metadata": {},
   "source": [
    "# Python comprehension"
   ]
  },
  {
   "cell_type": "code",
   "execution_count": 3,
   "id": "4ffc14f2-c43b-4a97-8dd4-4bda2e87fb2c",
   "metadata": {},
   "outputs": [
    {
     "name": "stdout",
     "output_type": "stream",
     "text": [
      "[1, 4, 9, 16, 25, 36, 49, 64, 81]\n"
     ]
    }
   ],
   "source": [
    "# usual way\n",
    "squared = []\n",
    "for num in range(1,10):\n",
    "    squared.append(num ** 2)\n",
    "\n",
    "print(squared)"
   ]
  },
  {
   "cell_type": "code",
   "execution_count": 5,
   "id": "bda58183-f82f-42d2-9afd-c797e1cf9fcc",
   "metadata": {},
   "outputs": [
    {
     "name": "stdout",
     "output_type": "stream",
     "text": [
      "[1, 4, 9, 16, 25, 36, 49, 64, 81]\n"
     ]
    }
   ],
   "source": [
    "#list comprehensions\n",
    "squared = [num ** 2 for num in range(1,10)]\n",
    "print(squared)"
   ]
  },
  {
   "cell_type": "code",
   "execution_count": 7,
   "id": "bd8f9234-4b45-4f8b-bead-02af96b47ce1",
   "metadata": {},
   "outputs": [
    {
     "name": "stdout",
     "output_type": "stream",
     "text": [
      "[4, 16, 36, 64]\n"
     ]
    }
   ],
   "source": [
    "#list comprehensions\n",
    "even = [num ** 2 for num in range(1,10) if num % 2 ==0]\n",
    "print(even)"
   ]
  },
  {
   "cell_type": "code",
   "execution_count": 8,
   "id": "9c958ba0-7e3b-41ed-9733-a2fc018b0359",
   "metadata": {},
   "outputs": [
    {
     "name": "stdout",
     "output_type": "stream",
     "text": [
      "[1, 9, 25, 49, 81]\n"
     ]
    }
   ],
   "source": [
    "#list comprehensions\n",
    "odd = [num ** 2 for num in range(1,10) if num % 2 ==1]\n",
    "print(odd)"
   ]
  },
  {
   "cell_type": "code",
   "execution_count": 10,
   "id": "e45e84e5-a8f3-4a93-afb5-8267c55b13de",
   "metadata": {},
   "outputs": [
    {
     "name": "stdout",
     "output_type": "stream",
     "text": [
      "[1, 4, 3, 16, 5, 36, 7, 64, 9]\n"
     ]
    }
   ],
   "source": [
    "res = [num ** 2 if num % 2 ==0 else num for num in range (1,10)]\n",
    "print(res)"
   ]
  },
  {
   "cell_type": "code",
   "execution_count": 15,
   "id": "296a3a42-08d3-4891-be6a-3ff3c960fe08",
   "metadata": {},
   "outputs": [
    {
     "name": "stdout",
     "output_type": "stream",
     "text": [
      "[('red', 'apple'), ('red', 'banana'), ('red', 'cherry'), ('big', 'apple'), ('big', 'banana'), ('big', 'cherry'), ('tatsy', 'apple'), ('tatsy', 'banana'), ('tatsy', 'cherry')]\n"
     ]
    }
   ],
   "source": [
    "adjective = [\"red\", \"big\", \"tatsy\"]\n",
    "fruits = [\"apple\", \"banana\", \"cherry\"]\n",
    "# for a in adjective:\n",
    "#     for f in fruits:\n",
    "#         print(a,f)\n",
    "\n",
    "pair = [(a,f) for a in adjective for f in fruits]\n",
    "print(pair)"
   ]
  },
  {
   "cell_type": "code",
   "execution_count": 17,
   "id": "e4e381d7-8381-4f09-ad18-14d2e4a62ede",
   "metadata": {},
   "outputs": [
    {
     "name": "stdout",
     "output_type": "stream",
     "text": [
      "[1, 6, 8, 3, 4, 3, 7, 4, 9, 2, 7, 5, 4, 7, 5, 2, 8, 2, 7, 8, 5, 2, 6, 2, 5, 3, 4, 3, 8, 2, 3, 5, 4]\n"
     ]
    }
   ],
   "source": [
    "sent = \"A single training set that has already been processed is usually split into several types of datasets in machine learning which is needed to check how well the training of the model went\"\n",
    "num = []\n",
    "words = sent.split()\n",
    "count = [len(word) for word in words]\n",
    "print(count)\n",
    "    "
   ]
  },
  {
   "cell_type": "markdown",
   "id": "032283fb-ff8e-4ec3-b7a4-3427de5df9c7",
   "metadata": {},
   "source": [
    "### Dictionary Comprehension\n"
   ]
  },
  {
   "cell_type": "code",
   "execution_count": 2,
   "id": "222f41cf-2d6e-4ee3-8747-e8398f869065",
   "metadata": {},
   "outputs": [
    {
     "name": "stdout",
     "output_type": "stream",
     "text": [
      "{1: 1, 2: 4, 3: 9, 4: 16}\n"
     ]
    }
   ],
   "source": [
    "#usaul way\n",
    "sqr_dict = {}\n",
    "\n",
    "for num in range(1,5):\n",
    "    sqr_dict[num] = num**2\n",
    "\n",
    "print(sqr_dict)"
   ]
  },
  {
   "cell_type": "code",
   "execution_count": 5,
   "id": "b373a5d1-de80-44f9-8c6d-57e391e1791a",
   "metadata": {},
   "outputs": [
    {
     "name": "stdout",
     "output_type": "stream",
     "text": [
      "{2: 4, 4: 16, 6: 36, 8: 64}\n"
     ]
    }
   ],
   "source": [
    "# Dict Comprehension\n",
    "sqr_dict = {num:num**2 for num in range(1,10) if num % 2 == 0}\n",
    "print(sqr_dict)"
   ]
  },
  {
   "cell_type": "code",
   "execution_count": 7,
   "id": "07ad3ff8-e254-47ed-a650-0055378e33bd",
   "metadata": {},
   "outputs": [
    {
     "name": "stdout",
     "output_type": "stream",
     "text": [
      "{1: 1, 2: 8, 3: 27, 4: 64, 5: 125, 6: 216, 7: 343, 8: 512, 9: 729, 10: 1000, 11: 1331, 12: 1728, 13: 2197, 14: 2744, 15: 3375}\n"
     ]
    }
   ],
   "source": [
    "sqr_dict = {numm:numm**3 for numm in range(1,16)}\n",
    "print(sqr_dict)"
   ]
  },
  {
   "cell_type": "code",
   "execution_count": 17,
   "id": "496d4941-2155-4688-a182-d8c6708cbf0e",
   "metadata": {},
   "outputs": [
    {
     "name": "stdout",
     "output_type": "stream",
     "text": [
      "{'single': 6, 'training': 8, 'already': 7, 'processed': 9, 'usually': 7, 'several': 7, 'datasets': 8, 'machine': 7, 'learning': 8, 'needed': 6}\n"
     ]
    }
   ],
   "source": [
    "## Count length of words\n",
    "sent = \"A single training set that has already been processed is usually split into several types of datasets in machine learning which is needed to check how well the training of the model went\"\n",
    "count_words = {word : len(word) for word in sent.split() if len(word) > 5}\n",
    "print(count_words)"
   ]
  },
  {
   "cell_type": "markdown",
   "id": "86a3300b-a0b8-49be-a4e0-e3e92185e771",
   "metadata": {},
   "source": [
    "### Set Comprehension"
   ]
  },
  {
   "cell_type": "code",
   "execution_count": 18,
   "id": "764fc84e-3d8a-41c4-a5b1-1d909415e160",
   "metadata": {},
   "outputs": [],
   "source": [
    "sq_odd = {num**2 for num in range(1,20) if num % 2 != 0}\n"
   ]
  },
  {
   "cell_type": "code",
   "execution_count": 19,
   "id": "36060181-9036-4a98-a91e-f2868f1890af",
   "metadata": {},
   "outputs": [
    {
     "data": {
      "text/plain": [
       "{1, 9, 25, 49, 81, 121, 169, 225, 289, 361}"
      ]
     },
     "execution_count": 19,
     "metadata": {},
     "output_type": "execute_result"
    }
   ],
   "source": [
    "sq_odd"
   ]
  },
  {
   "cell_type": "code",
   "execution_count": 20,
   "id": "d9b75c80-3657-428e-bdb6-5e2b9f8e5dee",
   "metadata": {},
   "outputs": [
    {
     "data": {
      "text/plain": [
       "['aa', 'ab', 'ac', 'ba', 'bb', 'bc', 'ca', 'cb', 'cc']"
      ]
     },
     "execution_count": 20,
     "metadata": {},
     "output_type": "execute_result"
    }
   ],
   "source": [
    "letters = [\"a\",\"b\",\"c\"]\n",
    "pairs = [let1 + let2 for let1 in letters for let2 in letters]\n",
    "pairs"
   ]
  },
  {
   "cell_type": "code",
   "execution_count": 24,
   "id": "70446563-41e6-484c-9f07-a6209498014c",
   "metadata": {},
   "outputs": [],
   "source": [
    "sen = \"set comprehension can be nested\"\n",
    "vowels = {char for char in sen if char in set(\"aeiou\")}\n"
   ]
  },
  {
   "cell_type": "code",
   "execution_count": 25,
   "id": "37b391f0-f7cd-4340-b570-80f67b3299c6",
   "metadata": {},
   "outputs": [
    {
     "data": {
      "text/plain": [
       "{'a', 'e', 'i', 'o'}"
      ]
     },
     "execution_count": 25,
     "metadata": {},
     "output_type": "execute_result"
    }
   ],
   "source": [
    "vowels\n"
   ]
  },
  {
   "cell_type": "code",
   "execution_count": null,
   "id": "0e8682b8-27c5-4adb-a5fc-811a442d1d48",
   "metadata": {},
   "outputs": [],
   "source": []
  }
 ],
 "metadata": {
  "kernelspec": {
   "display_name": "Python 3 (ipykernel)",
   "language": "python",
   "name": "python3"
  },
  "language_info": {
   "codemirror_mode": {
    "name": "ipython",
    "version": 3
   },
   "file_extension": ".py",
   "mimetype": "text/x-python",
   "name": "python",
   "nbconvert_exporter": "python",
   "pygments_lexer": "ipython3",
   "version": "3.13.5"
  }
 },
 "nbformat": 4,
 "nbformat_minor": 5
}

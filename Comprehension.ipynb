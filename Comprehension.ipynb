{
 "cells": [
  {
   "cell_type": "markdown",
   "id": "fd792b98-4f02-4506-a487-e4cde75e2ddb",
   "metadata": {},
   "source": [
    "# Python comprehension"
   ]
  },
  {
   "cell_type": "code",
   "execution_count": 3,
   "id": "4ffc14f2-c43b-4a97-8dd4-4bda2e87fb2c",
   "metadata": {},
   "outputs": [
    {
     "name": "stdout",
     "output_type": "stream",
     "text": [
      "[1, 4, 9, 16, 25, 36, 49, 64, 81]\n"
     ]
    }
   ],
   "source": [
    "# usual way\n",
    "squared = []\n",
    "for num in range(1,10):\n",
    "    squared.append(num ** 2)\n",
    "\n",
    "print(squared)"
   ]
  },
  {
   "cell_type": "code",
   "execution_count": 5,
   "id": "bda58183-f82f-42d2-9afd-c797e1cf9fcc",
   "metadata": {},
   "outputs": [
    {
     "name": "stdout",
     "output_type": "stream",
     "text": [
      "[1, 4, 9, 16, 25, 36, 49, 64, 81]\n"
     ]
    }
   ],
   "source": [
    "#list comprehensions\n",
    "squared = [num ** 2 for num in range(1,10)]\n",
    "print(squared)"
   ]
  },
  {
   "cell_type": "code",
   "execution_count": 7,
   "id": "bd8f9234-4b45-4f8b-bead-02af96b47ce1",
   "metadata": {},
   "outputs": [
    {
     "name": "stdout",
     "output_type": "stream",
     "text": [
      "[4, 16, 36, 64]\n"
     ]
    }
   ],
   "source": [
    "#list comprehensions\n",
    "even = [num ** 2 for num in range(1,10) if num % 2 ==0]\n",
    "print(even)"
   ]
  },
  {
   "cell_type": "code",
   "execution_count": 8,
   "id": "9c958ba0-7e3b-41ed-9733-a2fc018b0359",
   "metadata": {},
   "outputs": [
    {
     "name": "stdout",
     "output_type": "stream",
     "text": [
      "[1, 9, 25, 49, 81]\n"
     ]
    }
   ],
   "source": [
    "#list comprehensions\n",
    "odd = [num ** 2 for num in range(1,10) if num % 2 ==1]\n",
    "print(odd)"
   ]
  },
  {
   "cell_type": "code",
   "execution_count": 10,
   "id": "e45e84e5-a8f3-4a93-afb5-8267c55b13de",
   "metadata": {},
   "outputs": [
    {
     "name": "stdout",
     "output_type": "stream",
     "text": [
      "[1, 4, 3, 16, 5, 36, 7, 64, 9]\n"
     ]
    }
   ],
   "source": [
    "res = [num ** 2 if num % 2 ==0 else num for num in range (1,10)]\n",
    "print(res)"
   ]
  },
  {
   "cell_type": "code",
   "execution_count": 15,
   "id": "296a3a42-08d3-4891-be6a-3ff3c960fe08",
   "metadata": {},
   "outputs": [
    {
     "name": "stdout",
     "output_type": "stream",
     "text": [
      "[('red', 'apple'), ('red', 'banana'), ('red', 'cherry'), ('big', 'apple'), ('big', 'banana'), ('big', 'cherry'), ('tatsy', 'apple'), ('tatsy', 'banana'), ('tatsy', 'cherry')]\n"
     ]
    }
   ],
   "source": [
    "adjective = [\"red\", \"big\", \"tatsy\"]\n",
    "fruits = [\"apple\", \"banana\", \"cherry\"]\n",
    "# for a in adjective:\n",
    "#     for f in fruits:\n",
    "#         print(a,f)\n",
    "\n",
    "pair = [(a,f) for a in adjective for f in fruits]\n",
    "print(pair)"
   ]
  },
  {
   "cell_type": "code",
   "execution_count": 17,
   "id": "e4e381d7-8381-4f09-ad18-14d2e4a62ede",
   "metadata": {},
   "outputs": [
    {
     "name": "stdout",
     "output_type": "stream",
     "text": [
      "[1, 6, 8, 3, 4, 3, 7, 4, 9, 2, 7, 5, 4, 7, 5, 2, 8, 2, 7, 8, 5, 2, 6, 2, 5, 3, 4, 3, 8, 2, 3, 5, 4]\n"
     ]
    }
   ],
   "source": [
    "sent = \"A single training set that has already been processed is usually split into several types of datasets in machine learning which is needed to check how well the training of the model went\"\n",
    "num = []\n",
    "words = sent.split()\n",
    "count = [len(word) for word in words]\n",
    "print(count)\n",
    "    "
   ]
  },
  {
   "cell_type": "code",
   "execution_count": 8,
   "id": "e800ae15-0fc7-4e41-ab05-22a271073642",
   "metadata": {},
   "outputs": [
    {
     "name": "stdout",
     "output_type": "stream",
     "text": [
      "[3, 7, 3, 6, 4, 3, 3, 6, 7, 1, 9, 7, 3, 6, 2, 1, 7, 6, 6, 9]\n"
     ]
    }
   ],
   "source": [
    "sent = \"The curious cat jumped over the old fence, chasing a butterfly through the garden on a bright, breezy summer afternoon\"\n",
    "num = []\n",
    "words = sent.split()\n",
    "count = [len(word) for word in words]\n",
    "print(count)"
   ]
  },
  {
   "cell_type": "code",
   "execution_count": null,
   "id": "392b533c-6354-459e-9659-d2760f1a26b8",
   "metadata": {},
   "outputs": [],
   "source": []
  }
 ],
 "metadata": {
  "kernelspec": {
   "display_name": "Python 3 (ipykernel)",
   "language": "python",
   "name": "python3"
  },
  "language_info": {
   "codemirror_mode": {
    "name": "ipython",
    "version": 3
   },
   "file_extension": ".py",
   "mimetype": "text/x-python",
   "name": "python",
   "nbconvert_exporter": "python",
   "pygments_lexer": "ipython3",
   "version": "3.13.5"
  }
 },
 "nbformat": 4,
 "nbformat_minor": 5
}

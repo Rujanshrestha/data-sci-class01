{
 "cells": [
  {
   "cell_type": "markdown",
   "id": "d323890b-f9ed-438f-860f-1970ee5ab758",
   "metadata": {},
   "source": [
    "arithmetic operation"
   ]
  },
  {
   "cell_type": "code",
   "execution_count": 2,
   "id": "4356e227-b622-46f3-aace-d0e4bbea7485",
   "metadata": {},
   "outputs": [],
   "source": [
    "x = 3\n",
    "y = 55.6"
   ]
  },
  {
   "cell_type": "code",
   "execution_count": 3,
   "id": "23106387-f231-4fdb-976d-0dfda697a866",
   "metadata": {},
   "outputs": [
    {
     "data": {
      "text/plain": [
       "58.6"
      ]
     },
     "execution_count": 3,
     "metadata": {},
     "output_type": "execute_result"
    }
   ],
   "source": [
    "x + y"
   ]
  },
  {
   "cell_type": "code",
   "execution_count": 4,
   "id": "da66b586",
   "metadata": {},
   "outputs": [
    {
     "data": {
      "text/plain": [
       "-52.6"
      ]
     },
     "execution_count": 4,
     "metadata": {},
     "output_type": "execute_result"
    }
   ],
   "source": [
    "x - y"
   ]
  },
  {
   "cell_type": "code",
   "execution_count": 5,
   "id": "bc1fbd46-5ce7-427a-b1e0-2838e7095a99",
   "metadata": {},
   "outputs": [
    {
     "data": {
      "text/plain": [
       "166.8"
      ]
     },
     "execution_count": 5,
     "metadata": {},
     "output_type": "execute_result"
    }
   ],
   "source": [
    "x * y"
   ]
  },
  {
   "cell_type": "code",
   "execution_count": 6,
   "id": "a9947ebe-1288-4a30-9f79-72f5d6881fb4",
   "metadata": {},
   "outputs": [
    {
     "data": {
      "text/plain": [
       "0.0539568345323741"
      ]
     },
     "execution_count": 6,
     "metadata": {},
     "output_type": "execute_result"
    }
   ],
   "source": [
    "x / y"
   ]
  },
  {
   "cell_type": "code",
   "execution_count": 7,
   "id": "4e92c66e-599c-4df1-a35e-1adc224d656e",
   "metadata": {},
   "outputs": [
    {
     "data": {
      "text/plain": [
       "1"
      ]
     },
     "execution_count": 7,
     "metadata": {},
     "output_type": "execute_result"
    }
   ],
   "source": [
    "10 % 3"
   ]
  },
  {
   "cell_type": "markdown",
   "id": "da01426e-4fc0-4f93-8619-a62c25d2036e",
   "metadata": {},
   "source": [
    "moduler"
   ]
  },
  {
   "cell_type": "code",
   "execution_count": 8,
   "id": "13a633cb-bce5-47a9-813d-ac50cd277f81",
   "metadata": {},
   "outputs": [
    {
     "data": {
      "text/plain": [
       "1000"
      ]
     },
     "execution_count": 8,
     "metadata": {},
     "output_type": "execute_result"
    }
   ],
   "source": [
    "10 ** 3\n"
   ]
  },
  {
   "cell_type": "code",
   "execution_count": 9,
   "id": "8990b1cf-ca5f-41aa-add5-0fb9f1441587",
   "metadata": {},
   "outputs": [
    {
     "data": {
      "text/plain": [
       "16"
      ]
     },
     "execution_count": 9,
     "metadata": {},
     "output_type": "execute_result"
    }
   ],
   "source": [
    "100 // 6"
   ]
  },
  {
   "cell_type": "code",
   "execution_count": 11,
   "id": "933a0422-971a-45b4-8264-3181cbc2c749",
   "metadata": {},
   "outputs": [],
   "source": [
    "eulers = 0.577218"
   ]
  },
  {
   "cell_type": "code",
   "execution_count": 12,
   "id": "2fbdd6b0-abe0-49c9-8cf6-7a98e8fc8b15",
   "metadata": {},
   "outputs": [],
   "source": [
    "number = int(eulers)\n"
   ]
  },
  {
   "cell_type": "code",
   "execution_count": 13,
   "id": "ce905af4-e257-406b-adff-5afdc5ac8f06",
   "metadata": {},
   "outputs": [
    {
     "data": {
      "text/plain": [
       "0"
      ]
     },
     "execution_count": 13,
     "metadata": {},
     "output_type": "execute_result"
    }
   ],
   "source": [
    "number"
   ]
  },
  {
   "cell_type": "code",
   "execution_count": 15,
   "id": "b8be1547-8e53-4530-8662-f99ac360f079",
   "metadata": {},
   "outputs": [],
   "source": [
    "whole = 99"
   ]
  },
  {
   "cell_type": "code",
   "execution_count": 16,
   "id": "3d9ad6ae-b03a-4adc-8981-5645083993a4",
   "metadata": {},
   "outputs": [
    {
     "data": {
      "text/plain": [
       "99.0"
      ]
     },
     "execution_count": 16,
     "metadata": {},
     "output_type": "execute_result"
    }
   ],
   "source": [
    "float(whole)"
   ]
  },
  {
   "cell_type": "raw",
   "id": "4c586381-11bb-436f-b476-0b1d76cc6a23",
   "metadata": {},
   "source": [
    "complex number"
   ]
  },
  {
   "cell_type": "code",
   "execution_count": 19,
   "id": "b0af3457-5d0b-411e-873e-f03bef92c264",
   "metadata": {},
   "outputs": [
    {
     "data": {
      "text/plain": [
       "(34+66.7j)"
      ]
     },
     "execution_count": 19,
     "metadata": {},
     "output_type": "execute_result"
    }
   ],
   "source": [
    "complex(34,66.7)"
   ]
  },
  {
   "cell_type": "code",
   "execution_count": 26,
   "id": "445bfc34-eb33-4b4f-8bb3-5bc76ea68ec0",
   "metadata": {},
   "outputs": [],
   "source": [
    "num1 = 11\n",
    "num2 = 89.2"
   ]
  },
  {
   "cell_type": "code",
   "execution_count": 24,
   "id": "96de2f90-8584-4fc2-ad94-24a3421a8750",
   "metadata": {},
   "outputs": [
    {
     "data": {
      "text/plain": [
       "False"
      ]
     },
     "execution_count": 24,
     "metadata": {},
     "output_type": "execute_result"
    }
   ],
   "source": [
    "num1 == num2\n"
   ]
  },
  {
   "cell_type": "code",
   "execution_count": 29,
   "id": "052323d5-08e3-4fbd-923f-370325d7af37",
   "metadata": {},
   "outputs": [
    {
     "data": {
      "text/plain": [
       "False"
      ]
     },
     "execution_count": 29,
     "metadata": {},
     "output_type": "execute_result"
    }
   ],
   "source": [
    "num1 >= num2"
   ]
  },
  {
   "cell_type": "code",
   "execution_count": 30,
   "id": "4a0caca1-c57c-4ad7-8ede-12dd8454e2f2",
   "metadata": {},
   "outputs": [
    {
     "data": {
      "text/plain": [
       "True"
      ]
     },
     "execution_count": 30,
     "metadata": {},
     "output_type": "execute_result"
    }
   ],
   "source": [
    "num1 != num2"
   ]
  },
  {
   "cell_type": "raw",
   "id": "62439662-e24b-4ae9-ba72-3d9ee968ff0f",
   "metadata": {},
   "source": [
    "Math "
   ]
  },
  {
   "cell_type": "code",
   "execution_count": 31,
   "id": "2e177e2c-6411-402f-8dc2-62b5853e07b9",
   "metadata": {},
   "outputs": [],
   "source": [
    "import math"
   ]
  },
  {
   "cell_type": "code",
   "execution_count": 45,
   "id": "aa5b6ecf-7ad7-4807-b364-c0db8955e7a6",
   "metadata": {},
   "outputs": [],
   "source": [
    "x = 100"
   ]
  },
  {
   "cell_type": "code",
   "execution_count": 33,
   "id": "01acc468-cfdd-4526-877b-d3daadfe484c",
   "metadata": {},
   "outputs": [
    {
     "data": {
      "text/plain": [
       "22.3"
      ]
     },
     "execution_count": 33,
     "metadata": {},
     "output_type": "execute_result"
    }
   ],
   "source": [
    "math.fabs(x)"
   ]
  },
  {
   "cell_type": "code",
   "execution_count": 35,
   "id": "b52d747f-fa6c-4a68-a354-b07eee6e185c",
   "metadata": {},
   "outputs": [
    {
     "data": {
      "text/plain": [
       "-2.814718414331334"
      ]
     },
     "execution_count": 35,
     "metadata": {},
     "output_type": "execute_result"
    }
   ],
   "source": [
    "math.cbrt(x)"
   ]
  },
  {
   "cell_type": "code",
   "execution_count": 36,
   "id": "deb1e285-6767-4d2e-aa1e-21f1e8bc0a60",
   "metadata": {},
   "outputs": [
    {
     "data": {
      "text/plain": [
       "2.0664887892075805e-10"
      ]
     },
     "execution_count": 36,
     "metadata": {},
     "output_type": "execute_result"
    }
   ],
   "source": [
    "math.exp(x)\n"
   ]
  },
  {
   "cell_type": "code",
   "execution_count": 37,
   "id": "b5a2a882-d419-4815-8369-fbddcbda5235",
   "metadata": {},
   "outputs": [
    {
     "data": {
      "text/plain": [
       "(1.4073592071656673+2.4376176513107883j)"
      ]
     },
     "execution_count": 37,
     "metadata": {},
     "output_type": "execute_result"
    }
   ],
   "source": [
    "x ** (1/3) "
   ]
  },
  {
   "cell_type": "code",
   "execution_count": 38,
   "id": "c4396306-4f04-4ee5-806b-90d9d4db3c09",
   "metadata": {},
   "outputs": [
    {
     "data": {
      "text/plain": [
       "-0.9526833244002685"
      ]
     },
     "execution_count": 38,
     "metadata": {},
     "output_type": "execute_result"
    }
   ],
   "source": [
    "math.cos(x)"
   ]
  },
  {
   "cell_type": "code",
   "execution_count": 39,
   "id": "9cf9d465-1e61-4333-9599-4abd4e0440dc",
   "metadata": {},
   "outputs": [
    {
     "data": {
      "text/plain": [
       "3.141592653589793"
      ]
     },
     "execution_count": 39,
     "metadata": {},
     "output_type": "execute_result"
    }
   ],
   "source": [
    "math.pi"
   ]
  },
  {
   "cell_type": "code",
   "execution_count": 42,
   "id": "821d0d11-fcc1-49af-9280-a0f3c445db4e",
   "metadata": {},
   "outputs": [
    {
     "data": {
      "text/plain": [
       "3"
      ]
     },
     "execution_count": 42,
     "metadata": {},
     "output_type": "execute_result"
    }
   ],
   "source": [
    "math.gcd(3,9,12,6)"
   ]
  },
  {
   "cell_type": "code",
   "execution_count": 43,
   "id": "65c8ad0a-8bb3-49c8-bc45-941493a0ab16",
   "metadata": {},
   "outputs": [
    {
     "data": {
      "text/plain": [
       "-23"
      ]
     },
     "execution_count": 43,
     "metadata": {},
     "output_type": "execute_result"
    }
   ],
   "source": [
    "math.floor(x)"
   ]
  },
  {
   "cell_type": "code",
   "execution_count": 44,
   "id": "67111e95-60d1-4acf-8586-eea258adbf01",
   "metadata": {},
   "outputs": [
    {
     "data": {
      "text/plain": [
       "-22"
      ]
     },
     "execution_count": 44,
     "metadata": {},
     "output_type": "execute_result"
    }
   ],
   "source": [
    "math.ceil(x)"
   ]
  },
  {
   "cell_type": "code",
   "execution_count": 46,
   "id": "da5cc59d-b393-40c5-96be-d6076ffa451c",
   "metadata": {},
   "outputs": [
    {
     "data": {
      "text/plain": [
       "True"
      ]
     },
     "execution_count": 46,
     "metadata": {},
     "output_type": "execute_result"
    }
   ],
   "source": [
    "math.isfinite(33)"
   ]
  },
  {
   "cell_type": "code",
   "execution_count": 49,
   "id": "73329eb6-335d-47d7-9d81-6f8eee33e5c1",
   "metadata": {},
   "outputs": [
    {
     "data": {
      "text/plain": [
       "2.8284271247461903"
      ]
     },
     "execution_count": 49,
     "metadata": {},
     "output_type": "execute_result"
    }
   ],
   "source": [
    "math.dist((3,4),(5,6))"
   ]
  },
  {
   "cell_type": "code",
   "execution_count": null,
   "id": "402ca98c-4f41-4672-ae3f-9b3756b5df78",
   "metadata": {},
   "outputs": [],
   "source": [
    "\n"
   ]
  },
  {
   "cell_type": "code",
   "execution_count": 61,
   "id": "32b83533-178b-4d9f-a098-77e013376c65",
   "metadata": {},
   "outputs": [],
   "source": [
    "user = 1000\n",
    "capacity = 100\n",
    "\n",
    "#if user inpute value is less than your capacity, print users value, but if user input is greater than capacity, return 128 or capacity value."
   ]
  },
  {
   "cell_type": "code",
   "execution_count": 62,
   "id": "0066880b-edb9-4841-aba0-7fe67a07cbce",
   "metadata": {},
   "outputs": [],
   "source": [
    "result = min(user, capacity)"
   ]
  },
  {
   "cell_type": "code",
   "execution_count": 63,
   "id": "b1e7b841-2430-463b-83c1-ec4d0298110f",
   "metadata": {},
   "outputs": [
    {
     "data": {
      "text/plain": [
       "1000"
      ]
     },
     "execution_count": 63,
     "metadata": {},
     "output_type": "execute_result"
    }
   ],
   "source": [
    "max(user, capacity)"
   ]
  },
  {
   "cell_type": "code",
   "execution_count": 64,
   "id": "a5430971-00b8-4db1-b33c-cd28a3e04a6c",
   "metadata": {},
   "outputs": [
    {
     "data": {
      "text/plain": [
       "100"
      ]
     },
     "execution_count": 64,
     "metadata": {},
     "output_type": "execute_result"
    }
   ],
   "source": [
    "result"
   ]
  },
  {
   "cell_type": "code",
   "execution_count": 67,
   "id": "2a261251-866a-4db7-a551-6b31ce924983",
   "metadata": {},
   "outputs": [
    {
     "data": {
      "text/plain": [
       "25.34"
      ]
     },
     "execution_count": 67,
     "metadata": {},
     "output_type": "execute_result"
    }
   ],
   "source": [
    "round(25.345, 2)"
   ]
  }
 ],
 "metadata": {
  "kernelspec": {
   "display_name": "Python 3 (ipykernel)",
   "language": "python",
   "name": "python3"
  },
  "language_info": {
   "codemirror_mode": {
    "name": "ipython",
    "version": 3
   },
   "file_extension": ".py",
   "mimetype": "text/x-python",
   "name": "python",
   "nbconvert_exporter": "python",
   "pygments_lexer": "ipython3",
   "version": "3.13.5"
  }
 },
 "nbformat": 4,
 "nbformat_minor": 5
}

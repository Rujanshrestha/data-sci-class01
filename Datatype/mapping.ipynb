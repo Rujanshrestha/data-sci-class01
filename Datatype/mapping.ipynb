{
 "cells": [
  {
   "cell_type": "markdown",
   "id": "a18f89a2-0fff-43b0-9f7b-2960da29cc71",
   "metadata": {},
   "source": [
    "# Mapping type"
   ]
  },
  {
   "cell_type": "markdown",
   "id": "9ce0290e-0de6-45e8-82ea-93037ef9e4b3",
   "metadata": {},
   "source": [
    "## creating a dictionary\n",
    "\n"
   ]
  },
  {
   "cell_type": "raw",
   "id": "30d4acdf-9585-4537-9782-2016bc2bfc6f",
   "metadata": {},
   "source": [
    "\n",
    "dict = {\n",
    "    key : value,\n",
    "    key2 : value2\n",
    "}"
   ]
  },
  {
   "cell_type": "code",
   "execution_count": 14,
   "id": "46dded96-dd0a-4d73-9b96-b460541f1385",
   "metadata": {},
   "outputs": [],
   "source": [
    "person = {\n",
    "    \"name\" : \"Jhon Doe\",\n",
    "    \"age\" : 30,\n",
    "    \"gender\" : \"Male\",\n",
    "    \"subjects\" : [\"maths\", \"science\"]\n",
    "}"
   ]
  },
  {
   "cell_type": "code",
   "execution_count": 15,
   "id": "e3d83026-8a96-4f31-87e5-01fb27629c3d",
   "metadata": {},
   "outputs": [
    {
     "data": {
      "text/plain": [
       "dict"
      ]
     },
     "execution_count": 15,
     "metadata": {},
     "output_type": "execute_result"
    }
   ],
   "source": [
    "type(person)"
   ]
  },
  {
   "cell_type": "code",
   "execution_count": 16,
   "id": "16c8852d-7506-449a-976b-1ae1d0a2f8a6",
   "metadata": {},
   "outputs": [],
   "source": [
    "##person = dict(name=\"jhon\", city=\"NYC\")\n",
    "##print(person)"
   ]
  },
  {
   "cell_type": "markdown",
   "id": "251baa4f-dad4-4d19-a581-71b3f180f8cb",
   "metadata": {},
   "source": [
    "## Accessing Element"
   ]
  },
  {
   "cell_type": "code",
   "execution_count": 17,
   "id": "8bfeadbb-840d-435a-80c5-0094b20dbc60",
   "metadata": {},
   "outputs": [
    {
     "data": {
      "text/plain": [
       "1990"
      ]
     },
     "execution_count": 17,
     "metadata": {},
     "output_type": "execute_result"
    }
   ],
   "source": [
    "person.get(\"DOB\", 1990)"
   ]
  },
  {
   "cell_type": "code",
   "execution_count": 18,
   "id": "c98abd73-0880-4074-b9e0-50ea9b9191ee",
   "metadata": {},
   "outputs": [
    {
     "data": {
      "text/plain": [
       "['maths', 'science']"
      ]
     },
     "execution_count": 18,
     "metadata": {},
     "output_type": "execute_result"
    }
   ],
   "source": [
    "person.get(\"subjects\")"
   ]
  },
  {
   "cell_type": "markdown",
   "id": "343a01a0-3a98-4226-b250-fd3c3abe0e1f",
   "metadata": {},
   "source": [
    "## Modifing Elements"
   ]
  },
  {
   "cell_type": "code",
   "execution_count": 19,
   "id": "ff05a324-1d96-4318-8474-1ee55e988c7a",
   "metadata": {},
   "outputs": [
    {
     "name": "stdout",
     "output_type": "stream",
     "text": [
      "{'name': 'Jhon Doe', 'age': 30, 'gender': 'Male', 'subjects': ['maths', 'science']}\n"
     ]
    }
   ],
   "source": [
    "print(person)"
   ]
  },
  {
   "cell_type": "code",
   "execution_count": 21,
   "id": "2634d651-32f3-4bfd-9403-fd883302483c",
   "metadata": {},
   "outputs": [],
   "source": [
    "person[\"age\"] = 60"
   ]
  },
  {
   "cell_type": "code",
   "execution_count": 22,
   "id": "8aaae4e1-6b83-40e2-b9e6-e637aafa6d36",
   "metadata": {},
   "outputs": [
    {
     "name": "stdout",
     "output_type": "stream",
     "text": [
      "{'name': 'Jhon Doe', 'age': 60, 'gender': 'Male', 'subjects': ['maths', 'science']}\n"
     ]
    }
   ],
   "source": [
    "print(person)"
   ]
  },
  {
   "cell_type": "code",
   "execution_count": 26,
   "id": "9f3857dc-636d-429e-9480-14d80ad8a7c9",
   "metadata": {},
   "outputs": [
    {
     "data": {
      "text/plain": [
       "60"
      ]
     },
     "execution_count": 26,
     "metadata": {},
     "output_type": "execute_result"
    }
   ],
   "source": [
    "person.pop(\"age\")"
   ]
  },
  {
   "cell_type": "code",
   "execution_count": 27,
   "id": "a608766a-3c70-4fbe-a33f-29fa935cdff6",
   "metadata": {},
   "outputs": [
    {
     "name": "stdout",
     "output_type": "stream",
     "text": [
      "{'name': 'Jhon Doe', 'gender': 'Male', 'subjects': ['maths', 'science']}\n"
     ]
    }
   ],
   "source": [
    "print(person)"
   ]
  },
  {
   "cell_type": "markdown",
   "id": "ee9ee6d3-f950-4a68-a0c2-60ca01651279",
   "metadata": {},
   "source": [
    "## Dictionary Methods \n",
    "key(), value(), items(), copy(), clear()"
   ]
  },
  {
   "cell_type": "code",
   "execution_count": 30,
   "id": "cdc5bc03-a3b2-4257-9209-9e46294f3621",
   "metadata": {},
   "outputs": [
    {
     "name": "stdout",
     "output_type": "stream",
     "text": [
      "{'name': 'Jhon Doe', 'gender': 'Male', 'subjects': ['maths', 'science']}\n"
     ]
    }
   ],
   "source": [
    "print(person)"
   ]
  },
  {
   "cell_type": "code",
   "execution_count": 32,
   "id": "99bc8361-247f-4bbf-adc2-365938367184",
   "metadata": {},
   "outputs": [
    {
     "data": {
      "text/plain": [
       "dict_keys(['name', 'gender', 'subjects'])"
      ]
     },
     "execution_count": 32,
     "metadata": {},
     "output_type": "execute_result"
    }
   ],
   "source": [
    "person.keys()"
   ]
  },
  {
   "cell_type": "code",
   "execution_count": 33,
   "id": "03ac4452-4983-4d72-8839-073c158c17fb",
   "metadata": {},
   "outputs": [
    {
     "data": {
      "text/plain": [
       "dict_values(['Jhon Doe', 'Male', ['maths', 'science']])"
      ]
     },
     "execution_count": 33,
     "metadata": {},
     "output_type": "execute_result"
    }
   ],
   "source": [
    "person.values()"
   ]
  },
  {
   "cell_type": "code",
   "execution_count": 35,
   "id": "d0350756-0593-44e8-98e1-65d00916cd91",
   "metadata": {},
   "outputs": [
    {
     "data": {
      "text/plain": [
       "dict_values(['Jhon Doe', 'Male', ['maths', 'science']])"
      ]
     },
     "execution_count": 35,
     "metadata": {},
     "output_type": "execute_result"
    }
   ],
   "source": [
    "person.values()"
   ]
  },
  {
   "cell_type": "code",
   "execution_count": 36,
   "id": "66e28c05-5d5f-4dee-a206-f3a680462a78",
   "metadata": {},
   "outputs": [
    {
     "name": "stdout",
     "output_type": "stream",
     "text": [
      "dict_items([('name', 'Jhon Doe'), ('gender', 'Male'), ('subjects', ['maths', 'science'])])\n"
     ]
    }
   ],
   "source": [
    "print(person.items())"
   ]
  },
  {
   "cell_type": "code",
   "execution_count": null,
   "id": "38c6da8f-3c4a-4ff2-b45f-051446faf3e1",
   "metadata": {},
   "outputs": [],
   "source": []
  },
  {
   "cell_type": "code",
   "execution_count": 41,
   "id": "234ea258-4a17-43aa-8793-057c74cbe0a1",
   "metadata": {},
   "outputs": [
    {
     "data": {
      "text/plain": [
       "{'name': 'Jhon Doe', 'gender': 'others', 'subjects': ['maths', 'science']}"
      ]
     },
     "execution_count": 41,
     "metadata": {},
     "output_type": "execute_result"
    }
   ],
   "source": [
    "person2 = person.copy()\n",
    "person2[\"gender\"] = \"others\"\n",
    "person"
   ]
  },
  {
   "cell_type": "code",
   "execution_count": null,
   "id": "56528f8e-a045-4ca1-8080-1b19c1368d79",
   "metadata": {},
   "outputs": [],
   "source": []
  },
  {
   "cell_type": "markdown",
   "id": "65e1620d-1201-4ea5-9a67-ae2eab03850e",
   "metadata": {},
   "source": [
    "## Merge Dicts"
   ]
  },
  {
   "cell_type": "code",
   "execution_count": 43,
   "id": "d961acea-c6a3-4f82-8ee3-d822b0f2563b",
   "metadata": {},
   "outputs": [],
   "source": [
    "dict1 = {\"name\":\"sam\", \"age\":65}\n",
    "dict2 = {\"regno\": 456, \"subjects\": [\"maths\"]}"
   ]
  },
  {
   "cell_type": "code",
   "execution_count": 44,
   "id": "4e82a36b-5461-41bf-94fc-0a4a2c625314",
   "metadata": {},
   "outputs": [
    {
     "data": {
      "text/plain": [
       "{'name': 'sam', 'age': 65, 'regno': 456, 'subjects': ['maths']}"
      ]
     },
     "execution_count": 44,
     "metadata": {},
     "output_type": "execute_result"
    }
   ],
   "source": [
    "dict1 | dict2"
   ]
  },
  {
   "cell_type": "code",
   "execution_count": 46,
   "id": "b289fadd-5caf-481d-ad1c-5f99c941d032",
   "metadata": {},
   "outputs": [
    {
     "ename": "AttributeError",
     "evalue": "'dict' object has no attribute 'viewitems'",
     "output_type": "error",
     "traceback": [
      "\u001b[31m---------------------------------------------------------------------------\u001b[39m",
      "\u001b[31mAttributeError\u001b[39m                            Traceback (most recent call last)",
      "\u001b[36mCell\u001b[39m\u001b[36m \u001b[39m\u001b[32mIn[46]\u001b[39m\u001b[32m, line 1\u001b[39m\n\u001b[32m----> \u001b[39m\u001b[32m1\u001b[39m \u001b[43mdict1\u001b[49m\u001b[43m.\u001b[49m\u001b[43mviewitems\u001b[49m() & dict2.viewitems\n",
      "\u001b[31mAttributeError\u001b[39m: 'dict' object has no attribute 'viewitems'"
     ]
    }
   ],
   "source": [
    "dict1.viewitems() & dict2.viewitems"
   ]
  },
  {
   "cell_type": "code",
   "execution_count": 48,
   "id": "f7ad1c12-89d9-42c3-8e9b-79e0cc5450d8",
   "metadata": {},
   "outputs": [
    {
     "data": {
      "text/plain": [
       "{'name': 'sam', 'age': 65, 'regno': 456, 'subjects': ['maths']}"
      ]
     },
     "execution_count": 48,
     "metadata": {},
     "output_type": "execute_result"
    }
   ],
   "source": [
    "{**dict1, **dict2} #old method"
   ]
  },
  {
   "cell_type": "code",
   "execution_count": null,
   "id": "19c5a2d1-b594-4428-a600-89d841df84ca",
   "metadata": {},
   "outputs": [],
   "source": []
  },
  {
   "cell_type": "markdown",
   "id": "c76a13ca-cca1-4360-8336-5f81328cb317",
   "metadata": {},
   "source": [
    "## Sorted() Method"
   ]
  },
  {
   "cell_type": "code",
   "execution_count": 49,
   "id": "f6d4b9eb-b237-409a-8b35-872931bb049d",
   "metadata": {},
   "outputs": [],
   "source": [
    "person = {\"name\": \"john\", \"age\": \"30\", \"city\": \"New York\", \"gender\": \"male\" }"
   ]
  },
  {
   "cell_type": "code",
   "execution_count": 50,
   "id": "81b1607b-ccc1-4450-bd11-63f29fc6be53",
   "metadata": {},
   "outputs": [
    {
     "data": {
      "text/plain": [
       "dict_items([('name', 'john'), ('age', '30'), ('city', 'New York'), ('gender', 'male')])"
      ]
     },
     "execution_count": 50,
     "metadata": {},
     "output_type": "execute_result"
    }
   ],
   "source": [
    "person.items()"
   ]
  },
  {
   "cell_type": "code",
   "execution_count": 52,
   "id": "4b3c4560-83a9-420b-a55b-18d3bee0b5f6",
   "metadata": {},
   "outputs": [
    {
     "data": {
      "text/plain": [
       "{'age': '30', 'city': 'New York', 'gender': 'male', 'name': 'john'}"
      ]
     },
     "execution_count": 52,
     "metadata": {},
     "output_type": "execute_result"
    }
   ],
   "source": [
    "dict(\n",
    "    sorted(\n",
    "        person.items(), \n",
    "        key = lambda item: item[0]\n",
    "    )\n",
    ")"
   ]
  }
 ],
 "metadata": {
  "kernelspec": {
   "display_name": "Python 3 (ipykernel)",
   "language": "python",
   "name": "python3"
  },
  "language_info": {
   "codemirror_mode": {
    "name": "ipython",
    "version": 3
   },
   "file_extension": ".py",
   "mimetype": "text/x-python",
   "name": "python",
   "nbconvert_exporter": "python",
   "pygments_lexer": "ipython3",
   "version": "3.13.5"
  }
 },
 "nbformat": 4,
 "nbformat_minor": 5
}

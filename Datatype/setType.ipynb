{
 "cells": [
  {
   "cell_type": "markdown",
   "id": "3936039a-05bf-4a5d-8169-6fac678ee261",
   "metadata": {},
   "source": [
    "# Python Set Types"
   ]
  },
  {
   "cell_type": "markdown",
   "id": "105dfd50-d1f9-4a15-9393-8f5ef226f07d",
   "metadata": {},
   "source": [
    "## Creating a Set"
   ]
  },
  {
   "cell_type": "code",
   "execution_count": 1,
   "id": "e8be013b-557c-41f0-b1de-e3a251b6152e",
   "metadata": {},
   "outputs": [],
   "source": [
    "setA = {4,5,6,3,1,1,2,1}"
   ]
  },
  {
   "cell_type": "code",
   "execution_count": 2,
   "id": "a43eeba2-ead6-47fa-bae6-8e5db0c9ffd8",
   "metadata": {},
   "outputs": [
    {
     "data": {
      "text/plain": [
       "set"
      ]
     },
     "execution_count": 2,
     "metadata": {},
     "output_type": "execute_result"
    }
   ],
   "source": [
    "type(setA)"
   ]
  },
  {
   "cell_type": "code",
   "execution_count": 3,
   "id": "6764ebef-85d2-4abd-a517-74799256bc3d",
   "metadata": {},
   "outputs": [
    {
     "name": "stdout",
     "output_type": "stream",
     "text": [
      "{1, 2, 3, 4, 5, 6}\n"
     ]
    }
   ],
   "source": [
    "print(setA)"
   ]
  },
  {
   "cell_type": "code",
   "execution_count": 5,
   "id": "92c1459a-9d37-45ae-81b8-52d5c5f4b579",
   "metadata": {},
   "outputs": [
    {
     "data": {
      "text/plain": [
       "{'M', 'i', 'p', 's'}"
      ]
     },
     "execution_count": 5,
     "metadata": {},
     "output_type": "execute_result"
    }
   ],
   "source": [
    "set(\"Mississippi\")"
   ]
  },
  {
   "cell_type": "markdown",
   "id": "39d32b63-581f-432e-b9c6-eaad6cfd77c2",
   "metadata": {},
   "source": [
    "## Set Operations"
   ]
  },
  {
   "cell_type": "code",
   "execution_count": 6,
   "id": "0e0f509f-f21a-4083-9515-5dfa490ee3b2",
   "metadata": {},
   "outputs": [],
   "source": [
    "A = {1,2,3,4}\n",
    "B = {3,4,5,6}"
   ]
  },
  {
   "cell_type": "code",
   "execution_count": 10,
   "id": "79f0f7f5-d1c1-4fab-9266-07648301c8e4",
   "metadata": {},
   "outputs": [
    {
     "data": {
      "text/plain": [
       "{1, 2, 3, 4, 5, 6}"
      ]
     },
     "execution_count": 10,
     "metadata": {},
     "output_type": "execute_result"
    }
   ],
   "source": [
    "aUb = A.union(B)\n",
    "aUb"
   ]
  },
  {
   "cell_type": "code",
   "execution_count": 13,
   "id": "49d34bff-2971-4f40-adf2-e6c902426d05",
   "metadata": {},
   "outputs": [
    {
     "data": {
      "text/plain": [
       "{3, 4}"
      ]
     },
     "execution_count": 13,
     "metadata": {},
     "output_type": "execute_result"
    }
   ],
   "source": [
    "aNb = A.intersection(B)\n",
    "aNb"
   ]
  },
  {
   "cell_type": "code",
   "execution_count": 15,
   "id": "d4d2dfbc-0ba5-48a7-81da-c8678920a237",
   "metadata": {},
   "outputs": [
    {
     "data": {
      "text/plain": [
       "{1, 2}"
      ]
     },
     "execution_count": 15,
     "metadata": {},
     "output_type": "execute_result"
    }
   ],
   "source": [
    "A_B = A.difference(B)\n",
    "A_B"
   ]
  },
  {
   "cell_type": "code",
   "execution_count": 16,
   "id": "80cc1edd-814a-457e-8a70-ebedbc3d0494",
   "metadata": {},
   "outputs": [
    {
     "data": {
      "text/plain": [
       "False"
      ]
     },
     "execution_count": 16,
     "metadata": {},
     "output_type": "execute_result"
    }
   ],
   "source": [
    "A.isdisjoint(B)"
   ]
  },
  {
   "cell_type": "code",
   "execution_count": 17,
   "id": "582c5613-a067-4238-9483-eff563001fb0",
   "metadata": {},
   "outputs": [
    {
     "data": {
      "text/plain": [
       "False"
      ]
     },
     "execution_count": 17,
     "metadata": {},
     "output_type": "execute_result"
    }
   ],
   "source": [
    "A >= B"
   ]
  },
  {
   "cell_type": "code",
   "execution_count": null,
   "id": "64c7d898-bf00-4cf0-9635-caa62f21299d",
   "metadata": {},
   "outputs": [],
   "source": []
  },
  {
   "cell_type": "code",
   "execution_count": 18,
   "id": "feb35c4c-1348-46f8-b3ae-62fd51d55062",
   "metadata": {},
   "outputs": [],
   "source": [
    "A.add(55)"
   ]
  },
  {
   "cell_type": "code",
   "execution_count": 20,
   "id": "5b6ad44d-f9b3-457e-a521-111fe27c490b",
   "metadata": {},
   "outputs": [
    {
     "data": {
      "text/plain": [
       "{1, 2, 3, 4, 55}"
      ]
     },
     "execution_count": 20,
     "metadata": {},
     "output_type": "execute_result"
    }
   ],
   "source": [
    "A"
   ]
  },
  {
   "cell_type": "code",
   "execution_count": 22,
   "id": "11e83e16-13f1-4226-bc45-617d78d3e773",
   "metadata": {},
   "outputs": [],
   "source": [
    "A.discard(55)"
   ]
  },
  {
   "cell_type": "code",
   "execution_count": 23,
   "id": "acc2acff-a25d-475b-9dd3-f33e74dd87d8",
   "metadata": {},
   "outputs": [
    {
     "data": {
      "text/plain": [
       "{1, 2, 3, 4}"
      ]
     },
     "execution_count": 23,
     "metadata": {},
     "output_type": "execute_result"
    }
   ],
   "source": [
    "A"
   ]
  },
  {
   "cell_type": "code",
   "execution_count": 28,
   "id": "8ca85769-dc8c-4225-8880-f130496af0fe",
   "metadata": {},
   "outputs": [
    {
     "data": {
      "text/plain": [
       "2"
      ]
     },
     "execution_count": 28,
     "metadata": {},
     "output_type": "execute_result"
    }
   ],
   "source": [
    "A.pop()"
   ]
  },
  {
   "cell_type": "code",
   "execution_count": 29,
   "id": "3121d4dc-15be-4656-89f8-4d3396e1f1d7",
   "metadata": {},
   "outputs": [
    {
     "data": {
      "text/plain": [
       "{3, 4}"
      ]
     },
     "execution_count": 29,
     "metadata": {},
     "output_type": "execute_result"
    }
   ],
   "source": [
    "A"
   ]
  },
  {
   "cell_type": "code",
   "execution_count": null,
   "id": "262f0435-654e-4d86-ad2d-d8e747fd8ce4",
   "metadata": {},
   "outputs": [],
   "source": []
  }
 ],
 "metadata": {
  "kernelspec": {
   "display_name": "Python 3 (ipykernel)",
   "language": "python",
   "name": "python3"
  },
  "language_info": {
   "codemirror_mode": {
    "name": "ipython",
    "version": 3
   },
   "file_extension": ".py",
   "mimetype": "text/x-python",
   "name": "python",
   "nbconvert_exporter": "python",
   "pygments_lexer": "ipython3",
   "version": "3.13.5"
  }
 },
 "nbformat": 4,
 "nbformat_minor": 5
}

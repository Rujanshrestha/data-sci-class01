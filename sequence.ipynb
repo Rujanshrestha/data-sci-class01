{
 "cells": [
  {
   "cell_type": "markdown",
   "id": "020b7a5d-61d8-4d60-ab59-5862fa8b88ec",
   "metadata": {},
   "source": [
    "python sequence types"
   ]
  },
  {
   "cell_type": "markdown",
   "id": "64d19402-ea1a-425d-b86b-5e9c4bf59d9e",
   "metadata": {},
   "source": [
    "LIST"
   ]
  },
  {
   "cell_type": "code",
   "execution_count": 1,
   "id": "a5dad58d-43ab-473a-9288-e1454376cdcd",
   "metadata": {},
   "outputs": [],
   "source": [
    "prime = [1, 3, 5, 7, 11, 13, 17, 19, 23, 29]"
   ]
  },
  {
   "cell_type": "code",
   "execution_count": 2,
   "id": "c49ebebf-02ac-4073-8828-86da9d2fcaed",
   "metadata": {},
   "outputs": [
    {
     "data": {
      "text/plain": [
       "list"
      ]
     },
     "execution_count": 2,
     "metadata": {},
     "output_type": "execute_result"
    }
   ],
   "source": [
    "type(prime)"
   ]
  },
  {
   "cell_type": "code",
   "execution_count": 3,
   "id": "1ccdc51e-2839-461c-b93f-f3c39991805c",
   "metadata": {},
   "outputs": [],
   "source": [
    "z = [\"apple\", 11.34, '45jhon', -9, True]"
   ]
  },
  {
   "cell_type": "code",
   "execution_count": 4,
   "id": "ae6da193-2def-4cb2-ae3d-acbdea6b66d5",
   "metadata": {},
   "outputs": [
    {
     "name": "stdout",
     "output_type": "stream",
     "text": [
      "['apple', 11.34, '45jhon', -9, True]\n"
     ]
    }
   ],
   "source": [
    "print(z\n",
    "    )"
   ]
  },
  {
   "cell_type": "code",
   "execution_count": 5,
   "id": "292437d6-5f4a-4dac-8bae-4b0c11c7b58e",
   "metadata": {},
   "outputs": [
    {
     "data": {
      "text/plain": [
       "5"
      ]
     },
     "execution_count": 5,
     "metadata": {},
     "output_type": "execute_result"
    }
   ],
   "source": [
    "len(z)"
   ]
  },
  {
   "cell_type": "markdown",
   "id": "eefa7b84-9f6d-43c5-92cb-912b45654491",
   "metadata": {},
   "source": [
    "Accessing list items"
   ]
  },
  {
   "cell_type": "code",
   "execution_count": 6,
   "id": "23748a3f-99fe-4581-9116-2bc9b159854d",
   "metadata": {},
   "outputs": [
    {
     "data": {
      "text/plain": [
       "'apple'"
      ]
     },
     "execution_count": 6,
     "metadata": {},
     "output_type": "execute_result"
    }
   ],
   "source": [
    "z[0]"
   ]
  },
  {
   "cell_type": "code",
   "execution_count": 7,
   "id": "f9895025-eff2-4867-8032-6ebef3e6bca4",
   "metadata": {},
   "outputs": [
    {
     "data": {
      "text/plain": [
       "'45jhon'"
      ]
     },
     "execution_count": 7,
     "metadata": {},
     "output_type": "execute_result"
    }
   ],
   "source": [
    "z[-3]"
   ]
  },
  {
   "cell_type": "markdown",
   "id": "271fcf24-d7e6-4488-950e-596993234e09",
   "metadata": {},
   "source": [
    "slicing lists"
   ]
  },
  {
   "cell_type": "code",
   "execution_count": 8,
   "id": "e3fedce8-fa66-42e4-8c04-d83612c69ab1",
   "metadata": {},
   "outputs": [],
   "source": [
    "prime = [1, 3, 5, 7, 11, 13, 17, 19, 23, 29]"
   ]
  },
  {
   "cell_type": "code",
   "execution_count": 9,
   "id": "fcc60b27-98ae-492f-bf3e-f308960adb24",
   "metadata": {},
   "outputs": [
    {
     "data": {
      "text/plain": [
       "[5, 11, 17, 23]"
      ]
     },
     "execution_count": 9,
     "metadata": {},
     "output_type": "execute_result"
    }
   ],
   "source": [
    "prime[2::2]"
   ]
  },
  {
   "cell_type": "code",
   "execution_count": 10,
   "id": "232da7e3-81b3-4a94-a4c5-3328e510817c",
   "metadata": {},
   "outputs": [
    {
     "data": {
      "text/plain": [
       "[29, 23, 19, 17, 13, 11, 7, 5, 3, 1]"
      ]
     },
     "execution_count": 10,
     "metadata": {},
     "output_type": "execute_result"
    }
   ],
   "source": [
    "prime[::-1]"
   ]
  },
  {
   "cell_type": "code",
   "execution_count": 11,
   "id": "a43a2a2f-719e-42fe-a707-d23dbdabc1e1",
   "metadata": {},
   "outputs": [
    {
     "data": {
      "text/plain": [
       "128"
      ]
     },
     "execution_count": 11,
     "metadata": {},
     "output_type": "execute_result"
    }
   ],
   "source": [
    "sum(prime)"
   ]
  },
  {
   "cell_type": "code",
   "execution_count": null,
   "id": "03702d3f-dd91-4412-8a38-9e6e068b4e9f",
   "metadata": {},
   "outputs": [],
   "source": []
  },
  {
   "cell_type": "markdown",
   "id": "fb0c96ce-1d73-4ccd-8bbd-2731f3779e53",
   "metadata": {},
   "source": [
    "Modifing lists"
   ]
  },
  {
   "cell_type": "code",
   "execution_count": 12,
   "id": "bf2da635-03b2-4c03-ac53-418af949bd14",
   "metadata": {},
   "outputs": [],
   "source": [
    "z = [\"apple\", 11.34, '45jhon', -9, True]"
   ]
  },
  {
   "cell_type": "code",
   "execution_count": 13,
   "id": "a20a89a7-8cf4-4103-b151-6c1298fe557b",
   "metadata": {},
   "outputs": [],
   "source": [
    "z[2] = \"jhon\""
   ]
  },
  {
   "cell_type": "code",
   "execution_count": 14,
   "id": "38e9e530-1185-41b9-b9d7-7df2a6bb8a07",
   "metadata": {},
   "outputs": [
    {
     "name": "stdout",
     "output_type": "stream",
     "text": [
      "['apple', 11.34, 'jhon', -9, True]\n"
     ]
    }
   ],
   "source": [
    "print(z)"
   ]
  },
  {
   "cell_type": "code",
   "execution_count": 15,
   "id": "4c3d3c0f-ae74-4b2b-9b38-cd35e393ff17",
   "metadata": {},
   "outputs": [],
   "source": [
    "z.append(66) #<-- add item to end of list"
   ]
  },
  {
   "cell_type": "code",
   "execution_count": 16,
   "id": "5c5ffe69-1a69-4472-ae78-6d7080ff8344",
   "metadata": {},
   "outputs": [
    {
     "name": "stdout",
     "output_type": "stream",
     "text": [
      "['apple', 11.34, 'jhon', -9, True, 66]\n"
     ]
    }
   ],
   "source": [
    "print(z)"
   ]
  },
  {
   "cell_type": "code",
   "execution_count": 17,
   "id": "8e5bbb4f-da5f-42f4-a808-977349c0d02b",
   "metadata": {},
   "outputs": [],
   "source": [
    "z.insert(1, \"cow\")"
   ]
  },
  {
   "cell_type": "code",
   "execution_count": 18,
   "id": "071e4c0e-71fb-443c-947b-35bbb84a98cb",
   "metadata": {},
   "outputs": [],
   "source": [
    "z.extend([1, 2, 3])"
   ]
  },
  {
   "cell_type": "code",
   "execution_count": 19,
   "id": "e83a7e8e-0c42-4739-ad92-a38fbde33833",
   "metadata": {},
   "outputs": [
    {
     "name": "stdout",
     "output_type": "stream",
     "text": [
      "['apple', 'cow', 11.34, 'jhon', -9, True, 66, 1, 2, 3]\n"
     ]
    }
   ],
   "source": [
    "print(z)"
   ]
  },
  {
   "cell_type": "code",
   "execution_count": null,
   "id": "e00e8881-b004-4940-8ec4-e3bfa99c7ba4",
   "metadata": {},
   "outputs": [],
   "source": []
  },
  {
   "cell_type": "code",
   "execution_count": 22,
   "id": "52d3c82c-ff31-4b9c-bd98-46ae1d2b090c",
   "metadata": {},
   "outputs": [],
   "source": [
    "z.remove(-9)"
   ]
  },
  {
   "cell_type": "code",
   "execution_count": 23,
   "id": "5b1f372b-72e5-4f7e-b147-708d3a3be9ea",
   "metadata": {},
   "outputs": [
    {
     "name": "stdout",
     "output_type": "stream",
     "text": [
      "['apple', 'cow', 11.34, 'jhon', True, 66, 1, 2, 3]\n"
     ]
    }
   ],
   "source": [
    "print(z)"
   ]
  },
  {
   "cell_type": "code",
   "execution_count": null,
   "id": "cf883aa7-30eb-482f-a582-98ce8ee09ae6",
   "metadata": {},
   "outputs": [],
   "source": []
  },
  {
   "cell_type": "code",
   "execution_count": 24,
   "id": "eaefb968-ad09-41f3-99ce-7888d055f786",
   "metadata": {},
   "outputs": [
    {
     "data": {
      "text/plain": [
       "3"
      ]
     },
     "execution_count": 24,
     "metadata": {},
     "output_type": "execute_result"
    }
   ],
   "source": [
    "z.pop()"
   ]
  },
  {
   "cell_type": "code",
   "execution_count": 25,
   "id": "c12dd3d7-a3e6-413c-8fd5-894ad7efd9dc",
   "metadata": {},
   "outputs": [
    {
     "name": "stdout",
     "output_type": "stream",
     "text": [
      "['apple', 'cow', 11.34, 'jhon', True, 66, 1, 2]\n"
     ]
    }
   ],
   "source": [
    "print(z)"
   ]
  },
  {
   "cell_type": "code",
   "execution_count": null,
   "id": "5071ae1e-f636-424f-b1b1-fa6de47fc892",
   "metadata": {},
   "outputs": [],
   "source": []
  },
  {
   "cell_type": "code",
   "execution_count": 26,
   "id": "9ea2e0af-6098-4239-8b59-ad72a4775802",
   "metadata": {},
   "outputs": [],
   "source": [
    "z.clear()"
   ]
  },
  {
   "cell_type": "code",
   "execution_count": 27,
   "id": "9094cdfa-d73b-4899-823d-6bbeeb056372",
   "metadata": {},
   "outputs": [
    {
     "name": "stdout",
     "output_type": "stream",
     "text": [
      "[]\n"
     ]
    }
   ],
   "source": [
    "print(z)"
   ]
  },
  {
   "cell_type": "code",
   "execution_count": null,
   "id": "ed811cb7-e891-4fd4-b37d-60f3e2c2a156",
   "metadata": {},
   "outputs": [],
   "source": []
  },
  {
   "cell_type": "markdown",
   "id": "21dc7885-4b93-4d7e-b518-9c9346bff6ac",
   "metadata": {},
   "source": [
    "list method"
   ]
  },
  {
   "cell_type": "code",
   "execution_count": 28,
   "id": "03b2db13-de87-46c8-b68b-17219f7c9acf",
   "metadata": {},
   "outputs": [],
   "source": [
    "mylist = [3,1,99,1,5,1]"
   ]
  },
  {
   "cell_type": "code",
   "execution_count": 29,
   "id": "af3dc9aa-16c3-4b8c-967e-554200ed1a6b",
   "metadata": {},
   "outputs": [
    {
     "name": "stdout",
     "output_type": "stream",
     "text": [
      "[3, 1, 99, 1, 5, 1]\n"
     ]
    }
   ],
   "source": [
    "print(mylist)"
   ]
  },
  {
   "cell_type": "code",
   "execution_count": 30,
   "id": "cdee9f61-437d-4e8f-8fc0-f01207838b93",
   "metadata": {},
   "outputs": [],
   "source": [
    "mylist.sort()"
   ]
  },
  {
   "cell_type": "code",
   "execution_count": 31,
   "id": "d67a9ac1-ec76-4315-9be9-90ccc823921d",
   "metadata": {},
   "outputs": [
    {
     "name": "stdout",
     "output_type": "stream",
     "text": [
      "[1, 1, 1, 3, 5, 99]\n"
     ]
    }
   ],
   "source": [
    "print(mylist)"
   ]
  },
  {
   "cell_type": "code",
   "execution_count": 34,
   "id": "10c03f10-2451-4f6b-8ddb-9c5a36cffc35",
   "metadata": {},
   "outputs": [],
   "source": [
    "mylist.sort(reverse=True)"
   ]
  },
  {
   "cell_type": "code",
   "execution_count": 35,
   "id": "580df5e1-1d23-4b39-9ffb-6682f129d7c0",
   "metadata": {},
   "outputs": [
    {
     "name": "stdout",
     "output_type": "stream",
     "text": [
      "[99, 5, 3, 1, 1, 1]\n"
     ]
    }
   ],
   "source": [
    "print(mylist)"
   ]
  },
  {
   "cell_type": "code",
   "execution_count": 36,
   "id": "0e2abd7a-709f-4f32-8d66-f1e128baa0ba",
   "metadata": {},
   "outputs": [],
   "source": [
    "mylist.reverse()"
   ]
  },
  {
   "cell_type": "code",
   "execution_count": 37,
   "id": "56b637fc-e78b-4327-983d-8dae1e43ae9f",
   "metadata": {},
   "outputs": [
    {
     "name": "stdout",
     "output_type": "stream",
     "text": [
      "[1, 1, 1, 3, 5, 99]\n"
     ]
    }
   ],
   "source": [
    "print(mylist)"
   ]
  },
  {
   "cell_type": "code",
   "execution_count": 40,
   "id": "575c81b9-4aff-4ff0-9556-91cd9a53c071",
   "metadata": {},
   "outputs": [
    {
     "data": {
      "text/plain": [
       "3"
      ]
     },
     "execution_count": 40,
     "metadata": {},
     "output_type": "execute_result"
    }
   ],
   "source": [
    "mylist.count(1)"
   ]
  },
  {
   "cell_type": "code",
   "execution_count": 42,
   "id": "84be44c7-725a-49b8-a0eb-c1c005d818cc",
   "metadata": {},
   "outputs": [
    {
     "data": {
      "text/plain": [
       "5"
      ]
     },
     "execution_count": 42,
     "metadata": {},
     "output_type": "execute_result"
    }
   ],
   "source": [
    "mylist.index(99)"
   ]
  },
  {
   "cell_type": "code",
   "execution_count": null,
   "id": "8f0238dd-23e7-43da-8ac0-1c0365aa186b",
   "metadata": {},
   "outputs": [],
   "source": []
  },
  {
   "cell_type": "markdown",
   "id": "a5041be7-c355-410c-a468-9ee7f61bdc3b",
   "metadata": {},
   "source": [
    "TUPLE"
   ]
  },
  {
   "cell_type": "code",
   "execution_count": 45,
   "id": "50058c19-99a3-44bf-80ee-620c33417149",
   "metadata": {},
   "outputs": [],
   "source": [
    "mytuple = (720, 1280, 66)"
   ]
  },
  {
   "cell_type": "code",
   "execution_count": 46,
   "id": "40249843-3aac-4d82-8562-ba261297cf78",
   "metadata": {},
   "outputs": [
    {
     "name": "stdout",
     "output_type": "stream",
     "text": [
      "(720, 1280, 66)\n"
     ]
    }
   ],
   "source": [
    "print(mytuple)"
   ]
  },
  {
   "cell_type": "code",
   "execution_count": 47,
   "id": "83fe2ac8-1bba-41f7-9246-5b64db247fb5",
   "metadata": {},
   "outputs": [
    {
     "data": {
      "text/plain": [
       "tuple"
      ]
     },
     "execution_count": 47,
     "metadata": {},
     "output_type": "execute_result"
    }
   ],
   "source": [
    "type(mytuple)"
   ]
  },
  {
   "cell_type": "code",
   "execution_count": null,
   "id": "fb6635a8-ad63-47db-bd28-d24e59efa755",
   "metadata": {},
   "outputs": [],
   "source": []
  },
  {
   "cell_type": "markdown",
   "id": "29805e82-ffb1-4fa6-aa82-8e69e08bd211",
   "metadata": {},
   "source": [
    "accessing tuple elements"
   ]
  },
  {
   "cell_type": "code",
   "execution_count": 49,
   "id": "ea12d276-3aa8-42d0-b097-17f608134fdd",
   "metadata": {},
   "outputs": [
    {
     "data": {
      "text/plain": [
       "720"
      ]
     },
     "execution_count": 49,
     "metadata": {},
     "output_type": "execute_result"
    }
   ],
   "source": [
    "mytuple[0]"
   ]
  },
  {
   "cell_type": "code",
   "execution_count": 50,
   "id": "e8c1c4a0-ea3a-4874-a418-10b9d3e40383",
   "metadata": {},
   "outputs": [
    {
     "data": {
      "text/plain": [
       "66"
      ]
     },
     "execution_count": 50,
     "metadata": {},
     "output_type": "execute_result"
    }
   ],
   "source": [
    "mytuple[-1]"
   ]
  },
  {
   "cell_type": "code",
   "execution_count": null,
   "id": "348ceff4-6058-4abc-9ae1-ab2cfefdf7e9",
   "metadata": {},
   "outputs": [],
   "source": []
  },
  {
   "cell_type": "markdown",
   "id": "bbf6565d-fdd4-45c7-88cf-90a54a483e5f",
   "metadata": {},
   "source": [
    "slicing tuple"
   ]
  },
  {
   "cell_type": "code",
   "execution_count": 52,
   "id": "7b058b22-39e5-418d-a098-accea4a6465c",
   "metadata": {},
   "outputs": [],
   "source": [
    "longtuple = (1,3,6,33,66,0)"
   ]
  },
  {
   "cell_type": "code",
   "execution_count": 53,
   "id": "b7cad255-7842-4b07-a529-d7c1b3add495",
   "metadata": {},
   "outputs": [
    {
     "name": "stdout",
     "output_type": "stream",
     "text": [
      "(1, 3, 6, 33, 66, 0)\n"
     ]
    }
   ],
   "source": [
    "print(longtuple)"
   ]
  },
  {
   "cell_type": "code",
   "execution_count": 55,
   "id": "18e5fdd8-da31-454b-9052-b1a5fdf1993e",
   "metadata": {},
   "outputs": [
    {
     "data": {
      "text/plain": [
       "(6, 33, 66, 0)"
      ]
     },
     "execution_count": 55,
     "metadata": {},
     "output_type": "execute_result"
    }
   ],
   "source": [
    "longtuple[2:6]"
   ]
  },
  {
   "cell_type": "markdown",
   "id": "74426e64-ee3a-498b-8c64-5ea49aae1837",
   "metadata": {},
   "source": [
    "mofifing tuples"
   ]
  },
  {
   "cell_type": "code",
   "execution_count": 57,
   "id": "9bc81165-bbc5-4e03-b270-6d5a4f6faaf3",
   "metadata": {},
   "outputs": [
    {
     "ename": "TypeError",
     "evalue": "'tuple' object does not support item assignment",
     "output_type": "error",
     "traceback": [
      "\u001b[31m---------------------------------------------------------------------------\u001b[39m",
      "\u001b[31mTypeError\u001b[39m                                 Traceback (most recent call last)",
      "\u001b[36mCell\u001b[39m\u001b[36m \u001b[39m\u001b[32mIn[57]\u001b[39m\u001b[32m, line 1\u001b[39m\n\u001b[32m----> \u001b[39m\u001b[32m1\u001b[39m \u001b[43mlongtuple\u001b[49m\u001b[43m[\u001b[49m\u001b[32;43m0\u001b[39;49m\u001b[43m]\u001b[49m = \u001b[32m4\u001b[39m\n",
      "\u001b[31mTypeError\u001b[39m: 'tuple' object does not support item assignment"
     ]
    }
   ],
   "source": [
    "longtuple[0] = 4"
   ]
  },
  {
   "cell_type": "code",
   "execution_count": null,
   "id": "3f8ff848-2e45-4b47-b84e-320c7012a8af",
   "metadata": {},
   "outputs": [],
   "source": []
  },
  {
   "cell_type": "markdown",
   "id": "ca3be0d0-96db-4270-8365-150e88a8a422",
   "metadata": {},
   "source": [
    "tuple methods"
   ]
  },
  {
   "cell_type": "code",
   "execution_count": 60,
   "id": "a5a005e2-f2db-4495-b7c6-282cc14b8ddf",
   "metadata": {},
   "outputs": [
    {
     "data": {
      "text/plain": [
       "1"
      ]
     },
     "execution_count": 60,
     "metadata": {},
     "output_type": "execute_result"
    }
   ],
   "source": [
    "longtuple.count(0)"
   ]
  },
  {
   "cell_type": "code",
   "execution_count": 61,
   "id": "80c8e84e-8de2-43c2-ac74-bdd9d3b55c6a",
   "metadata": {},
   "outputs": [
    {
     "data": {
      "text/plain": [
       "[0, 1, 3, 6, 33, 66]"
      ]
     },
     "execution_count": 61,
     "metadata": {},
     "output_type": "execute_result"
    }
   ],
   "source": [
    "sorted(longtuple)"
   ]
  },
  {
   "cell_type": "code",
   "execution_count": null,
   "id": "1d014713-8610-4858-8ac8-ca511de23e62",
   "metadata": {},
   "outputs": [],
   "source": []
  },
  {
   "cell_type": "raw",
   "id": "3cef119b-b7be-431c-a799-daaee541f392",
   "metadata": {},
   "source": [
    "##Type Conversion"
   ]
  },
  {
   "cell_type": "code",
   "execution_count": 62,
   "id": "3bf37691-58ff-4579-85a1-ea809fd566f2",
   "metadata": {},
   "outputs": [
    {
     "data": {
      "text/plain": [
       "[1, 3, 6, 33, 66, 0]"
      ]
     },
     "execution_count": 62,
     "metadata": {},
     "output_type": "execute_result"
    }
   ],
   "source": [
    "list(longtuple)"
   ]
  },
  {
   "cell_type": "code",
   "execution_count": 63,
   "id": "79cc20d6-3c79-46f0-8930-cd2004d44f38",
   "metadata": {},
   "outputs": [
    {
     "data": {
      "text/plain": [
       "(1, 1, 1, 3, 5, 99)"
      ]
     },
     "execution_count": 63,
     "metadata": {},
     "output_type": "execute_result"
    }
   ],
   "source": [
    "tuple(mylist)"
   ]
  },
  {
   "cell_type": "code",
   "execution_count": null,
   "id": "5745b2c9-6ca4-499e-8866-8d0eeff05c8e",
   "metadata": {},
   "outputs": [],
   "source": []
  }
 ],
 "metadata": {
  "kernelspec": {
   "display_name": "Python 3 (ipykernel)",
   "language": "python",
   "name": "python3"
  },
  "language_info": {
   "codemirror_mode": {
    "name": "ipython",
    "version": 3
   },
   "file_extension": ".py",
   "mimetype": "text/x-python",
   "name": "python",
   "nbconvert_exporter": "python",
   "pygments_lexer": "ipython3",
   "version": "3.13.5"
  }
 },
 "nbformat": 4,
 "nbformat_minor": 5
}

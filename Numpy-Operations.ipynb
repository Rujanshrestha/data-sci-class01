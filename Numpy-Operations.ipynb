{
 "cells": [
  {
   "cell_type": "markdown",
   "id": "982571bd-fe56-4ce0-a577-46ce7e6f348b",
   "metadata": {},
   "source": [
    "# 1. Elementwise Operattions"
   ]
  },
  {
   "cell_type": "code",
   "execution_count": 1,
   "id": "b243f240-0a99-492b-8c79-e3ec840a618c",
   "metadata": {},
   "outputs": [],
   "source": [
    "import numpy as np\n"
   ]
  },
  {
   "cell_type": "code",
   "execution_count": 2,
   "id": "0e52b794-f708-40ed-b46b-3a41db93afb2",
   "metadata": {},
   "outputs": [],
   "source": [
    "a = np.array([[4,5,6],[5,7,8]])\n",
    "b = np.array([[1,2,3],[8,3,9]])"
   ]
  },
  {
   "cell_type": "code",
   "execution_count": 3,
   "id": "0226e637-4e09-42c5-8f44-a1f301065173",
   "metadata": {},
   "outputs": [
    {
     "data": {
      "text/plain": [
       "(array([[4, 5, 6],\n",
       "        [5, 7, 8]]),\n",
       " array([[1, 2, 3],\n",
       "        [8, 3, 9]]))"
      ]
     },
     "execution_count": 3,
     "metadata": {},
     "output_type": "execute_result"
    }
   ],
   "source": [
    "a,b"
   ]
  },
  {
   "cell_type": "markdown",
   "id": "57b0d58a-3e3b-4b64-bcd2-a31240dab522",
   "metadata": {},
   "source": [
    "## Arthemetic Operation"
   ]
  },
  {
   "cell_type": "code",
   "execution_count": 4,
   "id": "2895fb0f-d16b-445f-9b20-4e38e017a7c3",
   "metadata": {},
   "outputs": [
    {
     "data": {
      "text/plain": [
       "array([[ 5,  7,  9],\n",
       "       [13, 10, 17]])"
      ]
     },
     "execution_count": 4,
     "metadata": {},
     "output_type": "execute_result"
    }
   ],
   "source": [
    "# a + b\n",
    "np.add(a,b)"
   ]
  },
  {
   "cell_type": "code",
   "execution_count": 5,
   "id": "6459eabd-a0c4-49cd-ba7e-fe56462717e4",
   "metadata": {},
   "outputs": [
    {
     "data": {
      "text/plain": [
       "array([[ 3,  3,  3],\n",
       "       [-3,  4, -1]])"
      ]
     },
     "execution_count": 5,
     "metadata": {},
     "output_type": "execute_result"
    }
   ],
   "source": [
    "# a - b\n",
    "np.subtract(a,b)"
   ]
  },
  {
   "cell_type": "code",
   "execution_count": 6,
   "id": "25be2f79-5c34-4795-a6d5-5a5fe53f0387",
   "metadata": {},
   "outputs": [
    {
     "data": {
      "text/plain": [
       "array([[ 4, 10, 18],\n",
       "       [40, 21, 72]])"
      ]
     },
     "execution_count": 6,
     "metadata": {},
     "output_type": "execute_result"
    }
   ],
   "source": [
    "# a * b\n",
    "np.multiply(a,b)"
   ]
  },
  {
   "cell_type": "code",
   "execution_count": 8,
   "id": "443fcd0a-31e6-4b16-80f0-27e112769c92",
   "metadata": {},
   "outputs": [
    {
     "data": {
      "text/plain": [
       "array([[16, 25, 36],\n",
       "       [25, 49, 64]])"
      ]
     },
     "execution_count": 8,
     "metadata": {},
     "output_type": "execute_result"
    }
   ],
   "source": [
    "# a ** 2\n",
    "#np.square(a)\n",
    "np.power(a,2)"
   ]
  },
  {
   "cell_type": "code",
   "execution_count": 11,
   "id": "75fbd46a-a802-4269-8b52-030015966a5d",
   "metadata": {},
   "outputs": [],
   "source": [
    "#a % b\n",
    "quo, rwm = np.divmod(a,b)"
   ]
  },
  {
   "cell_type": "code",
   "execution_count": 12,
   "id": "6bfc5d8b-556b-49d2-80b8-5edc6e444794",
   "metadata": {},
   "outputs": [
    {
     "data": {
      "text/plain": [
       "array([[4, 2, 2],\n",
       "       [0, 2, 0]])"
      ]
     },
     "execution_count": 12,
     "metadata": {},
     "output_type": "execute_result"
    }
   ],
   "source": [
    "quo"
   ]
  },
  {
   "cell_type": "code",
   "execution_count": 13,
   "id": "e8623b89-c753-45d7-98fe-bf8bc4059ed6",
   "metadata": {},
   "outputs": [
    {
     "data": {
      "text/plain": [
       "array([[0, 1, 0],\n",
       "       [5, 1, 8]])"
      ]
     },
     "execution_count": 13,
     "metadata": {},
     "output_type": "execute_result"
    }
   ],
   "source": [
    "rwm"
   ]
  },
  {
   "cell_type": "code",
   "execution_count": 14,
   "id": "e1ce1210-17ec-42e4-a883-47f5c9cc555a",
   "metadata": {},
   "outputs": [
    {
     "data": {
      "text/plain": [
       "array([[2.        , 2.23606798, 2.44948974],\n",
       "       [2.23606798, 2.64575131, 2.82842712]])"
      ]
     },
     "execution_count": 14,
     "metadata": {},
     "output_type": "execute_result"
    }
   ],
   "source": [
    "np.sqrt(a)"
   ]
  },
  {
   "cell_type": "code",
   "execution_count": 17,
   "id": "af72cff0-16ad-41d5-9a36-d7ee18eb4b25",
   "metadata": {},
   "outputs": [
    {
     "data": {
      "text/plain": [
       "array([[4, 5, 6],\n",
       "       [5, 7, 8]])"
      ]
     },
     "execution_count": 17,
     "metadata": {},
     "output_type": "execute_result"
    }
   ],
   "source": [
    "np.floor(b)"
   ]
  },
  {
   "cell_type": "code",
   "execution_count": 19,
   "id": "d37ca78c-52bb-4e84-8bc9-1d9833690b85",
   "metadata": {},
   "outputs": [
    {
     "data": {
      "text/plain": [
       "array([[4, 5, 6],\n",
       "       [5, 7, 8]])"
      ]
     },
     "execution_count": 19,
     "metadata": {},
     "output_type": "execute_result"
    }
   ],
   "source": [
    "np.ceil(a)"
   ]
  },
  {
   "cell_type": "markdown",
   "id": "eb7d45a9-cda2-431c-acef-3a0160bdcb05",
   "metadata": {},
   "source": [
    "## Trignomatric"
   ]
  },
  {
   "cell_type": "code",
   "execution_count": 21,
   "id": "5ac9e595-2485-4134-9896-c3b83c30b326",
   "metadata": {},
   "outputs": [
    {
     "data": {
      "text/plain": [
       "array([[-0.7568025 , -0.95892427, -0.2794155 ],\n",
       "       [-0.95892427,  0.6569866 ,  0.98935825]])"
      ]
     },
     "execution_count": 21,
     "metadata": {},
     "output_type": "execute_result"
    }
   ],
   "source": [
    "np.sin(a)"
   ]
  },
  {
   "cell_type": "code",
   "execution_count": 22,
   "id": "fedb3514-e56f-4ce1-a7ab-8ee6aab0d205",
   "metadata": {},
   "outputs": [
    {
     "data": {
      "text/plain": [
       "array([[-0.65364362,  0.28366219,  0.96017029],\n",
       "       [ 0.28366219,  0.75390225, -0.14550003]])"
      ]
     },
     "execution_count": 22,
     "metadata": {},
     "output_type": "execute_result"
    }
   ],
   "source": [
    "np.cos(a)"
   ]
  },
  {
   "cell_type": "code",
   "execution_count": 24,
   "id": "41d2cf29-9bdb-4b81-84a5-04fda51c7311",
   "metadata": {},
   "outputs": [
    {
     "data": {
      "text/plain": [
       "array([[ 0.86369115, -0.29581292, -3.436353  ],\n",
       "       [-0.29581292,  1.14751542, -0.14706506]])"
      ]
     },
     "execution_count": 24,
     "metadata": {},
     "output_type": "execute_result"
    }
   ],
   "source": [
    "new = 1 / np.tan(a)\n",
    "new"
   ]
  },
  {
   "cell_type": "markdown",
   "id": "6d7f10e7-0484-483a-a65c-7f360c14688c",
   "metadata": {},
   "source": [
    "## Rounding operations"
   ]
  },
  {
   "cell_type": "code",
   "execution_count": 25,
   "id": "032e8cd4-3d1f-4423-b8b6-f126cecc22cb",
   "metadata": {},
   "outputs": [
    {
     "data": {
      "text/plain": [
       "array([[ 1., -0., -3.],\n",
       "       [-0.,  1., -0.]])"
      ]
     },
     "execution_count": 25,
     "metadata": {},
     "output_type": "execute_result"
    }
   ],
   "source": [
    "np.round(new)"
   ]
  },
  {
   "cell_type": "code",
   "execution_count": 26,
   "id": "b6104a30-013b-424a-9739-4d9994ce3842",
   "metadata": {},
   "outputs": [
    {
     "data": {
      "text/plain": [
       "array([[ 0.864, -0.296, -3.436],\n",
       "       [-0.296,  1.148, -0.147]])"
      ]
     },
     "execution_count": 26,
     "metadata": {},
     "output_type": "execute_result"
    }
   ],
   "source": [
    "np.round(new, decimals=3)"
   ]
  },
  {
   "cell_type": "code",
   "execution_count": 28,
   "id": "657528f7-3496-47a4-9511-c8ce9fca0619",
   "metadata": {},
   "outputs": [
    {
     "data": {
      "text/plain": [
       "array([[ 0.86, -0.3 , -3.44],\n",
       "       [-0.3 ,  1.15, -0.15]])"
      ]
     },
     "execution_count": 28,
     "metadata": {},
     "output_type": "execute_result"
    }
   ],
   "source": [
    "np.around(new, decimals=2)"
   ]
  },
  {
   "cell_type": "code",
   "execution_count": 29,
   "id": "93222d47-b054-4d0f-b915-c67c84d55275",
   "metadata": {},
   "outputs": [],
   "source": [
    "# same around is old form and round is new ome"
   ]
  },
  {
   "cell_type": "code",
   "execution_count": 30,
   "id": "7421a2c0-5e1f-40c2-af0a-b45b44c4896e",
   "metadata": {},
   "outputs": [
    {
     "data": {
      "text/plain": [
       "array([[ 0., -0., -3.],\n",
       "       [-0.,  1., -0.]])"
      ]
     },
     "execution_count": 30,
     "metadata": {},
     "output_type": "execute_result"
    }
   ],
   "source": [
    "np.fix(new) # sano value thulo value sabai lai zero(0) tira move garney\n"
   ]
  },
  {
   "cell_type": "code",
   "execution_count": 31,
   "id": "5a5640de-b178-42a8-b5e9-4d0f4adc722b",
   "metadata": {},
   "outputs": [
    {
     "data": {
      "text/plain": [
       "array([[ 0., -1., -4.],\n",
       "       [-1.,  1., -1.]])"
      ]
     },
     "execution_count": 31,
     "metadata": {},
     "output_type": "execute_result"
    }
   ],
   "source": [
    "np.floor(new)"
   ]
  },
  {
   "cell_type": "code",
   "execution_count": 32,
   "id": "5ecf1fe4-5525-480c-a2a9-479073c83700",
   "metadata": {},
   "outputs": [
    {
     "data": {
      "text/plain": [
       "array([[ 1., -0., -3.],\n",
       "       [-0.,  2., -0.]])"
      ]
     },
     "execution_count": 32,
     "metadata": {},
     "output_type": "execute_result"
    }
   ],
   "source": [
    "np.ceil(new)"
   ]
  },
  {
   "cell_type": "code",
   "execution_count": null,
   "id": "257631f3-660d-48e7-b977-c1c8c713046c",
   "metadata": {},
   "outputs": [],
   "source": []
  }
 ],
 "metadata": {
  "kernelspec": {
   "display_name": "Python 3 (ipykernel)",
   "language": "python",
   "name": "python3"
  },
  "language_info": {
   "codemirror_mode": {
    "name": "ipython",
    "version": 3
   },
   "file_extension": ".py",
   "mimetype": "text/x-python",
   "name": "python",
   "nbconvert_exporter": "python",
   "pygments_lexer": "ipython3",
   "version": "3.13.5"
  }
 },
 "nbformat": 4,
 "nbformat_minor": 5
}

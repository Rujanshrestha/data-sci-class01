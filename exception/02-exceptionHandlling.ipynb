{
 "cells": [
  {
   "cell_type": "markdown",
   "id": "8da3e8fa-fe5e-4670-9c42-d8927290e6d9",
   "metadata": {},
   "source": [
    "# Basic Exception Handling in Python\n",
    "\n",
    "In Python, you can use a `try-except` block to catch exceptions which follows the following syntax:\n",
    "\n",
    "```python\n",
    "try:\n",
    "    # code that may raise an exception\n",
    "except ExceptionType:\n",
    "    # code to handle the exception\n",
    "\n",
    "```\n",
    "\n",
    "Here, the `try` block contains the code that may raise an exception. The `except` block contains the code to handle the exception if it is raised.\n",
    "\n",
    "In this example below, the `try` block takes input from the user and tries to convert it to an integer. If the input is not an integer, a `ValueError` exception is raised. The `except` block catches the ValueError exception and prints an error message. Trying giving both numbers and other data types as input.\n",
    "    "
   ]
  },
  {
   "cell_type": "code",
   "execution_count": 2,
   "id": "89920359-88b4-4ba1-a437-0162c5e93659",
   "metadata": {},
   "outputs": [
    {
     "name": "stdin",
     "output_type": "stream",
     "text": [
      "enter a number 3\n"
     ]
    },
    {
     "name": "stdout",
     "output_type": "stream",
     "text": [
      "243\n"
     ]
    }
   ],
   "source": [
    "try:\n",
    "    num = int(input(\"enter a number\"))\n",
    "    print(num**5)\n",
    "except ValueError:\n",
    "    print(\"Invalid Input, enter integer value\")\n",
    "    print(0)"
   ]
  },
  {
   "cell_type": "code",
   "execution_count": 4,
   "id": "7c086d16-dba2-45e9-ab19-5772d04e422c",
   "metadata": {},
   "outputs": [
    {
     "name": "stdin",
     "output_type": "stream",
     "text": [
      "Enter a number 4\n",
      "Enter another number 0\n"
     ]
    },
    {
     "name": "stdout",
     "output_type": "stream",
     "text": [
      "cannot dividie by zero\n",
      "FINAL RESULT :  0\n"
     ]
    }
   ],
   "source": [
    "try:\n",
    "    x = int(input(\"Enter a number\"))\n",
    "    y = int(input(\"Enter another number\"))\n",
    "    result = x / y\n",
    "\n",
    "except ValueError as error:\n",
    "    print(\"invalid input\", error)\n",
    "    result = 1\n",
    "\n",
    "except ZeroDivisionError:\n",
    "    print(\"cannot dividie by zero\")\n",
    "    result = 0\n",
    "\n",
    "print(\"FINAL RESULT : \", result)"
   ]
  },
  {
   "cell_type": "code",
   "execution_count": 5,
   "id": "84a596e2-0a56-4a74-a42a-d57b22bdee18",
   "metadata": {},
   "outputs": [
    {
     "ename": "NameError",
     "evalue": "name 'values' is not defined",
     "output_type": "error",
     "traceback": [
      "\u001b[31m---------------------------------------------------------------------------\u001b[39m",
      "\u001b[31mNameError\u001b[39m                                 Traceback (most recent call last)",
      "\u001b[36mCell\u001b[39m\u001b[36m \u001b[39m\u001b[32mIn[5]\u001b[39m\u001b[32m, line 3\u001b[39m\n\u001b[32m      1\u001b[39m value = \u001b[33m\"\u001b[39m\u001b[33mabc\u001b[39m\u001b[33m\"\u001b[39m\n\u001b[32m      2\u001b[39m \u001b[38;5;28;01mtry\u001b[39;00m:\n\u001b[32m----> \u001b[39m\u001b[32m3\u001b[39m     \u001b[38;5;28mprint\u001b[39m(\u001b[38;5;28mint\u001b[39m(\u001b[43mvalues\u001b[49m))\n\u001b[32m      4\u001b[39m \u001b[38;5;28;01mexcept\u001b[39;00m(\u001b[38;5;167;01mValueError\u001b[39;00m, \u001b[38;5;167;01mTypeError\u001b[39;00m):\n\u001b[32m      5\u001b[39m     \u001b[38;5;28mprint\u001b[39m(\u001b[33m\"\u001b[39m\u001b[33mcannot convert to int\u001b[39m\u001b[33m\"\u001b[39m)\n",
      "\u001b[31mNameError\u001b[39m: name 'values' is not defined"
     ]
    }
   ],
   "source": [
    "value = \"abc\"\n",
    "try:\n",
    "    print(int(values))\n",
    "except(ValueError, TypeError):\n",
    "    print(\"cannot convert to int\")"
   ]
  },
  {
   "cell_type": "code",
   "execution_count": 6,
   "id": "c5d08ad3-6237-42dc-a01e-be0d612a0566",
   "metadata": {},
   "outputs": [
    {
     "ename": "SyntaxError",
     "evalue": "expected 'except' or 'finally' block (2501526172.py, line 4)",
     "output_type": "error",
     "traceback": [
      "  \u001b[36mCell\u001b[39m\u001b[36m \u001b[39m\u001b[32mIn[6]\u001b[39m\u001b[32m, line 4\u001b[39m\n\u001b[31m    \u001b[39m\u001b[31mexceptException as e:\u001b[39m\n    ^\n\u001b[31mSyntaxError\u001b[39m\u001b[31m:\u001b[39m expected 'except' or 'finally' block\n"
     ]
    }
   ],
   "source": [
    "value = \"abc\"\n",
    "try:\n",
    "    print(int(values))\n",
    "exceptException as e:\n",
    "    print(e)"
   ]
  },
  {
   "cell_type": "markdown",
   "id": "7f844804-7213-4d26-b0a3-4c64e215929b",
   "metadata": {},
   "source": [
    "### Create a function to get an element from list , gien index as attribute.\n",
    " - catch IndexError , and any other exception\n",
    " - if Index error , return last element\n",
    " - else return whole list"
   ]
  },
  {
   "cell_type": "code",
   "execution_count": 10,
   "id": "bdba9739-f1c7-4078-8d96-d57102b2088f",
   "metadata": {},
   "outputs": [
    {
     "data": {
      "text/plain": [
       "'d'"
      ]
     },
     "execution_count": 10,
     "metadata": {},
     "output_type": "execute_result"
    }
   ],
   "source": [
    "lst = ['a','b','c','d']\n",
    "def get_element(index):\n",
    "    try:\n",
    "        return lst[index]\n",
    "    except IndexError:\n",
    "        return lst[-1]  \n",
    "    except:\n",
    "        return lst     \n",
    "\n",
    "get_element(5)"
   ]
  },
  {
   "cell_type": "markdown",
   "id": "945e45e4-26a6-4a4b-845d-7ef9fdb32d71",
   "metadata": {},
   "source": [
    "## The else Block\n",
    "\n",
    "In addition to the `try` and `except` blocks, you can also include an `else` block. The `else` block is executed only if no exception is raised during the execution of the `try` block. This block is used to perform any actions that should be taken only when no exception occurs. For example, if the `try` block includes code that opens a file, the `else` block could be used to close the file.\n",
    "\n",
    "![image.png](attachment:18c86ccc-543d-4795-b9f8-bce2f70c65f6.png)\n",
    "\n",
    "Here is an example of using the else block:"
   ]
  },
  {
   "cell_type": "code",
   "execution_count": 11,
   "id": "9d500530-146b-4c0c-9130-678ed1a2bcc3",
   "metadata": {},
   "outputs": [
    {
     "name": "stdin",
     "output_type": "stream",
     "text": [
      "Enter a number 4\n",
      "Enter another number gg\n"
     ]
    },
    {
     "name": "stdout",
     "output_type": "stream",
     "text": [
      "invalid input invalid literal for int() with base 10: 'gg'\n"
     ]
    }
   ],
   "source": [
    "try:\n",
    "    x = int(input(\"Enter a number\"))\n",
    "    y = int(input(\"Enter another number\"))\n",
    "    result = x / y\n",
    "\n",
    "except ValueError as error:\n",
    "    print(\"invalid input\", error)\n",
    "    result = 1\n",
    "\n",
    "except ZeroDivisionError:\n",
    "    print(\"cannot dividie by zero\")\n",
    "    result = 0\n",
    "    \n",
    "else:\n",
    "    print(\"else block\")\n",
    "    print(\"final result :\", result)\n"
   ]
  },
  {
   "cell_type": "code",
   "execution_count": 12,
   "id": "aa30e306-31d3-4600-9176-e6abf41ec387",
   "metadata": {},
   "outputs": [
    {
     "name": "stdin",
     "output_type": "stream",
     "text": [
      "Enter a number 1\n",
      "Enter another number 2f\n"
     ]
    },
    {
     "name": "stdout",
     "output_type": "stream",
     "text": [
      "invalid input invalid literal for int() with base 10: '2f'\n",
      "Final Block\n",
      "FINAL RESULT :  1\n"
     ]
    }
   ],
   "source": [
    "try:\n",
    "    x = int(input(\"Enter a number\"))\n",
    "    y = int(input(\"Enter another number\"))\n",
    "    result = x / y\n",
    "\n",
    "except ValueError as error:\n",
    "    print(\"invalid input\", error)\n",
    "    result = 1\n",
    "\n",
    "except ZeroDivisionError:\n",
    "    print(\"Cannot dividie by zero\")\n",
    "    result = 0\n",
    "\n",
    "finally:\n",
    "    print(\"Final Block\")\n",
    "    print(\"FINAL RESULT : \", result)"
   ]
  },
  {
   "cell_type": "code",
   "execution_count": null,
   "id": "561134de-70ac-4909-85bb-dee1f950020b",
   "metadata": {},
   "outputs": [],
   "source": []
  }
 ],
 "metadata": {
  "kernelspec": {
   "display_name": "Python 3 (ipykernel)",
   "language": "python",
   "name": "python3"
  },
  "language_info": {
   "codemirror_mode": {
    "name": "ipython",
    "version": 3
   },
   "file_extension": ".py",
   "mimetype": "text/x-python",
   "name": "python",
   "nbconvert_exporter": "python",
   "pygments_lexer": "ipython3",
   "version": "3.13.5"
  }
 },
 "nbformat": 4,
 "nbformat_minor": 5
}

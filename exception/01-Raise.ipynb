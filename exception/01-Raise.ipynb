{
 "cells": [
  {
   "cell_type": "code",
   "execution_count": 1,
   "id": "05f822f2-34ef-4cd8-b992-539528ed40da",
   "metadata": {},
   "outputs": [
    {
     "ename": "ValueError",
     "evalue": "Divisor should not be zero",
     "output_type": "error",
     "traceback": [
      "\u001b[31m---------------------------------------------------------------------------\u001b[39m",
      "\u001b[31mValueError\u001b[39m                                Traceback (most recent call last)",
      "\u001b[36mCell\u001b[39m\u001b[36m \u001b[39m\u001b[32mIn[1]\u001b[39m\u001b[32m, line 5\u001b[39m\n\u001b[32m      2\u001b[39m y = \u001b[32m0\u001b[39m\n\u001b[32m      4\u001b[39m \u001b[38;5;28;01mif\u001b[39;00m y == \u001b[32m0\u001b[39m:\n\u001b[32m----> \u001b[39m\u001b[32m5\u001b[39m     \u001b[38;5;28;01mraise\u001b[39;00m \u001b[38;5;167;01mValueError\u001b[39;00m(\u001b[33m\"\u001b[39m\u001b[33mDivisor should not be zero\u001b[39m\u001b[33m\"\u001b[39m)\n\u001b[32m      7\u001b[39m x / y\n",
      "\u001b[31mValueError\u001b[39m: Divisor should not be zero"
     ]
    }
   ],
   "source": [
    "x = 2\n",
    "y = 0\n",
    "\n",
    "if y == 0:\n",
    "    raise ValueError(\"Divisor should not be zero\")\n",
    "\n",
    "x / y"
   ]
  },
  {
   "cell_type": "markdown",
   "id": "4caade88-1d59-4aec-8f0f-73b289aa8baa",
   "metadata": {},
   "source": [
    "## User-defined Exceptions"
   ]
  },
  {
   "cell_type": "code",
   "execution_count": 2,
   "id": "096b3838-dcf4-43b6-b91a-774be8cac420",
   "metadata": {},
   "outputs": [],
   "source": [
    "class UserNotFound(Exception):\n",
    "    pass"
   ]
  },
  {
   "cell_type": "code",
   "execution_count": 3,
   "id": "b79a34cf-eaf9-4020-af31-07f0af1dee09",
   "metadata": {},
   "outputs": [],
   "source": [
    "def get_user(user_id):\n",
    "    \"\"\"\n",
    "    .\n",
    "    .\n",
    "    \"\"\"\n",
    "    raise UserNotFound(f\"No user with id {user_id}\")"
   ]
  },
  {
   "cell_type": "code",
   "execution_count": 4,
   "id": "b2a903ed-0522-47c7-a38e-701208c22d99",
   "metadata": {},
   "outputs": [
    {
     "ename": "UserNotFound",
     "evalue": "No user with id ram",
     "output_type": "error",
     "traceback": [
      "\u001b[31m---------------------------------------------------------------------------\u001b[39m",
      "\u001b[31mUserNotFound\u001b[39m                              Traceback (most recent call last)",
      "\u001b[36mCell\u001b[39m\u001b[36m \u001b[39m\u001b[32mIn[4]\u001b[39m\u001b[32m, line 1\u001b[39m\n\u001b[32m----> \u001b[39m\u001b[32m1\u001b[39m \u001b[43mget_user\u001b[49m\u001b[43m(\u001b[49m\u001b[33;43m\"\u001b[39;49m\u001b[33;43mram\u001b[39;49m\u001b[33;43m\"\u001b[39;49m\u001b[43m)\u001b[49m\n",
      "\u001b[36mCell\u001b[39m\u001b[36m \u001b[39m\u001b[32mIn[3]\u001b[39m\u001b[32m, line 6\u001b[39m, in \u001b[36mget_user\u001b[39m\u001b[34m(user_id)\u001b[39m\n\u001b[32m      1\u001b[39m \u001b[38;5;28;01mdef\u001b[39;00m\u001b[38;5;250m \u001b[39m\u001b[34mget_user\u001b[39m(user_id):\n\u001b[32m      2\u001b[39m \u001b[38;5;250m    \u001b[39m\u001b[33;03m\"\"\"\u001b[39;00m\n\u001b[32m      3\u001b[39m \u001b[33;03m    .\u001b[39;00m\n\u001b[32m      4\u001b[39m \u001b[33;03m    .\u001b[39;00m\n\u001b[32m      5\u001b[39m \u001b[33;03m    \"\"\"\u001b[39;00m\n\u001b[32m----> \u001b[39m\u001b[32m6\u001b[39m     \u001b[38;5;28;01mraise\u001b[39;00m UserNotFound(\u001b[33mf\u001b[39m\u001b[33m\"\u001b[39m\u001b[33mNo user with id \u001b[39m\u001b[38;5;132;01m{\u001b[39;00muser_id\u001b[38;5;132;01m}\u001b[39;00m\u001b[33m\"\u001b[39m)\n",
      "\u001b[31mUserNotFound\u001b[39m: No user with id ram"
     ]
    }
   ],
   "source": [
    "get_user(\"ram\")"
   ]
  },
  {
   "cell_type": "code",
   "execution_count": null,
   "id": "ef20afea-52b5-4e45-8cae-4b35418ec0a9",
   "metadata": {},
   "outputs": [],
   "source": []
  }
 ],
 "metadata": {
  "kernelspec": {
   "display_name": "Python 3 (ipykernel)",
   "language": "python",
   "name": "python3"
  },
  "language_info": {
   "codemirror_mode": {
    "name": "ipython",
    "version": 3
   },
   "file_extension": ".py",
   "mimetype": "text/x-python",
   "name": "python",
   "nbconvert_exporter": "python",
   "pygments_lexer": "ipython3",
   "version": "3.13.5"
  }
 },
 "nbformat": 4,
 "nbformat_minor": 5
}

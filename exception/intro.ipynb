{
 "cells": [
  {
   "cell_type": "code",
   "execution_count": 2,
   "id": "81891413-16d0-42db-8fc4-85457e67481c",
   "metadata": {},
   "outputs": [],
   "source": [
    "num = \"ram\""
   ]
  },
  {
   "cell_type": "code",
   "execution_count": 3,
   "id": "82678d73-c7df-4a98-b3eb-1a1a47a58682",
   "metadata": {},
   "outputs": [
    {
     "ename": "ValueError",
     "evalue": "invalid literal for int() with base 10: 'ram'",
     "output_type": "error",
     "traceback": [
      "\u001b[31m---------------------------------------------------------------------------\u001b[39m",
      "\u001b[31mValueError\u001b[39m                                Traceback (most recent call last)",
      "\u001b[36mCell\u001b[39m\u001b[36m \u001b[39m\u001b[32mIn[3]\u001b[39m\u001b[32m, line 1\u001b[39m\n\u001b[32m----> \u001b[39m\u001b[32m1\u001b[39m \u001b[38;5;28;43mint\u001b[39;49m\u001b[43m(\u001b[49m\u001b[43mnum\u001b[49m\u001b[43m)\u001b[49m\n",
      "\u001b[31mValueError\u001b[39m: invalid literal for int() with base 10: 'ram'"
     ]
    }
   ],
   "source": [
    "int(num)"
   ]
  },
  {
   "cell_type": "code",
   "execution_count": 5,
   "id": "abac0cf7-c223-4b1a-9c10-1b4fdcd29f44",
   "metadata": {},
   "outputs": [
    {
     "name": "stdout",
     "output_type": "stream",
     "text": [
      "hari\n"
     ]
    }
   ],
   "source": [
    "if 1:\n",
    "    print (\"hari\")"
   ]
  },
  {
   "cell_type": "markdown",
   "id": "6af0c531-6cd0-47e0-a7d7-e746e4253668",
   "metadata": {},
   "source": [
    "# Exception Handling\n",
    "- Syntax error\n",
    "- Runtime error\n",
    "- logical error"
   ]
  },
  {
   "cell_type": "code",
   "execution_count": null,
   "id": "b4b10268-97bf-4ff8-b085-58903834e496",
   "metadata": {},
   "outputs": [],
   "source": []
  }
 ],
 "metadata": {
  "kernelspec": {
   "display_name": "Python 3 (ipykernel)",
   "language": "python",
   "name": "python3"
  },
  "language_info": {
   "codemirror_mode": {
    "name": "ipython",
    "version": 3
   },
   "file_extension": ".py",
   "mimetype": "text/x-python",
   "name": "python",
   "nbconvert_exporter": "python",
   "pygments_lexer": "ipython3",
   "version": "3.13.5"
  }
 },
 "nbformat": 4,
 "nbformat_minor": 5
}

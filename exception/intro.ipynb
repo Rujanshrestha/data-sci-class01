{
 "cells": [
  {
   "cell_type": "code",
   "execution_count": 2,
   "id": "81891413-16d0-42db-8fc4-85457e67481c",
   "metadata": {},
   "outputs": [],
   "source": [
    "num = \"ram\""
   ]
  },
  {
   "cell_type": "code",
   "execution_count": 3,
   "id": "82678d73-c7df-4a98-b3eb-1a1a47a58682",
   "metadata": {},
   "outputs": [
    {
     "ename": "ValueError",
     "evalue": "invalid literal for int() with base 10: 'ram'",
     "output_type": "error",
     "traceback": [
      "\u001b[31m---------------------------------------------------------------------------\u001b[39m",
      "\u001b[31mValueError\u001b[39m                                Traceback (most recent call last)",
      "\u001b[36mCell\u001b[39m\u001b[36m \u001b[39m\u001b[32mIn[3]\u001b[39m\u001b[32m, line 1\u001b[39m\n\u001b[32m----> \u001b[39m\u001b[32m1\u001b[39m \u001b[38;5;28;43mint\u001b[39;49m\u001b[43m(\u001b[49m\u001b[43mnum\u001b[49m\u001b[43m)\u001b[49m\n",
      "\u001b[31mValueError\u001b[39m: invalid literal for int() with base 10: 'ram'"
     ]
    }
   ],
   "source": [
    "int(num)"
   ]
  },
  {
   "cell_type": "code",
   "execution_count": 5,
   "id": "abac0cf7-c223-4b1a-9c10-1b4fdcd29f44",
   "metadata": {},
   "outputs": [
    {
     "name": "stdout",
     "output_type": "stream",
     "text": [
      "hari\n"
     ]
    }
   ],
   "source": [
    "if 1:\n",
    "    print (\"hari\")"
   ]
  },
  {
   "cell_type": "markdown",
   "id": "6af0c531-6cd0-47e0-a7d7-e746e4253668",
   "metadata": {},
   "source": [
    "# Exception Handling\n",
    "- Syntax error\n",
    "- Runtime error\n",
    "- logical error"
   ]
  },
  {
   "cell_type": "markdown",
   "id": "a35a8380-b715-4790-9e2b-1b6a9255cd41",
   "metadata": {},
   "source": [
    "Types of Exceptions in Python\n",
    "1. Built-in Exceptions\n",
    "Python has several built-in exceptions. Each of these exceptions is raised when a specific error occurs in the program.\n",
    "\n",
    "SyntaxError: Raised when there is a syntax error in the program\n",
    "TypeError: Raised when an operation or function is applied to an object of inappropriate type\n",
    "ValueError: Raised when an operation or function receives an argument of the correct type but with an inappropriate value\n",
    "IndexError: Raised when trying to access an index that is out of range\n",
    "KeyError: Raised when trying to access a key that does not exist in a dictionary\n",
    "AttributeError: Raised when trying to access an attribute that does not exist in an object\n",
    "NameError: Raised when a variable or name is not defined\n",
    "IOError: Raised when there is an input/output error\n",
    "ImportError: Raised when a module cannot be imported\n",
    "KeyboardInterrupt: Raised when the user interrupts the execution of the program with a keyboard signal (Ctrl+C)"
   ]
  },
  {
   "cell_type": "markdown",
   "id": "01326da6-604b-40a5-b5d8-c9554dd71fb5",
   "metadata": {},
   "source": [
    "2. User-defined Exceptions\n",
    "In addition to built-in exceptions, Python allows you to define your own exceptions. User-defined exceptions are used to signal specific errors in the program that are not covered by built-in exceptions."
   ]
  },
  {
   "cell_type": "code",
   "execution_count": null,
   "id": "ceb5e8f0-bc06-451c-93b8-925455138898",
   "metadata": {},
   "outputs": [],
   "source": []
  }
 ],
 "metadata": {
  "kernelspec": {
   "display_name": "Python 3 (ipykernel)",
   "language": "python",
   "name": "python3"
  },
  "language_info": {
   "codemirror_mode": {
    "name": "ipython",
    "version": 3
   },
   "file_extension": ".py",
   "mimetype": "text/x-python",
   "name": "python",
   "nbconvert_exporter": "python",
   "pygments_lexer": "ipython3",
   "version": "3.13.5"
  }
 },
 "nbformat": 4,
 "nbformat_minor": 5
}

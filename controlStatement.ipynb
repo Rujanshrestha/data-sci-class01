{
 "cells": [
  {
   "cell_type": "markdown",
   "id": "900821e9-e7ad-46a5-9b86-a9d2a1b04151",
   "metadata": {},
   "source": [
    "# Conditional statement\n"
   ]
  },
  {
   "cell_type": "code",
   "execution_count": 2,
   "id": "b6da8e2e-824d-460c-8bcf-c549a3b407db",
   "metadata": {},
   "outputs": [
    {
     "name": "stdout",
     "output_type": "stream",
     "text": [
      "inside of block\n",
      "55 is greater than 0\n",
      "outside of block\n"
     ]
    }
   ],
   "source": [
    "x = 55\n",
    "\n",
    "if x > 0:\n",
    "    print(\"inside of block\")\n",
    "    print(f\"{x} is greater than 0\")\n",
    "\n",
    "print(\"outside of block\")"
   ]
  },
  {
   "cell_type": "code",
   "execution_count": 3,
   "id": "15534128-d84d-46ae-9405-f3b5dc7ce0df",
   "metadata": {},
   "outputs": [
    {
     "name": "stdout",
     "output_type": "stream",
     "text": [
      "outside of block\n"
     ]
    }
   ],
   "source": [
    "x = -55\n",
    "\n",
    "if x > 0:\n",
    "    print(\"inside of block\")\n",
    "    print(f\"{x} is greater than 0\")\n",
    "\n",
    "print(\"outside of block\")"
   ]
  },
  {
   "cell_type": "code",
   "execution_count": 4,
   "id": "7c9cd7aa-420a-4ba1-aa66-8b44150a1c48",
   "metadata": {},
   "outputs": [],
   "source": [
    "x = 5\n",
    "y = -5\n",
    "\n",
    "if x > 0 and y > 0:\n",
    "    print(\"both are positive\")"
   ]
  },
  {
   "cell_type": "code",
   "execution_count": 9,
   "id": "5f7b1a1d-1c52-4044-ba93-cd27d4281412",
   "metadata": {},
   "outputs": [
    {
     "name": "stdout",
     "output_type": "stream",
     "text": [
      "odd\n"
     ]
    }
   ],
   "source": [
    "x = 33\n",
    "\n",
    "if x%2 == 0:\n",
    "    print(\"even\")\n",
    "\n",
    "else:\n",
    "    print(\"odd\")"
   ]
  },
  {
   "cell_type": "code",
   "execution_count": 14,
   "id": "d0beb4f6-3c00-4bf4-b8f0-b32610f40315",
   "metadata": {},
   "outputs": [
    {
     "name": "stdout",
     "output_type": "stream",
     "text": [
      "pallindrome\n"
     ]
    }
   ],
   "source": [
    "name = \"madam\"\n",
    "\n",
    "if name == name[::-1]:\n",
    "    print(\"pallindrome\")\n",
    "\n",
    "else:\n",
    "    print(\"not pallindrome\")"
   ]
  },
  {
   "cell_type": "code",
   "execution_count": null,
   "id": "bf28f41a-0081-4b7d-8b21-c5311c9752ff",
   "metadata": {},
   "outputs": [],
   "source": []
  },
  {
   "cell_type": "code",
   "execution_count": 16,
   "id": "d55058a4-f158-4242-999c-18078026aa73",
   "metadata": {},
   "outputs": [
    {
     "name": "stdout",
     "output_type": "stream",
     "text": [
      "x is positive\n"
     ]
    }
   ],
   "source": [
    "x = 6 \n",
    "\n",
    "if x < 0:\n",
    "    print(\"x is nagative\")\n",
    "elif x == 0:\n",
    "    print(\"x is zero\")\n",
    "else:\n",
    "    print(\"x is positive\")"
   ]
  },
  {
   "cell_type": "code",
   "execution_count": 30,
   "id": "e65e79c2-e1c7-4d1f-85a6-5adc28dc179c",
   "metadata": {},
   "outputs": [
    {
     "name": "stdout",
     "output_type": "stream",
     "text": [
      "grade C\n"
     ]
    }
   ],
   "source": [
    "number = 50\n",
    "\n",
    "if number >= 80:\n",
    "    print(\"grade A\")\n",
    "elif number  >= 60:\n",
    "    print(\"grade B\")\n",
    "elif number   >=40:\n",
    "    print(\"grade C\")\n",
    "else:\n",
    "    print(\"grade D\")"
   ]
  },
  {
   "cell_type": "code",
   "execution_count": null,
   "id": "50651300-9b04-421f-b382-164510bda56a",
   "metadata": {},
   "outputs": [],
   "source": []
  },
  {
   "cell_type": "markdown",
   "id": "9c2983c3-64b1-4682-b049-9c5077287e74",
   "metadata": {},
   "source": [
    "## Nested if.. else"
   ]
  },
  {
   "cell_type": "code",
   "execution_count": 32,
   "id": "3804635f-0982-4179-a638-a620665250f1",
   "metadata": {},
   "outputs": [
    {
     "name": "stdout",
     "output_type": "stream",
     "text": [
      "Grade Other\n"
     ]
    }
   ],
   "source": [
    "grade = 70\n",
    "if grade > 0:\n",
    "    if grade > 80:\n",
    "        print(\"Grade A\")\n",
    "\n",
    "    else :\n",
    "        print(\"Grade Other\")\n",
    "\n",
    "else: \n",
    "    print(\"enter positive value\")"
   ]
  },
  {
   "cell_type": "code",
   "execution_count": null,
   "id": "35111259-954c-4f4c-a3a7-a7bb62141cbf",
   "metadata": {},
   "outputs": [],
   "source": []
  },
  {
   "cell_type": "markdown",
   "id": "f300e2bc-d0c9-4ab4-abe2-de869bce0a06",
   "metadata": {},
   "source": [
    "# Python Loop Statements"
   ]
  },
  {
   "cell_type": "markdown",
   "id": "5dc05a7d-caae-4400-839e-989064d176f9",
   "metadata": {},
   "source": [
    "### 1. For Loop"
   ]
  },
  {
   "cell_type": "code",
   "execution_count": 33,
   "id": "7cc4fcf7-1c9e-44e9-ab9f-3fd8aaaf360f",
   "metadata": {},
   "outputs": [],
   "source": [
    "fruits = [\"apple\",\"banana\",\"cherry\"]"
   ]
  },
  {
   "cell_type": "code",
   "execution_count": 34,
   "id": "cb8fb0ba-6e86-4b93-af56-4a953b672b52",
   "metadata": {},
   "outputs": [
    {
     "name": "stdout",
     "output_type": "stream",
     "text": [
      "fruit apple\n",
      "fruit banana\n",
      "fruit cherry\n",
      "completed\n"
     ]
    }
   ],
   "source": [
    "for each in fruits:\n",
    "    print(f\"fruit {each}\")\n",
    "\n",
    "print(\"completed\")"
   ]
  },
  {
   "cell_type": "code",
   "execution_count": 35,
   "id": "72f35b44-c126-4b8c-b51c-e23b2e4edb8c",
   "metadata": {},
   "outputs": [
    {
     "name": "stdout",
     "output_type": "stream",
     "text": [
      "h\n",
      "e\n",
      "l\n",
      "l\n",
      "o\n"
     ]
    }
   ],
   "source": [
    "for ch in \"hello\":\n",
    "    print(ch)"
   ]
  },
  {
   "cell_type": "markdown",
   "id": "f7f9959b-9e71-4acd-86b5-6fa1f401132a",
   "metadata": {},
   "source": [
    "#### Using Range()"
   ]
  },
  {
   "cell_type": "code",
   "execution_count": 37,
   "id": "9f107f0c-49bc-45b0-85de-afe097322e70",
   "metadata": {},
   "outputs": [
    {
     "data": {
      "text/plain": [
       "[0, 1, 2, 3, 4, 5, 6, 7, 8, 9]"
      ]
     },
     "execution_count": 37,
     "metadata": {},
     "output_type": "execute_result"
    }
   ],
   "source": [
    "list(range(10))"
   ]
  },
  {
   "cell_type": "code",
   "execution_count": 38,
   "id": "eca6977c-1277-4b7c-9721-83850648194e",
   "metadata": {},
   "outputs": [
    {
     "data": {
      "text/plain": [
       "[10, 15, 20, 25, 30, 35, 40, 45, 50, 55, 60, 65, 70, 75, 80, 85, 90, 95]"
      ]
     },
     "execution_count": 38,
     "metadata": {},
     "output_type": "execute_result"
    }
   ],
   "source": [
    "list(range(10,100,5))"
   ]
  },
  {
   "cell_type": "code",
   "execution_count": 49,
   "id": "d493b69e-17a6-4518-b48d-7a1006c5e83b",
   "metadata": {},
   "outputs": [
    {
     "name": "stdout",
     "output_type": "stream",
     "text": [
      "\n",
      "*\n",
      "**\n",
      "***\n",
      "****\n",
      "*****\n"
     ]
    }
   ],
   "source": [
    "for i in range(0,6):\n",
    "    print(\"*\"*i)"
   ]
  },
  {
   "cell_type": "code",
   "execution_count": 48,
   "id": "4b797103-7347-4db2-9ff0-f06448651fe2",
   "metadata": {},
   "outputs": [
    {
     "name": "stdout",
     "output_type": "stream",
     "text": [
      "******\n",
      "*****\n",
      "****\n",
      "***\n",
      "**\n",
      "*\n"
     ]
    }
   ],
   "source": [
    "for i in range(6,0,-1):\n",
    "    print(\"*\"*i)"
   ]
  },
  {
   "cell_type": "markdown",
   "id": "9e9e6543-7098-4514-9661-e22f3a109964",
   "metadata": {},
   "source": [
    "### Nested for loop"
   ]
  },
  {
   "cell_type": "code",
   "execution_count": 51,
   "id": "3a420788-7d30-4947-8ff4-58681718080c",
   "metadata": {},
   "outputs": [],
   "source": [
    "adj = [\"rad\",\"big\",\"tasty\"]\n",
    "fruit = [\"apple\",\"banana\",\"cherry\"]\n"
   ]
  },
  {
   "cell_type": "code",
   "execution_count": 55,
   "id": "f6783124-e3e4-43bf-adad-f41a95459298",
   "metadata": {},
   "outputs": [
    {
     "name": "stdout",
     "output_type": "stream",
     "text": [
      "rad apple\n",
      "rad banana\n",
      "rad cherry\n",
      "big apple\n",
      "big banana\n",
      "big cherry\n",
      "tasty apple\n",
      "tasty banana\n",
      "tasty cherry\n"
     ]
    }
   ],
   "source": [
    "for a in adj:\n",
    "    for f in fruits:\n",
    "        print(a, f)"
   ]
  },
  {
   "cell_type": "code",
   "execution_count": null,
   "id": "35a3a62a-39d5-4098-beed-2b45d81f9cae",
   "metadata": {},
   "outputs": [],
   "source": []
  }
 ],
 "metadata": {
  "kernelspec": {
   "display_name": "Python 3 (ipykernel)",
   "language": "python",
   "name": "python3"
  },
  "language_info": {
   "codemirror_mode": {
    "name": "ipython",
    "version": 3
   },
   "file_extension": ".py",
   "mimetype": "text/x-python",
   "name": "python",
   "nbconvert_exporter": "python",
   "pygments_lexer": "ipython3",
   "version": "3.13.5"
  }
 },
 "nbformat": 4,
 "nbformat_minor": 5
}

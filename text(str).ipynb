{
 "cells": [
  {
   "cell_type": "markdown",
   "id": "4fe6c5a5-b302-4987-a6ff-46f62f046f35",
   "metadata": {},
   "source": [
    "python text type"
   ]
  },
  {
   "cell_type": "code",
   "execution_count": 1,
   "id": "d6dfa352-cc49-48e5-8e7b-e8b0902959e6",
   "metadata": {},
   "outputs": [],
   "source": [
    "name = \"edjbjedjb\""
   ]
  },
  {
   "cell_type": "code",
   "execution_count": 2,
   "id": "171b6d19-4ccb-45e1-9a53-c400646d6c74",
   "metadata": {},
   "outputs": [
    {
     "data": {
      "text/plain": [
       "str"
      ]
     },
     "execution_count": 2,
     "metadata": {},
     "output_type": "execute_result"
    }
   ],
   "source": [
    "type(name)"
   ]
  },
  {
   "cell_type": "code",
   "execution_count": 4,
   "id": "d64ec517-a597-426f-9a97-a209590e7538",
   "metadata": {},
   "outputs": [],
   "source": [
    "sent = \"\"\"\n",
    "  line 1\n",
    "  line 2\n",
    "  \"\"\""
   ]
  },
  {
   "cell_type": "code",
   "execution_count": 5,
   "id": "afd57119-8e32-406f-a586-71333d7065cc",
   "metadata": {},
   "outputs": [
    {
     "name": "stdout",
     "output_type": "stream",
     "text": [
      "\n",
      "  line 1\n",
      "  line 2\n",
      "  \n"
     ]
    }
   ],
   "source": [
    "print(sent)"
   ]
  },
  {
   "cell_type": "code",
   "execution_count": 6,
   "id": "fb1dcf3a-5230-4d9e-86fd-435a2ec6d910",
   "metadata": {},
   "outputs": [
    {
     "data": {
      "text/plain": [
       "'22'"
      ]
     },
     "execution_count": 6,
     "metadata": {},
     "output_type": "execute_result"
    }
   ],
   "source": [
    "str(22)"
   ]
  },
  {
   "cell_type": "code",
   "execution_count": 7,
   "id": "30d13c19-3031-4fc0-aa25-038f78b133b4",
   "metadata": {},
   "outputs": [],
   "source": [
    "name = \"pineapple\""
   ]
  },
  {
   "cell_type": "code",
   "execution_count": 8,
   "id": "283db5c8-f668-4fac-bcc4-85a24b7d4f53",
   "metadata": {},
   "outputs": [
    {
     "data": {
      "text/plain": [
       "9"
      ]
     },
     "execution_count": 8,
     "metadata": {},
     "output_type": "execute_result"
    }
   ],
   "source": [
    "len(name)"
   ]
  },
  {
   "cell_type": "markdown",
   "id": "e32f8f3e-8eff-4663-83e7-669775ba469c",
   "metadata": {},
   "source": [
    "String Method"
   ]
  },
  {
   "cell_type": "code",
   "execution_count": 16,
   "id": "cdc9f79c-165f-4059-8d85-d6c50589ffb1",
   "metadata": {},
   "outputs": [],
   "source": [
    "x = \"   Welcome   \""
   ]
  },
  {
   "cell_type": "code",
   "execution_count": 17,
   "id": "17d61385-3984-4a38-a3fb-35c2076ae4d8",
   "metadata": {},
   "outputs": [
    {
     "data": {
      "text/plain": [
       "'   welcome   '"
      ]
     },
     "execution_count": 17,
     "metadata": {},
     "output_type": "execute_result"
    }
   ],
   "source": [
    "x.lower()"
   ]
  },
  {
   "cell_type": "code",
   "execution_count": 18,
   "id": "ac7ea386-62e6-4c61-a154-e0786c2b3048",
   "metadata": {},
   "outputs": [
    {
     "data": {
      "text/plain": [
       "'   WELCOME   '"
      ]
     },
     "execution_count": 18,
     "metadata": {},
     "output_type": "execute_result"
    }
   ],
   "source": [
    "x.upper()"
   ]
  },
  {
   "cell_type": "code",
   "execution_count": 19,
   "id": "81155929-9f04-4dd2-a8a7-ae8a581752ae",
   "metadata": {},
   "outputs": [
    {
     "data": {
      "text/plain": [
       "'Welcome'"
      ]
     },
     "execution_count": 19,
     "metadata": {},
     "output_type": "execute_result"
    }
   ],
   "source": [
    "x.strip()"
   ]
  },
  {
   "cell_type": "code",
   "execution_count": 20,
   "id": "0b7e53fb-8dde-4cc2-bea3-b0d957ea735c",
   "metadata": {},
   "outputs": [
    {
     "data": {
      "text/plain": [
       "'   Walcoma   '"
      ]
     },
     "execution_count": 20,
     "metadata": {},
     "output_type": "execute_result"
    }
   ],
   "source": [
    "x.replace('e','a')"
   ]
  },
  {
   "cell_type": "code",
   "execution_count": 22,
   "id": "f183a82e-b80f-473d-843f-feed1b00488f",
   "metadata": {},
   "outputs": [
    {
     "data": {
      "text/plain": [
       "['   W', 'lcom', '   ']"
      ]
     },
     "execution_count": 22,
     "metadata": {},
     "output_type": "execute_result"
    }
   ],
   "source": [
    "x.split('e')"
   ]
  },
  {
   "cell_type": "code",
   "execution_count": 26,
   "id": "748e0b99-dd6d-48d6-a596-83c6c2147206",
   "metadata": {},
   "outputs": [
    {
     "data": {
      "text/plain": [
       "['Welcome']"
      ]
     },
     "execution_count": 26,
     "metadata": {},
     "output_type": "execute_result"
    }
   ],
   "source": [
    "x.split()"
   ]
  },
  {
   "cell_type": "code",
   "execution_count": 27,
   "id": "17f09a3e-b0dd-4c0a-8a94-c3e454cbbd4d",
   "metadata": {},
   "outputs": [],
   "source": [
    "email = \"test@gmail.com\""
   ]
  },
  {
   "cell_type": "code",
   "execution_count": 29,
   "id": "14a9c3af-7eac-4f25-992e-b755234d398f",
   "metadata": {},
   "outputs": [
    {
     "data": {
      "text/plain": [
       "True"
      ]
     },
     "execution_count": 29,
     "metadata": {},
     "output_type": "execute_result"
    }
   ],
   "source": [
    "email.endswith(\".com\")"
   ]
  },
  {
   "cell_type": "code",
   "execution_count": 30,
   "id": "86cac682-aa5d-431a-98d1-2e515986967c",
   "metadata": {},
   "outputs": [
    {
     "data": {
      "text/plain": [
       "'   welcome   '"
      ]
     },
     "execution_count": 30,
     "metadata": {},
     "output_type": "execute_result"
    }
   ],
   "source": [
    "x.capitalize()"
   ]
  },
  {
   "cell_type": "code",
   "execution_count": 31,
   "id": "2798bb00-3dfe-467d-a930-bd5d4a2b81f9",
   "metadata": {},
   "outputs": [
    {
     "data": {
      "text/plain": [
       "'Welcome   '"
      ]
     },
     "execution_count": 31,
     "metadata": {},
     "output_type": "execute_result"
    }
   ],
   "source": [
    "x.lstrip()"
   ]
  },
  {
   "cell_type": "code",
   "execution_count": 32,
   "id": "2b27b10e-0bcf-48d1-b2dd-28af7ce8c497",
   "metadata": {},
   "outputs": [
    {
     "data": {
      "text/plain": [
       "'   Welcome'"
      ]
     },
     "execution_count": 32,
     "metadata": {},
     "output_type": "execute_result"
    }
   ],
   "source": [
    "x.rstrip()"
   ]
  },
  {
   "cell_type": "code",
   "execution_count": 33,
   "id": "24300390-da90-44b8-91fd-9fd713f8d3c4",
   "metadata": {},
   "outputs": [
    {
     "data": {
      "text/plain": [
       "'haridhakal'"
      ]
     },
     "execution_count": 33,
     "metadata": {},
     "output_type": "execute_result"
    }
   ],
   "source": [
    "\"hari\" + \"dhakal\""
   ]
  },
  {
   "cell_type": "code",
   "execution_count": 34,
   "id": "4a641482-1d7f-40b6-bd32-68fef91bbf28",
   "metadata": {},
   "outputs": [
    {
     "data": {
      "text/plain": [
       "'harihariharihariharihariharihariharihari'"
      ]
     },
     "execution_count": 34,
     "metadata": {},
     "output_type": "execute_result"
    }
   ],
   "source": [
    "\"hari\" * 10"
   ]
  },
  {
   "cell_type": "markdown",
   "id": "097a13a9-5f7f-401d-89ae-cd79614d1da1",
   "metadata": {},
   "source": [
    "String Indexing"
   ]
  },
  {
   "cell_type": "code",
   "execution_count": 6,
   "id": "cc3c08c5-d97b-4a79-847a-4cbb9a6bb6f9",
   "metadata": {},
   "outputs": [],
   "source": [
    "address = \"kathmandu\""
   ]
  },
  {
   "cell_type": "code",
   "execution_count": 7,
   "id": "b3b751a2-6de8-4f27-a35a-4f81417fc372",
   "metadata": {},
   "outputs": [
    {
     "data": {
      "text/plain": [
       "'a'"
      ]
     },
     "execution_count": 7,
     "metadata": {},
     "output_type": "execute_result"
    }
   ],
   "source": [
    "address[5]"
   ]
  },
  {
   "cell_type": "code",
   "execution_count": 8,
   "id": "1ded2fe2-f827-4fe0-8990-d56fa48c78d9",
   "metadata": {},
   "outputs": [
    {
     "data": {
      "text/plain": [
       "'u'"
      ]
     },
     "execution_count": 8,
     "metadata": {},
     "output_type": "execute_result"
    }
   ],
   "source": [
    "address[-1]"
   ]
  },
  {
   "cell_type": "markdown",
   "id": "826972d7-191b-45d4-959c-74fcb327a3bd",
   "metadata": {},
   "source": [
    "#String Slicing"
   ]
  },
  {
   "cell_type": "code",
   "execution_count": 9,
   "id": "d298f8fb-fab8-40e3-a081-7b8edc3710c7",
   "metadata": {},
   "outputs": [
    {
     "data": {
      "text/plain": [
       "'aha'"
      ]
     },
     "execution_count": 9,
     "metadata": {},
     "output_type": "execute_result"
    }
   ],
   "source": [
    "address[1:7:2]"
   ]
  },
  {
   "cell_type": "code",
   "execution_count": 13,
   "id": "d2f2ed2a-5c39-4437-85cc-08d0cdad439d",
   "metadata": {},
   "outputs": [
    {
     "data": {
      "text/plain": [
       "'ktmnu'"
      ]
     },
     "execution_count": 13,
     "metadata": {},
     "output_type": "execute_result"
    }
   ],
   "source": [
    "address[::2]"
   ]
  },
  {
   "cell_type": "code",
   "execution_count": 14,
   "id": "86554963-001d-4d6a-8c4a-62cb23d75b74",
   "metadata": {},
   "outputs": [
    {
     "data": {
      "text/plain": [
       "'man'"
      ]
     },
     "execution_count": 14,
     "metadata": {},
     "output_type": "execute_result"
    }
   ],
   "source": [
    "address[-5:-2:]"
   ]
  },
  {
   "cell_type": "code",
   "execution_count": 19,
   "id": "361a525f-8fa3-4cdd-8d78-75bc61915b7a",
   "metadata": {},
   "outputs": [
    {
     "data": {
      "text/plain": [
       "'udnamhtak'"
      ]
     },
     "execution_count": 19,
     "metadata": {},
     "output_type": "execute_result"
    }
   ],
   "source": [
    "address[::-1]\n",
    "#Reverse String"
   ]
  },
  {
   "cell_type": "markdown",
   "id": "ab93c3eb-6150-40ca-9224-c41dec26b295",
   "metadata": {},
   "source": [
    "String Formatting"
   ]
  },
  {
   "cell_type": "code",
   "execution_count": 20,
   "id": "a868b661-9fde-46f4-90b6-392336f77692",
   "metadata": {},
   "outputs": [],
   "source": [
    "name = \"jhon\"\n",
    "age = 45"
   ]
  },
  {
   "cell_type": "code",
   "execution_count": 24,
   "id": "83c213fe-a4d6-4f36-8183-8bf8cab9323d",
   "metadata": {},
   "outputs": [
    {
     "name": "stdout",
     "output_type": "stream",
     "text": [
      "Your name is Jhon and you are 45 years old.\n"
     ]
    }
   ],
   "source": [
    "print(\"Your name is %s and you are %d years old.\" %(name.capitalize(), age))"
   ]
  },
  {
   "cell_type": "code",
   "execution_count": 26,
   "id": "f4bc4620-0ebf-4151-a7dd-7ccf25f15eef",
   "metadata": {},
   "outputs": [
    {
     "name": "stdout",
     "output_type": "stream",
     "text": [
      "Your name is Jhon and you are 45 years old.\n"
     ]
    }
   ],
   "source": [
    "print(\"Your name is {} and you are {} years old.\".format(name.capitalize(), age))"
   ]
  },
  {
   "cell_type": "code",
   "execution_count": 27,
   "id": "264f72fe-c950-4f9a-8eb7-9b5026de058e",
   "metadata": {},
   "outputs": [
    {
     "name": "stdout",
     "output_type": "stream",
     "text": [
      "your name is jhon and you are 45 years old.\n"
     ]
    }
   ],
   "source": [
    "print(f\"your name is {name} and you are {age} years old.\")"
   ]
  },
  {
   "cell_type": "code",
   "execution_count": 28,
   "id": "f3db680f-ff33-40ce-a2a6-766d433b9a09",
   "metadata": {},
   "outputs": [],
   "source": [
    "base_path = \"/c\"\n",
    "file_name = \"hd_video\"\n",
    "path  = f\"{base_path}/output/{file_name}.mp4\""
   ]
  },
  {
   "cell_type": "code",
   "execution_count": 29,
   "id": "9c684061-7f3e-48c4-b041-462a96299002",
   "metadata": {},
   "outputs": [
    {
     "data": {
      "text/plain": [
       "'/c/output/hd_video.mp4'"
      ]
     },
     "execution_count": 29,
     "metadata": {},
     "output_type": "execute_result"
    }
   ],
   "source": [
    "path"
   ]
  }
 ],
 "metadata": {
  "kernelspec": {
   "display_name": "Python 3 (ipykernel)",
   "language": "python",
   "name": "python3"
  },
  "language_info": {
   "codemirror_mode": {
    "name": "ipython",
    "version": 3
   },
   "file_extension": ".py",
   "mimetype": "text/x-python",
   "name": "python",
   "nbconvert_exporter": "python",
   "pygments_lexer": "ipython3",
   "version": "3.13.5"
  }
 },
 "nbformat": 4,
 "nbformat_minor": 5
}

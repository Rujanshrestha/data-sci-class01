{
 "cells": [
  {
   "cell_type": "markdown",
   "id": "c6300fcd-e9eb-4139-93a0-5066a2717974",
   "metadata": {},
   "source": [
    "# Boolean Type"
   ]
  },
  {
   "cell_type": "code",
   "execution_count": 7,
   "id": "05595e28-818c-4e7a-8777-98630203693c",
   "metadata": {},
   "outputs": [
    {
     "data": {
      "text/plain": [
       "bool"
      ]
     },
     "execution_count": 7,
     "metadata": {},
     "output_type": "execute_result"
    }
   ],
   "source": [
    "flag = True\n",
    "type(flag)"
   ]
  },
  {
   "cell_type": "code",
   "execution_count": 8,
   "id": "3a8e69fe-000f-482c-b43e-f5bc2512e990",
   "metadata": {},
   "outputs": [],
   "source": [
    "a = 5\n",
    "b = 10.0\n",
    "\n",
    "c = b > a"
   ]
  },
  {
   "cell_type": "code",
   "execution_count": 9,
   "id": "4b5f711a-9c6f-45e3-872b-c71a31f5ecd7",
   "metadata": {},
   "outputs": [
    {
     "data": {
      "text/plain": [
       "True"
      ]
     },
     "execution_count": 9,
     "metadata": {},
     "output_type": "execute_result"
    }
   ],
   "source": [
    "c"
   ]
  },
  {
   "cell_type": "code",
   "execution_count": 10,
   "id": "c6403937-54e8-42ea-908f-2059f31dd837",
   "metadata": {},
   "outputs": [],
   "source": [
    "email = \"s@gmail.com\".endswith(\"gmail.com\")"
   ]
  },
  {
   "cell_type": "code",
   "execution_count": 11,
   "id": "e6bb2d5a-6258-4068-ae66-f0a961cbaa63",
   "metadata": {},
   "outputs": [
    {
     "data": {
      "text/plain": [
       "True"
      ]
     },
     "execution_count": 11,
     "metadata": {},
     "output_type": "execute_result"
    }
   ],
   "source": [
    "email"
   ]
  },
  {
   "cell_type": "code",
   "execution_count": null,
   "id": "ef97728a-3839-48ac-9abd-07836f460ece",
   "metadata": {},
   "outputs": [],
   "source": []
  },
  {
   "cell_type": "code",
   "execution_count": 12,
   "id": "25e4594f-ed3f-4525-af9d-eed3acd698b9",
   "metadata": {},
   "outputs": [],
   "source": [
    "x = True\n",
    "y = False"
   ]
  },
  {
   "cell_type": "code",
   "execution_count": 13,
   "id": "7d640dee-5439-4300-b94a-5f322cfedd57",
   "metadata": {},
   "outputs": [],
   "source": [
    "res = x and y"
   ]
  },
  {
   "cell_type": "code",
   "execution_count": 14,
   "id": "89b31d63-8de6-4cb7-8762-ff0e895f0a12",
   "metadata": {},
   "outputs": [
    {
     "data": {
      "text/plain": [
       "False"
      ]
     },
     "execution_count": 14,
     "metadata": {},
     "output_type": "execute_result"
    }
   ],
   "source": [
    "res"
   ]
  },
  {
   "cell_type": "code",
   "execution_count": 15,
   "id": "2c94c64b-cb4e-4bbd-bbcd-61e5bfa4c7b1",
   "metadata": {},
   "outputs": [],
   "source": [
    "res = x or y"
   ]
  },
  {
   "cell_type": "code",
   "execution_count": 16,
   "id": "6e4feffe-8620-4889-9c45-4d5a81742977",
   "metadata": {},
   "outputs": [
    {
     "data": {
      "text/plain": [
       "True"
      ]
     },
     "execution_count": 16,
     "metadata": {},
     "output_type": "execute_result"
    }
   ],
   "source": [
    "res"
   ]
  },
  {
   "cell_type": "code",
   "execution_count": 18,
   "id": "837be3a8-a91f-4888-9906-24496b51958b",
   "metadata": {},
   "outputs": [
    {
     "data": {
      "text/plain": [
       "True"
      ]
     },
     "execution_count": 18,
     "metadata": {},
     "output_type": "execute_result"
    }
   ],
   "source": [
    "not y"
   ]
  },
  {
   "cell_type": "code",
   "execution_count": null,
   "id": "55b141dc-ae1a-4a11-aa0e-764af6fa91d2",
   "metadata": {},
   "outputs": [],
   "source": []
  },
  {
   "cell_type": "code",
   "execution_count": 19,
   "id": "7972234d-b69b-4387-9745-105e566d181d",
   "metadata": {},
   "outputs": [],
   "source": [
    "number = 0"
   ]
  },
  {
   "cell_type": "code",
   "execution_count": 20,
   "id": "065c899a-2fbe-49b6-9cb1-401593d54c02",
   "metadata": {},
   "outputs": [
    {
     "data": {
      "text/plain": [
       "False"
      ]
     },
     "execution_count": 20,
     "metadata": {},
     "output_type": "execute_result"
    }
   ],
   "source": [
    "bool(number)"
   ]
  },
  {
   "cell_type": "code",
   "execution_count": 21,
   "id": "dcf866e0-77c7-4755-8cbc-3e2c7f6d09a8",
   "metadata": {},
   "outputs": [
    {
     "data": {
      "text/plain": [
       "False"
      ]
     },
     "execution_count": 21,
     "metadata": {},
     "output_type": "execute_result"
    }
   ],
   "source": [
    "name = \"\"\n",
    "bool(name)"
   ]
  },
  {
   "cell_type": "code",
   "execution_count": 22,
   "id": "185f3df7-3b97-43fe-ba20-a59d4e32b4a4",
   "metadata": {},
   "outputs": [
    {
     "data": {
      "text/plain": [
       "False"
      ]
     },
     "execution_count": 22,
     "metadata": {},
     "output_type": "execute_result"
    }
   ],
   "source": [
    "lst = []\n",
    "bool(lst)"
   ]
  },
  {
   "cell_type": "code",
   "execution_count": 23,
   "id": "bcd8a4ce-99f2-4f64-b1a7-1ce6fa39137e",
   "metadata": {},
   "outputs": [
    {
     "data": {
      "text/plain": [
       "True"
      ]
     },
     "execution_count": 23,
     "metadata": {},
     "output_type": "execute_result"
    }
   ],
   "source": [
    "dd = {\"a\":1}\n",
    "bool(dd)"
   ]
  }
 ],
 "metadata": {
  "kernelspec": {
   "display_name": "Python 3 (ipykernel)",
   "language": "python",
   "name": "python3"
  },
  "language_info": {
   "codemirror_mode": {
    "name": "ipython",
    "version": 3
   },
   "file_extension": ".py",
   "mimetype": "text/x-python",
   "name": "python",
   "nbconvert_exporter": "python",
   "pygments_lexer": "ipython3",
   "version": "3.13.5"
  }
 },
 "nbformat": 4,
 "nbformat_minor": 5
}

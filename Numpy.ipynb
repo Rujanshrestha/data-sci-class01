{
 "cells": [
  {
   "cell_type": "code",
   "execution_count": 2,
   "id": "22add2a0-8de2-4883-8d6e-717311e2f813",
   "metadata": {},
   "outputs": [
    {
     "name": "stdout",
     "output_type": "stream",
     "text": [
      "Requirement already satisfied: numpy in c:\\users\\rizas\\desktop\\git rujan\\data-sci-class01\\class01\\lib\\site-packages (2.3.1)\n"
     ]
    }
   ],
   "source": [
    "!pip install numpy\n"
   ]
  },
  {
   "cell_type": "code",
   "execution_count": 3,
   "id": "82da154a-23ff-4d40-a909-95dcd07fdcc4",
   "metadata": {},
   "outputs": [],
   "source": [
    "import numpy as np"
   ]
  },
  {
   "cell_type": "code",
   "execution_count": 4,
   "id": "3c3c5690-4e84-4337-990c-ac398fd8500b",
   "metadata": {},
   "outputs": [
    {
     "data": {
      "text/plain": [
       "'2.3.1'"
      ]
     },
     "execution_count": 4,
     "metadata": {},
     "output_type": "execute_result"
    }
   ],
   "source": [
    "np.__version__"
   ]
  },
  {
   "cell_type": "markdown",
   "id": "e0787fa4-5018-4714-bde5-7e54fde26ea5",
   "metadata": {},
   "source": [
    "# Creating Numpy Array"
   ]
  },
  {
   "cell_type": "code",
   "execution_count": 5,
   "id": "5660d536-c74a-4061-abbe-5bc0b58aa49b",
   "metadata": {},
   "outputs": [],
   "source": [
    "list1 = [[2,3,4]]"
   ]
  },
  {
   "cell_type": "code",
   "execution_count": 6,
   "id": "dda35cdf-926c-4ea5-9fbf-7da5a12bc40e",
   "metadata": {},
   "outputs": [],
   "source": [
    "arr1 = np.array(list1)"
   ]
  },
  {
   "cell_type": "code",
   "execution_count": 7,
   "id": "325b6848-ef34-4501-b121-4258163dd237",
   "metadata": {},
   "outputs": [
    {
     "data": {
      "text/plain": [
       "array([[2, 3, 4]])"
      ]
     },
     "execution_count": 7,
     "metadata": {},
     "output_type": "execute_result"
    }
   ],
   "source": [
    "arr1"
   ]
  },
  {
   "cell_type": "code",
   "execution_count": 8,
   "id": "b8a7d3df-0d43-4fdf-ab7f-6c965eebfe14",
   "metadata": {},
   "outputs": [
    {
     "data": {
      "text/plain": [
       "(1, 3)"
      ]
     },
     "execution_count": 8,
     "metadata": {},
     "output_type": "execute_result"
    }
   ],
   "source": [
    "arr1.shape"
   ]
  },
  {
   "cell_type": "code",
   "execution_count": 9,
   "id": "eb80d4cf-caf3-4453-bd9d-f8475a20ac1b",
   "metadata": {},
   "outputs": [
    {
     "data": {
      "text/plain": [
       "2"
      ]
     },
     "execution_count": 9,
     "metadata": {},
     "output_type": "execute_result"
    }
   ],
   "source": [
    "arr1.ndim"
   ]
  },
  {
   "cell_type": "code",
   "execution_count": 10,
   "id": "2f880b21-b4d4-413d-a1bc-eaafb6ac7f50",
   "metadata": {},
   "outputs": [],
   "source": [
    "list1 = [[2,3,4],\n",
    "         [6,7,8],\n",
    "         [2,5,9]] \n",
    "arr2 = np.array(list1)"
   ]
  },
  {
   "cell_type": "code",
   "execution_count": 11,
   "id": "271a3413-79b9-42a0-ac57-2b21dce215cf",
   "metadata": {},
   "outputs": [
    {
     "data": {
      "text/plain": [
       "array([[2, 3, 4],\n",
       "       [6, 7, 8],\n",
       "       [2, 5, 9]])"
      ]
     },
     "execution_count": 11,
     "metadata": {},
     "output_type": "execute_result"
    }
   ],
   "source": [
    "arr2"
   ]
  },
  {
   "cell_type": "code",
   "execution_count": 12,
   "id": "10cbf65c-572d-44e6-bd67-7ce1225811cb",
   "metadata": {},
   "outputs": [
    {
     "data": {
      "text/plain": [
       "(3, 3)"
      ]
     },
     "execution_count": 12,
     "metadata": {},
     "output_type": "execute_result"
    }
   ],
   "source": [
    "arr2.shape"
   ]
  },
  {
   "cell_type": "code",
   "execution_count": 13,
   "id": "c7aa9aff-c8e6-42b6-bd79-f3c2ee518479",
   "metadata": {},
   "outputs": [
    {
     "data": {
      "text/plain": [
       "2"
      ]
     },
     "execution_count": 13,
     "metadata": {},
     "output_type": "execute_result"
    }
   ],
   "source": [
    "arr2.ndim"
   ]
  },
  {
   "cell_type": "code",
   "execution_count": 14,
   "id": "87c872be-b0a0-4e2d-a1c1-224f5e84b788",
   "metadata": {},
   "outputs": [
    {
     "data": {
      "text/plain": [
       "array([[0., 0., 0., 0.],\n",
       "       [0., 0., 0., 0.],\n",
       "       [0., 0., 0., 0.],\n",
       "       [0., 0., 0., 0.]])"
      ]
     },
     "execution_count": 14,
     "metadata": {},
     "output_type": "execute_result"
    }
   ],
   "source": [
    "np.zeros(shape = (4,4))"
   ]
  },
  {
   "cell_type": "code",
   "execution_count": 15,
   "id": "805b2399-f156-4a30-89af-5aab1c84f1b8",
   "metadata": {},
   "outputs": [
    {
     "data": {
      "text/plain": [
       "array([[0, 0, 0, 0],\n",
       "       [0, 0, 0, 0],\n",
       "       [0, 0, 0, 0],\n",
       "       [0, 0, 0, 0]])"
      ]
     },
     "execution_count": 15,
     "metadata": {},
     "output_type": "execute_result"
    }
   ],
   "source": [
    "np.zeros(shape = (4,4), dtype = \"int\")"
   ]
  },
  {
   "cell_type": "code",
   "execution_count": 16,
   "id": "582c42cc-fc8d-42d6-8efc-a60666b6c665",
   "metadata": {},
   "outputs": [
    {
     "data": {
      "text/plain": [
       "array([[1, 1, 1, 1, 1, 1],\n",
       "       [1, 1, 1, 1, 1, 1],\n",
       "       [1, 1, 1, 1, 1, 1],\n",
       "       [1, 1, 1, 1, 1, 1],\n",
       "       [1, 1, 1, 1, 1, 1],\n",
       "       [1, 1, 1, 1, 1, 1]], dtype=int8)"
      ]
     },
     "execution_count": 16,
     "metadata": {},
     "output_type": "execute_result"
    }
   ],
   "source": [
    "np.ones(shape = (6,6), dtype = \"int8\")"
   ]
  },
  {
   "cell_type": "code",
   "execution_count": 17,
   "id": "f1729a7d-379c-4d28-87e7-67aa3f4e9136",
   "metadata": {},
   "outputs": [
    {
     "data": {
      "text/plain": [
       "array([[[1, 1, 1],\n",
       "        [1, 1, 1],\n",
       "        [1, 1, 1]],\n",
       "\n",
       "       [[1, 1, 1],\n",
       "        [1, 1, 1],\n",
       "        [1, 1, 1]]], dtype=int8)"
      ]
     },
     "execution_count": 17,
     "metadata": {},
     "output_type": "execute_result"
    }
   ],
   "source": [
    "np.ones(shape = (2, 3, 3), dtype = \"int8\")"
   ]
  },
  {
   "cell_type": "code",
   "execution_count": 18,
   "id": "5e1087ce-f903-4be2-b465-e86a598a797a",
   "metadata": {},
   "outputs": [
    {
     "data": {
      "text/plain": [
       "array([[6.7, 6.7, 6.7, 6.7],\n",
       "       [6.7, 6.7, 6.7, 6.7],\n",
       "       [6.7, 6.7, 6.7, 6.7]])"
      ]
     },
     "execution_count": 18,
     "metadata": {},
     "output_type": "execute_result"
    }
   ],
   "source": [
    "np.full(shape = (3,4), fill_value=6.7)"
   ]
  },
  {
   "cell_type": "code",
   "execution_count": 19,
   "id": "5e832057-601a-488f-bd88-8db53905e0f9",
   "metadata": {},
   "outputs": [
    {
     "data": {
      "text/plain": [
       "array([[6.7, 6.7, 6.7, 6.7],\n",
       "       [6.7, 6.7, 6.7, 6.7],\n",
       "       [6.7, 6.7, 6.7, 6.7]])"
      ]
     },
     "execution_count": 19,
     "metadata": {},
     "output_type": "execute_result"
    }
   ],
   "source": [
    "np.full((3,4), 6.7)"
   ]
  },
  {
   "cell_type": "code",
   "execution_count": 20,
   "id": "7983546c-b613-4b72-9344-cd6bfb2c4cec",
   "metadata": {},
   "outputs": [
    {
     "data": {
      "text/plain": [
       "array([ 1,  6, 11, 16, 21, 26, 31, 36, 41, 46, 51, 56, 61, 66, 71, 76, 81,\n",
       "       86])"
      ]
     },
     "execution_count": 20,
     "metadata": {},
     "output_type": "execute_result"
    }
   ],
   "source": [
    "np.arange(1,90,5)"
   ]
  },
  {
   "cell_type": "code",
   "execution_count": 21,
   "id": "4a446071-6276-4cb0-823e-377f90aab03d",
   "metadata": {},
   "outputs": [
    {
     "data": {
      "text/plain": [
       "array([0, 1, 2, 3, 4, 5])"
      ]
     },
     "execution_count": 21,
     "metadata": {},
     "output_type": "execute_result"
    }
   ],
   "source": [
    "np.arange(6)"
   ]
  },
  {
   "cell_type": "code",
   "execution_count": 22,
   "id": "eef29742-8f3f-4346-b784-90f943b9d767",
   "metadata": {},
   "outputs": [
    {
     "data": {
      "text/plain": [
       "array([ 1.,  2.,  3.,  4.,  5.,  6.,  7.,  8.,  9., 10.])"
      ]
     },
     "execution_count": 22,
     "metadata": {},
     "output_type": "execute_result"
    }
   ],
   "source": [
    "np.linspace(1,10, num = 10)"
   ]
  },
  {
   "cell_type": "code",
   "execution_count": 23,
   "id": "d0919baa-2b61-4e36-8c36-3ca3b6aec8b5",
   "metadata": {},
   "outputs": [
    {
     "data": {
      "text/plain": [
       "array([[ 0.        ,  1.        ,  2.        ],\n",
       "       [ 0.52631579,  2.        ,  3.47368421],\n",
       "       [ 1.05263158,  3.        ,  4.94736842],\n",
       "       [ 1.57894737,  4.        ,  6.42105263],\n",
       "       [ 2.10526316,  5.        ,  7.89473684],\n",
       "       [ 2.63157895,  6.        ,  9.36842105],\n",
       "       [ 3.15789474,  7.        , 10.84210526],\n",
       "       [ 3.68421053,  8.        , 12.31578947],\n",
       "       [ 4.21052632,  9.        , 13.78947368],\n",
       "       [ 4.73684211, 10.        , 15.26315789],\n",
       "       [ 5.26315789, 11.        , 16.73684211],\n",
       "       [ 5.78947368, 12.        , 18.21052632],\n",
       "       [ 6.31578947, 13.        , 19.68421053],\n",
       "       [ 6.84210526, 14.        , 21.15789474],\n",
       "       [ 7.36842105, 15.        , 22.63157895],\n",
       "       [ 7.89473684, 16.        , 24.10526316],\n",
       "       [ 8.42105263, 17.        , 25.57894737],\n",
       "       [ 8.94736842, 18.        , 27.05263158],\n",
       "       [ 9.47368421, 19.        , 28.52631579],\n",
       "       [10.        , 20.        , 30.        ]])"
      ]
     },
     "execution_count": 23,
     "metadata": {},
     "output_type": "execute_result"
    }
   ],
   "source": [
    "np.linspace((0,1,2), (10,20,30), num=20)"
   ]
  },
  {
   "cell_type": "code",
   "execution_count": 24,
   "id": "bb8cc935-5cf0-4932-aaf5-a9874f7e4e02",
   "metadata": {},
   "outputs": [
    {
     "data": {
      "text/plain": [
       "array([[2, 1],\n",
       "       [9, 6]], dtype=int32)"
      ]
     },
     "execution_count": 24,
     "metadata": {},
     "output_type": "execute_result"
    }
   ],
   "source": [
    "np.random.randint(0,10, size = (2,2))"
   ]
  },
  {
   "cell_type": "code",
   "execution_count": 25,
   "id": "5fbc91b4-6649-40d9-8d0e-bed65fc226ed",
   "metadata": {},
   "outputs": [
    {
     "data": {
      "text/plain": [
       "array([[[[1, 1, 1]],\n",
       "\n",
       "        [[1, 1, 1]]],\n",
       "\n",
       "\n",
       "       [[[1, 1, 1]],\n",
       "\n",
       "        [[1, 1, 1]]]], dtype=int8)"
      ]
     },
     "execution_count": 25,
     "metadata": {},
     "output_type": "execute_result"
    }
   ],
   "source": [
    "np.ones(shape = (2, 2, 1, 3), dtype=\"int8\")"
   ]
  },
  {
   "cell_type": "markdown",
   "id": "aa0c5984-78db-4dcb-9ddc-b6ab6eaeaf8c",
   "metadata": {},
   "source": [
    "## Accessing an Array"
   ]
  },
  {
   "cell_type": "code",
   "execution_count": 30,
   "id": "7b776ffb-1392-4eac-a845-ee9b3173d425",
   "metadata": {},
   "outputs": [],
   "source": [
    "#1d\n",
    "a = np.array([1,2,3,4,5])"
   ]
  },
  {
   "cell_type": "code",
   "execution_count": 31,
   "id": "2d010c0f-708f-42a7-ab27-14e9b7c368d0",
   "metadata": {},
   "outputs": [
    {
     "data": {
      "text/plain": [
       "(5,)"
      ]
     },
     "execution_count": 31,
     "metadata": {},
     "output_type": "execute_result"
    }
   ],
   "source": [
    "a.shape"
   ]
  },
  {
   "cell_type": "code",
   "execution_count": 32,
   "id": "a5861e20-8fc9-42d6-802a-236145a7e336",
   "metadata": {},
   "outputs": [
    {
     "data": {
      "text/plain": [
       "np.int64(5)"
      ]
     },
     "execution_count": 32,
     "metadata": {},
     "output_type": "execute_result"
    }
   ],
   "source": [
    "a[4]"
   ]
  },
  {
   "cell_type": "code",
   "execution_count": 33,
   "id": "110a9494-dc06-46d5-9edd-06605e80202c",
   "metadata": {},
   "outputs": [
    {
     "data": {
      "text/plain": [
       "array([1, 3])"
      ]
     },
     "execution_count": 33,
     "metadata": {},
     "output_type": "execute_result"
    }
   ],
   "source": [
    "a[0:4:2]"
   ]
  },
  {
   "cell_type": "code",
   "execution_count": 34,
   "id": "7b99d160-d524-4e2b-a265-4349cba4d30c",
   "metadata": {},
   "outputs": [
    {
     "data": {
      "text/plain": [
       "array([5, 4, 3, 2, 1])"
      ]
     },
     "execution_count": 34,
     "metadata": {},
     "output_type": "execute_result"
    }
   ],
   "source": [
    "a[::-1]"
   ]
  },
  {
   "cell_type": "code",
   "execution_count": 36,
   "id": "5e3125d8-c081-4bba-952c-f3ab591922a5",
   "metadata": {},
   "outputs": [],
   "source": [
    "#2D\n",
    "B = np.random.randint(0,10, size=(3,3))"
   ]
  },
  {
   "cell_type": "code",
   "execution_count": 39,
   "id": "3cc71b70-0747-4c7a-a3d2-ed3fccba4e52",
   "metadata": {},
   "outputs": [
    {
     "data": {
      "text/plain": [
       "array([[8, 1, 4],\n",
       "       [3, 4, 8],\n",
       "       [7, 0, 1]], dtype=int32)"
      ]
     },
     "execution_count": 39,
     "metadata": {},
     "output_type": "execute_result"
    }
   ],
   "source": [
    "B"
   ]
  },
  {
   "cell_type": "code",
   "execution_count": 41,
   "id": "26b0ec24-7110-42d7-bdf3-f72622e4ea2f",
   "metadata": {},
   "outputs": [
    {
     "data": {
      "text/plain": [
       "np.int32(4)"
      ]
     },
     "execution_count": 41,
     "metadata": {},
     "output_type": "execute_result"
    }
   ],
   "source": [
    "B[1,1]"
   ]
  },
  {
   "cell_type": "code",
   "execution_count": 42,
   "id": "6ae8391d-291a-449f-a77f-7e301e836c01",
   "metadata": {},
   "outputs": [
    {
     "data": {
      "text/plain": [
       "np.int32(7)"
      ]
     },
     "execution_count": 42,
     "metadata": {},
     "output_type": "execute_result"
    }
   ],
   "source": [
    "B[-1,0]"
   ]
  },
  {
   "cell_type": "code",
   "execution_count": 43,
   "id": "572c9220-0830-4e64-abf0-2c742d6ca43d",
   "metadata": {},
   "outputs": [
    {
     "data": {
      "text/plain": [
       "array([[3, 4],\n",
       "       [7, 0]], dtype=int32)"
      ]
     },
     "execution_count": 43,
     "metadata": {},
     "output_type": "execute_result"
    }
   ],
   "source": [
    "# Slicing 2D array : (array[<row_slice>, <col_slice>])\n",
    "B[1:3,:2]"
   ]
  },
  {
   "cell_type": "code",
   "execution_count": 45,
   "id": "5e490ef9-fc5a-4d95-a8b4-dfba3b878821",
   "metadata": {},
   "outputs": [
    {
     "data": {
      "text/plain": [
       "np.int32(4)"
      ]
     },
     "execution_count": 45,
     "metadata": {},
     "output_type": "execute_result"
    }
   ],
   "source": [
    "B[0,2]"
   ]
  },
  {
   "cell_type": "code",
   "execution_count": 46,
   "id": "5435583b-9ef6-4b39-bc43-3e0a179c387c",
   "metadata": {},
   "outputs": [],
   "source": [
    "#3D\n",
    "c = np.random.randint(0,25, size=(3,3,2))"
   ]
  },
  {
   "cell_type": "code",
   "execution_count": 47,
   "id": "7e95274b-cd4f-4ba9-bb0d-b07fa66425b6",
   "metadata": {},
   "outputs": [
    {
     "data": {
      "text/plain": [
       "array([[[ 1,  8],\n",
       "        [10, 22],\n",
       "        [10,  5]],\n",
       "\n",
       "       [[18,  8],\n",
       "        [ 5, 24],\n",
       "        [24, 22]],\n",
       "\n",
       "       [[13, 20],\n",
       "        [16,  4],\n",
       "        [19, 21]]], dtype=int32)"
      ]
     },
     "execution_count": 47,
     "metadata": {},
     "output_type": "execute_result"
    }
   ],
   "source": [
    "c"
   ]
  },
  {
   "cell_type": "code",
   "execution_count": 50,
   "id": "5a1d91fe-5cca-4240-9cfb-218874ba7514",
   "metadata": {},
   "outputs": [
    {
     "data": {
      "text/plain": [
       "np.int32(5)"
      ]
     },
     "execution_count": 50,
     "metadata": {},
     "output_type": "execute_result"
    }
   ],
   "source": [
    "c[0,2,1]"
   ]
  },
  {
   "cell_type": "code",
   "execution_count": 52,
   "id": "0465f6b2-c031-4973-8e1f-4693d50a144e",
   "metadata": {},
   "outputs": [
    {
     "data": {
      "text/plain": [
       "array([ 5, 22, 21], dtype=int32)"
      ]
     },
     "execution_count": 52,
     "metadata": {},
     "output_type": "execute_result"
    }
   ],
   "source": [
    "c[0:,2,1]"
   ]
  },
  {
   "cell_type": "code",
   "execution_count": 54,
   "id": "d8d4527f-b201-4784-8b3f-d8f71448b490",
   "metadata": {},
   "outputs": [
    {
     "data": {
      "text/plain": [
       "array([10,  5], dtype=int32)"
      ]
     },
     "execution_count": 54,
     "metadata": {},
     "output_type": "execute_result"
    }
   ],
   "source": [
    "c[0,2]"
   ]
  },
  {
   "cell_type": "code",
   "execution_count": 55,
   "id": "f55fbc22-14fd-491c-843d-9056197401cd",
   "metadata": {},
   "outputs": [
    {
     "data": {
      "text/plain": [
       "array([[10,  5],\n",
       "       [24, 22],\n",
       "       [19, 21]], dtype=int32)"
      ]
     },
     "execution_count": 55,
     "metadata": {},
     "output_type": "execute_result"
    }
   ],
   "source": [
    "c[:,2,:]"
   ]
  },
  {
   "cell_type": "code",
   "execution_count": 69,
   "id": "b66d1988-14ec-4f62-9e33-ed36211f6284",
   "metadata": {},
   "outputs": [],
   "source": [
    "dataset = np.random.randint(0,100, (1000,25))"
   ]
  },
  {
   "cell_type": "code",
   "execution_count": 70,
   "id": "522ab7be-c25c-42c8-a1e6-4ef0fb935e37",
   "metadata": {},
   "outputs": [
    {
     "data": {
      "text/plain": [
       "array([[69,  7, 89, ..., 33, 90, 42],\n",
       "       [26, 54, 50, ..., 69, 69, 29],\n",
       "       [42, 53, 37, ..., 53, 72,  8],\n",
       "       ...,\n",
       "       [81, 98, 65, ..., 35, 94, 74],\n",
       "       [81, 94, 12, ..., 74, 79, 26],\n",
       "       [11, 19, 74, ..., 89, 16, 84]], shape=(1000, 25), dtype=int32)"
      ]
     },
     "execution_count": 70,
     "metadata": {},
     "output_type": "execute_result"
    }
   ],
   "source": [
    "dataset"
   ]
  },
  {
   "cell_type": "code",
   "execution_count": 71,
   "id": "49059298-3341-45e5-a912-53e2f9a97d08",
   "metadata": {},
   "outputs": [
    {
     "data": {
      "text/plain": [
       "(1000, 25)"
      ]
     },
     "execution_count": 71,
     "metadata": {},
     "output_type": "execute_result"
    }
   ],
   "source": [
    "dataset.shape"
   ]
  },
  {
   "cell_type": "code",
   "execution_count": 72,
   "id": "079bd304-2394-48c4-a323-a1e8e88a6c17",
   "metadata": {},
   "outputs": [],
   "source": [
    "dataset1 = np.random.randint(0,100, (3,720,720))"
   ]
  },
  {
   "cell_type": "code",
   "execution_count": 73,
   "id": "6d392beb-63af-4962-b4e0-2f37b9d1ad55",
   "metadata": {},
   "outputs": [
    {
     "data": {
      "text/plain": [
       "array([[[45, 22, 40, ..., 44, 89, 91],\n",
       "        [43, 37, 18, ...,  1, 71, 78],\n",
       "        [ 3,  7, 96, ..., 10,  0, 69],\n",
       "        ...,\n",
       "        [81, 26, 81, ..., 92, 22,  0],\n",
       "        [76, 91, 67, ..., 57, 96, 75],\n",
       "        [89, 10, 56, ..., 69,  7, 98]],\n",
       "\n",
       "       [[69, 69, 99, ..., 55, 49, 65],\n",
       "        [84, 35, 89, ..., 66, 51,  9],\n",
       "        [16, 29,  0, ...,  5, 21, 16],\n",
       "        ...,\n",
       "        [84, 88, 14, ...,  9, 84, 14],\n",
       "        [ 6, 94, 64, ...,  7, 62, 25],\n",
       "        [81, 17, 51, ..., 49, 48, 78]],\n",
       "\n",
       "       [[ 2, 95,  0, ..., 10, 46, 86],\n",
       "        [67, 38, 69, ..., 98, 78,  2],\n",
       "        [19, 49, 19, ..., 93, 43, 13],\n",
       "        ...,\n",
       "        [78, 24,  6, ..., 18, 64, 82],\n",
       "        [71,  4, 82, ..., 12, 46, 90],\n",
       "        [61, 17, 65, ...,  5, 21, 34]]], shape=(3, 720, 720), dtype=int32)"
      ]
     },
     "execution_count": 73,
     "metadata": {},
     "output_type": "execute_result"
    }
   ],
   "source": [
    "dataset1"
   ]
  },
  {
   "cell_type": "code",
   "execution_count": 74,
   "id": "28441366-213f-4629-9b16-f13f398719df",
   "metadata": {},
   "outputs": [],
   "source": [
    "image_dataset =  np.random.randint(0,100, (16,3,720,720))"
   ]
  },
  {
   "cell_type": "code",
   "execution_count": 83,
   "id": "e1358768-904c-4077-9e01-4209d7350061",
   "metadata": {},
   "outputs": [
    {
     "data": {
      "text/plain": [
       "array([[[[26, 41, 51, ..., 17, 37,  1],\n",
       "         [44, 72, 43, ...,  0, 29, 54],\n",
       "         [76,  0, 86, ..., 68, 24, 66],\n",
       "         ...,\n",
       "         [82, 91, 32, ..., 14, 17, 62],\n",
       "         [47, 86, 75, ..., 16, 24, 85],\n",
       "         [19,  3,  0, ..., 60, 86, 25]],\n",
       "\n",
       "        [[35, 61, 39, ..., 24, 75, 68],\n",
       "         [42, 53, 27, ..., 59, 29,  0],\n",
       "         [95, 27, 65, ..., 72,  3, 11],\n",
       "         ...,\n",
       "         [72, 96, 77, ..., 63, 81, 57],\n",
       "         [42, 68, 14, ..., 33, 20, 95],\n",
       "         [98, 29, 79, ..., 10, 31,  3]],\n",
       "\n",
       "        [[38,  0, 59, ..., 76, 88, 22],\n",
       "         [ 4, 68,  6, ..., 67, 54, 60],\n",
       "         [48, 27, 14, ..., 62, 75, 85],\n",
       "         ...,\n",
       "         [19, 71, 69, ..., 82, 52, 68],\n",
       "         [70, 98, 69, ..., 44, 78, 12],\n",
       "         [48, 42, 30, ...,  7, 62, 69]]],\n",
       "\n",
       "\n",
       "       [[[48, 98, 93, ..., 28,  7, 17],\n",
       "         [37, 35, 32, ..., 54, 80, 49],\n",
       "         [83, 70, 54, ..., 94, 24, 64],\n",
       "         ...,\n",
       "         [54, 80, 59, ..., 23, 38, 68],\n",
       "         [40, 18, 22, ...,  0,  2, 41],\n",
       "         [91, 63,  8, ..., 42, 34, 83]],\n",
       "\n",
       "        [[96, 96,  1, ..., 19, 87,  5],\n",
       "         [69, 93, 64, ..., 59, 42, 82],\n",
       "         [31, 35, 79, ...,  7, 88,  8],\n",
       "         ...,\n",
       "         [18, 29, 29, ..., 82, 54,  6],\n",
       "         [97, 39, 71, ..., 11,  9, 20],\n",
       "         [ 8, 17, 81, ..., 84, 17, 59]],\n",
       "\n",
       "        [[47, 93, 93, ..., 70, 53, 26],\n",
       "         [61, 83, 10, ..., 24,  5, 62],\n",
       "         [76, 89, 59, ..., 25, 66, 58],\n",
       "         ...,\n",
       "         [12, 35, 26, ..., 98, 27, 50],\n",
       "         [19, 74, 51, ..., 71,  9, 29],\n",
       "         [44, 90, 81, ..., 80,  0, 86]]],\n",
       "\n",
       "\n",
       "       [[[27, 29, 22, ..., 19, 36, 92],\n",
       "         [49, 53, 61, ..., 47, 98, 97],\n",
       "         [33, 16,  3, ..., 15, 72, 37],\n",
       "         ...,\n",
       "         [19, 57, 24, ..., 26, 83,  0],\n",
       "         [41, 45, 59, ..., 50, 87, 54],\n",
       "         [69, 75, 53, ..., 92, 29, 86]],\n",
       "\n",
       "        [[62, 68,  8, ..., 80, 91, 33],\n",
       "         [76, 52, 66, ..., 74, 98, 57],\n",
       "         [49, 79, 85, ..., 67, 23, 38],\n",
       "         ...,\n",
       "         [17, 81, 52, ..., 18, 62, 45],\n",
       "         [71,  7, 36, ..., 38,  6, 18],\n",
       "         [35, 97, 67, ...,  4, 79, 80]],\n",
       "\n",
       "        [[ 4, 76, 66, ..., 17, 49, 55],\n",
       "         [23, 54, 11, ..., 44, 95, 29],\n",
       "         [92, 78, 45, ..., 47, 69, 78],\n",
       "         ...,\n",
       "         [14, 62, 33, ..., 47, 23, 23],\n",
       "         [61, 74, 44, ..., 72,  6, 15],\n",
       "         [20, 60, 99, ..., 69, 34, 45]]],\n",
       "\n",
       "\n",
       "       ...,\n",
       "\n",
       "\n",
       "       [[[75, 21, 25, ..., 58, 84, 56],\n",
       "         [99, 20, 61, ..., 58, 63, 77],\n",
       "         [38, 88, 75, ..., 68, 64, 57],\n",
       "         ...,\n",
       "         [38, 38, 86, ..., 92, 39, 99],\n",
       "         [27, 76, 44, ..., 45, 82, 62],\n",
       "         [31, 73, 81, ..., 67, 20, 60]],\n",
       "\n",
       "        [[ 3, 65, 58, ..., 69, 66, 23],\n",
       "         [66, 23, 81, ..., 95, 17, 41],\n",
       "         [32, 98, 39, ..., 24, 66,  2],\n",
       "         ...,\n",
       "         [92, 16, 98, ...,  7, 16, 58],\n",
       "         [94, 88, 14, ..., 89, 55, 98],\n",
       "         [92, 33,  8, ..., 36, 30, 80]],\n",
       "\n",
       "        [[56, 87,  2, ..., 40,  1, 40],\n",
       "         [45, 51, 78, ..., 12, 56,  8],\n",
       "         [14, 26, 35, ..., 84, 84, 45],\n",
       "         ...,\n",
       "         [67, 85, 27, ..., 79, 95, 97],\n",
       "         [27,  7, 75, ..., 82, 56, 27],\n",
       "         [52, 91, 98, ..., 64, 83, 98]]],\n",
       "\n",
       "\n",
       "       [[[38, 53, 24, ..., 11, 85, 41],\n",
       "         [56,  8, 44, ..., 18, 18, 74],\n",
       "         [29, 82, 20, ..., 73, 97, 81],\n",
       "         ...,\n",
       "         [15, 89, 93, ..., 42, 36, 61],\n",
       "         [98, 90, 41, ..., 90, 14, 43],\n",
       "         [17, 87, 50, ..., 99, 53, 65]],\n",
       "\n",
       "        [[65, 64, 89, ..., 78, 84, 23],\n",
       "         [41, 95, 24, ..., 48, 65, 70],\n",
       "         [70, 63,  4, ..., 41, 80, 97],\n",
       "         ...,\n",
       "         [ 7, 45, 28, ..., 82,  2, 87],\n",
       "         [46, 24, 39, ...,  3, 84,  2],\n",
       "         [16, 25, 56, ..., 36, 98, 71]],\n",
       "\n",
       "        [[91, 71, 57, ..., 93,  5, 31],\n",
       "         [42, 13, 65, ..., 12, 92, 64],\n",
       "         [34, 36, 27, ..., 77, 98, 79],\n",
       "         ...,\n",
       "         [75, 34, 12, ..., 51, 34, 25],\n",
       "         [57, 31, 78, ..., 30, 12, 54],\n",
       "         [95, 87, 85, ..., 90, 20, 24]]],\n",
       "\n",
       "\n",
       "       [[[ 6, 17, 83, ..., 98, 38, 86],\n",
       "         [44, 47, 98, ..., 19, 45, 33],\n",
       "         [79, 12, 59, ..., 71, 65, 59],\n",
       "         ...,\n",
       "         [80, 52, 43, ..., 40, 21,  7],\n",
       "         [69, 85, 79, ..., 33,  5, 76],\n",
       "         [76, 95, 49, ..., 26,  9,  1]],\n",
       "\n",
       "        [[16,  5, 46, ..., 47, 99,  7],\n",
       "         [98,  5, 54, ..., 57, 21, 15],\n",
       "         [23,  1, 69, ..., 23, 74, 67],\n",
       "         ...,\n",
       "         [59, 92, 21, ..., 26, 57, 14],\n",
       "         [14, 74, 62, ..., 44, 13, 28],\n",
       "         [84, 31, 49, ..., 27, 73, 25]],\n",
       "\n",
       "        [[50, 23, 73, ..., 17, 35, 49],\n",
       "         [44, 88, 20, ..., 25, 51, 79],\n",
       "         [72, 69, 96, ..., 90,  5,  4],\n",
       "         ...,\n",
       "         [94, 66, 48, ..., 20,  9, 40],\n",
       "         [94,  5, 73, ..., 76, 30, 62],\n",
       "         [40, 55, 59, ..., 87, 27, 59]]]],\n",
       "      shape=(16, 3, 720, 720), dtype=int32)"
      ]
     },
     "execution_count": 83,
     "metadata": {},
     "output_type": "execute_result"
    }
   ],
   "source": [
    "image_dataset"
   ]
  },
  {
   "cell_type": "code",
   "execution_count": 85,
   "id": "20c9888b-e3a3-4985-b085-0eae6341ae2a",
   "metadata": {},
   "outputs": [
    {
     "data": {
      "text/plain": [
       "array([[48, 98, 93, ..., 28,  7, 17],\n",
       "       [37, 35, 32, ..., 54, 80, 49],\n",
       "       [83, 70, 54, ..., 94, 24, 64],\n",
       "       ...,\n",
       "       [54, 80, 59, ..., 23, 38, 68],\n",
       "       [40, 18, 22, ...,  0,  2, 41],\n",
       "       [91, 63,  8, ..., 42, 34, 83]], shape=(720, 720), dtype=int32)"
      ]
     },
     "execution_count": 85,
     "metadata": {},
     "output_type": "execute_result"
    }
   ],
   "source": [
    "image_dataset[1, 0, :,:]"
   ]
  },
  {
   "cell_type": "markdown",
   "id": "f35a8827-8159-437f-88ae-db5d16673a9e",
   "metadata": {},
   "source": [
    "# Boolean or Mask Indexing"
   ]
  },
  {
   "cell_type": "code",
   "execution_count": 86,
   "id": "570a095a-d675-44e8-81e0-bab1a320749b",
   "metadata": {},
   "outputs": [],
   "source": [
    "a = np.random.randint(1,10, (5,5))"
   ]
  },
  {
   "cell_type": "code",
   "execution_count": 87,
   "id": "3bd48da3-713d-4a12-a39d-8ded1def614e",
   "metadata": {},
   "outputs": [
    {
     "data": {
      "text/plain": [
       "array([[2, 8, 1, 3, 8],\n",
       "       [6, 1, 7, 7, 8],\n",
       "       [3, 9, 7, 5, 1],\n",
       "       [5, 4, 7, 8, 5],\n",
       "       [6, 6, 9, 4, 7]], dtype=int32)"
      ]
     },
     "execution_count": 87,
     "metadata": {},
     "output_type": "execute_result"
    }
   ],
   "source": [
    "a"
   ]
  },
  {
   "cell_type": "code",
   "execution_count": 88,
   "id": "d86dc87a-a5a1-4368-80cd-d0d4c60e0d98",
   "metadata": {},
   "outputs": [],
   "source": [
    "mask = a > 5"
   ]
  },
  {
   "cell_type": "code",
   "execution_count": 89,
   "id": "10d85789-e581-4188-8fdb-a1aff1150bcb",
   "metadata": {},
   "outputs": [
    {
     "data": {
      "text/plain": [
       "array([[False,  True, False, False,  True],\n",
       "       [ True, False,  True,  True,  True],\n",
       "       [False,  True,  True, False, False],\n",
       "       [False, False,  True,  True, False],\n",
       "       [ True,  True,  True, False,  True]])"
      ]
     },
     "execution_count": 89,
     "metadata": {},
     "output_type": "execute_result"
    }
   ],
   "source": [
    "mask"
   ]
  },
  {
   "cell_type": "code",
   "execution_count": 90,
   "id": "44b13e77-1f73-4288-9470-d88e25cf6fcc",
   "metadata": {},
   "outputs": [
    {
     "data": {
      "text/plain": [
       "array([8, 8, 6, 7, 7, 8, 9, 7, 7, 8, 6, 6, 9, 7], dtype=int32)"
      ]
     },
     "execution_count": 90,
     "metadata": {},
     "output_type": "execute_result"
    }
   ],
   "source": [
    "a[mask]"
   ]
  },
  {
   "cell_type": "code",
   "execution_count": 92,
   "id": "f8098cd9-d9df-4335-9eb8-ee0658cdfc8f",
   "metadata": {},
   "outputs": [],
   "source": [
    "mask = [True, False, False, True, True]"
   ]
  },
  {
   "cell_type": "code",
   "execution_count": 93,
   "id": "7ad6b6cb-efa4-422e-8303-4d523361ffcd",
   "metadata": {},
   "outputs": [
    {
     "data": {
      "text/plain": [
       "array([[2, 3, 8],\n",
       "       [6, 7, 8],\n",
       "       [3, 5, 1],\n",
       "       [5, 8, 5],\n",
       "       [6, 4, 7]], dtype=int32)"
      ]
     },
     "execution_count": 93,
     "metadata": {},
     "output_type": "execute_result"
    }
   ],
   "source": [
    "a[:,mask]"
   ]
  },
  {
   "cell_type": "code",
   "execution_count": 94,
   "id": "63535354-66aa-4b37-9110-3f85608d2b19",
   "metadata": {},
   "outputs": [
    {
     "data": {
      "text/plain": [
       "array([[2, 8, 1, 3, 8],\n",
       "       [6, 1, 7, 7, 8],\n",
       "       [3, 9, 7, 5, 1],\n",
       "       [5, 4, 7, 8, 5],\n",
       "       [6, 6, 9, 4, 7]], dtype=int32)"
      ]
     },
     "execution_count": 94,
     "metadata": {},
     "output_type": "execute_result"
    }
   ],
   "source": [
    "a"
   ]
  },
  {
   "cell_type": "code",
   "execution_count": null,
   "id": "00e641d1-2df9-4708-97f1-f56f66056ff1",
   "metadata": {},
   "outputs": [],
   "source": []
  }
 ],
 "metadata": {
  "kernelspec": {
   "display_name": "Python 3 (ipykernel)",
   "language": "python",
   "name": "python3"
  },
  "language_info": {
   "codemirror_mode": {
    "name": "ipython",
    "version": 3
   },
   "file_extension": ".py",
   "mimetype": "text/x-python",
   "name": "python",
   "nbconvert_exporter": "python",
   "pygments_lexer": "ipython3",
   "version": "3.13.5"
  }
 },
 "nbformat": 4,
 "nbformat_minor": 5
}
